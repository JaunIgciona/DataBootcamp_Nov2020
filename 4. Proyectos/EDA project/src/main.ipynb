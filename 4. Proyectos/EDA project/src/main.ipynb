{
 "metadata": {
  "language_info": {
   "codemirror_mode": {
    "name": "ipython",
    "version": 3
   },
   "file_extension": ".py",
   "mimetype": "text/x-python",
   "name": "python",
   "nbconvert_exporter": "python",
   "pygments_lexer": "ipython3",
   "version": "3.9.0-final"
  },
  "orig_nbformat": 2,
  "kernelspec": {
   "name": "python3",
   "display_name": "Python 3.9.0 64-bit",
   "metadata": {
    "interpreter": {
     "hash": "cf85b414d3663472de89104473c842eaab37d7b845999caf56a47ccda76ea2f8"
    }
   }
  }
 },
 "nbformat": 4,
 "nbformat_minor": 2,
 "cells": [
  {
   "source": [
    "# Movies metadata EDA"
   ],
   "cell_type": "markdown",
   "metadata": {}
  },
  {
   "source": [
    "A partir del dataset de Full MovieLens (https://www.kaggle.com/rounakbanik/the-movies-dataset?select=movies_metadata.csv) que recoge metadatos sobre las 45.000 películas de esta plataforma, se realizará un estudio para comprobar la veracidad de la hipótesis que guiará este trabajo: \n",
    "\n",
    "*-La industria del cine no es rentable*\n",
    "\n",
    "El proyecto estará dividido en tres partes fundamentales, las cuales nos permitirán llegar a una coclusión respecto a la hipótesis planteada. Estas son:\n",
    "\n",
    "  1. Data cleaning: se procesará el dataset original haciendo accesible los datos contenidos en ella, limpiando la información irrelevante y estructurándolo para su posterior uso.\n",
    "\n",
    "  2. Data exploration: a través de gráficas se visualizarán los datos contenidos en cada columna, lo que permitirá tener una idea de su distribución y detectar posibles factores a tener en cuenta en su uso.\n",
    "\n",
    "  3. Visualisations: una vez que se tengan los datos curados, se procederá a representar gráficamente los       distintos indicadores que nos permitirán confirmar o desmentir la hipótesis"
   ],
   "cell_type": "markdown",
   "metadata": {}
  },
  {
   "source": [
    "# Data Cleaning"
   ],
   "cell_type": "markdown",
   "metadata": {}
  },
  {
   "source": [
    "En este apartado se importará el dataset desde el directorio donde se ha guardado el CSV con los datos y se empezará a trabajar sobre ellos para dejarlos de forma que puedan ser utilizados para el estudio.\n",
    "Para ello, generarémos un nuevo dataset que recogerá la información que utilizaremos y haremos minería de datos para que estos sean accesibles. Además, se descartarán los elementos con información extraña o muy anómala."
   ],
   "cell_type": "markdown",
   "metadata": {}
  },
  {
   "source": [
    "## Data Structuring"
   ],
   "cell_type": "markdown",
   "metadata": {}
  },
  {
   "source": [
    "Reordenaremos el dataset original y nos quedaremos con las columnas que son de nuestro interés:"
   ],
   "cell_type": "markdown",
   "metadata": {}
  },
  {
   "source": [
    "Importamos las librerías necesarias para este paso."
   ],
   "cell_type": "markdown",
   "metadata": {}
  },
  {
   "cell_type": "code",
   "execution_count": 3,
   "metadata": {},
   "outputs": [],
   "source": [
    "import pandas as pd\n",
    "import os\n",
    "import sys"
   ]
  },
  {
   "cell_type": "code",
   "execution_count": 4,
   "metadata": {},
   "outputs": [],
   "source": [
    "from utils import mining_data_tb as dmin"
   ]
  },
  {
   "source": [
    "Se importa el dataset accediendo al directorio donde está guardado. "
   ],
   "cell_type": "markdown",
   "metadata": {}
  },
  {
   "cell_type": "code",
   "execution_count": 5,
   "metadata": {},
   "outputs": [],
   "source": [
    "# Obtenemos la dirección de la carpeta raiz del proyecto\n",
    "root_project = os.path.dirname(os.getcwd())\n",
    "# Adjuntamos esta dirección a las rutas de python para poder importar modulos desde aquí\n",
    "sys.path.append(root_project)\n",
    "# Completamos la dirección del archivo csv con el dataset\n",
    "movies_csv_dir = root_project + '/resources/movies_metadata.csv'\n",
    "\n",
    "# Leemos el dataset desde el directorio donde se encuentra\n",
    "movies_csv_df = pd.read_csv(movies_csv_dir, sep= ',')\n",
    "movies_df = movies_csv_df.copy()"
   ]
  },
  {
   "source": [
    "Identificando las columnas se hace una breve pero rápida exploración de los datos que contiene el dataset."
   ],
   "cell_type": "markdown",
   "metadata": {}
  },
  {
   "cell_type": "code",
   "execution_count": 6,
   "metadata": {},
   "outputs": [
    {
     "output_type": "stream",
     "name": "stdout",
     "text": [
      "['adult', 'belongs_to_collection', 'budget', 'genres', 'homepage', 'id', 'imdb_id', 'original_language', 'original_title', 'overview', 'popularity', 'poster_path', 'production_companies', 'production_countries', 'release_date', 'revenue', 'runtime', 'spoken_languages', 'status', 'tagline', 'title', 'video', 'vote_average', 'vote_count'] \n\nnumber of columns ---> 24\n"
     ]
    }
   ],
   "source": [
    "print(list(movies_df.columns), '\\n')\n",
    "print('number of columns --->', len(movies_df.columns))"
   ]
  },
  {
   "source": [
    "De las 24 columnas del dataset nos interesan solo 10. Generamos una lista ordenada de estas columnas a partir de la cual generaremos el dataframe para el estudio. "
   ],
   "cell_type": "markdown",
   "metadata": {}
  },
  {
   "cell_type": "code",
   "execution_count": 7,
   "metadata": {},
   "outputs": [],
   "source": [
    "l = ['title', 'release_date', 'original_language', 'genres', 'budget', 'revenue', 'production_countries', 'runtime', 'vote_average', 'vote_count']"
   ]
  },
  {
   "cell_type": "code",
   "execution_count": 8,
   "metadata": {},
   "outputs": [
    {
     "output_type": "execute_result",
     "data": {
      "text/plain": [
       "                         title release_date original_language  \\\n",
       "0                    Toy Story   1995-10-30                en   \n",
       "1                      Jumanji   1995-12-15                en   \n",
       "2             Grumpier Old Men   1995-12-22                en   \n",
       "3            Waiting to Exhale   1995-12-22                en   \n",
       "4  Father of the Bride Part II   1995-02-10                en   \n",
       "\n",
       "                                              genres    budget      revenue  \\\n",
       "0  [{'id': 16, 'name': 'Animation'}, {'id': 35, '...  30000000  373554033.0   \n",
       "1  [{'id': 12, 'name': 'Adventure'}, {'id': 14, '...  65000000  262797249.0   \n",
       "2  [{'id': 10749, 'name': 'Romance'}, {'id': 35, ...         0          0.0   \n",
       "3  [{'id': 35, 'name': 'Comedy'}, {'id': 18, 'nam...  16000000   81452156.0   \n",
       "4                     [{'id': 35, 'name': 'Comedy'}]         0   76578911.0   \n",
       "\n",
       "                                production_countries  runtime  vote_average  \\\n",
       "0  [{'iso_3166_1': 'US', 'name': 'United States o...     81.0           7.7   \n",
       "1  [{'iso_3166_1': 'US', 'name': 'United States o...    104.0           6.9   \n",
       "2  [{'iso_3166_1': 'US', 'name': 'United States o...    101.0           6.5   \n",
       "3  [{'iso_3166_1': 'US', 'name': 'United States o...    127.0           6.1   \n",
       "4  [{'iso_3166_1': 'US', 'name': 'United States o...    106.0           5.7   \n",
       "\n",
       "   vote_count  \n",
       "0      5415.0  \n",
       "1      2413.0  \n",
       "2        92.0  \n",
       "3        34.0  \n",
       "4       173.0  "
      ],
      "text/html": "<div>\n<style scoped>\n    .dataframe tbody tr th:only-of-type {\n        vertical-align: middle;\n    }\n\n    .dataframe tbody tr th {\n        vertical-align: top;\n    }\n\n    .dataframe thead th {\n        text-align: right;\n    }\n</style>\n<table border=\"1\" class=\"dataframe\">\n  <thead>\n    <tr style=\"text-align: right;\">\n      <th></th>\n      <th>title</th>\n      <th>release_date</th>\n      <th>original_language</th>\n      <th>genres</th>\n      <th>budget</th>\n      <th>revenue</th>\n      <th>production_countries</th>\n      <th>runtime</th>\n      <th>vote_average</th>\n      <th>vote_count</th>\n    </tr>\n  </thead>\n  <tbody>\n    <tr>\n      <th>0</th>\n      <td>Toy Story</td>\n      <td>1995-10-30</td>\n      <td>en</td>\n      <td>[{'id': 16, 'name': 'Animation'}, {'id': 35, '...</td>\n      <td>30000000</td>\n      <td>373554033.0</td>\n      <td>[{'iso_3166_1': 'US', 'name': 'United States o...</td>\n      <td>81.0</td>\n      <td>7.7</td>\n      <td>5415.0</td>\n    </tr>\n    <tr>\n      <th>1</th>\n      <td>Jumanji</td>\n      <td>1995-12-15</td>\n      <td>en</td>\n      <td>[{'id': 12, 'name': 'Adventure'}, {'id': 14, '...</td>\n      <td>65000000</td>\n      <td>262797249.0</td>\n      <td>[{'iso_3166_1': 'US', 'name': 'United States o...</td>\n      <td>104.0</td>\n      <td>6.9</td>\n      <td>2413.0</td>\n    </tr>\n    <tr>\n      <th>2</th>\n      <td>Grumpier Old Men</td>\n      <td>1995-12-22</td>\n      <td>en</td>\n      <td>[{'id': 10749, 'name': 'Romance'}, {'id': 35, ...</td>\n      <td>0</td>\n      <td>0.0</td>\n      <td>[{'iso_3166_1': 'US', 'name': 'United States o...</td>\n      <td>101.0</td>\n      <td>6.5</td>\n      <td>92.0</td>\n    </tr>\n    <tr>\n      <th>3</th>\n      <td>Waiting to Exhale</td>\n      <td>1995-12-22</td>\n      <td>en</td>\n      <td>[{'id': 35, 'name': 'Comedy'}, {'id': 18, 'nam...</td>\n      <td>16000000</td>\n      <td>81452156.0</td>\n      <td>[{'iso_3166_1': 'US', 'name': 'United States o...</td>\n      <td>127.0</td>\n      <td>6.1</td>\n      <td>34.0</td>\n    </tr>\n    <tr>\n      <th>4</th>\n      <td>Father of the Bride Part II</td>\n      <td>1995-02-10</td>\n      <td>en</td>\n      <td>[{'id': 35, 'name': 'Comedy'}]</td>\n      <td>0</td>\n      <td>76578911.0</td>\n      <td>[{'iso_3166_1': 'US', 'name': 'United States o...</td>\n      <td>106.0</td>\n      <td>5.7</td>\n      <td>173.0</td>\n    </tr>\n  </tbody>\n</table>\n</div>"
     },
     "metadata": {},
     "execution_count": 8
    }
   ],
   "source": [
    "movies_df = movies_df[l]\n",
    "movies_df.head()"
   ]
  },
  {
   "source": [
    "## Data Mining"
   ],
   "cell_type": "markdown",
   "metadata": {}
  },
  {
   "cell_type": "code",
   "execution_count": 9,
   "metadata": {},
   "outputs": [
    {
     "output_type": "execute_result",
     "data": {
      "text/plain": [
       "title                    object\n",
       "release_date             object\n",
       "original_language        object\n",
       "genres                   object\n",
       "budget                   object\n",
       "revenue                 float64\n",
       "production_countries     object\n",
       "runtime                 float64\n",
       "vote_average            float64\n",
       "vote_count              float64\n",
       "dtype: object"
      ]
     },
     "metadata": {},
     "execution_count": 9
    }
   ],
   "source": [
    "movies_df.dtypes"
   ]
  },
  {
   "source": [
    "Esta observación nos indica el tipo de elementos que contiene cada columna, con lo que podemos identificar que manipulaciones debemos llevar a cabo para que los datos puedan ser utilizados en el estudio. \n",
    "\n",
    "A simple vista identificamos los sigientes proplemas:\n",
    "\n",
    "    - release_date: querremos que esta columna contenga elementos del tipo datetime64\n",
    "\n",
    "    - budget: esta columna deberá contener valores numéricos para su uso\n",
    "\n",
    "    - genres, production_countries, production_companies: a la información de estas columnas no es posible             \n",
    "      acceder de forma directa, será necesario realizar data wrangling."
   ],
   "cell_type": "markdown",
   "metadata": {}
  },
  {
   "source": [
    "### -release_dates to datetime64 type"
   ],
   "cell_type": "markdown",
   "metadata": {}
  },
  {
   "source": [
    "Comprobamos rápidamente si release_dates puede ser convertida a tipo datetime"
   ],
   "cell_type": "markdown",
   "metadata": {}
  },
  {
   "cell_type": "code",
   "execution_count": 10,
   "metadata": {},
   "outputs": [
    {
     "output_type": "stream",
     "name": "stdout",
     "text": [
      "Given date string not likely a datetime\n"
     ]
    }
   ],
   "source": [
    "dmin.fast_datetime_check(movies_df.release_date)"
   ]
  },
  {
   "source": [
    "Al intentar convertir todos los elementos de release_date a datetime64 aparece el error de arriba. Esto ocurre porque al menos un valor de la columna no aparece en un formato que la librería de pandas pueda convertir al tipo datetime64.  \n",
    "Debemos indentificar estos elementos:"
   ],
   "cell_type": "markdown",
   "metadata": {}
  },
  {
   "cell_type": "code",
   "execution_count": 11,
   "metadata": {},
   "outputs": [
    {
     "output_type": "stream",
     "name": "stdout",
     "text": [
      "[19730, 29503, 35587]\n"
     ]
    }
   ],
   "source": [
    "not_a_date_list = dmin.not_a_datetime_detector(date_column=movies_df.release_date)"
   ]
  },
  {
   "cell_type": "code",
   "execution_count": 12,
   "metadata": {},
   "outputs": [
    {
     "output_type": "execute_result",
     "data": {
      "text/plain": [
       "      title release_date original_language  \\\n",
       "19730   NaN            1             104.0   \n",
       "29503   NaN           12              68.0   \n",
       "35587   NaN           22              82.0   \n",
       "\n",
       "                                                  genres  \\\n",
       "19730  [{'name': 'Carousel Productions', 'id': 11176}...   \n",
       "29503  [{'name': 'Aniplex', 'id': 2883}, {'name': 'Go...   \n",
       "35587  [{'name': 'Odyssey Media', 'id': 17161}, {'nam...   \n",
       "\n",
       "                                 budget  revenue production_countries  \\\n",
       "19730  /ff9qCepilowshEtG2GYWwzt2bs4.jpg      NaN                  6.0   \n",
       "29503  /zV8bHuSL6WXoD6FWogP9j4x80bL.jpg      NaN                  7.0   \n",
       "35587  /zaSf5OG7V8X8gqFvly88zDdRm46.jpg      NaN                  4.3   \n",
       "\n",
       "       runtime  vote_average  vote_count  \n",
       "19730      NaN           NaN         NaN  \n",
       "29503      NaN           NaN         NaN  \n",
       "35587      NaN           NaN         NaN  "
      ],
      "text/html": "<div>\n<style scoped>\n    .dataframe tbody tr th:only-of-type {\n        vertical-align: middle;\n    }\n\n    .dataframe tbody tr th {\n        vertical-align: top;\n    }\n\n    .dataframe thead th {\n        text-align: right;\n    }\n</style>\n<table border=\"1\" class=\"dataframe\">\n  <thead>\n    <tr style=\"text-align: right;\">\n      <th></th>\n      <th>title</th>\n      <th>release_date</th>\n      <th>original_language</th>\n      <th>genres</th>\n      <th>budget</th>\n      <th>revenue</th>\n      <th>production_countries</th>\n      <th>runtime</th>\n      <th>vote_average</th>\n      <th>vote_count</th>\n    </tr>\n  </thead>\n  <tbody>\n    <tr>\n      <th>19730</th>\n      <td>NaN</td>\n      <td>1</td>\n      <td>104.0</td>\n      <td>[{'name': 'Carousel Productions', 'id': 11176}...</td>\n      <td>/ff9qCepilowshEtG2GYWwzt2bs4.jpg</td>\n      <td>NaN</td>\n      <td>6.0</td>\n      <td>NaN</td>\n      <td>NaN</td>\n      <td>NaN</td>\n    </tr>\n    <tr>\n      <th>29503</th>\n      <td>NaN</td>\n      <td>12</td>\n      <td>68.0</td>\n      <td>[{'name': 'Aniplex', 'id': 2883}, {'name': 'Go...</td>\n      <td>/zV8bHuSL6WXoD6FWogP9j4x80bL.jpg</td>\n      <td>NaN</td>\n      <td>7.0</td>\n      <td>NaN</td>\n      <td>NaN</td>\n      <td>NaN</td>\n    </tr>\n    <tr>\n      <th>35587</th>\n      <td>NaN</td>\n      <td>22</td>\n      <td>82.0</td>\n      <td>[{'name': 'Odyssey Media', 'id': 17161}, {'nam...</td>\n      <td>/zaSf5OG7V8X8gqFvly88zDdRm46.jpg</td>\n      <td>NaN</td>\n      <td>4.3</td>\n      <td>NaN</td>\n      <td>NaN</td>\n      <td>NaN</td>\n    </tr>\n  </tbody>\n</table>\n</div>"
     },
     "metadata": {},
     "execution_count": 12
    }
   ],
   "source": [
    "movies_df.iloc[not_a_date_list]"
   ]
  },
  {
   "source": [
    "Observando los datos para estos elementos, parece razonable eliminarlos del dataset ya que tienen muchos otros datos vacíos y no aportarán utilidad al estudio"
   ],
   "cell_type": "markdown",
   "metadata": {}
  },
  {
   "cell_type": "code",
   "execution_count": 13,
   "metadata": {},
   "outputs": [],
   "source": [
    "movies_df = movies_df.drop(not_a_date_list)"
   ]
  },
  {
   "cell_type": "code",
   "execution_count": 14,
   "metadata": {},
   "outputs": [],
   "source": [
    "movies_df = movies_df.reset_index(drop=True)"
   ]
  },
  {
   "source": [
    "Ahora podemos convertir directamente la columna release_date a tipo datetime"
   ],
   "cell_type": "markdown",
   "metadata": {}
  },
  {
   "cell_type": "code",
   "execution_count": 15,
   "metadata": {},
   "outputs": [
    {
     "output_type": "execute_result",
     "data": {
      "text/plain": [
       "0       1995-10-30\n",
       "1       1995-12-15\n",
       "2       1995-12-22\n",
       "3       1995-12-22\n",
       "4       1995-02-10\n",
       "           ...    \n",
       "45458          NaT\n",
       "45459   2011-11-17\n",
       "45460   2003-08-01\n",
       "45461   1917-10-21\n",
       "45462   2017-06-09\n",
       "Name: release_date, Length: 45463, dtype: datetime64[ns]"
      ]
     },
     "metadata": {},
     "execution_count": 15
    }
   ],
   "source": [
    "movies_df.release_date = pd.to_datetime(movies_df.release_date)\n",
    "movies_df.release_date"
   ]
  },
  {
   "source": [
    "### -budget to numerical values"
   ],
   "cell_type": "markdown",
   "metadata": {}
  },
  {
   "source": [
    "En este caso podemos hacer la conversión directamente"
   ],
   "cell_type": "markdown",
   "metadata": {}
  },
  {
   "cell_type": "code",
   "execution_count": 16,
   "metadata": {},
   "outputs": [
    {
     "output_type": "execute_result",
     "data": {
      "text/plain": [
       "dtype('int64')"
      ]
     },
     "metadata": {},
     "execution_count": 16
    }
   ],
   "source": [
    "movies_df.budget = pd.to_numeric(movies_df.budget)\n",
    "movies_df.budget.dtype"
   ]
  },
  {
   "source": [
    "## Data wrangling"
   ],
   "cell_type": "markdown",
   "metadata": {}
  },
  {
   "source": [
    "Las columnas genres, production_companies y production_countries tienen los datos en una forma en la que no es posible acceder a ellos. Es necesario minar estos datos.\n",
    "\n",
    "Gracias a la librería json, transformamos la información de las columnas que están en este formato (interpretado como 'str') de forma que se reconozcan los objetos de python, como por ejemplo: listas, diccionarios, etc. "
   ],
   "cell_type": "markdown",
   "metadata": {}
  },
  {
   "cell_type": "code",
   "execution_count": 17,
   "metadata": {},
   "outputs": [],
   "source": [
    "import json"
   ]
  },
  {
   "source": [
    "### - genres"
   ],
   "cell_type": "markdown",
   "metadata": {}
  },
  {
   "source": [
    "Con la siguiente función conseguimos transformar los jsons a listas de diccionarios y a partir de ellos generamos listas con los géneros de cada película, es este caso, los valores correspondientes a la clave name.\n",
    "\n",
    "Esta función incluye una etapa de preprocesamiento para la aplicación de funciones de la librería json, asegurandose de identificar elementos problemáticos (como elementos no strings o caractéres problemáticos dentro de los strings a través de una identificación por regex) y corregirlos, así como de extracción de la información relevante y agrupación en listas."
   ],
   "cell_type": "markdown",
   "metadata": {}
  },
  {
   "cell_type": "code",
   "execution_count": 18,
   "metadata": {},
   "outputs": [
    {
     "output_type": "stream",
     "name": "stdout",
     "text": [
      "Número de elemenos únicos ---> 20\n Todos los elementos únicos de la columna:\n {'Western', 'Romance', 'Thriller', 'Documentary', 'Action', 'Crime', 'Foreign', 'Science Fiction', 'Horror', 'Comedy', 'Mystery', 'Drama', 'War', 'Music', 'History', 'TV Movie', 'Animation', 'Family', 'Fantasy', 'Adventure'}\n"
     ]
    }
   ],
   "source": [
    "genres_to_list = dmin.series_json_to_list(movies_df.genres, 'name')"
   ]
  },
  {
   "cell_type": "code",
   "execution_count": 19,
   "metadata": {},
   "outputs": [
    {
     "output_type": "execute_result",
     "data": {
      "text/plain": [
       "                         genres\n",
       "0   [Animation, Comedy, Family]\n",
       "1  [Adventure, Fantasy, Family]\n",
       "2             [Romance, Comedy]\n",
       "3      [Comedy, Drama, Romance]\n",
       "4                      [Comedy]"
      ],
      "text/html": "<div>\n<style scoped>\n    .dataframe tbody tr th:only-of-type {\n        vertical-align: middle;\n    }\n\n    .dataframe tbody tr th {\n        vertical-align: top;\n    }\n\n    .dataframe thead th {\n        text-align: right;\n    }\n</style>\n<table border=\"1\" class=\"dataframe\">\n  <thead>\n    <tr style=\"text-align: right;\">\n      <th></th>\n      <th>genres</th>\n    </tr>\n  </thead>\n  <tbody>\n    <tr>\n      <th>0</th>\n      <td>[Animation, Comedy, Family]</td>\n    </tr>\n    <tr>\n      <th>1</th>\n      <td>[Adventure, Fantasy, Family]</td>\n    </tr>\n    <tr>\n      <th>2</th>\n      <td>[Romance, Comedy]</td>\n    </tr>\n    <tr>\n      <th>3</th>\n      <td>[Comedy, Drama, Romance]</td>\n    </tr>\n    <tr>\n      <th>4</th>\n      <td>[Comedy]</td>\n    </tr>\n  </tbody>\n</table>\n</div>"
     },
     "metadata": {},
     "execution_count": 19
    }
   ],
   "source": [
    "genres_to_list.head()"
   ]
  },
  {
   "source": [
    "Sustiuimos la columna original de nuestro dataset por la que se ha generado:"
   ],
   "cell_type": "markdown",
   "metadata": {}
  },
  {
   "cell_type": "code",
   "execution_count": 20,
   "metadata": {},
   "outputs": [],
   "source": [
    "movies_df['genres'] = genres_to_list"
   ]
  },
  {
   "source": [
    "Puede ser de utilidad crear un dataframe de la columna genres expandida, de forma que todos los generos correspondan a las columnas:"
   ],
   "cell_type": "markdown",
   "metadata": {}
  },
  {
   "source": [
    "        -se crea un dataframe de una columna compuesta por diccionarios donde la clave y el valor\n",
    "         corresponden a los generos de cada película"
   ],
   "cell_type": "markdown",
   "metadata": {}
  },
  {
   "source": [
    "        -a partir de este dataframe generamos el dataframe expandido donde cada columna representa uno \n",
    "         de los 20 géneros de nuestro dataset original"
   ],
   "cell_type": "markdown",
   "metadata": {}
  },
  {
   "cell_type": "code",
   "execution_count": 21,
   "metadata": {},
   "outputs": [
    {
     "output_type": "execute_result",
     "data": {
      "text/plain": [
       "  Action  Adventure  Animation  Comedy Crime Documentary  Drama  Family  \\\n",
       "0    NaN        NaN  Animation  Comedy   NaN         NaN    NaN  Family   \n",
       "1    NaN  Adventure        NaN     NaN   NaN         NaN    NaN  Family   \n",
       "2    NaN        NaN        NaN  Comedy   NaN         NaN    NaN     NaN   \n",
       "3    NaN        NaN        NaN  Comedy   NaN         NaN  Drama     NaN   \n",
       "4    NaN        NaN        NaN  Comedy   NaN         NaN    NaN     NaN   \n",
       "\n",
       "   Fantasy Foreign History Horror Music Mystery  Romance Science Fiction  \\\n",
       "0      NaN     NaN     NaN    NaN   NaN     NaN      NaN             NaN   \n",
       "1  Fantasy     NaN     NaN    NaN   NaN     NaN      NaN             NaN   \n",
       "2      NaN     NaN     NaN    NaN   NaN     NaN  Romance             NaN   \n",
       "3      NaN     NaN     NaN    NaN   NaN     NaN  Romance             NaN   \n",
       "4      NaN     NaN     NaN    NaN   NaN     NaN      NaN             NaN   \n",
       "\n",
       "  TV Movie Thriller  War Western  \n",
       "0      NaN      NaN  NaN     NaN  \n",
       "1      NaN      NaN  NaN     NaN  \n",
       "2      NaN      NaN  NaN     NaN  \n",
       "3      NaN      NaN  NaN     NaN  \n",
       "4      NaN      NaN  NaN     NaN  "
      ],
      "text/html": "<div>\n<style scoped>\n    .dataframe tbody tr th:only-of-type {\n        vertical-align: middle;\n    }\n\n    .dataframe tbody tr th {\n        vertical-align: top;\n    }\n\n    .dataframe thead th {\n        text-align: right;\n    }\n</style>\n<table border=\"1\" class=\"dataframe\">\n  <thead>\n    <tr style=\"text-align: right;\">\n      <th></th>\n      <th>Action</th>\n      <th>Adventure</th>\n      <th>Animation</th>\n      <th>Comedy</th>\n      <th>Crime</th>\n      <th>Documentary</th>\n      <th>Drama</th>\n      <th>Family</th>\n      <th>Fantasy</th>\n      <th>Foreign</th>\n      <th>History</th>\n      <th>Horror</th>\n      <th>Music</th>\n      <th>Mystery</th>\n      <th>Romance</th>\n      <th>Science Fiction</th>\n      <th>TV Movie</th>\n      <th>Thriller</th>\n      <th>War</th>\n      <th>Western</th>\n    </tr>\n  </thead>\n  <tbody>\n    <tr>\n      <th>0</th>\n      <td>NaN</td>\n      <td>NaN</td>\n      <td>Animation</td>\n      <td>Comedy</td>\n      <td>NaN</td>\n      <td>NaN</td>\n      <td>NaN</td>\n      <td>Family</td>\n      <td>NaN</td>\n      <td>NaN</td>\n      <td>NaN</td>\n      <td>NaN</td>\n      <td>NaN</td>\n      <td>NaN</td>\n      <td>NaN</td>\n      <td>NaN</td>\n      <td>NaN</td>\n      <td>NaN</td>\n      <td>NaN</td>\n      <td>NaN</td>\n    </tr>\n    <tr>\n      <th>1</th>\n      <td>NaN</td>\n      <td>Adventure</td>\n      <td>NaN</td>\n      <td>NaN</td>\n      <td>NaN</td>\n      <td>NaN</td>\n      <td>NaN</td>\n      <td>Family</td>\n      <td>Fantasy</td>\n      <td>NaN</td>\n      <td>NaN</td>\n      <td>NaN</td>\n      <td>NaN</td>\n      <td>NaN</td>\n      <td>NaN</td>\n      <td>NaN</td>\n      <td>NaN</td>\n      <td>NaN</td>\n      <td>NaN</td>\n      <td>NaN</td>\n    </tr>\n    <tr>\n      <th>2</th>\n      <td>NaN</td>\n      <td>NaN</td>\n      <td>NaN</td>\n      <td>Comedy</td>\n      <td>NaN</td>\n      <td>NaN</td>\n      <td>NaN</td>\n      <td>NaN</td>\n      <td>NaN</td>\n      <td>NaN</td>\n      <td>NaN</td>\n      <td>NaN</td>\n      <td>NaN</td>\n      <td>NaN</td>\n      <td>Romance</td>\n      <td>NaN</td>\n      <td>NaN</td>\n      <td>NaN</td>\n      <td>NaN</td>\n      <td>NaN</td>\n    </tr>\n    <tr>\n      <th>3</th>\n      <td>NaN</td>\n      <td>NaN</td>\n      <td>NaN</td>\n      <td>Comedy</td>\n      <td>NaN</td>\n      <td>NaN</td>\n      <td>Drama</td>\n      <td>NaN</td>\n      <td>NaN</td>\n      <td>NaN</td>\n      <td>NaN</td>\n      <td>NaN</td>\n      <td>NaN</td>\n      <td>NaN</td>\n      <td>Romance</td>\n      <td>NaN</td>\n      <td>NaN</td>\n      <td>NaN</td>\n      <td>NaN</td>\n      <td>NaN</td>\n    </tr>\n    <tr>\n      <th>4</th>\n      <td>NaN</td>\n      <td>NaN</td>\n      <td>NaN</td>\n      <td>Comedy</td>\n      <td>NaN</td>\n      <td>NaN</td>\n      <td>NaN</td>\n      <td>NaN</td>\n      <td>NaN</td>\n      <td>NaN</td>\n      <td>NaN</td>\n      <td>NaN</td>\n      <td>NaN</td>\n      <td>NaN</td>\n      <td>NaN</td>\n      <td>NaN</td>\n      <td>NaN</td>\n      <td>NaN</td>\n      <td>NaN</td>\n      <td>NaN</td>\n    </tr>\n  </tbody>\n</table>\n</div>"
     },
     "metadata": {},
     "execution_count": 21
    }
   ],
   "source": [
    "genre_df_expanded = dmin.expand_df(movies_df.genres)\n",
    "genre_df_expanded.head()"
   ]
  },
  {
   "cell_type": "code",
   "execution_count": 22,
   "metadata": {},
   "outputs": [
    {
     "output_type": "execute_result",
     "data": {
      "text/plain": [
       "Drama       20265\n",
       "Comedy      13182\n",
       "Thriller     7624\n",
       "Romance      6735\n",
       "Action       6596\n",
       "dtype: int64"
      ]
     },
     "metadata": {},
     "execution_count": 22
    }
   ],
   "source": [
    "genre_df_expanded.count().sort_values(ascending=False).head()"
   ]
  },
  {
   "source": [
    "### - production_countries"
   ],
   "cell_type": "markdown",
   "metadata": {}
  },
  {
   "cell_type": "code",
   "execution_count": 23,
   "metadata": {},
   "outputs": [
    {
     "output_type": "stream",
     "name": "stdout",
     "text": [
      "errors column positions: [4321, 6954, 19729, 23273, 29501, 30433, 35584, 39705]\n",
      "Número de elemenos únicos ---> 160\n",
      " Todos los elementos únicos de la columna:\n",
      " {'Burkina Faso', 'Australia', 'Tanzania', 'Belgium', 'Hong Kong', 'Soviet Union', 'Colombia', 'East Germany', 'France', 'Ethiopia', 'Philippines', 'Germany', 'Switzerland', 'Cayman Islands', 'United States Minor Outlying Islands', 'Albania', 'Mexico', 'Gibraltar', 'Mongolia', 'Macao', 'Brazil', 'South Korea', 'Botswana', 'Chad', 'Bangladesh', 'Uruguay', 'Iraq', 'Syrian Arab Republic', 'Dominican Republic', 'Peru', 'Netherlands', 'Kuwait', 'China', 'Liechtenstein', 'Aruba', 'Ukraine', 'Belarus', 'Japan', 'Canada', 'Afghanistan', 'India', 'Sweden', 'Poland', 'Israel', 'Jamaica', 'Armenia', 'Estonia', 'Brunei Darussalam', 'Austria', 'Liberia', 'El Salvador', 'Spain', 'New Zealand', 'Singapore', 'Saudi Arabia', 'Cyprus', 'North Korea', 'Serbia and Montenegro', 'Azerbaijan', 'Cote D Ivoire', 'Serbia', 'Ireland', 'Netherlands Antilles', 'Romania', 'Barbados', 'Lithuania', 'Mali', 'Cameroon', 'Angola', 'Guatemala', 'Ghana', 'Turkey', 'Macedonia', 'Trinidad and Tobago', 'Kazakhstan', 'Cambodia', 'Bolivia', 'Chile', 'Bahamas', 'Martinique', 'Cuba', 'Montenegro', 'Nepal', 'Malaysia', 'Guinea', 'Argentina', 'Libyan Arab Jamahiriya', 'Kenya', 'Bulgaria', 'Puerto Rico', 'Nigeria', 'Russia', 'Congo', 'Denmark', 'Sri Lanka', 'Thailand', 'Papua New Guinea', 'Bhutan', 'Norway', 'United Kingdom', 'Zimbabwe', 'Morocco', 'Qatar', 'Egypt', 'Senegal', 'Jordan', 'Paraguay', 'Rwanda', 'South Africa', 'Pakistan', 'Lao People s Democratic Republic', 'Costa Rica', 'Monaco', 'United Arab Emirates', 'Portugal', 'Nicaragua', 'Kyrgyz Republic', 'Malta', 'Bosnia and Herzegovina', 'Finland', 'Moldova', 'Madagascar', 'Czechoslovakia', 'Tunisia', 'Italy', 'Namibia', 'Greece', 'Hungary', 'Uzbekistan', 'Mauritania', 'Lebanon', 'Indonesia', 'Latvia', 'Bermuda', 'Palestinian Territory', 'Slovenia', 'Taiwan', 'Somalia', 'Luxembourg', 'Myanmar', 'Tajikistan', 'Samoa', 'Algeria', 'French Polynesia', 'Ecuador', 'United States of America', 'Czech Republic', 'Croatia', 'Georgia', 'Yugoslavia', 'Venezuela', 'Slovakia', 'Honduras', 'French Southern Territories', 'Panama', 'Iceland', 'Uganda', 'Vietnam', 'Antarctica', 'Iran'}\n"
     ]
    },
    {
     "output_type": "execute_result",
     "data": {
      "text/plain": [
       "         production_countries\n",
       "0  [United States of America]\n",
       "1  [United States of America]\n",
       "2  [United States of America]\n",
       "3  [United States of America]\n",
       "4  [United States of America]"
      ],
      "text/html": "<div>\n<style scoped>\n    .dataframe tbody tr th:only-of-type {\n        vertical-align: middle;\n    }\n\n    .dataframe tbody tr th {\n        vertical-align: top;\n    }\n\n    .dataframe thead th {\n        text-align: right;\n    }\n</style>\n<table border=\"1\" class=\"dataframe\">\n  <thead>\n    <tr style=\"text-align: right;\">\n      <th></th>\n      <th>production_countries</th>\n    </tr>\n  </thead>\n  <tbody>\n    <tr>\n      <th>0</th>\n      <td>[United States of America]</td>\n    </tr>\n    <tr>\n      <th>1</th>\n      <td>[United States of America]</td>\n    </tr>\n    <tr>\n      <th>2</th>\n      <td>[United States of America]</td>\n    </tr>\n    <tr>\n      <th>3</th>\n      <td>[United States of America]</td>\n    </tr>\n    <tr>\n      <th>4</th>\n      <td>[United States of America]</td>\n    </tr>\n  </tbody>\n</table>\n</div>"
     },
     "metadata": {},
     "execution_count": 23
    }
   ],
   "source": [
    "countries_to_list = dmin.series_json_to_list(movies_df.production_countries, 'name')\n",
    "countries_to_list.head()"
   ]
  },
  {
   "source": [
    "Sustituimos production_countries por la nueva columna generada"
   ],
   "cell_type": "markdown",
   "metadata": {}
  },
  {
   "cell_type": "code",
   "execution_count": 24,
   "metadata": {},
   "outputs": [],
   "source": [
    "movies_df['production_countries'] = countries_to_list"
   ]
  },
  {
   "source": [
    "Podemos expandir esta columna en un nuevo dataset"
   ],
   "cell_type": "markdown",
   "metadata": {}
  },
  {
   "cell_type": "code",
   "execution_count": 25,
   "metadata": {},
   "outputs": [
    {
     "output_type": "execute_result",
     "data": {
      "text/plain": [
       "United States of America    21153\n",
       "United Kingdom               4094\n",
       "France                       3940\n",
       "Germany                      2254\n",
       "Italy                        2169\n",
       "dtype: int64"
      ]
     },
     "metadata": {},
     "execution_count": 25
    }
   ],
   "source": [
    "prod_countries_expanded = dmin.expand_df(movies_df.production_countries)\n",
    "prod_countries_expanded.count().sort_values(ascending=False).head()"
   ]
  },
  {
   "source": [
    "## Dataset exports"
   ],
   "cell_type": "markdown",
   "metadata": {}
  },
  {
   "source": [
    "Exportaremos los dataset minados a archivos CSV y pickle para su posterior uso en el resto de investigaciones"
   ],
   "cell_type": "markdown",
   "metadata": {}
  },
  {
   "source": [
    "-Movies metadata dataset:"
   ],
   "cell_type": "markdown",
   "metadata": {}
  },
  {
   "cell_type": "code",
   "execution_count": 26,
   "metadata": {},
   "outputs": [],
   "source": [
    "movies_df.to_csv(root_project + r\"/resources/movies_df.csv\", index=False)"
   ]
  },
  {
   "cell_type": "code",
   "execution_count": 27,
   "metadata": {},
   "outputs": [],
   "source": [
    "movies_df.to_pickle(root_project + r\"/resources/movies_df.pkl\")"
   ]
  },
  {
   "source": [
    "-'genres' expandido dataset:"
   ],
   "cell_type": "markdown",
   "metadata": {}
  },
  {
   "cell_type": "code",
   "execution_count": 28,
   "metadata": {},
   "outputs": [],
   "source": [
    "genre_df_expanded.to_csv(root_project + r\"/resources/genre_df_expanded.csv\", index=False)"
   ]
  },
  {
   "cell_type": "code",
   "execution_count": 29,
   "metadata": {},
   "outputs": [],
   "source": [
    "genre_df_expanded.to_pickle(root_project + r\"/resources/genre_df_expanded.pkl\")"
   ]
  },
  {
   "source": [
    "-'production_countries' expandido dataset:"
   ],
   "cell_type": "markdown",
   "metadata": {}
  },
  {
   "cell_type": "code",
   "execution_count": 30,
   "metadata": {},
   "outputs": [],
   "source": [
    "prod_countries_expanded.to_csv(root_project + r\"/resources/prod_countries_expanded.csv\", index=False)"
   ]
  },
  {
   "cell_type": "code",
   "execution_count": 31,
   "metadata": {},
   "outputs": [],
   "source": [
    "prod_countries_expanded.to_pickle(root_project + r\"/resources/prod_countries_expanded.pkl\")"
   ]
  },
  {
   "source": [],
   "cell_type": "markdown",
   "metadata": {}
  },
  {
   "source": [
    "# Data Exploration"
   ],
   "cell_type": "markdown",
   "metadata": {}
  },
  {
   "source": [
    "En esta sección haremos una exploración superficial de las columnas del dataset minado para poder visualizar la distribución de los datos y detectar anomalías, como datos faltantes o extraños, rápidemente."
   ],
   "cell_type": "markdown",
   "metadata": {}
  },
  {
   "cell_type": "code",
   "execution_count": 33,
   "metadata": {},
   "outputs": [
    {
     "output_type": "stream",
     "name": "stdout",
     "text": [
      "<class 'pandas.core.frame.DataFrame'>\nRangeIndex: 45463 entries, 0 to 45462\nData columns (total 10 columns):\n #   Column                Non-Null Count  Dtype         \n---  ------                --------------  -----         \n 0   title                 45460 non-null  object        \n 1   release_date          45376 non-null  datetime64[ns]\n 2   original_language     45452 non-null  object        \n 3   genres                45463 non-null  object        \n 4   budget                45463 non-null  int64         \n 5   revenue               45460 non-null  float64       \n 6   production_countries  45463 non-null  object        \n 7   runtime               45203 non-null  float64       \n 8   vote_average          45460 non-null  float64       \n 9   vote_count            45460 non-null  float64       \ndtypes: datetime64[ns](1), float64(4), int64(1), object(4)\nmemory usage: 3.5+ MB\n"
     ]
    }
   ],
   "source": [
    "movies_df.info()"
   ]
  },
  {
   "source": [
    "Con info() es posible indentificar instantáneamente si existen valores vacíos en las columnas. Estudiaremos estos datos y determinaremos si es necesario eliminarlos "
   ],
   "cell_type": "markdown",
   "metadata": {}
  },
  {
   "cell_type": "code",
   "execution_count": 42,
   "metadata": {},
   "outputs": [
    {
     "output_type": "execute_result",
     "data": {
      "text/plain": [
       "      title release_date original_language  \\\n",
       "19729   NaN          NaT                en   \n",
       "29501   NaN          NaT                ja   \n",
       "35584   NaN          NaT                en   \n",
       "\n",
       "                                            genres  budget  revenue  \\\n",
       "19729                    [Action, Thriller, Drama]       0      NaN   \n",
       "29501                 [Animation, Science Fiction]       0      NaN   \n",
       "35584  [TV Movie, Action, Horror, Science Fiction]       0      NaN   \n",
       "\n",
       "      production_countries  runtime  vote_average  vote_count  \n",
       "19729                   []      NaN           NaN         NaN  \n",
       "29501                   []      NaN           NaN         NaN  \n",
       "35584                   []      NaN           NaN         NaN  "
      ],
      "text/html": "<div>\n<style scoped>\n    .dataframe tbody tr th:only-of-type {\n        vertical-align: middle;\n    }\n\n    .dataframe tbody tr th {\n        vertical-align: top;\n    }\n\n    .dataframe thead th {\n        text-align: right;\n    }\n</style>\n<table border=\"1\" class=\"dataframe\">\n  <thead>\n    <tr style=\"text-align: right;\">\n      <th></th>\n      <th>title</th>\n      <th>release_date</th>\n      <th>original_language</th>\n      <th>genres</th>\n      <th>budget</th>\n      <th>revenue</th>\n      <th>production_countries</th>\n      <th>runtime</th>\n      <th>vote_average</th>\n      <th>vote_count</th>\n    </tr>\n  </thead>\n  <tbody>\n    <tr>\n      <th>19729</th>\n      <td>NaN</td>\n      <td>NaT</td>\n      <td>en</td>\n      <td>[Action, Thriller, Drama]</td>\n      <td>0</td>\n      <td>NaN</td>\n      <td>[]</td>\n      <td>NaN</td>\n      <td>NaN</td>\n      <td>NaN</td>\n    </tr>\n    <tr>\n      <th>29501</th>\n      <td>NaN</td>\n      <td>NaT</td>\n      <td>ja</td>\n      <td>[Animation, Science Fiction]</td>\n      <td>0</td>\n      <td>NaN</td>\n      <td>[]</td>\n      <td>NaN</td>\n      <td>NaN</td>\n      <td>NaN</td>\n    </tr>\n    <tr>\n      <th>35584</th>\n      <td>NaN</td>\n      <td>NaT</td>\n      <td>en</td>\n      <td>[TV Movie, Action, Horror, Science Fiction]</td>\n      <td>0</td>\n      <td>NaN</td>\n      <td>[]</td>\n      <td>NaN</td>\n      <td>NaN</td>\n      <td>NaN</td>\n    </tr>\n  </tbody>\n</table>\n</div>"
     },
     "metadata": {},
     "execution_count": 42
    }
   ],
   "source": [
    "nan_titles = movies_df[movies_df.title.isnull()]\n",
    "nan_titles"
   ]
  },
  {
   "source": [
    "Coincide que los elementos vacíos de la columna titles (3) tambien los son para otras tantas columnas, por lo tanto son filas que ofrecen poca información y es seguro eliminarlas "
   ],
   "cell_type": "markdown",
   "metadata": {}
  },
  {
   "cell_type": "code",
   "execution_count": 46,
   "metadata": {},
   "outputs": [],
   "source": [
    "movies_df.drop(nan_titles.index, inplace=True)"
   ]
  },
  {
   "cell_type": "code",
   "execution_count": null,
   "metadata": {},
   "outputs": [],
   "source": [
    "Existen algunos elementos vacíos en la columna release_dates. Como esta columna se considera muy relevante para el estudio de la hipótesis, se opta por eliminar estos elementos."
   ]
  },
  {
   "cell_type": "code",
   "execution_count": 54,
   "metadata": {},
   "outputs": [],
   "source": [
    "movies_df = movies_df[movies_df.release_date.notna()]"
   ]
  },
  {
   "source": [
    "La columna runtime tambien incluye bastantes elementos vacíos, pero como no es una información tan importante, es conveniente dejar estas filas, evitando el riesgo de perder otra información relevante  "
   ],
   "cell_type": "markdown",
   "metadata": {}
  },
  {
   "source": [
    "### -release_date"
   ],
   "cell_type": "markdown",
   "metadata": {}
  },
  {
   "cell_type": "code",
   "execution_count": null,
   "metadata": {},
   "outputs": [],
   "source": [
    "import datetime as dt\n",
    "\n",
    "released_movies_Y = movies_df['release_date'].groupby(movies_df.release_date.dt.to_period(\"M\")).agg('count')\n",
    "x_ax = released_movies_Y.dt.to\n",
    "plt.plot()"
   ]
  },
  {
   "source": [
    "Finalmente nos desharemos de las siguientes filas:\n",
    "\n",
    "        -blablabla"
   ],
   "cell_type": "markdown",
   "metadata": {}
  },
  {
   "source": [
    "# Hypothesis evaluation"
   ],
   "cell_type": "markdown",
   "metadata": {}
  },
  {
   "cell_type": "code",
   "execution_count": null,
   "metadata": {},
   "outputs": [],
   "source": []
  }
 ]
}