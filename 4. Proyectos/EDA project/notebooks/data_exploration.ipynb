{
 "metadata": {
  "language_info": {
   "codemirror_mode": {
    "name": "ipython",
    "version": 3
   },
   "file_extension": ".py",
   "mimetype": "text/x-python",
   "name": "python",
   "nbconvert_exporter": "python",
   "pygments_lexer": "ipython3",
   "version": "3.9.0-final"
  },
  "orig_nbformat": 2,
  "kernelspec": {
   "name": "python3",
   "display_name": "Python 3.9.0 64-bit",
   "metadata": {
    "interpreter": {
     "hash": "cf85b414d3663472de89104473c842eaab37d7b845999caf56a47ccda76ea2f8"
    }
   }
  }
 },
 "nbformat": 4,
 "nbformat_minor": 2,
 "cells": [
  {
   "source": [
    "# Data Exploration"
   ],
   "cell_type": "markdown",
   "metadata": {}
  },
  {
   "source": [
    "En esta sección haremos una exploración superficial de los datos recogidos en el dataset que se ha procesado previamente, para poder visualizar la distribución de los datos y detectar anomalías, como datos faltantes o extraños, rapidemente."
   ],
   "cell_type": "markdown",
   "metadata": {}
  },
  {
   "source": [
    "Se importa el dataframe pulido del trabajo"
   ],
   "cell_type": "markdown",
   "metadata": {}
  },
  {
   "cell_type": "code",
   "execution_count": 3,
   "metadata": {},
   "outputs": [],
   "source": [
    "import pandas as pd \n",
    "import numpy as np \n",
    "import os\n",
    "import sys"
   ]
  },
  {
   "cell_type": "code",
   "execution_count": 4,
   "metadata": {},
   "outputs": [],
   "source": [
    "root_project = os.path.dirname(os.getcwd())\n",
    "sys.path.append(root_project)\n",
    "movies_csv_dir = root_project + '/resources/movies_df.csv'\n",
    "movies_csv_df = pd.read_csv(movies_csv_dir)\n",
    "movies_df = movies_csv_df.copy()"
   ]
  },
  {
   "cell_type": "code",
   "execution_count": 5,
   "metadata": {},
   "outputs": [
    {
     "output_type": "execute_result",
     "data": {
      "text/plain": [
       "                         title release_date original_language  \\\n",
       "0                    Toy Story   1995-10-30                en   \n",
       "1                      Jumanji   1995-12-15                en   \n",
       "2             Grumpier Old Men   1995-12-22                en   \n",
       "3            Waiting to Exhale   1995-12-22                en   \n",
       "4  Father of the Bride Part II   1995-02-10                en   \n",
       "\n",
       "                               genres    budget      revenue  \\\n",
       "0   ['Animation', 'Comedy', 'Family']  30000000  373554033.0   \n",
       "1  ['Adventure', 'Fantasy', 'Family']  65000000  262797249.0   \n",
       "2               ['Romance', 'Comedy']         0          0.0   \n",
       "3      ['Comedy', 'Drama', 'Romance']  16000000   81452156.0   \n",
       "4                          ['Comedy']         0   76578911.0   \n",
       "\n",
       "           production_countries  runtime  vote_average  vote_count  \n",
       "0  ['United States of America']     81.0           7.7      5415.0  \n",
       "1  ['United States of America']    104.0           6.9      2413.0  \n",
       "2  ['United States of America']    101.0           6.5        92.0  \n",
       "3  ['United States of America']    127.0           6.1        34.0  \n",
       "4  ['United States of America']    106.0           5.7       173.0  "
      ],
      "text/html": "<div>\n<style scoped>\n    .dataframe tbody tr th:only-of-type {\n        vertical-align: middle;\n    }\n\n    .dataframe tbody tr th {\n        vertical-align: top;\n    }\n\n    .dataframe thead th {\n        text-align: right;\n    }\n</style>\n<table border=\"1\" class=\"dataframe\">\n  <thead>\n    <tr style=\"text-align: right;\">\n      <th></th>\n      <th>title</th>\n      <th>release_date</th>\n      <th>original_language</th>\n      <th>genres</th>\n      <th>budget</th>\n      <th>revenue</th>\n      <th>production_countries</th>\n      <th>runtime</th>\n      <th>vote_average</th>\n      <th>vote_count</th>\n    </tr>\n  </thead>\n  <tbody>\n    <tr>\n      <th>0</th>\n      <td>Toy Story</td>\n      <td>1995-10-30</td>\n      <td>en</td>\n      <td>['Animation', 'Comedy', 'Family']</td>\n      <td>30000000</td>\n      <td>373554033.0</td>\n      <td>['United States of America']</td>\n      <td>81.0</td>\n      <td>7.7</td>\n      <td>5415.0</td>\n    </tr>\n    <tr>\n      <th>1</th>\n      <td>Jumanji</td>\n      <td>1995-12-15</td>\n      <td>en</td>\n      <td>['Adventure', 'Fantasy', 'Family']</td>\n      <td>65000000</td>\n      <td>262797249.0</td>\n      <td>['United States of America']</td>\n      <td>104.0</td>\n      <td>6.9</td>\n      <td>2413.0</td>\n    </tr>\n    <tr>\n      <th>2</th>\n      <td>Grumpier Old Men</td>\n      <td>1995-12-22</td>\n      <td>en</td>\n      <td>['Romance', 'Comedy']</td>\n      <td>0</td>\n      <td>0.0</td>\n      <td>['United States of America']</td>\n      <td>101.0</td>\n      <td>6.5</td>\n      <td>92.0</td>\n    </tr>\n    <tr>\n      <th>3</th>\n      <td>Waiting to Exhale</td>\n      <td>1995-12-22</td>\n      <td>en</td>\n      <td>['Comedy', 'Drama', 'Romance']</td>\n      <td>16000000</td>\n      <td>81452156.0</td>\n      <td>['United States of America']</td>\n      <td>127.0</td>\n      <td>6.1</td>\n      <td>34.0</td>\n    </tr>\n    <tr>\n      <th>4</th>\n      <td>Father of the Bride Part II</td>\n      <td>1995-02-10</td>\n      <td>en</td>\n      <td>['Comedy']</td>\n      <td>0</td>\n      <td>76578911.0</td>\n      <td>['United States of America']</td>\n      <td>106.0</td>\n      <td>5.7</td>\n      <td>173.0</td>\n    </tr>\n  </tbody>\n</table>\n</div>"
     },
     "metadata": {},
     "execution_count": 5
    }
   ],
   "source": [
    "movies_df.head()"
   ]
  },
  {
   "source": [
    "Empezamos por comprobar si los nombres de las películas son todos únicos o si se repite algún valor"
   ],
   "cell_type": "markdown",
   "metadata": {}
  },
  {
   "cell_type": "code",
   "execution_count": 18,
   "metadata": {},
   "outputs": [
    {
     "output_type": "execute_result",
     "data": {
      "text/plain": [
       "3186"
      ]
     },
     "metadata": {},
     "execution_count": 18
    }
   ],
   "source": [
    "len(movies_df) - movies_df.title.nunique()"
   ]
  },
  {
   "cell_type": "code",
   "execution_count": 26,
   "metadata": {},
   "outputs": [
    {
     "output_type": "execute_result",
     "data": {
      "text/plain": [
       "42277"
      ]
     },
     "metadata": {},
     "execution_count": 26
    }
   ],
   "source": [
    "movies_df.title.nunique()"
   ]
  },
  {
   "cell_type": "code",
   "execution_count": 16,
   "metadata": {},
   "outputs": [
    {
     "output_type": "execute_result",
     "data": {
      "text/plain": [
       "5516"
      ]
     },
     "metadata": {},
     "execution_count": 16
    }
   ],
   "source": [
    "movies_df.title[movies_df.title.duplicated(False)"
   ]
  },
  {
   "source": [
    "Se visualizarán los datos de cada columna con gráficos acordes al tipo de información que guardan. Iremos columna a columna:"
   ],
   "cell_type": "markdown",
   "metadata": {}
  },
  {
   "source": [
    "### -release_date"
   ],
   "cell_type": "markdown",
   "metadata": {}
  },
  {
   "cell_type": "code",
   "execution_count": null,
   "metadata": {},
   "outputs": [],
   "source": []
  }
 ]
}