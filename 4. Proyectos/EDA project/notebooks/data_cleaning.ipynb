{
 "metadata": {
  "language_info": {
   "codemirror_mode": {
    "name": "ipython",
    "version": 3
   },
   "file_extension": ".py",
   "mimetype": "text/x-python",
   "name": "python",
   "nbconvert_exporter": "python",
   "pygments_lexer": "ipython3",
   "version": "3.9.0-final"
  },
  "orig_nbformat": 2,
  "kernelspec": {
   "name": "python3",
   "display_name": "Python 3.9.0 64-bit",
   "metadata": {
    "interpreter": {
     "hash": "cf85b414d3663472de89104473c842eaab37d7b845999caf56a47ccda76ea2f8"
    }
   }
  }
 },
 "nbformat": 4,
 "nbformat_minor": 2,
 "cells": [
  {
   "source": [
    "# Data Cleaning"
   ],
   "cell_type": "markdown",
   "metadata": {}
  },
  {
   "source": [
    "A partir del dataset de Full MovieLens que recoge metadatos sobre las 45.000 películas de esta plataforma, se realizará un estudio para comprobar la  veracidad de la hipótesis que guía este trabajo: La industria del cine no es rentable. Para ello, es necesario empezar por generar un dataframe con los elementos que nos sean de utilidad. \n",
    "\n",
    "Reordenaremos el dataset original y nos quedaremos con las columnas que son de nuestro interés:"
   ],
   "cell_type": "markdown",
   "metadata": {}
  },
  {
   "source": [
    "## Data Structuring"
   ],
   "cell_type": "markdown",
   "metadata": {}
  },
  {
   "source": [
    "Importamos las librerías necesarias para este paso."
   ],
   "cell_type": "markdown",
   "metadata": {}
  },
  {
   "cell_type": "code",
   "execution_count": 1,
   "metadata": {},
   "outputs": [],
   "source": [
    "import pandas as pd\n",
    "import os\n",
    "import sys"
   ]
  },
  {
   "source": [
    "Se importa el dataset accediendo al directorio donde está guardado. "
   ],
   "cell_type": "markdown",
   "metadata": {}
  },
  {
   "cell_type": "code",
   "execution_count": 2,
   "metadata": {},
   "outputs": [],
   "source": [
    "# Obtenemos la dirección de la carpeta raiz del proyecto\n",
    "root_project = os.path.dirname(os.getcwd())\n",
    "# Adjuntamos esta dirección a las rutas de python para poder importar modulos desde aquí\n",
    "sys.path.append(root_project)\n",
    "# Completamos la dirección del archivo csv con el dataset\n",
    "movies_csv_dir = root_project + '/resources/movies_metadata.csv'\n",
    "\n",
    "# Leemos el dataset desde el directorio donde se encuentra\n",
    "movies_csv_df = pd.read_csv(movies_csv_dir, sep= ',')\n",
    "movies_df = movies_csv_df.copy()"
   ]
  },
  {
   "source": [
    "Identificando las columnas se hace una breve pero rápida exploración de los datos que contiene el dataset."
   ],
   "cell_type": "markdown",
   "metadata": {}
  },
  {
   "cell_type": "code",
   "execution_count": 3,
   "metadata": {},
   "outputs": [
    {
     "output_type": "stream",
     "name": "stdout",
     "text": [
      "['adult', 'belongs_to_collection', 'budget', 'genres', 'homepage', 'id', 'imdb_id', 'original_language', 'original_title', 'overview', 'popularity', 'poster_path', 'production_companies', 'production_countries', 'release_date', 'revenue', 'runtime', 'spoken_languages', 'status', 'tagline', 'title', 'video', 'vote_average', 'vote_count'] \n\nnumber of columns ---> 24\n"
     ]
    }
   ],
   "source": [
    "print(list(movies_df.columns), '\\n')\n",
    "print('number of columns --->', len(movies_df.columns))"
   ]
  },
  {
   "source": [
    "De las 24 columnas del dataset nos interesan solo 11. Generamos una lista ordenada de estas columnas a partir de la cual generaremos el dataframe para el estudio. "
   ],
   "cell_type": "markdown",
   "metadata": {}
  },
  {
   "cell_type": "code",
   "execution_count": 4,
   "metadata": {},
   "outputs": [],
   "source": [
    "l = ['title', 'release_date', 'original_language', 'genres', 'budget', 'revenue', 'production_countries', 'production_companies', 'runtime', 'vote_average', 'vote_count']"
   ]
  },
  {
   "cell_type": "code",
   "execution_count": 5,
   "metadata": {},
   "outputs": [
    {
     "output_type": "execute_result",
     "data": {
      "text/plain": [
       "                         title release_date original_language  \\\n",
       "0                    Toy Story   1995-10-30                en   \n",
       "1                      Jumanji   1995-12-15                en   \n",
       "2             Grumpier Old Men   1995-12-22                en   \n",
       "3            Waiting to Exhale   1995-12-22                en   \n",
       "4  Father of the Bride Part II   1995-02-10                en   \n",
       "\n",
       "                                              genres    budget      revenue  \\\n",
       "0  [{'id': 16, 'name': 'Animation'}, {'id': 35, '...  30000000  373554033.0   \n",
       "1  [{'id': 12, 'name': 'Adventure'}, {'id': 14, '...  65000000  262797249.0   \n",
       "2  [{'id': 10749, 'name': 'Romance'}, {'id': 35, ...         0          0.0   \n",
       "3  [{'id': 35, 'name': 'Comedy'}, {'id': 18, 'nam...  16000000   81452156.0   \n",
       "4                     [{'id': 35, 'name': 'Comedy'}]         0   76578911.0   \n",
       "\n",
       "                                production_countries  \\\n",
       "0  [{'iso_3166_1': 'US', 'name': 'United States o...   \n",
       "1  [{'iso_3166_1': 'US', 'name': 'United States o...   \n",
       "2  [{'iso_3166_1': 'US', 'name': 'United States o...   \n",
       "3  [{'iso_3166_1': 'US', 'name': 'United States o...   \n",
       "4  [{'iso_3166_1': 'US', 'name': 'United States o...   \n",
       "\n",
       "                                production_companies  runtime  vote_average  \\\n",
       "0     [{'name': 'Pixar Animation Studios', 'id': 3}]     81.0           7.7   \n",
       "1  [{'name': 'TriStar Pictures', 'id': 559}, {'na...    104.0           6.9   \n",
       "2  [{'name': 'Warner Bros.', 'id': 6194}, {'name'...    101.0           6.5   \n",
       "3  [{'name': 'Twentieth Century Fox Film Corporat...    127.0           6.1   \n",
       "4  [{'name': 'Sandollar Productions', 'id': 5842}...    106.0           5.7   \n",
       "\n",
       "   vote_count  \n",
       "0      5415.0  \n",
       "1      2413.0  \n",
       "2        92.0  \n",
       "3        34.0  \n",
       "4       173.0  "
      ],
      "text/html": "<div>\n<style scoped>\n    .dataframe tbody tr th:only-of-type {\n        vertical-align: middle;\n    }\n\n    .dataframe tbody tr th {\n        vertical-align: top;\n    }\n\n    .dataframe thead th {\n        text-align: right;\n    }\n</style>\n<table border=\"1\" class=\"dataframe\">\n  <thead>\n    <tr style=\"text-align: right;\">\n      <th></th>\n      <th>title</th>\n      <th>release_date</th>\n      <th>original_language</th>\n      <th>genres</th>\n      <th>budget</th>\n      <th>revenue</th>\n      <th>production_countries</th>\n      <th>production_companies</th>\n      <th>runtime</th>\n      <th>vote_average</th>\n      <th>vote_count</th>\n    </tr>\n  </thead>\n  <tbody>\n    <tr>\n      <th>0</th>\n      <td>Toy Story</td>\n      <td>1995-10-30</td>\n      <td>en</td>\n      <td>[{'id': 16, 'name': 'Animation'}, {'id': 35, '...</td>\n      <td>30000000</td>\n      <td>373554033.0</td>\n      <td>[{'iso_3166_1': 'US', 'name': 'United States o...</td>\n      <td>[{'name': 'Pixar Animation Studios', 'id': 3}]</td>\n      <td>81.0</td>\n      <td>7.7</td>\n      <td>5415.0</td>\n    </tr>\n    <tr>\n      <th>1</th>\n      <td>Jumanji</td>\n      <td>1995-12-15</td>\n      <td>en</td>\n      <td>[{'id': 12, 'name': 'Adventure'}, {'id': 14, '...</td>\n      <td>65000000</td>\n      <td>262797249.0</td>\n      <td>[{'iso_3166_1': 'US', 'name': 'United States o...</td>\n      <td>[{'name': 'TriStar Pictures', 'id': 559}, {'na...</td>\n      <td>104.0</td>\n      <td>6.9</td>\n      <td>2413.0</td>\n    </tr>\n    <tr>\n      <th>2</th>\n      <td>Grumpier Old Men</td>\n      <td>1995-12-22</td>\n      <td>en</td>\n      <td>[{'id': 10749, 'name': 'Romance'}, {'id': 35, ...</td>\n      <td>0</td>\n      <td>0.0</td>\n      <td>[{'iso_3166_1': 'US', 'name': 'United States o...</td>\n      <td>[{'name': 'Warner Bros.', 'id': 6194}, {'name'...</td>\n      <td>101.0</td>\n      <td>6.5</td>\n      <td>92.0</td>\n    </tr>\n    <tr>\n      <th>3</th>\n      <td>Waiting to Exhale</td>\n      <td>1995-12-22</td>\n      <td>en</td>\n      <td>[{'id': 35, 'name': 'Comedy'}, {'id': 18, 'nam...</td>\n      <td>16000000</td>\n      <td>81452156.0</td>\n      <td>[{'iso_3166_1': 'US', 'name': 'United States o...</td>\n      <td>[{'name': 'Twentieth Century Fox Film Corporat...</td>\n      <td>127.0</td>\n      <td>6.1</td>\n      <td>34.0</td>\n    </tr>\n    <tr>\n      <th>4</th>\n      <td>Father of the Bride Part II</td>\n      <td>1995-02-10</td>\n      <td>en</td>\n      <td>[{'id': 35, 'name': 'Comedy'}]</td>\n      <td>0</td>\n      <td>76578911.0</td>\n      <td>[{'iso_3166_1': 'US', 'name': 'United States o...</td>\n      <td>[{'name': 'Sandollar Productions', 'id': 5842}...</td>\n      <td>106.0</td>\n      <td>5.7</td>\n      <td>173.0</td>\n    </tr>\n  </tbody>\n</table>\n</div>"
     },
     "metadata": {},
     "execution_count": 5
    }
   ],
   "source": [
    "movies_df = movies_df[l]\n",
    "movies_df.head()"
   ]
  },
  {
   "source": [
    "## Data Mining"
   ],
   "cell_type": "markdown",
   "metadata": {}
  },
  {
   "cell_type": "code",
   "execution_count": 6,
   "metadata": {},
   "outputs": [
    {
     "output_type": "execute_result",
     "data": {
      "text/plain": [
       "title                    object\n",
       "release_date             object\n",
       "original_language        object\n",
       "genres                   object\n",
       "budget                   object\n",
       "revenue                 float64\n",
       "production_countries     object\n",
       "production_companies     object\n",
       "runtime                 float64\n",
       "vote_average            float64\n",
       "vote_count              float64\n",
       "dtype: object"
      ]
     },
     "metadata": {},
     "execution_count": 6
    }
   ],
   "source": [
    "movies_df.dtypes"
   ]
  },
  {
   "source": [
    "Esta observación nos indica el tipo de elementos que contiene cada columna, con lo que podemos identificar que manipulaciones debemos llevar a cabo para que los datos puedan ser utilizados en el estudio. \n",
    "\n",
    "A simple vista identificamos los sigientes proplemas:\n",
    "\n",
    "    - release_date: querremos que esta columna contenga elementos del tipo datetime64\n",
    "\n",
    "    - budget: esta columna deberá contener valores numéricos para su uso\n",
    "\n",
    "    - genres, production_countries, production_companies: a la información de estas columnas no es posible             \n",
    "      acceder de forma directa, será necesario realizar data wrangling."
   ],
   "cell_type": "markdown",
   "metadata": {}
  },
  {
   "source": [
    "### Dates to datetime64 type"
   ],
   "cell_type": "markdown",
   "metadata": {}
  },
  {
   "cell_type": "code",
   "execution_count": 7,
   "metadata": {},
   "outputs": [
    {
     "output_type": "stream",
     "name": "stdout",
     "text": [
      "Given date string not likely a datetime\n"
     ]
    }
   ],
   "source": [
    "try:\n",
    "    pd.to_datetime(movies_df.release_date)\n",
    "except ValueError:\n",
    "    print('Given date string not likely a datetime')"
   ]
  },
  {
   "source": [
    "Al intentar convertir todos los elementos de release_date a datetime64 aparece el error de arriba. Esto ocurre porque al menos un valor de la columna no aparece en un formato que la librería de pandas pueda convertir al tipo datetime64.  \n",
    "Debemos indentificar estos elementos:"
   ],
   "cell_type": "markdown",
   "metadata": {}
  },
  {
   "cell_type": "code",
   "execution_count": 8,
   "metadata": {},
   "outputs": [],
   "source": [
    "def not_a_datetime_detector(date_column):\n",
    "    l = []\n",
    "    for i, it in enumerate(date_column):\n",
    "        try:\n",
    "            pd.to_datetime(it)\n",
    "        except:\n",
    "            l.append(i)\n",
    "    print(l)\n",
    "    return l"
   ]
  },
  {
   "cell_type": "code",
   "execution_count": 9,
   "metadata": {},
   "outputs": [
    {
     "output_type": "stream",
     "name": "stdout",
     "text": [
      "[19730, 29503, 35587]\n"
     ]
    }
   ],
   "source": [
    "not_a_date_list = not_a_datetime_detector(date_column=movies_df.release_date)"
   ]
  },
  {
   "cell_type": "code",
   "execution_count": 10,
   "metadata": {},
   "outputs": [
    {
     "output_type": "execute_result",
     "data": {
      "text/plain": [
       "      title release_date original_language  \\\n",
       "19730   NaN            1             104.0   \n",
       "29503   NaN           12              68.0   \n",
       "35587   NaN           22              82.0   \n",
       "\n",
       "                                                  genres  \\\n",
       "19730  [{'name': 'Carousel Productions', 'id': 11176}...   \n",
       "29503  [{'name': 'Aniplex', 'id': 2883}, {'name': 'Go...   \n",
       "35587  [{'name': 'Odyssey Media', 'id': 17161}, {'nam...   \n",
       "\n",
       "                                 budget  revenue production_countries  \\\n",
       "19730  /ff9qCepilowshEtG2GYWwzt2bs4.jpg      NaN                  6.0   \n",
       "29503  /zV8bHuSL6WXoD6FWogP9j4x80bL.jpg      NaN                  7.0   \n",
       "35587  /zaSf5OG7V8X8gqFvly88zDdRm46.jpg      NaN                  4.3   \n",
       "\n",
       "      production_companies  runtime  vote_average  vote_count  \n",
       "19730                False      NaN           NaN         NaN  \n",
       "29503                False      NaN           NaN         NaN  \n",
       "35587                False      NaN           NaN         NaN  "
      ],
      "text/html": "<div>\n<style scoped>\n    .dataframe tbody tr th:only-of-type {\n        vertical-align: middle;\n    }\n\n    .dataframe tbody tr th {\n        vertical-align: top;\n    }\n\n    .dataframe thead th {\n        text-align: right;\n    }\n</style>\n<table border=\"1\" class=\"dataframe\">\n  <thead>\n    <tr style=\"text-align: right;\">\n      <th></th>\n      <th>title</th>\n      <th>release_date</th>\n      <th>original_language</th>\n      <th>genres</th>\n      <th>budget</th>\n      <th>revenue</th>\n      <th>production_countries</th>\n      <th>production_companies</th>\n      <th>runtime</th>\n      <th>vote_average</th>\n      <th>vote_count</th>\n    </tr>\n  </thead>\n  <tbody>\n    <tr>\n      <th>19730</th>\n      <td>NaN</td>\n      <td>1</td>\n      <td>104.0</td>\n      <td>[{'name': 'Carousel Productions', 'id': 11176}...</td>\n      <td>/ff9qCepilowshEtG2GYWwzt2bs4.jpg</td>\n      <td>NaN</td>\n      <td>6.0</td>\n      <td>False</td>\n      <td>NaN</td>\n      <td>NaN</td>\n      <td>NaN</td>\n    </tr>\n    <tr>\n      <th>29503</th>\n      <td>NaN</td>\n      <td>12</td>\n      <td>68.0</td>\n      <td>[{'name': 'Aniplex', 'id': 2883}, {'name': 'Go...</td>\n      <td>/zV8bHuSL6WXoD6FWogP9j4x80bL.jpg</td>\n      <td>NaN</td>\n      <td>7.0</td>\n      <td>False</td>\n      <td>NaN</td>\n      <td>NaN</td>\n      <td>NaN</td>\n    </tr>\n    <tr>\n      <th>35587</th>\n      <td>NaN</td>\n      <td>22</td>\n      <td>82.0</td>\n      <td>[{'name': 'Odyssey Media', 'id': 17161}, {'nam...</td>\n      <td>/zaSf5OG7V8X8gqFvly88zDdRm46.jpg</td>\n      <td>NaN</td>\n      <td>4.3</td>\n      <td>False</td>\n      <td>NaN</td>\n      <td>NaN</td>\n      <td>NaN</td>\n    </tr>\n  </tbody>\n</table>\n</div>"
     },
     "metadata": {},
     "execution_count": 10
    }
   ],
   "source": [
    "movies_df.iloc[not_a_date_list]"
   ]
  },
  {
   "source": [
    "Observando los datos para estos elementos, parece razonable eliminarlos del dataset ya que tienen muchos otros datos vacíos y no aportarán utilidad al estudio"
   ],
   "cell_type": "markdown",
   "metadata": {}
  },
  {
   "cell_type": "code",
   "execution_count": 11,
   "metadata": {},
   "outputs": [],
   "source": [
    "movies_df = movies_df.drop(not_a_date_list)"
   ]
  },
  {
   "cell_type": "code",
   "execution_count": 12,
   "metadata": {},
   "outputs": [],
   "source": [
    "movies_df = movies_df.reset_index(drop=True)"
   ]
  },
  {
   "cell_type": "code",
   "execution_count": 179,
   "metadata": {},
   "outputs": [
    {
     "output_type": "execute_result",
     "data": {
      "text/plain": [
       "0       1995-10-30\n",
       "1       1995-12-15\n",
       "2       1995-12-22\n",
       "3       1995-12-22\n",
       "4       1995-02-10\n",
       "           ...    \n",
       "45458          NaT\n",
       "45459   2011-11-17\n",
       "45460   2003-08-01\n",
       "45461   1917-10-21\n",
       "45462   2017-06-09\n",
       "Name: release_date, Length: 45463, dtype: datetime64[ns]"
      ]
     },
     "metadata": {},
     "execution_count": 179
    }
   ],
   "source": [
    "movies_df.release_date = pd.to_datetime(movies_df.release_date)\n",
    "movies_df.release_date"
   ]
  },
  {
   "source": [
    "### Budget to numerical values"
   ],
   "cell_type": "markdown",
   "metadata": {}
  },
  {
   "cell_type": "code",
   "execution_count": 14,
   "metadata": {},
   "outputs": [],
   "source": [
    "movies_df.budget = pd.to_numeric(movies_df.budget)"
   ]
  },
  {
   "source": [
    "## Data wrangling"
   ],
   "cell_type": "markdown",
   "metadata": {}
  },
  {
   "cell_type": "code",
   "execution_count": 15,
   "metadata": {},
   "outputs": [],
   "source": [
    "import json"
   ]
  },
  {
   "source": [
    "### - genres"
   ],
   "cell_type": "markdown",
   "metadata": {}
  },
  {
   "source": [
    "Las columnas genres, production_companies y production_countries tienen los datos en una forma en la que no es posible acceder a ellos. Es necesario minar estos datos.\n",
    "\n",
    "A través de la librería json transformamos la información de las columnas que estén en este formato (como si fuera un 'str') de forma que se reconozcan los objetos de python, por ejemplo: listas, diccionarios, etc. "
   ],
   "cell_type": "markdown",
   "metadata": {}
  },
  {
   "cell_type": "code",
   "execution_count": 16,
   "metadata": {},
   "outputs": [],
   "source": [
    "movies_df.genres = movies_df.genres.str.replace(\"\\'\", \"\\\"\") #Si no se reemplazan '' por \"\", python no lo                                                                      reconoce como un archivo json\n",
    "\n",
    "movies_df.genres = movies_df.genres.apply(json.loads)   #cada elemento de la columna es legible por python ahora"
   ]
  },
  {
   "source": [
    "Vamos a agrupar los generos de cada película en listas:"
   ],
   "cell_type": "markdown",
   "metadata": {}
  },
  {
   "cell_type": "code",
   "execution_count": 17,
   "metadata": {},
   "outputs": [
    {
     "output_type": "stream",
     "name": "stdout",
     "text": [
      "Número de géros distintos ---> 20\n Todos los generos del dataset:\n {'Mystery', 'Documentary', 'TV Movie', 'Western', 'Crime', 'History', 'Family', 'Animation', 'Drama', 'Music', 'Adventure', 'Thriller', 'Science Fiction', 'Fantasy', 'Comedy', 'Horror', 'Foreign', 'Romance', 'War', 'Action'}\n"
     ]
    },
    {
     "output_type": "execute_result",
     "data": {
      "text/plain": [
       "                             Genres\n",
       "0       [Animation, Comedy, Family]\n",
       "1      [Adventure, Fantasy, Family]\n",
       "2                 [Romance, Comedy]\n",
       "3          [Comedy, Drama, Romance]\n",
       "4                          [Comedy]\n",
       "...                             ...\n",
       "45458               [Drama, Family]\n",
       "45459                       [Drama]\n",
       "45460     [Action, Drama, Thriller]\n",
       "45461                            []\n",
       "45462                            []\n",
       "\n",
       "[45463 rows x 1 columns]"
      ],
      "text/html": "<div>\n<style scoped>\n    .dataframe tbody tr th:only-of-type {\n        vertical-align: middle;\n    }\n\n    .dataframe tbody tr th {\n        vertical-align: top;\n    }\n\n    .dataframe thead th {\n        text-align: right;\n    }\n</style>\n<table border=\"1\" class=\"dataframe\">\n  <thead>\n    <tr style=\"text-align: right;\">\n      <th></th>\n      <th>Genres</th>\n    </tr>\n  </thead>\n  <tbody>\n    <tr>\n      <th>0</th>\n      <td>[Animation, Comedy, Family]</td>\n    </tr>\n    <tr>\n      <th>1</th>\n      <td>[Adventure, Fantasy, Family]</td>\n    </tr>\n    <tr>\n      <th>2</th>\n      <td>[Romance, Comedy]</td>\n    </tr>\n    <tr>\n      <th>3</th>\n      <td>[Comedy, Drama, Romance]</td>\n    </tr>\n    <tr>\n      <th>4</th>\n      <td>[Comedy]</td>\n    </tr>\n    <tr>\n      <th>...</th>\n      <td>...</td>\n    </tr>\n    <tr>\n      <th>45458</th>\n      <td>[Drama, Family]</td>\n    </tr>\n    <tr>\n      <th>45459</th>\n      <td>[Drama]</td>\n    </tr>\n    <tr>\n      <th>45460</th>\n      <td>[Action, Drama, Thriller]</td>\n    </tr>\n    <tr>\n      <th>45461</th>\n      <td>[]</td>\n    </tr>\n    <tr>\n      <th>45462</th>\n      <td>[]</td>\n    </tr>\n  </tbody>\n</table>\n<p>45463 rows × 1 columns</p>\n</div>"
     },
     "metadata": {},
     "execution_count": 17
    }
   ],
   "source": [
    "generos = set({})\n",
    "\n",
    "for i, element in enumerate(movies_df.genres):\n",
    "    genre_list = []\n",
    "    for dictio in element:\n",
    "        genre_list.append(dictio['name'])\n",
    "        generos.add(dictio['name'])\n",
    "    if i == 0:\n",
    "        genres_dictio = {i: [genre_list]}\n",
    "    else:\n",
    "        genres_dictio[i] = [genre_list]\n",
    "  \n",
    "print(f'Número de géros distintos ---> {len(generos)}\\n', 'Todos los generos del dataset:\\n', generos)\n",
    "genre_df = pd.DataFrame.from_dict(genres_dictio, orient='index', columns=['Genres'])\n",
    "genre_df"
   ]
  },
  {
   "source": [
    "Sustiuimos la columna original de nuestro dataset por la que se ha generado:"
   ],
   "cell_type": "markdown",
   "metadata": {}
  },
  {
   "cell_type": "code",
   "execution_count": 18,
   "metadata": {},
   "outputs": [],
   "source": [
    "movies_df['genres'] = genre_df"
   ]
  },
  {
   "source": [
    "Puede ser de utilidad crear un dataframe de la columna genres expandida, de forma que todos los generos correspondan a las columnas:"
   ],
   "cell_type": "markdown",
   "metadata": {}
  },
  {
   "source": [
    "        -se crea un dataframe de una columna compuesta por diccionarios donde la clave y el valor\n",
    "         corresponden a los generos de cada película"
   ],
   "cell_type": "markdown",
   "metadata": {}
  },
  {
   "cell_type": "code",
   "execution_count": 19,
   "metadata": {},
   "outputs": [
    {
     "output_type": "execute_result",
     "data": {
      "text/plain": [
       "                                              Genres\n",
       "0  {'Animation': 'Animation', 'Comedy': 'Comedy',...\n",
       "1  {'Adventure': 'Adventure', 'Fantasy': 'Fantasy...\n",
       "2         {'Romance': 'Romance', 'Comedy': 'Comedy'}"
      ],
      "text/html": "<div>\n<style scoped>\n    .dataframe tbody tr th:only-of-type {\n        vertical-align: middle;\n    }\n\n    .dataframe tbody tr th {\n        vertical-align: top;\n    }\n\n    .dataframe thead th {\n        text-align: right;\n    }\n</style>\n<table border=\"1\" class=\"dataframe\">\n  <thead>\n    <tr style=\"text-align: right;\">\n      <th></th>\n      <th>Genres</th>\n    </tr>\n  </thead>\n  <tbody>\n    <tr>\n      <th>0</th>\n      <td>{'Animation': 'Animation', 'Comedy': 'Comedy',...</td>\n    </tr>\n    <tr>\n      <th>1</th>\n      <td>{'Adventure': 'Adventure', 'Fantasy': 'Fantasy...</td>\n    </tr>\n    <tr>\n      <th>2</th>\n      <td>{'Romance': 'Romance', 'Comedy': 'Comedy'}</td>\n    </tr>\n  </tbody>\n</table>\n</div>"
     },
     "metadata": {},
     "execution_count": 19
    }
   ],
   "source": [
    "genres_df_dict = pd.DataFrame.from_dict(genre_df.Genres.apply(lambda x: {gen : gen for gen in x}))\n",
    "genres_df_dict.head(3)"
   ]
  },
  {
   "source": [
    "        -a partir de este dataframe generamos el dataframe expandido donde cada columna representa uno \n",
    "         de los 20 géneros de nuestro dataset original"
   ],
   "cell_type": "markdown",
   "metadata": {}
  },
  {
   "cell_type": "code",
   "execution_count": 20,
   "metadata": {},
   "outputs": [],
   "source": [
    "genre_df_expanded = pd.DataFrame(dict([ (k,pd.Series(v)) for k,v in genres_df_dict.Genres.items() ])).transpose()"
   ]
  },
  {
   "cell_type": "code",
   "execution_count": 21,
   "metadata": {},
   "outputs": [
    {
     "output_type": "execute_result",
     "data": {
      "text/plain": [
       "  Action  Adventure  Animation  Comedy Crime Documentary  Drama  Family  \\\n",
       "0    NaN        NaN  Animation  Comedy   NaN         NaN    NaN  Family   \n",
       "1    NaN  Adventure        NaN     NaN   NaN         NaN    NaN  Family   \n",
       "2    NaN        NaN        NaN  Comedy   NaN         NaN    NaN     NaN   \n",
       "3    NaN        NaN        NaN  Comedy   NaN         NaN  Drama     NaN   \n",
       "4    NaN        NaN        NaN  Comedy   NaN         NaN    NaN     NaN   \n",
       "\n",
       "   Fantasy Foreign History Horror Music Mystery  Romance Science Fiction  \\\n",
       "0      NaN     NaN     NaN    NaN   NaN     NaN      NaN             NaN   \n",
       "1  Fantasy     NaN     NaN    NaN   NaN     NaN      NaN             NaN   \n",
       "2      NaN     NaN     NaN    NaN   NaN     NaN  Romance             NaN   \n",
       "3      NaN     NaN     NaN    NaN   NaN     NaN  Romance             NaN   \n",
       "4      NaN     NaN     NaN    NaN   NaN     NaN      NaN             NaN   \n",
       "\n",
       "  TV Movie Thriller  War Western  \n",
       "0      NaN      NaN  NaN     NaN  \n",
       "1      NaN      NaN  NaN     NaN  \n",
       "2      NaN      NaN  NaN     NaN  \n",
       "3      NaN      NaN  NaN     NaN  \n",
       "4      NaN      NaN  NaN     NaN  "
      ],
      "text/html": "<div>\n<style scoped>\n    .dataframe tbody tr th:only-of-type {\n        vertical-align: middle;\n    }\n\n    .dataframe tbody tr th {\n        vertical-align: top;\n    }\n\n    .dataframe thead th {\n        text-align: right;\n    }\n</style>\n<table border=\"1\" class=\"dataframe\">\n  <thead>\n    <tr style=\"text-align: right;\">\n      <th></th>\n      <th>Action</th>\n      <th>Adventure</th>\n      <th>Animation</th>\n      <th>Comedy</th>\n      <th>Crime</th>\n      <th>Documentary</th>\n      <th>Drama</th>\n      <th>Family</th>\n      <th>Fantasy</th>\n      <th>Foreign</th>\n      <th>History</th>\n      <th>Horror</th>\n      <th>Music</th>\n      <th>Mystery</th>\n      <th>Romance</th>\n      <th>Science Fiction</th>\n      <th>TV Movie</th>\n      <th>Thriller</th>\n      <th>War</th>\n      <th>Western</th>\n    </tr>\n  </thead>\n  <tbody>\n    <tr>\n      <th>0</th>\n      <td>NaN</td>\n      <td>NaN</td>\n      <td>Animation</td>\n      <td>Comedy</td>\n      <td>NaN</td>\n      <td>NaN</td>\n      <td>NaN</td>\n      <td>Family</td>\n      <td>NaN</td>\n      <td>NaN</td>\n      <td>NaN</td>\n      <td>NaN</td>\n      <td>NaN</td>\n      <td>NaN</td>\n      <td>NaN</td>\n      <td>NaN</td>\n      <td>NaN</td>\n      <td>NaN</td>\n      <td>NaN</td>\n      <td>NaN</td>\n    </tr>\n    <tr>\n      <th>1</th>\n      <td>NaN</td>\n      <td>Adventure</td>\n      <td>NaN</td>\n      <td>NaN</td>\n      <td>NaN</td>\n      <td>NaN</td>\n      <td>NaN</td>\n      <td>Family</td>\n      <td>Fantasy</td>\n      <td>NaN</td>\n      <td>NaN</td>\n      <td>NaN</td>\n      <td>NaN</td>\n      <td>NaN</td>\n      <td>NaN</td>\n      <td>NaN</td>\n      <td>NaN</td>\n      <td>NaN</td>\n      <td>NaN</td>\n      <td>NaN</td>\n    </tr>\n    <tr>\n      <th>2</th>\n      <td>NaN</td>\n      <td>NaN</td>\n      <td>NaN</td>\n      <td>Comedy</td>\n      <td>NaN</td>\n      <td>NaN</td>\n      <td>NaN</td>\n      <td>NaN</td>\n      <td>NaN</td>\n      <td>NaN</td>\n      <td>NaN</td>\n      <td>NaN</td>\n      <td>NaN</td>\n      <td>NaN</td>\n      <td>Romance</td>\n      <td>NaN</td>\n      <td>NaN</td>\n      <td>NaN</td>\n      <td>NaN</td>\n      <td>NaN</td>\n    </tr>\n    <tr>\n      <th>3</th>\n      <td>NaN</td>\n      <td>NaN</td>\n      <td>NaN</td>\n      <td>Comedy</td>\n      <td>NaN</td>\n      <td>NaN</td>\n      <td>Drama</td>\n      <td>NaN</td>\n      <td>NaN</td>\n      <td>NaN</td>\n      <td>NaN</td>\n      <td>NaN</td>\n      <td>NaN</td>\n      <td>NaN</td>\n      <td>Romance</td>\n      <td>NaN</td>\n      <td>NaN</td>\n      <td>NaN</td>\n      <td>NaN</td>\n      <td>NaN</td>\n    </tr>\n    <tr>\n      <th>4</th>\n      <td>NaN</td>\n      <td>NaN</td>\n      <td>NaN</td>\n      <td>Comedy</td>\n      <td>NaN</td>\n      <td>NaN</td>\n      <td>NaN</td>\n      <td>NaN</td>\n      <td>NaN</td>\n      <td>NaN</td>\n      <td>NaN</td>\n      <td>NaN</td>\n      <td>NaN</td>\n      <td>NaN</td>\n      <td>NaN</td>\n      <td>NaN</td>\n      <td>NaN</td>\n      <td>NaN</td>\n      <td>NaN</td>\n      <td>NaN</td>\n    </tr>\n  </tbody>\n</table>\n</div>"
     },
     "metadata": {},
     "execution_count": 21
    }
   ],
   "source": [
    "genre_df_expanded.head()"
   ]
  },
  {
   "source": [
    "print(list(genre_df_expanded.count()))"
   ],
   "cell_type": "code",
   "metadata": {},
   "execution_count": 22,
   "outputs": [
    {
     "output_type": "stream",
     "name": "stdout",
     "text": [
      "[6596, 3496, 1935, 13182, 4307, 3932, 20265, 2770, 2313, 1622, 1398, 4673, 1598, 2467, 6735, 3049, 767, 7624, 1323, 1042]\n"
     ]
    }
   ]
  },
  {
   "source": [
    "### - production_countries"
   ],
   "cell_type": "markdown",
   "metadata": {}
  },
  {
   "cell_type": "code",
   "execution_count": 23,
   "metadata": {},
   "outputs": [
    {
     "output_type": "stream",
     "name": "stdout",
     "text": [
      "[4321, 6954, 19729, 23273, 29501, 30433, 35584, 39705]\n"
     ]
    }
   ],
   "source": [
    "x = movies_df.production_countries.str.replace(\"\\'\", \"\\\"\")\n",
    "s = pd.Series()\n",
    "l = []\n",
    "\n",
    "for el in range(0,len(movies_df)):\n",
    "    try:\n",
    "        a = json.loads(x[el])\n",
    "        a = pd.Series(a)\n",
    "        s = s.append(a, ignore_index=True)\n",
    "    except:\n",
    "        l.append(el)\n",
    "\n",
    "print(l)"
   ]
  },
  {
   "cell_type": "code",
   "execution_count": 24,
   "metadata": {},
   "outputs": [],
   "source": [
    "import re"
   ]
  },
  {
   "cell_type": "code",
   "execution_count": 25,
   "metadata": {},
   "outputs": [
    {
     "output_type": "execute_result",
     "data": {
      "text/plain": [
       "0        [{\"iso_3166_1\": \"US\", \"name\": \"United States o...\n",
       "1        [{\"iso_3166_1\": \"US\", \"name\": \"United States o...\n",
       "2        [{\"iso_3166_1\": \"US\", \"name\": \"United States o...\n",
       "3        [{\"iso_3166_1\": \"US\", \"name\": \"United States o...\n",
       "4        [{\"iso_3166_1\": \"US\", \"name\": \"United States o...\n",
       "                               ...                        \n",
       "45458               [{\"iso_3166_1\": \"IR\", \"name\": \"Iran\"}]\n",
       "45459        [{\"iso_3166_1\": \"PH\", \"name\": \"Philippines\"}]\n",
       "45460    [{\"iso_3166_1\": \"US\", \"name\": \"United States o...\n",
       "45461             [{\"iso_3166_1\": \"RU\", \"name\": \"Russia\"}]\n",
       "45462     [{\"iso_3166_1\": \"GB\", \"name\": \"United Kingdom\"}]\n",
       "Name: production_countries, Length: 45463, dtype: object"
      ]
     },
     "metadata": {},
     "execution_count": 25
    }
   ],
   "source": [
    "for er in l:\n",
    "    if type(x[er]) == float:\n",
    "        x[er] = \"[]\"\n",
    "    else:\n",
    "        a = re.sub(r'(?<=[^{, :])\"(?=[^,:}])',\" \",x[er])\n",
    "        x[er] = a\n",
    "\n",
    "x"
   ]
  },
  {
   "cell_type": "code",
   "execution_count": 26,
   "metadata": {},
   "outputs": [
    {
     "output_type": "execute_result",
     "data": {
      "text/plain": [
       "4321     [{\"iso_3166_1\": \"CI\", \"name\": \"Cote D Ivoire\"}...\n",
       "6954     [{\"iso_3166_1\": \"CI\", \"name\": \"Cote D Ivoire\"}...\n",
       "19729                                                   []\n",
       "23273    [{\"iso_3166_1\": \"AU\", \"name\": \"Australia\"}, {\"...\n",
       "29501                                                   []\n",
       "30433    [{\"iso_3166_1\": \"LA\", \"name\": \"Lao People s De...\n",
       "35584                                                   []\n",
       "39705    [{\"iso_3166_1\": \"CA\", \"name\": \"Canada\"}, {\"iso...\n",
       "Name: production_countries, dtype: object"
      ]
     },
     "metadata": {},
     "execution_count": 26
    }
   ],
   "source": [
    "x[l]"
   ]
  },
  {
   "cell_type": "code",
   "execution_count": 28,
   "metadata": {},
   "outputs": [
    {
     "output_type": "execute_result",
     "data": {
      "text/plain": [
       "             production_countries\n",
       "0      [United States of America]\n",
       "1      [United States of America]\n",
       "2      [United States of America]\n",
       "3      [United States of America]\n",
       "4      [United States of America]\n",
       "...                           ...\n",
       "45458                      [Iran]\n",
       "45459               [Philippines]\n",
       "45460  [United States of America]\n",
       "45461                    [Russia]\n",
       "45462            [United Kingdom]\n",
       "\n",
       "[45463 rows x 1 columns]"
      ],
      "text/html": "<div>\n<style scoped>\n    .dataframe tbody tr th:only-of-type {\n        vertical-align: middle;\n    }\n\n    .dataframe tbody tr th {\n        vertical-align: top;\n    }\n\n    .dataframe thead th {\n        text-align: right;\n    }\n</style>\n<table border=\"1\" class=\"dataframe\">\n  <thead>\n    <tr style=\"text-align: right;\">\n      <th></th>\n      <th>production_countries</th>\n    </tr>\n  </thead>\n  <tbody>\n    <tr>\n      <th>0</th>\n      <td>[United States of America]</td>\n    </tr>\n    <tr>\n      <th>1</th>\n      <td>[United States of America]</td>\n    </tr>\n    <tr>\n      <th>2</th>\n      <td>[United States of America]</td>\n    </tr>\n    <tr>\n      <th>3</th>\n      <td>[United States of America]</td>\n    </tr>\n    <tr>\n      <th>4</th>\n      <td>[United States of America]</td>\n    </tr>\n    <tr>\n      <th>...</th>\n      <td>...</td>\n    </tr>\n    <tr>\n      <th>45458</th>\n      <td>[Iran]</td>\n    </tr>\n    <tr>\n      <th>45459</th>\n      <td>[Philippines]</td>\n    </tr>\n    <tr>\n      <th>45460</th>\n      <td>[United States of America]</td>\n    </tr>\n    <tr>\n      <th>45461</th>\n      <td>[Russia]</td>\n    </tr>\n    <tr>\n      <th>45462</th>\n      <td>[United Kingdom]</td>\n    </tr>\n  </tbody>\n</table>\n<p>45463 rows × 1 columns</p>\n</div>"
     },
     "metadata": {},
     "execution_count": 28
    }
   ],
   "source": [
    "serie = movies_df.production_countries\n",
    "serie = serie.apply(json.loads)\n",
    "use_key = \"name\"\n",
    "\n",
    "uniq_vals = set({})\n",
    "\n",
    "for i, element in enumerate(serie):\n",
    "    val_list = []\n",
    "    for dictio in element:\n",
    "        val_list.append(dictio[use_key])\n",
    "        uniq_vals.add(dictio[use_key])\n",
    "    if i == 0:\n",
    "        serie_dictio = {i: [val_list]}\n",
    "    else:\n",
    "        serie_dictio[i] = [val_list]\n",
    "\n",
    "serie_df = pd.DataFrame.from_dict(serie_dictio, orient='index', columns=[serie.name])\n",
    "serie_df"
   ]
  },
  {
   "cell_type": "code",
   "execution_count": 64,
   "metadata": {},
   "outputs": [],
   "source": [
    "def json_prep(serie):\n",
    "    ''' \n",
    "    Return a pd.Series object with json elements as a pd.Series with python elements\n",
    "    '''\n",
    "    try: \n",
    "        #If '' aren't replaced for \"\", python won't recognise the json file  \n",
    "        serie = serie.str.replace(\"\\'\", \"\\\"\")\n",
    "\n",
    "        #now every element of the series is legible by python   \n",
    "        serie = serie.apply(json.loads)                  \n",
    "        return serie\n",
    "    except:\n",
    "        #print(error)\n",
    "        safe_word = input('Try to fix errors?(Yes/No):')\n",
    "        if safe_word == 'No':\n",
    "            return\n",
    "        else:\n",
    "            serie = serie.str.replace(\"\\'\", \"\\\"\")\n",
    "            s = pd.Series()\n",
    "            l = []\n",
    "\n",
    "            for el in range(0,len(serie)):\n",
    "                try:\n",
    "                    a = json.loads(serie[el])\n",
    "                    #a = pd.Series(a)\n",
    "                    #s = s.append(a, ignore_index=True)\n",
    "                except:\n",
    "                    l.append(el)\n",
    "\n",
    "            print('errors column positions:',l)\n",
    "\n",
    "            for er in l:\n",
    "                if type(serie[er]) != str:\n",
    "                    serie[er] = \"[]\"\n",
    "                else:\n",
    "                    a = re.sub(r'(?<=[^{, :])\"(?=[^,:}])',\" \",serie[er])\n",
    "                    serie[er] = a\n",
    "\n",
    "            return json_prep(serie)"
   ]
  },
  {
   "cell_type": "code",
   "execution_count": 54,
   "metadata": {},
   "outputs": [],
   "source": [
    "def series_dict_to_series_list(serie, use_key, inplace=False):\n",
    "    '''\n",
    "    Args:\n",
    "        serie (pd.Series)\n",
    "        use_key (str): key name to select from series' dicts\n",
    "        inplace (bool): bool to indicate if serie is to be replaced by the new series\n",
    "\n",
    "\n",
    "    From serie (pd.Series of dicts) return the useful information from the dict (use_key) as in list form \n",
    "    '''\n",
    "    serie = json_prep(serie)\n",
    "\n",
    "    uniq_vals = set({})\n",
    "\n",
    "    for i, element in enumerate(serie):\n",
    "        val_list = []\n",
    "        for dictio in element:\n",
    "            val_list.append(dictio[use_key])\n",
    "            uniq_vals.add(dictio[use_key])\n",
    "        if i == 0:\n",
    "            serie_dictio = {i: [val_list]}\n",
    "        else:\n",
    "            serie_dictio[i] = [val_list]\n",
    "\n",
    "    print(f'Número de elemenos únicos ---> {len(uniq_vals)}\\n', 'Todos los elementos únicos de la columna:\\n',         uniq_vals)\n",
    "    serie_df = pd.DataFrame.from_dict(serie_dictio, orient='index', columns=[serie.name])\n",
    "    return serie_df\n",
    "    \n",
    "    #Quizás funcione con calses\n",
    "    '''if inplace == True:\n",
    "        serie = serie_df\n",
    "    else:\n",
    "        return serie_df'''"
   ]
  },
  {
   "source": [
    "Habiendo hecho e estudio de los datos y definido funciones que podremos reutilizar, preparamos la columna production_countries para representarla de una manera conveniente"
   ],
   "cell_type": "markdown",
   "metadata": {}
  },
  {
   "cell_type": "code",
   "execution_count": 139,
   "metadata": {},
   "outputs": [
    {
     "output_type": "stream",
     "name": "stdout",
     "text": [
      "Número de elemenos únicos ---> 160\n Todos los elementos únicos de la columna:\n {'Germany', 'Philippines', 'Luxembourg', 'Indonesia', 'Latvia', 'Italy', 'Zimbabwe', 'Georgia', 'Thailand', 'Costa Rica', 'Israel', 'Burkina Faso', 'Jordan', 'French Southern Territories', 'Brunei Darussalam', 'Bahamas', 'Nicaragua', 'Serbia', 'Taiwan', 'Honduras', 'Nigeria', 'Bulgaria', 'Turkey', 'Panama', 'Nepal', 'Cameroon', 'Libyan Arab Jamahiriya', 'Tanzania', 'France', 'North Korea', 'Vietnam', 'Estonia', 'Afghanistan', 'Kenya', 'Trinidad and Tobago', 'Kuwait', 'Serbia and Montenegro', 'Bermuda', 'Ecuador', 'Croatia', 'Mauritania', 'Saudi Arabia', 'Sri Lanka', 'Slovenia', 'Dominican Republic', 'Australia', 'El Salvador', 'Puerto Rico', 'Brazil', 'Liberia', 'Angola', 'Congo', 'Qatar', 'Albania', 'Malaysia', 'Finland', 'Rwanda', 'Cayman Islands', 'India', 'Belarus', 'Ireland', 'South Korea', 'Yugoslavia', 'Uganda', 'Macao', 'Poland', 'Guinea', 'Austria', 'Soviet Union', 'Norway', 'Canada', 'Argentina', 'Mexico', 'Colombia', 'Armenia', 'Somalia', 'Papua New Guinea', 'Iran', 'Sweden', 'Barbados', 'Palestinian Territory', 'Spain', 'Lebanon', 'Uruguay', 'United Arab Emirates', 'East Germany', 'Botswana', 'Switzerland', 'Chile', 'Senegal', 'Russia', 'Venezuela', 'Singapore', 'Madagascar', 'Cote D Ivoire', 'Monaco', 'South Africa', 'Bhutan', 'Bolivia', 'Mali', 'Kyrgyz Republic', 'Gibraltar', 'Tunisia', 'Czech Republic', 'Syrian Arab Republic', 'Moldova', 'Lithuania', 'Martinique', 'Chad', 'Denmark', 'Hong Kong', 'Aruba', 'Malta', 'United Kingdom', 'Jamaica', 'Paraguay', 'Namibia', 'Portugal', 'Morocco', 'Slovakia', 'China', 'Peru', 'United States Minor Outlying Islands', 'Kazakhstan', 'Ethiopia', 'Lao People s Democratic Republic', 'Cambodia', 'Guatemala', 'Antarctica', 'Mongolia', 'Czechoslovakia', 'Iraq', 'Egypt', 'Japan', 'Samoa', 'Netherlands Antilles', 'Greece', 'Belgium', 'Pakistan', 'Uzbekistan', 'Algeria', 'New Zealand', 'Montenegro', 'Ukraine', 'Iceland', 'French Polynesia', 'Romania', 'Cyprus', 'Liechtenstein', 'Myanmar', 'Tajikistan', 'Ghana', 'Netherlands', 'Azerbaijan', 'United States of America', 'Bosnia and Herzegovina', 'Macedonia', 'Hungary', 'Cuba', 'Bangladesh'}\n"
     ]
    },
    {
     "output_type": "execute_result",
     "data": {
      "text/plain": [
       "                             title release_date original_language  \\\n",
       "0                        Toy Story   1995-10-30                en   \n",
       "1                          Jumanji   1995-12-15                en   \n",
       "2                 Grumpier Old Men   1995-12-22                en   \n",
       "3                Waiting to Exhale   1995-12-22                en   \n",
       "4      Father of the Bride Part II   1995-02-10                en   \n",
       "...                            ...          ...               ...   \n",
       "45458                       Subdue          NaT                fa   \n",
       "45459          Century of Birthing   2011-11-17                tl   \n",
       "45460                     Betrayal   2003-08-01                en   \n",
       "45461             Satan Triumphant   1917-10-21                en   \n",
       "45462                     Queerama   2017-06-09                en   \n",
       "\n",
       "                             genres    budget      revenue  \\\n",
       "0       [Animation, Comedy, Family]  30000000  373554033.0   \n",
       "1      [Adventure, Fantasy, Family]  65000000  262797249.0   \n",
       "2                 [Romance, Comedy]         0          0.0   \n",
       "3          [Comedy, Drama, Romance]  16000000   81452156.0   \n",
       "4                          [Comedy]         0   76578911.0   \n",
       "...                             ...       ...          ...   \n",
       "45458               [Drama, Family]         0          0.0   \n",
       "45459                       [Drama]         0          0.0   \n",
       "45460     [Action, Drama, Thriller]         0          0.0   \n",
       "45461                            []         0          0.0   \n",
       "45462                            []         0          0.0   \n",
       "\n",
       "             production_countries  \\\n",
       "0      [United States of America]   \n",
       "1      [United States of America]   \n",
       "2      [United States of America]   \n",
       "3      [United States of America]   \n",
       "4      [United States of America]   \n",
       "...                           ...   \n",
       "45458                      [Iran]   \n",
       "45459               [Philippines]   \n",
       "45460  [United States of America]   \n",
       "45461                    [Russia]   \n",
       "45462            [United Kingdom]   \n",
       "\n",
       "                                    production_companies  runtime  \\\n",
       "0         [{'name': 'Pixar Animation Studios', 'id': 3}]     81.0   \n",
       "1      [{'name': 'TriStar Pictures', 'id': 559}, {'na...    104.0   \n",
       "2      [{'name': 'Warner Bros.', 'id': 6194}, {'name'...    101.0   \n",
       "3      [{'name': 'Twentieth Century Fox Film Corporat...    127.0   \n",
       "4      [{'name': 'Sandollar Productions', 'id': 5842}...    106.0   \n",
       "...                                                  ...      ...   \n",
       "45458                                                 []     90.0   \n",
       "45459             [{'name': 'Sine Olivia', 'id': 19653}]    360.0   \n",
       "45460  [{'name': 'American World Pictures', 'id': 6165}]     90.0   \n",
       "45461               [{'name': 'Yermoliev', 'id': 88753}]     87.0   \n",
       "45462                                                 []     75.0   \n",
       "\n",
       "       vote_average  vote_count  \n",
       "0               7.7      5415.0  \n",
       "1               6.9      2413.0  \n",
       "2               6.5        92.0  \n",
       "3               6.1        34.0  \n",
       "4               5.7       173.0  \n",
       "...             ...         ...  \n",
       "45458           4.0         1.0  \n",
       "45459           9.0         3.0  \n",
       "45460           3.8         6.0  \n",
       "45461           0.0         0.0  \n",
       "45462           0.0         0.0  \n",
       "\n",
       "[45463 rows x 11 columns]"
      ],
      "text/html": "<div>\n<style scoped>\n    .dataframe tbody tr th:only-of-type {\n        vertical-align: middle;\n    }\n\n    .dataframe tbody tr th {\n        vertical-align: top;\n    }\n\n    .dataframe thead th {\n        text-align: right;\n    }\n</style>\n<table border=\"1\" class=\"dataframe\">\n  <thead>\n    <tr style=\"text-align: right;\">\n      <th></th>\n      <th>title</th>\n      <th>release_date</th>\n      <th>original_language</th>\n      <th>genres</th>\n      <th>budget</th>\n      <th>revenue</th>\n      <th>production_countries</th>\n      <th>production_companies</th>\n      <th>runtime</th>\n      <th>vote_average</th>\n      <th>vote_count</th>\n    </tr>\n  </thead>\n  <tbody>\n    <tr>\n      <th>0</th>\n      <td>Toy Story</td>\n      <td>1995-10-30</td>\n      <td>en</td>\n      <td>[Animation, Comedy, Family]</td>\n      <td>30000000</td>\n      <td>373554033.0</td>\n      <td>[United States of America]</td>\n      <td>[{'name': 'Pixar Animation Studios', 'id': 3}]</td>\n      <td>81.0</td>\n      <td>7.7</td>\n      <td>5415.0</td>\n    </tr>\n    <tr>\n      <th>1</th>\n      <td>Jumanji</td>\n      <td>1995-12-15</td>\n      <td>en</td>\n      <td>[Adventure, Fantasy, Family]</td>\n      <td>65000000</td>\n      <td>262797249.0</td>\n      <td>[United States of America]</td>\n      <td>[{'name': 'TriStar Pictures', 'id': 559}, {'na...</td>\n      <td>104.0</td>\n      <td>6.9</td>\n      <td>2413.0</td>\n    </tr>\n    <tr>\n      <th>2</th>\n      <td>Grumpier Old Men</td>\n      <td>1995-12-22</td>\n      <td>en</td>\n      <td>[Romance, Comedy]</td>\n      <td>0</td>\n      <td>0.0</td>\n      <td>[United States of America]</td>\n      <td>[{'name': 'Warner Bros.', 'id': 6194}, {'name'...</td>\n      <td>101.0</td>\n      <td>6.5</td>\n      <td>92.0</td>\n    </tr>\n    <tr>\n      <th>3</th>\n      <td>Waiting to Exhale</td>\n      <td>1995-12-22</td>\n      <td>en</td>\n      <td>[Comedy, Drama, Romance]</td>\n      <td>16000000</td>\n      <td>81452156.0</td>\n      <td>[United States of America]</td>\n      <td>[{'name': 'Twentieth Century Fox Film Corporat...</td>\n      <td>127.0</td>\n      <td>6.1</td>\n      <td>34.0</td>\n    </tr>\n    <tr>\n      <th>4</th>\n      <td>Father of the Bride Part II</td>\n      <td>1995-02-10</td>\n      <td>en</td>\n      <td>[Comedy]</td>\n      <td>0</td>\n      <td>76578911.0</td>\n      <td>[United States of America]</td>\n      <td>[{'name': 'Sandollar Productions', 'id': 5842}...</td>\n      <td>106.0</td>\n      <td>5.7</td>\n      <td>173.0</td>\n    </tr>\n    <tr>\n      <th>...</th>\n      <td>...</td>\n      <td>...</td>\n      <td>...</td>\n      <td>...</td>\n      <td>...</td>\n      <td>...</td>\n      <td>...</td>\n      <td>...</td>\n      <td>...</td>\n      <td>...</td>\n      <td>...</td>\n    </tr>\n    <tr>\n      <th>45458</th>\n      <td>Subdue</td>\n      <td>NaT</td>\n      <td>fa</td>\n      <td>[Drama, Family]</td>\n      <td>0</td>\n      <td>0.0</td>\n      <td>[Iran]</td>\n      <td>[]</td>\n      <td>90.0</td>\n      <td>4.0</td>\n      <td>1.0</td>\n    </tr>\n    <tr>\n      <th>45459</th>\n      <td>Century of Birthing</td>\n      <td>2011-11-17</td>\n      <td>tl</td>\n      <td>[Drama]</td>\n      <td>0</td>\n      <td>0.0</td>\n      <td>[Philippines]</td>\n      <td>[{'name': 'Sine Olivia', 'id': 19653}]</td>\n      <td>360.0</td>\n      <td>9.0</td>\n      <td>3.0</td>\n    </tr>\n    <tr>\n      <th>45460</th>\n      <td>Betrayal</td>\n      <td>2003-08-01</td>\n      <td>en</td>\n      <td>[Action, Drama, Thriller]</td>\n      <td>0</td>\n      <td>0.0</td>\n      <td>[United States of America]</td>\n      <td>[{'name': 'American World Pictures', 'id': 6165}]</td>\n      <td>90.0</td>\n      <td>3.8</td>\n      <td>6.0</td>\n    </tr>\n    <tr>\n      <th>45461</th>\n      <td>Satan Triumphant</td>\n      <td>1917-10-21</td>\n      <td>en</td>\n      <td>[]</td>\n      <td>0</td>\n      <td>0.0</td>\n      <td>[Russia]</td>\n      <td>[{'name': 'Yermoliev', 'id': 88753}]</td>\n      <td>87.0</td>\n      <td>0.0</td>\n      <td>0.0</td>\n    </tr>\n    <tr>\n      <th>45462</th>\n      <td>Queerama</td>\n      <td>2017-06-09</td>\n      <td>en</td>\n      <td>[]</td>\n      <td>0</td>\n      <td>0.0</td>\n      <td>[United Kingdom]</td>\n      <td>[]</td>\n      <td>75.0</td>\n      <td>0.0</td>\n      <td>0.0</td>\n    </tr>\n  </tbody>\n</table>\n<p>45463 rows × 11 columns</p>\n</div>"
     },
     "metadata": {},
     "execution_count": 139
    }
   ],
   "source": [
    "transit_df = series_dict_to_series_list(serie=movies_df.production_countries, use_key='name')\n",
    "movies_df.production_countries = transit_df\n",
    "movies_df"
   ]
  },
  {
   "source": [
    "Podemos expandir esta columna enun nuevo dataset"
   ],
   "cell_type": "markdown",
   "metadata": {}
  },
  {
   "cell_type": "code",
   "execution_count": 117,
   "metadata": {},
   "outputs": [],
   "source": [
    "def expand_df(serie):\n",
    "    # Creates column of dictionaries where key = values, from elements of lists in serie\n",
    "    serie_df = pd.DataFrame.from_dict(serie.apply(lambda x: {gen : gen for gen in x}))\n",
    "    # Creates dataframe with columns equal to unique values of serie\n",
    "    serie_expanded = pd.DataFrame(dict([ (k,pd.Series(v)) for k,v in serie_df[serie_df.columns[0]].items() ])).transpose()\n",
    "    return serie_expanded"
   ]
  },
  {
   "cell_type": "code",
   "execution_count": 140,
   "metadata": {},
   "outputs": [],
   "source": [
    "prod_countries_expanded = expand_df(movies_df.production_countries)"
   ]
  },
  {
   "cell_type": "code",
   "execution_count": 141,
   "metadata": {},
   "outputs": [
    {
     "output_type": "execute_result",
     "data": {
      "text/plain": [
       "United States of America    21153\n",
       "United Kingdom               4094\n",
       "France                       3940\n",
       "Germany                      2254\n",
       "Italy                        2169\n",
       "Canada                       1765\n",
       "Japan                        1648\n",
       "Spain                         964\n",
       "Russia                        912\n",
       "India                         828\n",
       "Hong Kong                     596\n",
       "Sweden                        588\n",
       "Australia                     570\n",
       "South Korea                   495\n",
       "Belgium                       447\n",
       "Denmark                       386\n",
       "Finland                       383\n",
       "Netherlands                   375\n",
       "China                         372\n",
       "Mexico                        329\n",
       "dtype: int64"
      ]
     },
     "metadata": {},
     "execution_count": 141
    }
   ],
   "source": [
    "prod_countries_expanded.count().sort_values(ascending=False).head(20)"
   ]
  },
  {
   "source": [
    "### -production_companies"
   ],
   "cell_type": "markdown",
   "metadata": {}
  },
  {
   "cell_type": "code",
   "execution_count": 124,
   "metadata": {},
   "outputs": [
    {
     "output_type": "stream",
     "name": "stdout",
     "text": [
      "errors column positions: [28, 131, 168, 194, 225, 470, 715, 718, 751, 873, 891, 892, 1067, 1077, 1136, 1361, 1391, 1451, 1581, 1609, 1615, 1619, 1844, 2017, 2087, 2382, 2511, 2540, 2568, 2770, 2827, 2856, 2937, 2980, 3017, 3056, 3280, 3288, 3419, 3671, 3681, 3835, 4102, 4114, 4137, 4143, 4595, 4626, 4770, 4821, 4837, 4894, 5048, 5266, 5347, 5380, 5389, 5403, 5441, 5443, 5445, 5495, 5588, 5629, 5700, 5704, 5774, 5839, 6097, 6142, 6195, 6239, 6358, 6378, 6495, 6571, 6623, 6629, 6632, 6693, 6709, 6737, 6771, 6807, 6987, 7015, 7085, 7088, 7194, 7311, 7337, 7400, 7414, 7603, 7679, 7718, 7778, 7789, 7794, 7847, 7894, 7929, 7933, 8057, 8084, 8105, 8109, 8117, 8183, 8460, 8467, 8791, 8923, 9045, 9070, 9094, 9102, 9280, 9542, 9709, 9756, 9936, 10014, 10088, 10146, 10175, 10182, 10189, 10390, 10562, 10610, 10635, 10654, 10693, 10782, 10817, 10836, 10877, 10922, 10973, 11201, 11252, 11337, 11680, 11759, 11938, 12121, 12146, 12336, 12425, 12437, 12505, 12509, 12597, 12671, 12713, 12727, 12746, 12774, 12879, 12890, 12968, 13016, 13034, 13112, 13259, 13440, 13532, 13635, 13661, 13667, 13704, 13705, 13729, 13782, 13825, 13974, 14339, 14347, 14352, 14558, 14637, 14694, 14765, 14877, 14972, 15057, 15240, 15252, 15267, 15357, 15569, 15697, 15714, 15721, 15802, 15844, 15946, 16076, 16156, 16178, 16185, 16197, 16206, 16253, 16256, 16283, 16296, 16334, 16335, 16457, 16559, 16695, 16717, 16857, 16938, 16972, 17137, 17157, 17171, 17207, 17217, 17219, 17227, 17269, 17584, 17619, 17719, 17854, 17889, 17939, 17954, 17970, 18011, 18016, 18037, 18118, 18220, 18235, 18268, 18409, 18759, 18790, 18875, 19007, 19038, 19236, 19321, 19374, 19510, 19518, 19705, 19729, 19775, 19810, 19944, 19986, 19987, 20188, 20194, 20312, 20372, 20570, 20597, 21074, 21123, 21189, 21248, 21295, 21327, 21350, 21362, 21366, 21539, 21593, 21691, 21744, 21831, 21902, 21964, 22022, 22213, 22279, 22291, 22302, 22315, 22693, 22827, 22862, 22867, 22896, 22970, 23025, 23053, 23118, 23327, 23337, 23341, 23358, 23571, 23653, 23756, 23816, 24086, 24346, 24366, 24638, 24703, 24849, 24915, 25026, 25328, 25469, 25539, 25569, 25656, 25699, 25794, 25852, 25853, 26306, 26440, 26463, 26563, 26568, 26866, 26941, 27017, 27085, 27108, 27653, 27669, 27857, 27863, 27866, 27870, 27913, 27961, 27977, 28092, 28134, 28193, 28236, 28363, 28417, 28744, 28805, 28959, 29147, 29245, 29251, 29501, 29758, 29914, 30172, 30272, 30648, 30720, 30772, 30824, 30871, 31156, 31253, 31364, 31478, 31524, 31628, 31639, 31861, 31875, 31950, 31953, 32099, 32303, 32448, 32468, 32630, 32639, 32650, 32651, 32658, 32659, 32814, 32845, 33024, 33068, 33184, 33195, 33272, 33386, 33420, 33458, 33459, 33786, 33993, 34119, 34149, 34200, 34642, 34677, 34726, 35209, 35584, 35946, 35995, 35997, 36003, 36046, 36130, 36167, 36233, 36438, 36440, 36480, 36642, 36697, 36713, 36742, 36948, 37056, 37085, 37166, 37221, 37310, 37411, 37595, 37688, 38191, 38213, 38519, 38618, 38882, 39104, 39113, 39123, 39154, 39437, 39840, 40099, 40126, 40204, 40214, 40420, 40461, 40486, 40534, 40557, 40638, 40689, 40801, 41112, 41285, 41513, 41690, 41947, 42118, 42167, 42266, 42274, 42391, 42465, 42587, 42643, 42695, 42761, 42769, 42910, 43014, 43098, 43128, 43141, 43673, 43932, 43997, 44260, 44400, 44403, 44595, 44603, 44735, 44770, 44818, 44840, 44961, 45191, 45210, 45235]\n",
      "errors column positions: [1136, 2540, 2937, 3835, 5588, 5629, 5774, 6097, 6632, 6709, 6771, 7085, 7088, 7929, 7933, 8117, 9936, 10189, 10610, 10654, 11759, 12505, 12727, 13532, 13661, 13667, 13704, 13705, 13825, 14339, 14352, 15697, 15721, 16178, 16197, 16253, 16256, 16334, 16335, 17157, 17939, 17970, 18037, 18759, 19944, 20312, 21593, 22213, 22279, 22302, 23337, 23816, 25328, 25852, 25853, 26440, 27653, 27669, 27977, 28092, 28193, 28959, 30272, 30772, 30871, 31478, 31861, 32651, 32659, 33195, 33386, 33459, 34200, 34677, 34726, 35209, 35995, 35997, 36003, 36948, 39123, 40099, 40689, 41285, 42274, 43673, 44260, 44403, 44595, 44603, 44770, 44961]\n"
     ]
    },
    {
     "output_type": "error",
     "ename": "TypeError",
     "evalue": "'NoneType' object is not iterable",
     "traceback": [
      "\u001b[1;31m---------------------------------------------------------------------------\u001b[0m",
      "\u001b[1;31mTypeError\u001b[0m                                 Traceback (most recent call last)",
      "\u001b[1;32m<ipython-input-124-e20abbb503ed>\u001b[0m in \u001b[0;36m<module>\u001b[1;34m\u001b[0m\n\u001b[1;32m----> 1\u001b[1;33m \u001b[0mdf_transit\u001b[0m \u001b[1;33m=\u001b[0m \u001b[0mseries_dict_to_series_list\u001b[0m\u001b[1;33m(\u001b[0m\u001b[0mserie\u001b[0m\u001b[1;33m=\u001b[0m\u001b[0mmovies_df\u001b[0m\u001b[1;33m.\u001b[0m\u001b[0mproduction_companies\u001b[0m\u001b[1;33m,\u001b[0m \u001b[0muse_key\u001b[0m\u001b[1;33m=\u001b[0m\u001b[1;34m'name'\u001b[0m\u001b[1;33m,\u001b[0m \u001b[0minplace\u001b[0m\u001b[1;33m=\u001b[0m\u001b[1;32mFalse\u001b[0m\u001b[1;33m)\u001b[0m\u001b[1;33m\u001b[0m\u001b[1;33m\u001b[0m\u001b[0m\n\u001b[0m\u001b[0;32m      2\u001b[0m \u001b[0mdf_transit\u001b[0m\u001b[1;33m\u001b[0m\u001b[1;33m\u001b[0m\u001b[0m\n",
      "\u001b[1;32m<ipython-input-54-d07b04e82335>\u001b[0m in \u001b[0;36mseries_dict_to_series_list\u001b[1;34m(serie, use_key, inplace)\u001b[0m\n\u001b[0;32m     13\u001b[0m     \u001b[0muniq_vals\u001b[0m \u001b[1;33m=\u001b[0m \u001b[0mset\u001b[0m\u001b[1;33m(\u001b[0m\u001b[1;33m{\u001b[0m\u001b[1;33m}\u001b[0m\u001b[1;33m)\u001b[0m\u001b[1;33m\u001b[0m\u001b[1;33m\u001b[0m\u001b[0m\n\u001b[0;32m     14\u001b[0m \u001b[1;33m\u001b[0m\u001b[0m\n\u001b[1;32m---> 15\u001b[1;33m     \u001b[1;32mfor\u001b[0m \u001b[0mi\u001b[0m\u001b[1;33m,\u001b[0m \u001b[0melement\u001b[0m \u001b[1;32min\u001b[0m \u001b[0menumerate\u001b[0m\u001b[1;33m(\u001b[0m\u001b[0mserie\u001b[0m\u001b[1;33m)\u001b[0m\u001b[1;33m:\u001b[0m\u001b[1;33m\u001b[0m\u001b[1;33m\u001b[0m\u001b[0m\n\u001b[0m\u001b[0;32m     16\u001b[0m         \u001b[0mval_list\u001b[0m \u001b[1;33m=\u001b[0m \u001b[1;33m[\u001b[0m\u001b[1;33m]\u001b[0m\u001b[1;33m\u001b[0m\u001b[1;33m\u001b[0m\u001b[0m\n\u001b[0;32m     17\u001b[0m         \u001b[1;32mfor\u001b[0m \u001b[0mdictio\u001b[0m \u001b[1;32min\u001b[0m \u001b[0melement\u001b[0m\u001b[1;33m:\u001b[0m\u001b[1;33m\u001b[0m\u001b[1;33m\u001b[0m\u001b[0m\n",
      "\u001b[1;31mTypeError\u001b[0m: 'NoneType' object is not iterable"
     ]
    }
   ],
   "source": [
    "df_transit = series_dict_to_series_list(serie=movies_df.production_companies, use_key='name', inplace=False)\n",
    "df_transit"
   ]
  },
  {
   "cell_type": "code",
   "execution_count": 125,
   "metadata": {},
   "outputs": [],
   "source": [
    "error_list = [1136, 2540, 2937, 3835, 5588, 5629, 5774, 6097, 6632, 6709, 6771, 7085, 7088, 7929, 7933, 8117, 9936, 10189, 10610, 10654, 11759, 12505, 12727, 13532, 13661, 13667, 13704, 13705, 13825, 14339, 14352, 15697, 15721, 16178, 16197, 16253, 16256, 16334, 16335, 17157, 17939, 17970, 18037, 18759, 19944, 20312, 21593, 22213, 22279, 22302, 23337, 23816, 25328, 25852, 25853, 26440, 27653, 27669, 27977, 28092, 28193, 28959, 30272, 30772, 30871, 31478, 31861, 32651, 32659, 33195, 33386, 33459, 34200, 34677, 34726, 35209, 35995, 35997, 36003, 36948, 39123, 40099, 40689, 41285, 42274, 43673, 44260, 44403, 44595, 44603, 44770, 44961]\n"
   ]
  },
  {
   "cell_type": "code",
   "execution_count": 127,
   "metadata": {},
   "outputs": [
    {
     "output_type": "execute_result",
     "data": {
      "text/plain": [
       "92"
      ]
     },
     "metadata": {},
     "execution_count": 127
    }
   ],
   "source": [
    "len(error_list)"
   ]
  },
  {
   "source": [
    "La columna produce demasiados errores al intentar minar su contenido. Además, resulta muy interesante en la verificación de la hipótesis. Se opta por descartarla"
   ],
   "cell_type": "markdown",
   "metadata": {}
  },
  {
   "cell_type": "code",
   "execution_count": 157,
   "metadata": {},
   "outputs": [],
   "source": [
    "movies_df.drop('production_companies', axis=1, inplace=True)"
   ]
  },
  {
   "cell_type": "code",
   "execution_count": 158,
   "metadata": {},
   "outputs": [
    {
     "output_type": "execute_result",
     "data": {
      "text/plain": [
       "                             title release_date original_language  \\\n",
       "0                        Toy Story   1995-10-30                en   \n",
       "1                          Jumanji   1995-12-15                en   \n",
       "2                 Grumpier Old Men   1995-12-22                en   \n",
       "3                Waiting to Exhale   1995-12-22                en   \n",
       "4      Father of the Bride Part II   1995-02-10                en   \n",
       "...                            ...          ...               ...   \n",
       "45458                       Subdue          NaT                fa   \n",
       "45459          Century of Birthing   2011-11-17                tl   \n",
       "45460                     Betrayal   2003-08-01                en   \n",
       "45461             Satan Triumphant   1917-10-21                en   \n",
       "45462                     Queerama   2017-06-09                en   \n",
       "\n",
       "                             genres    budget      revenue  \\\n",
       "0       [Animation, Comedy, Family]  30000000  373554033.0   \n",
       "1      [Adventure, Fantasy, Family]  65000000  262797249.0   \n",
       "2                 [Romance, Comedy]         0          0.0   \n",
       "3          [Comedy, Drama, Romance]  16000000   81452156.0   \n",
       "4                          [Comedy]         0   76578911.0   \n",
       "...                             ...       ...          ...   \n",
       "45458               [Drama, Family]         0          0.0   \n",
       "45459                       [Drama]         0          0.0   \n",
       "45460     [Action, Drama, Thriller]         0          0.0   \n",
       "45461                            []         0          0.0   \n",
       "45462                            []         0          0.0   \n",
       "\n",
       "             production_countries  runtime  vote_average  vote_count  \n",
       "0      [United States of America]     81.0           7.7      5415.0  \n",
       "1      [United States of America]    104.0           6.9      2413.0  \n",
       "2      [United States of America]    101.0           6.5        92.0  \n",
       "3      [United States of America]    127.0           6.1        34.0  \n",
       "4      [United States of America]    106.0           5.7       173.0  \n",
       "...                           ...      ...           ...         ...  \n",
       "45458                      [Iran]     90.0           4.0         1.0  \n",
       "45459               [Philippines]    360.0           9.0         3.0  \n",
       "45460  [United States of America]     90.0           3.8         6.0  \n",
       "45461                    [Russia]     87.0           0.0         0.0  \n",
       "45462            [United Kingdom]     75.0           0.0         0.0  \n",
       "\n",
       "[45463 rows x 10 columns]"
      ],
      "text/html": "<div>\n<style scoped>\n    .dataframe tbody tr th:only-of-type {\n        vertical-align: middle;\n    }\n\n    .dataframe tbody tr th {\n        vertical-align: top;\n    }\n\n    .dataframe thead th {\n        text-align: right;\n    }\n</style>\n<table border=\"1\" class=\"dataframe\">\n  <thead>\n    <tr style=\"text-align: right;\">\n      <th></th>\n      <th>title</th>\n      <th>release_date</th>\n      <th>original_language</th>\n      <th>genres</th>\n      <th>budget</th>\n      <th>revenue</th>\n      <th>production_countries</th>\n      <th>runtime</th>\n      <th>vote_average</th>\n      <th>vote_count</th>\n    </tr>\n  </thead>\n  <tbody>\n    <tr>\n      <th>0</th>\n      <td>Toy Story</td>\n      <td>1995-10-30</td>\n      <td>en</td>\n      <td>[Animation, Comedy, Family]</td>\n      <td>30000000</td>\n      <td>373554033.0</td>\n      <td>[United States of America]</td>\n      <td>81.0</td>\n      <td>7.7</td>\n      <td>5415.0</td>\n    </tr>\n    <tr>\n      <th>1</th>\n      <td>Jumanji</td>\n      <td>1995-12-15</td>\n      <td>en</td>\n      <td>[Adventure, Fantasy, Family]</td>\n      <td>65000000</td>\n      <td>262797249.0</td>\n      <td>[United States of America]</td>\n      <td>104.0</td>\n      <td>6.9</td>\n      <td>2413.0</td>\n    </tr>\n    <tr>\n      <th>2</th>\n      <td>Grumpier Old Men</td>\n      <td>1995-12-22</td>\n      <td>en</td>\n      <td>[Romance, Comedy]</td>\n      <td>0</td>\n      <td>0.0</td>\n      <td>[United States of America]</td>\n      <td>101.0</td>\n      <td>6.5</td>\n      <td>92.0</td>\n    </tr>\n    <tr>\n      <th>3</th>\n      <td>Waiting to Exhale</td>\n      <td>1995-12-22</td>\n      <td>en</td>\n      <td>[Comedy, Drama, Romance]</td>\n      <td>16000000</td>\n      <td>81452156.0</td>\n      <td>[United States of America]</td>\n      <td>127.0</td>\n      <td>6.1</td>\n      <td>34.0</td>\n    </tr>\n    <tr>\n      <th>4</th>\n      <td>Father of the Bride Part II</td>\n      <td>1995-02-10</td>\n      <td>en</td>\n      <td>[Comedy]</td>\n      <td>0</td>\n      <td>76578911.0</td>\n      <td>[United States of America]</td>\n      <td>106.0</td>\n      <td>5.7</td>\n      <td>173.0</td>\n    </tr>\n    <tr>\n      <th>...</th>\n      <td>...</td>\n      <td>...</td>\n      <td>...</td>\n      <td>...</td>\n      <td>...</td>\n      <td>...</td>\n      <td>...</td>\n      <td>...</td>\n      <td>...</td>\n      <td>...</td>\n    </tr>\n    <tr>\n      <th>45458</th>\n      <td>Subdue</td>\n      <td>NaT</td>\n      <td>fa</td>\n      <td>[Drama, Family]</td>\n      <td>0</td>\n      <td>0.0</td>\n      <td>[Iran]</td>\n      <td>90.0</td>\n      <td>4.0</td>\n      <td>1.0</td>\n    </tr>\n    <tr>\n      <th>45459</th>\n      <td>Century of Birthing</td>\n      <td>2011-11-17</td>\n      <td>tl</td>\n      <td>[Drama]</td>\n      <td>0</td>\n      <td>0.0</td>\n      <td>[Philippines]</td>\n      <td>360.0</td>\n      <td>9.0</td>\n      <td>3.0</td>\n    </tr>\n    <tr>\n      <th>45460</th>\n      <td>Betrayal</td>\n      <td>2003-08-01</td>\n      <td>en</td>\n      <td>[Action, Drama, Thriller]</td>\n      <td>0</td>\n      <td>0.0</td>\n      <td>[United States of America]</td>\n      <td>90.0</td>\n      <td>3.8</td>\n      <td>6.0</td>\n    </tr>\n    <tr>\n      <th>45461</th>\n      <td>Satan Triumphant</td>\n      <td>1917-10-21</td>\n      <td>en</td>\n      <td>[]</td>\n      <td>0</td>\n      <td>0.0</td>\n      <td>[Russia]</td>\n      <td>87.0</td>\n      <td>0.0</td>\n      <td>0.0</td>\n    </tr>\n    <tr>\n      <th>45462</th>\n      <td>Queerama</td>\n      <td>2017-06-09</td>\n      <td>en</td>\n      <td>[]</td>\n      <td>0</td>\n      <td>0.0</td>\n      <td>[United Kingdom]</td>\n      <td>75.0</td>\n      <td>0.0</td>\n      <td>0.0</td>\n    </tr>\n  </tbody>\n</table>\n<p>45463 rows × 10 columns</p>\n</div>"
     },
     "metadata": {},
     "execution_count": 158
    }
   ],
   "source": [
    "movies_df"
   ]
  },
  {
   "source": [
    "## Exportación de datasets"
   ],
   "cell_type": "markdown",
   "metadata": {}
  },
  {
   "source": [
    "Exportaremos los dataset minados a archivos CSV para su posterior uso en el resto de investigaciones:"
   ],
   "cell_type": "markdown",
   "metadata": {}
  },
  {
   "source": [
    "-Dataset principal/metadatos películas:"
   ],
   "cell_type": "markdown",
   "metadata": {}
  },
  {
   "cell_type": "code",
   "execution_count": 178,
   "metadata": {},
   "outputs": [
    {
     "output_type": "execute_result",
     "data": {
      "text/plain": [
       "                         title release_date original_language  \\\n",
       "0                    Toy Story   1995-10-30                en   \n",
       "1                      Jumanji   1995-12-15                en   \n",
       "2             Grumpier Old Men   1995-12-22                en   \n",
       "3            Waiting to Exhale   1995-12-22                en   \n",
       "4  Father of the Bride Part II   1995-02-10                en   \n",
       "\n",
       "                         genres    budget      revenue  \\\n",
       "0   [Animation, Comedy, Family]  30000000  373554033.0   \n",
       "1  [Adventure, Fantasy, Family]  65000000  262797249.0   \n",
       "2             [Romance, Comedy]         0          0.0   \n",
       "3      [Comedy, Drama, Romance]  16000000   81452156.0   \n",
       "4                      [Comedy]         0   76578911.0   \n",
       "\n",
       "         production_countries  runtime  vote_average  vote_count  \n",
       "0  [United States of America]     81.0           7.7      5415.0  \n",
       "1  [United States of America]    104.0           6.9      2413.0  \n",
       "2  [United States of America]    101.0           6.5        92.0  \n",
       "3  [United States of America]    127.0           6.1        34.0  \n",
       "4  [United States of America]    106.0           5.7       173.0  "
      ],
      "text/html": "<div>\n<style scoped>\n    .dataframe tbody tr th:only-of-type {\n        vertical-align: middle;\n    }\n\n    .dataframe tbody tr th {\n        vertical-align: top;\n    }\n\n    .dataframe thead th {\n        text-align: right;\n    }\n</style>\n<table border=\"1\" class=\"dataframe\">\n  <thead>\n    <tr style=\"text-align: right;\">\n      <th></th>\n      <th>title</th>\n      <th>release_date</th>\n      <th>original_language</th>\n      <th>genres</th>\n      <th>budget</th>\n      <th>revenue</th>\n      <th>production_countries</th>\n      <th>runtime</th>\n      <th>vote_average</th>\n      <th>vote_count</th>\n    </tr>\n  </thead>\n  <tbody>\n    <tr>\n      <th>0</th>\n      <td>Toy Story</td>\n      <td>1995-10-30</td>\n      <td>en</td>\n      <td>[Animation, Comedy, Family]</td>\n      <td>30000000</td>\n      <td>373554033.0</td>\n      <td>[United States of America]</td>\n      <td>81.0</td>\n      <td>7.7</td>\n      <td>5415.0</td>\n    </tr>\n    <tr>\n      <th>1</th>\n      <td>Jumanji</td>\n      <td>1995-12-15</td>\n      <td>en</td>\n      <td>[Adventure, Fantasy, Family]</td>\n      <td>65000000</td>\n      <td>262797249.0</td>\n      <td>[United States of America]</td>\n      <td>104.0</td>\n      <td>6.9</td>\n      <td>2413.0</td>\n    </tr>\n    <tr>\n      <th>2</th>\n      <td>Grumpier Old Men</td>\n      <td>1995-12-22</td>\n      <td>en</td>\n      <td>[Romance, Comedy]</td>\n      <td>0</td>\n      <td>0.0</td>\n      <td>[United States of America]</td>\n      <td>101.0</td>\n      <td>6.5</td>\n      <td>92.0</td>\n    </tr>\n    <tr>\n      <th>3</th>\n      <td>Waiting to Exhale</td>\n      <td>1995-12-22</td>\n      <td>en</td>\n      <td>[Comedy, Drama, Romance]</td>\n      <td>16000000</td>\n      <td>81452156.0</td>\n      <td>[United States of America]</td>\n      <td>127.0</td>\n      <td>6.1</td>\n      <td>34.0</td>\n    </tr>\n    <tr>\n      <th>4</th>\n      <td>Father of the Bride Part II</td>\n      <td>1995-02-10</td>\n      <td>en</td>\n      <td>[Comedy]</td>\n      <td>0</td>\n      <td>76578911.0</td>\n      <td>[United States of America]</td>\n      <td>106.0</td>\n      <td>5.7</td>\n      <td>173.0</td>\n    </tr>\n  </tbody>\n</table>\n</div>"
     },
     "metadata": {},
     "execution_count": 178
    }
   ],
   "source": [
    "movies_df.head()"
   ]
  },
  {
   "cell_type": "code",
   "execution_count": 180,
   "metadata": {},
   "outputs": [],
   "source": [
    "movies_df.to_csv(root_project + r\"/resources/movies_df.csv\", index=False)"
   ]
  },
  {
   "cell_type": "code",
   "execution_count": 186,
   "metadata": {},
   "outputs": [],
   "source": [
    "movies_df.to_pickle(root_project + r\"/resources/movies_df.pkl\")"
   ]
  },
  {
   "source": [
    "-'genres' expandido dataset:"
   ],
   "cell_type": "markdown",
   "metadata": {}
  },
  {
   "cell_type": "code",
   "execution_count": 174,
   "metadata": {},
   "outputs": [],
   "source": [
    "genre_df_expanded.to_csv(root_project + r\"/resources/genre_df_expanded.csv\", index=False)"
   ]
  },
  {
   "cell_type": "code",
   "execution_count": 187,
   "metadata": {},
   "outputs": [],
   "source": [
    "genre_df_expanded.to_pickle(root_project + r\"/resources/genre_df_expanded.pkl\")"
   ]
  },
  {
   "source": [
    "-'production_countries' expandido dataset:"
   ],
   "cell_type": "markdown",
   "metadata": {}
  },
  {
   "cell_type": "code",
   "execution_count": null,
   "metadata": {},
   "outputs": [],
   "source": [
    "prod_countries_expanded.to_csv(root_project + r\"/resources/prod_countries_expanded.csv\", index=False)"
   ]
  },
  {
   "cell_type": "code",
   "execution_count": 188,
   "metadata": {},
   "outputs": [],
   "source": [
    "prod_countries_expanded.to_pickle(root_project + r\"/resources/prod_countries_expanded.pkl\")"
   ]
  },
  {
   "source": [],
   "cell_type": "markdown",
   "metadata": {}
  }
 ]
}