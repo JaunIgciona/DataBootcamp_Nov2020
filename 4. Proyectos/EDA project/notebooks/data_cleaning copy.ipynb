{
 "metadata": {
  "language_info": {
   "codemirror_mode": {
    "name": "ipython",
    "version": 3
   },
   "file_extension": ".py",
   "mimetype": "text/x-python",
   "name": "python",
   "nbconvert_exporter": "python",
   "pygments_lexer": "ipython3",
   "version": "3.9.0-final"
  },
  "orig_nbformat": 2,
  "kernelspec": {
   "name": "python3",
   "display_name": "Python 3.9.0 64-bit",
   "metadata": {
    "interpreter": {
     "hash": "cf85b414d3663472de89104473c842eaab37d7b845999caf56a47ccda76ea2f8"
    }
   }
  }
 },
 "nbformat": 4,
 "nbformat_minor": 2,
 "cells": [
  {
   "source": [
    "# Data Cleaning"
   ],
   "cell_type": "markdown",
   "metadata": {}
  },
  {
   "source": [
    "A partir del dataset de Full MovieLens que recoge metadatos sobre las 45.000 películas de esta plataforma, se realizará un estudio para comprobar la  veracidad de la hipótesis que guía este trabajo: La industria del cine no es rentable. Para ello, es necesario empezar por generar un dataframe con los elementos que nos sean de utilidad. \n",
    "\n",
    "Reordenaremos el dataset original y nos quedaremos con las columnas que son de nuestro interés:"
   ],
   "cell_type": "markdown",
   "metadata": {}
  },
  {
   "source": [
    "## Data Structuring"
   ],
   "cell_type": "markdown",
   "metadata": {}
  },
  {
   "source": [
    "Importamos las librerías necesarias para este paso."
   ],
   "cell_type": "markdown",
   "metadata": {}
  },
  {
   "cell_type": "code",
   "execution_count": 285,
   "metadata": {},
   "outputs": [],
   "source": [
    "import pandas as pd\n",
    "import os\n",
    "import sys"
   ]
  },
  {
   "source": [
    "Se importa el dataset accediendo al directorio donde está guardado. "
   ],
   "cell_type": "markdown",
   "metadata": {}
  },
  {
   "cell_type": "code",
   "execution_count": 286,
   "metadata": {},
   "outputs": [],
   "source": [
    "# Obtenemos la dirección de la carpeta raiz del proyecto\n",
    "root_project = os.path.dirname(os.getcwd())\n",
    "# Adjuntamos esta dirección a las rutas de python para poder importar modulos desde aquí\n",
    "sys.path.append(root_project)\n",
    "# Completamos la dirección del archivo csv con el dataset\n",
    "movies_csv_dir = root_project + '/resources/movies_metadata.csv'\n",
    "\n",
    "# Leemos el dataset desde el directorio donde se encuentra\n",
    "movies_csv_df = pd.read_csv(movies_csv_dir, sep= ',')\n",
    "movies_df = movies_csv_df.copy()"
   ]
  },
  {
   "source": [
    "Identificando las columnas se hace una breve pero rápida exploración de los datos que contiene el dataset."
   ],
   "cell_type": "markdown",
   "metadata": {}
  },
  {
   "cell_type": "code",
   "execution_count": 287,
   "metadata": {},
   "outputs": [
    {
     "output_type": "stream",
     "name": "stdout",
     "text": [
      "['adult', 'belongs_to_collection', 'budget', 'genres', 'homepage', 'id', 'imdb_id', 'original_language', 'original_title', 'overview', 'popularity', 'poster_path', 'production_companies', 'production_countries', 'release_date', 'revenue', 'runtime', 'spoken_languages', 'status', 'tagline', 'title', 'video', 'vote_average', 'vote_count'] \n\nnumber of columns ---> 24\n"
     ]
    }
   ],
   "source": [
    "print(list(movies_df.columns), '\\n')\n",
    "print('number of columns --->', len(movies_df.columns))"
   ]
  },
  {
   "source": [
    "De las 24 columnas del dataset nos interesan solo 11. Generamos una lista ordenada de estas columnas a partir de la cual generaremos el dataframe para el estudio. "
   ],
   "cell_type": "markdown",
   "metadata": {}
  },
  {
   "cell_type": "code",
   "execution_count": 288,
   "metadata": {},
   "outputs": [],
   "source": [
    "l = ['title', 'release_date', 'original_language', 'genres', 'budget', 'revenue', 'production_countries', 'production_companies', 'runtime', 'vote_average', 'vote_count']"
   ]
  },
  {
   "cell_type": "code",
   "execution_count": 289,
   "metadata": {},
   "outputs": [
    {
     "output_type": "execute_result",
     "data": {
      "text/plain": [
       "                         title release_date original_language  \\\n",
       "0                    Toy Story   1995-10-30                en   \n",
       "1                      Jumanji   1995-12-15                en   \n",
       "2             Grumpier Old Men   1995-12-22                en   \n",
       "3            Waiting to Exhale   1995-12-22                en   \n",
       "4  Father of the Bride Part II   1995-02-10                en   \n",
       "\n",
       "                                              genres    budget      revenue  \\\n",
       "0  [{'id': 16, 'name': 'Animation'}, {'id': 35, '...  30000000  373554033.0   \n",
       "1  [{'id': 12, 'name': 'Adventure'}, {'id': 14, '...  65000000  262797249.0   \n",
       "2  [{'id': 10749, 'name': 'Romance'}, {'id': 35, ...         0          0.0   \n",
       "3  [{'id': 35, 'name': 'Comedy'}, {'id': 18, 'nam...  16000000   81452156.0   \n",
       "4                     [{'id': 35, 'name': 'Comedy'}]         0   76578911.0   \n",
       "\n",
       "                                production_countries  \\\n",
       "0  [{'iso_3166_1': 'US', 'name': 'United States o...   \n",
       "1  [{'iso_3166_1': 'US', 'name': 'United States o...   \n",
       "2  [{'iso_3166_1': 'US', 'name': 'United States o...   \n",
       "3  [{'iso_3166_1': 'US', 'name': 'United States o...   \n",
       "4  [{'iso_3166_1': 'US', 'name': 'United States o...   \n",
       "\n",
       "                                production_companies  runtime  vote_average  \\\n",
       "0     [{'name': 'Pixar Animation Studios', 'id': 3}]     81.0           7.7   \n",
       "1  [{'name': 'TriStar Pictures', 'id': 559}, {'na...    104.0           6.9   \n",
       "2  [{'name': 'Warner Bros.', 'id': 6194}, {'name'...    101.0           6.5   \n",
       "3  [{'name': 'Twentieth Century Fox Film Corporat...    127.0           6.1   \n",
       "4  [{'name': 'Sandollar Productions', 'id': 5842}...    106.0           5.7   \n",
       "\n",
       "   vote_count  \n",
       "0      5415.0  \n",
       "1      2413.0  \n",
       "2        92.0  \n",
       "3        34.0  \n",
       "4       173.0  "
      ],
      "text/html": "<div>\n<style scoped>\n    .dataframe tbody tr th:only-of-type {\n        vertical-align: middle;\n    }\n\n    .dataframe tbody tr th {\n        vertical-align: top;\n    }\n\n    .dataframe thead th {\n        text-align: right;\n    }\n</style>\n<table border=\"1\" class=\"dataframe\">\n  <thead>\n    <tr style=\"text-align: right;\">\n      <th></th>\n      <th>title</th>\n      <th>release_date</th>\n      <th>original_language</th>\n      <th>genres</th>\n      <th>budget</th>\n      <th>revenue</th>\n      <th>production_countries</th>\n      <th>production_companies</th>\n      <th>runtime</th>\n      <th>vote_average</th>\n      <th>vote_count</th>\n    </tr>\n  </thead>\n  <tbody>\n    <tr>\n      <th>0</th>\n      <td>Toy Story</td>\n      <td>1995-10-30</td>\n      <td>en</td>\n      <td>[{'id': 16, 'name': 'Animation'}, {'id': 35, '...</td>\n      <td>30000000</td>\n      <td>373554033.0</td>\n      <td>[{'iso_3166_1': 'US', 'name': 'United States o...</td>\n      <td>[{'name': 'Pixar Animation Studios', 'id': 3}]</td>\n      <td>81.0</td>\n      <td>7.7</td>\n      <td>5415.0</td>\n    </tr>\n    <tr>\n      <th>1</th>\n      <td>Jumanji</td>\n      <td>1995-12-15</td>\n      <td>en</td>\n      <td>[{'id': 12, 'name': 'Adventure'}, {'id': 14, '...</td>\n      <td>65000000</td>\n      <td>262797249.0</td>\n      <td>[{'iso_3166_1': 'US', 'name': 'United States o...</td>\n      <td>[{'name': 'TriStar Pictures', 'id': 559}, {'na...</td>\n      <td>104.0</td>\n      <td>6.9</td>\n      <td>2413.0</td>\n    </tr>\n    <tr>\n      <th>2</th>\n      <td>Grumpier Old Men</td>\n      <td>1995-12-22</td>\n      <td>en</td>\n      <td>[{'id': 10749, 'name': 'Romance'}, {'id': 35, ...</td>\n      <td>0</td>\n      <td>0.0</td>\n      <td>[{'iso_3166_1': 'US', 'name': 'United States o...</td>\n      <td>[{'name': 'Warner Bros.', 'id': 6194}, {'name'...</td>\n      <td>101.0</td>\n      <td>6.5</td>\n      <td>92.0</td>\n    </tr>\n    <tr>\n      <th>3</th>\n      <td>Waiting to Exhale</td>\n      <td>1995-12-22</td>\n      <td>en</td>\n      <td>[{'id': 35, 'name': 'Comedy'}, {'id': 18, 'nam...</td>\n      <td>16000000</td>\n      <td>81452156.0</td>\n      <td>[{'iso_3166_1': 'US', 'name': 'United States o...</td>\n      <td>[{'name': 'Twentieth Century Fox Film Corporat...</td>\n      <td>127.0</td>\n      <td>6.1</td>\n      <td>34.0</td>\n    </tr>\n    <tr>\n      <th>4</th>\n      <td>Father of the Bride Part II</td>\n      <td>1995-02-10</td>\n      <td>en</td>\n      <td>[{'id': 35, 'name': 'Comedy'}]</td>\n      <td>0</td>\n      <td>76578911.0</td>\n      <td>[{'iso_3166_1': 'US', 'name': 'United States o...</td>\n      <td>[{'name': 'Sandollar Productions', 'id': 5842}...</td>\n      <td>106.0</td>\n      <td>5.7</td>\n      <td>173.0</td>\n    </tr>\n  </tbody>\n</table>\n</div>"
     },
     "metadata": {},
     "execution_count": 289
    }
   ],
   "source": [
    "movies_df = movies_df[l]\n",
    "movies_df.head()"
   ]
  },
  {
   "source": [
    "## Column exploration"
   ],
   "cell_type": "markdown",
   "metadata": {}
  },
  {
   "cell_type": "code",
   "execution_count": 290,
   "metadata": {},
   "outputs": [
    {
     "output_type": "execute_result",
     "data": {
      "text/plain": [
       "title                    object\n",
       "release_date             object\n",
       "original_language        object\n",
       "genres                   object\n",
       "budget                   object\n",
       "revenue                 float64\n",
       "production_countries     object\n",
       "production_companies     object\n",
       "runtime                 float64\n",
       "vote_average            float64\n",
       "vote_count              float64\n",
       "dtype: object"
      ]
     },
     "metadata": {},
     "execution_count": 290
    }
   ],
   "source": [
    "movies_df.dtypes"
   ]
  },
  {
   "source": [
    "Esta observación nos indica el tipo de elementos que contiene cada columna, con lo que podemos identificar que manipulaciones debemos llevar a cabo para que los datos puedan ser utilizados en el estudio. \n",
    "\n",
    "A simple vista identificamos los sigientes proplemas:\n",
    "\n",
    "    - release_date: querremos que esta columna contenga elementos del tipo datetime64\n",
    "\n",
    "    - budget: esta columna deberá contener valores numéricos para su uso\n",
    "\n",
    "    - genres, production_countries, production_companies: a la información de estas columnas no es posible             \n",
    "      acceder de forma directa, será necesario realizar data wrangling."
   ],
   "cell_type": "markdown",
   "metadata": {}
  },
  {
   "source": [
    "### Dates to datetime64 type"
   ],
   "cell_type": "markdown",
   "metadata": {}
  },
  {
   "cell_type": "code",
   "execution_count": 291,
   "metadata": {},
   "outputs": [
    {
     "output_type": "stream",
     "name": "stdout",
     "text": [
      "Given date string not likely a datetime\n"
     ]
    }
   ],
   "source": [
    "try:\n",
    "    pd.to_datetime(movies_df.release_date)\n",
    "except ValueError:\n",
    "    print('Given date string not likely a datetime')"
   ]
  },
  {
   "source": [
    "Al intentar convertir todos los elementos de release_date a datetime64 aparece el error de arriba. Esto ocurre porque al menos un valor de la columna no aparece en un formato que la librería de pandas pueda convertir al tipo datetime64.  \n",
    "Debemos indentificar estos elementos:"
   ],
   "cell_type": "markdown",
   "metadata": {}
  },
  {
   "cell_type": "code",
   "execution_count": 292,
   "metadata": {},
   "outputs": [],
   "source": [
    "def not_a_datetime_detector(date_column):\n",
    "    l = []\n",
    "    for i, it in enumerate(date_column):\n",
    "        try:\n",
    "            pd.to_datetime(it)\n",
    "        except:\n",
    "            l.append(i)\n",
    "    print(l)\n",
    "    return l"
   ]
  },
  {
   "cell_type": "code",
   "execution_count": 293,
   "metadata": {},
   "outputs": [
    {
     "output_type": "stream",
     "name": "stdout",
     "text": [
      "[19730, 29503, 35587]\n"
     ]
    }
   ],
   "source": [
    "not_a_date_list = not_a_datetime_detector(date_column=movies_df.release_date)"
   ]
  },
  {
   "cell_type": "code",
   "execution_count": 294,
   "metadata": {},
   "outputs": [
    {
     "output_type": "execute_result",
     "data": {
      "text/plain": [
       "      title release_date original_language  \\\n",
       "19730   NaN            1             104.0   \n",
       "29503   NaN           12              68.0   \n",
       "35587   NaN           22              82.0   \n",
       "\n",
       "                                                  genres  \\\n",
       "19730  [{'name': 'Carousel Productions', 'id': 11176}...   \n",
       "29503  [{'name': 'Aniplex', 'id': 2883}, {'name': 'Go...   \n",
       "35587  [{'name': 'Odyssey Media', 'id': 17161}, {'nam...   \n",
       "\n",
       "                                 budget  revenue production_countries  \\\n",
       "19730  /ff9qCepilowshEtG2GYWwzt2bs4.jpg      NaN                  6.0   \n",
       "29503  /zV8bHuSL6WXoD6FWogP9j4x80bL.jpg      NaN                  7.0   \n",
       "35587  /zaSf5OG7V8X8gqFvly88zDdRm46.jpg      NaN                  4.3   \n",
       "\n",
       "      production_companies  runtime  vote_average  vote_count  \n",
       "19730                False      NaN           NaN         NaN  \n",
       "29503                False      NaN           NaN         NaN  \n",
       "35587                False      NaN           NaN         NaN  "
      ],
      "text/html": "<div>\n<style scoped>\n    .dataframe tbody tr th:only-of-type {\n        vertical-align: middle;\n    }\n\n    .dataframe tbody tr th {\n        vertical-align: top;\n    }\n\n    .dataframe thead th {\n        text-align: right;\n    }\n</style>\n<table border=\"1\" class=\"dataframe\">\n  <thead>\n    <tr style=\"text-align: right;\">\n      <th></th>\n      <th>title</th>\n      <th>release_date</th>\n      <th>original_language</th>\n      <th>genres</th>\n      <th>budget</th>\n      <th>revenue</th>\n      <th>production_countries</th>\n      <th>production_companies</th>\n      <th>runtime</th>\n      <th>vote_average</th>\n      <th>vote_count</th>\n    </tr>\n  </thead>\n  <tbody>\n    <tr>\n      <th>19730</th>\n      <td>NaN</td>\n      <td>1</td>\n      <td>104.0</td>\n      <td>[{'name': 'Carousel Productions', 'id': 11176}...</td>\n      <td>/ff9qCepilowshEtG2GYWwzt2bs4.jpg</td>\n      <td>NaN</td>\n      <td>6.0</td>\n      <td>False</td>\n      <td>NaN</td>\n      <td>NaN</td>\n      <td>NaN</td>\n    </tr>\n    <tr>\n      <th>29503</th>\n      <td>NaN</td>\n      <td>12</td>\n      <td>68.0</td>\n      <td>[{'name': 'Aniplex', 'id': 2883}, {'name': 'Go...</td>\n      <td>/zV8bHuSL6WXoD6FWogP9j4x80bL.jpg</td>\n      <td>NaN</td>\n      <td>7.0</td>\n      <td>False</td>\n      <td>NaN</td>\n      <td>NaN</td>\n      <td>NaN</td>\n    </tr>\n    <tr>\n      <th>35587</th>\n      <td>NaN</td>\n      <td>22</td>\n      <td>82.0</td>\n      <td>[{'name': 'Odyssey Media', 'id': 17161}, {'nam...</td>\n      <td>/zaSf5OG7V8X8gqFvly88zDdRm46.jpg</td>\n      <td>NaN</td>\n      <td>4.3</td>\n      <td>False</td>\n      <td>NaN</td>\n      <td>NaN</td>\n      <td>NaN</td>\n    </tr>\n  </tbody>\n</table>\n</div>"
     },
     "metadata": {},
     "execution_count": 294
    }
   ],
   "source": [
    "movies_df.iloc[not_a_date_list]"
   ]
  },
  {
   "source": [
    "Observando los datos para estos elementos, parece razonable eliminarlos del dataset ya que tienen muchos otros datos vacíos y no aportarán utilidad al estudio"
   ],
   "cell_type": "markdown",
   "metadata": {}
  },
  {
   "cell_type": "code",
   "execution_count": 295,
   "metadata": {},
   "outputs": [],
   "source": [
    "movies_df = movies_df.drop(not_a_date_list)"
   ]
  },
  {
   "cell_type": "code",
   "execution_count": 296,
   "metadata": {},
   "outputs": [
    {
     "output_type": "execute_result",
     "data": {
      "text/plain": [
       "0       1995-10-30\n",
       "1       1995-12-15\n",
       "2       1995-12-22\n",
       "3       1995-12-22\n",
       "4       1995-02-10\n",
       "           ...    \n",
       "45461          NaT\n",
       "45462   2011-11-17\n",
       "45463   2003-08-01\n",
       "45464   1917-10-21\n",
       "45465   2017-06-09\n",
       "Name: release_date, Length: 45463, dtype: datetime64[ns]"
      ]
     },
     "metadata": {},
     "execution_count": 296
    }
   ],
   "source": [
    "movies_df.release_date = pd.to_datetime(movies_df.release_date)\n",
    "movies_df.release_date"
   ]
  },
  {
   "source": [
    "### Budget to numerical values"
   ],
   "cell_type": "markdown",
   "metadata": {}
  },
  {
   "cell_type": "code",
   "execution_count": 297,
   "metadata": {},
   "outputs": [],
   "source": [
    "movies_df.budget = pd.to_numeric(movies_df.budget)"
   ]
  },
  {
   "source": [
    "### Data wrangling"
   ],
   "cell_type": "markdown",
   "metadata": {}
  },
  {
   "cell_type": "code",
   "execution_count": 298,
   "metadata": {},
   "outputs": [],
   "source": [
    "import json"
   ]
  },
  {
   "source": [
    "### - genres"
   ],
   "cell_type": "markdown",
   "metadata": {}
  },
  {
   "source": [
    "Las columnas genres, production_companies y production_countries tienen los datos en una forma en la que no es posible acceder a ellos. Es necesario minar estos datos.\n",
    "\n",
    "A través de la librería json transformamos la información de las columnas que estén en este formato (como si fuera un 'str') de forma que se reconozcan los objetos de python, por ejemplo: listas, diccionarios, etc. "
   ],
   "cell_type": "markdown",
   "metadata": {}
  },
  {
   "cell_type": "code",
   "execution_count": 299,
   "metadata": {},
   "outputs": [],
   "source": [
    "movies_df.genres = movies_df.genres.str.replace(\"\\'\", \"\\\"\") #Si no se reemplazan '' por \"\", python no lo                                                                      reconoce como un archivo json\n",
    "\n",
    "movies_df.genres = movies_df.genres.apply(json.loads)   #cada elemento de la columna es legible por python ahora"
   ]
  },
  {
   "source": [
    "Vamos a agrupar los generos de cada película en listas:"
   ],
   "cell_type": "markdown",
   "metadata": {}
  },
  {
   "cell_type": "code",
   "execution_count": 302,
   "metadata": {},
   "outputs": [
    {
     "output_type": "stream",
     "name": "stdout",
     "text": [
      "Número de géros distintos ---> 20\n Todos los generos del dataset:\n {'Foreign', 'Western', 'Drama', 'Horror', 'Music', 'War', 'Science Fiction', 'Family', 'TV Movie', 'Documentary', 'Thriller', 'Action', 'Mystery', 'Adventure', 'Fantasy', 'Romance', 'Comedy', 'Animation', 'History', 'Crime'}\n"
     ]
    },
    {
     "output_type": "execute_result",
     "data": {
      "text/plain": [
       "                             Genres\n",
       "0       [Animation, Comedy, Family]\n",
       "1      [Adventure, Fantasy, Family]\n",
       "2                 [Romance, Comedy]\n",
       "3          [Comedy, Drama, Romance]\n",
       "4                          [Comedy]\n",
       "...                             ...\n",
       "45458               [Drama, Family]\n",
       "45459                       [Drama]\n",
       "45460     [Action, Drama, Thriller]\n",
       "45461                            []\n",
       "45462                            []\n",
       "\n",
       "[45463 rows x 1 columns]"
      ],
      "text/html": "<div>\n<style scoped>\n    .dataframe tbody tr th:only-of-type {\n        vertical-align: middle;\n    }\n\n    .dataframe tbody tr th {\n        vertical-align: top;\n    }\n\n    .dataframe thead th {\n        text-align: right;\n    }\n</style>\n<table border=\"1\" class=\"dataframe\">\n  <thead>\n    <tr style=\"text-align: right;\">\n      <th></th>\n      <th>Genres</th>\n    </tr>\n  </thead>\n  <tbody>\n    <tr>\n      <th>0</th>\n      <td>[Animation, Comedy, Family]</td>\n    </tr>\n    <tr>\n      <th>1</th>\n      <td>[Adventure, Fantasy, Family]</td>\n    </tr>\n    <tr>\n      <th>2</th>\n      <td>[Romance, Comedy]</td>\n    </tr>\n    <tr>\n      <th>3</th>\n      <td>[Comedy, Drama, Romance]</td>\n    </tr>\n    <tr>\n      <th>4</th>\n      <td>[Comedy]</td>\n    </tr>\n    <tr>\n      <th>...</th>\n      <td>...</td>\n    </tr>\n    <tr>\n      <th>45458</th>\n      <td>[Drama, Family]</td>\n    </tr>\n    <tr>\n      <th>45459</th>\n      <td>[Drama]</td>\n    </tr>\n    <tr>\n      <th>45460</th>\n      <td>[Action, Drama, Thriller]</td>\n    </tr>\n    <tr>\n      <th>45461</th>\n      <td>[]</td>\n    </tr>\n    <tr>\n      <th>45462</th>\n      <td>[]</td>\n    </tr>\n  </tbody>\n</table>\n<p>45463 rows × 1 columns</p>\n</div>"
     },
     "metadata": {},
     "execution_count": 302
    }
   ],
   "source": [
    "generos = set({})\n",
    "\n",
    "for i, element in enumerate(movies_df.genres):\n",
    "    genre_list = []\n",
    "    for dictio in element:\n",
    "        genre_list.append(dictio['name'])\n",
    "        generos.add(dictio['name'])\n",
    "    if i == 0:\n",
    "        genres_dictio = {i: [genre_list]}\n",
    "    else:\n",
    "        genres_dictio[i] = [genre_list]\n",
    "  \n",
    "print(f'Número de géros distintos ---> {len(generos)}\\n', 'Todos los generos del dataset:\\n', generos)\n",
    "genre_df = pd.DataFrame.from_dict(genres_dictio, orient='index', columns=['Genres'])\n",
    "genre_df"
   ]
  },
  {
   "source": [
    "Sustiuimos la columna original de nuestro dataset por la que se ha generado:"
   ],
   "cell_type": "markdown",
   "metadata": {}
  },
  {
   "cell_type": "code",
   "execution_count": 303,
   "metadata": {},
   "outputs": [],
   "source": [
    "movies_df['genres'] = genre_df"
   ]
  },
  {
   "source": [
    "Puede ser de utilidad crear un dataframe de la columna genres expandida, de forma que todos los generos correspondan a las columnas:"
   ],
   "cell_type": "markdown",
   "metadata": {}
  },
  {
   "source": [
    "        -se crea un dataframe de una columna compuesta por diccionarios donde la clave y el valor\n",
    "         corresponden a los generos de cada película"
   ],
   "cell_type": "markdown",
   "metadata": {}
  },
  {
   "cell_type": "code",
   "execution_count": 304,
   "metadata": {},
   "outputs": [
    {
     "output_type": "execute_result",
     "data": {
      "text/plain": [
       "                                              Genres\n",
       "0  {'Animation': 'Animation', 'Comedy': 'Comedy',...\n",
       "1  {'Adventure': 'Adventure', 'Fantasy': 'Fantasy...\n",
       "2         {'Romance': 'Romance', 'Comedy': 'Comedy'}"
      ],
      "text/html": "<div>\n<style scoped>\n    .dataframe tbody tr th:only-of-type {\n        vertical-align: middle;\n    }\n\n    .dataframe tbody tr th {\n        vertical-align: top;\n    }\n\n    .dataframe thead th {\n        text-align: right;\n    }\n</style>\n<table border=\"1\" class=\"dataframe\">\n  <thead>\n    <tr style=\"text-align: right;\">\n      <th></th>\n      <th>Genres</th>\n    </tr>\n  </thead>\n  <tbody>\n    <tr>\n      <th>0</th>\n      <td>{'Animation': 'Animation', 'Comedy': 'Comedy',...</td>\n    </tr>\n    <tr>\n      <th>1</th>\n      <td>{'Adventure': 'Adventure', 'Fantasy': 'Fantasy...</td>\n    </tr>\n    <tr>\n      <th>2</th>\n      <td>{'Romance': 'Romance', 'Comedy': 'Comedy'}</td>\n    </tr>\n  </tbody>\n</table>\n</div>"
     },
     "metadata": {},
     "execution_count": 304
    }
   ],
   "source": [
    "genres_df_dict = pd.DataFrame.from_dict(genre_df.Genres.apply(lambda x: {gen : gen for gen in x}))\n",
    "genres_df_dict.head(3)"
   ]
  },
  {
   "source": [
    "        -a partir de este dataframe generamos el dataframe expandido donde cada columna representa uno \n",
    "         de los 20 géneros de nuestro dataset original"
   ],
   "cell_type": "markdown",
   "metadata": {}
  },
  {
   "cell_type": "code",
   "execution_count": 307,
   "metadata": {},
   "outputs": [],
   "source": [
    "genre_df_expanded = pd.DataFrame(dict([ (k,pd.Series(v)) for k,v in genres_df_dict.Genres.items() ])).transpose()"
   ]
  },
  {
   "cell_type": "code",
   "execution_count": 308,
   "metadata": {},
   "outputs": [
    {
     "output_type": "execute_result",
     "data": {
      "text/plain": [
       "  Action  Adventure  Animation  Comedy Crime Documentary  Drama  Family  \\\n",
       "0    NaN        NaN  Animation  Comedy   NaN         NaN    NaN  Family   \n",
       "1    NaN  Adventure        NaN     NaN   NaN         NaN    NaN  Family   \n",
       "2    NaN        NaN        NaN  Comedy   NaN         NaN    NaN     NaN   \n",
       "3    NaN        NaN        NaN  Comedy   NaN         NaN  Drama     NaN   \n",
       "4    NaN        NaN        NaN  Comedy   NaN         NaN    NaN     NaN   \n",
       "\n",
       "   Fantasy Foreign History Horror Music Mystery  Romance Science Fiction  \\\n",
       "0      NaN     NaN     NaN    NaN   NaN     NaN      NaN             NaN   \n",
       "1  Fantasy     NaN     NaN    NaN   NaN     NaN      NaN             NaN   \n",
       "2      NaN     NaN     NaN    NaN   NaN     NaN  Romance             NaN   \n",
       "3      NaN     NaN     NaN    NaN   NaN     NaN  Romance             NaN   \n",
       "4      NaN     NaN     NaN    NaN   NaN     NaN      NaN             NaN   \n",
       "\n",
       "  TV Movie Thriller  War Western  \n",
       "0      NaN      NaN  NaN     NaN  \n",
       "1      NaN      NaN  NaN     NaN  \n",
       "2      NaN      NaN  NaN     NaN  \n",
       "3      NaN      NaN  NaN     NaN  \n",
       "4      NaN      NaN  NaN     NaN  "
      ],
      "text/html": "<div>\n<style scoped>\n    .dataframe tbody tr th:only-of-type {\n        vertical-align: middle;\n    }\n\n    .dataframe tbody tr th {\n        vertical-align: top;\n    }\n\n    .dataframe thead th {\n        text-align: right;\n    }\n</style>\n<table border=\"1\" class=\"dataframe\">\n  <thead>\n    <tr style=\"text-align: right;\">\n      <th></th>\n      <th>Action</th>\n      <th>Adventure</th>\n      <th>Animation</th>\n      <th>Comedy</th>\n      <th>Crime</th>\n      <th>Documentary</th>\n      <th>Drama</th>\n      <th>Family</th>\n      <th>Fantasy</th>\n      <th>Foreign</th>\n      <th>History</th>\n      <th>Horror</th>\n      <th>Music</th>\n      <th>Mystery</th>\n      <th>Romance</th>\n      <th>Science Fiction</th>\n      <th>TV Movie</th>\n      <th>Thriller</th>\n      <th>War</th>\n      <th>Western</th>\n    </tr>\n  </thead>\n  <tbody>\n    <tr>\n      <th>0</th>\n      <td>NaN</td>\n      <td>NaN</td>\n      <td>Animation</td>\n      <td>Comedy</td>\n      <td>NaN</td>\n      <td>NaN</td>\n      <td>NaN</td>\n      <td>Family</td>\n      <td>NaN</td>\n      <td>NaN</td>\n      <td>NaN</td>\n      <td>NaN</td>\n      <td>NaN</td>\n      <td>NaN</td>\n      <td>NaN</td>\n      <td>NaN</td>\n      <td>NaN</td>\n      <td>NaN</td>\n      <td>NaN</td>\n      <td>NaN</td>\n    </tr>\n    <tr>\n      <th>1</th>\n      <td>NaN</td>\n      <td>Adventure</td>\n      <td>NaN</td>\n      <td>NaN</td>\n      <td>NaN</td>\n      <td>NaN</td>\n      <td>NaN</td>\n      <td>Family</td>\n      <td>Fantasy</td>\n      <td>NaN</td>\n      <td>NaN</td>\n      <td>NaN</td>\n      <td>NaN</td>\n      <td>NaN</td>\n      <td>NaN</td>\n      <td>NaN</td>\n      <td>NaN</td>\n      <td>NaN</td>\n      <td>NaN</td>\n      <td>NaN</td>\n    </tr>\n    <tr>\n      <th>2</th>\n      <td>NaN</td>\n      <td>NaN</td>\n      <td>NaN</td>\n      <td>Comedy</td>\n      <td>NaN</td>\n      <td>NaN</td>\n      <td>NaN</td>\n      <td>NaN</td>\n      <td>NaN</td>\n      <td>NaN</td>\n      <td>NaN</td>\n      <td>NaN</td>\n      <td>NaN</td>\n      <td>NaN</td>\n      <td>Romance</td>\n      <td>NaN</td>\n      <td>NaN</td>\n      <td>NaN</td>\n      <td>NaN</td>\n      <td>NaN</td>\n    </tr>\n    <tr>\n      <th>3</th>\n      <td>NaN</td>\n      <td>NaN</td>\n      <td>NaN</td>\n      <td>Comedy</td>\n      <td>NaN</td>\n      <td>NaN</td>\n      <td>Drama</td>\n      <td>NaN</td>\n      <td>NaN</td>\n      <td>NaN</td>\n      <td>NaN</td>\n      <td>NaN</td>\n      <td>NaN</td>\n      <td>NaN</td>\n      <td>Romance</td>\n      <td>NaN</td>\n      <td>NaN</td>\n      <td>NaN</td>\n      <td>NaN</td>\n      <td>NaN</td>\n    </tr>\n    <tr>\n      <th>4</th>\n      <td>NaN</td>\n      <td>NaN</td>\n      <td>NaN</td>\n      <td>Comedy</td>\n      <td>NaN</td>\n      <td>NaN</td>\n      <td>NaN</td>\n      <td>NaN</td>\n      <td>NaN</td>\n      <td>NaN</td>\n      <td>NaN</td>\n      <td>NaN</td>\n      <td>NaN</td>\n      <td>NaN</td>\n      <td>NaN</td>\n      <td>NaN</td>\n      <td>NaN</td>\n      <td>NaN</td>\n      <td>NaN</td>\n      <td>NaN</td>\n    </tr>\n  </tbody>\n</table>\n</div>"
     },
     "metadata": {},
     "execution_count": 308
    }
   ],
   "source": [
    "genre_df_expanded.head()"
   ]
  },
  {
   "source": [
    "genre_df_expanded.count()"
   ],
   "cell_type": "markdown",
   "metadata": {}
  },
  {
   "source": [
    "### - production_countries"
   ],
   "cell_type": "markdown",
   "metadata": {}
  },
  {
   "cell_type": "code",
   "execution_count": 333,
   "metadata": {},
   "outputs": [],
   "source": [
    "def json_prep(serie):\n",
    "    ''' \n",
    "    Return a pd.Series object with json elements as a pd.Series with python elements\n",
    "    '''\n",
    "    #If '' aren't replaced for \"\", python won't recognise the json file  \n",
    "    serie = serie.str.replace(\"\\'\", \"\\\"\")\n",
    "\n",
    "    #now every element of the series is legible by python   \n",
    "    serie = serie.apply(json.loads)                  \n",
    "    return serie"
   ]
  },
  {
   "cell_type": "code",
   "execution_count": 417,
   "metadata": {},
   "outputs": [],
   "source": [
    "x = movies_df.production_companies.str.replace(\"\\'\", \"\\\"\")\n",
    "s = pd.Series()\n",
    "l = []\n",
    "\n",
    "for el in range(0,len(movies_df)):\n",
    "    try:\n",
    "        s[el] = json.loads(x[el])\n",
    "    except:\n",
    "        l.append(el)"
   ]
  },
  {
   "cell_type": "code",
   "execution_count": 420,
   "metadata": {},
   "outputs": [
    {
     "output_type": "error",
     "ename": "JSONDecodeError",
     "evalue": "Expecting property name enclosed in double quotes: line 1 column 3 (char 2)",
     "traceback": [
      "\u001b[1;31m---------------------------------------------------------------------------\u001b[0m",
      "\u001b[1;31mJSONDecodeError\u001b[0m                           Traceback (most recent call last)",
      "\u001b[1;32m<ipython-input-420-1b84b8c48ba3>\u001b[0m in \u001b[0;36m<module>\u001b[1;34m\u001b[0m\n\u001b[0;32m      1\u001b[0m \u001b[0mdict1\u001b[0m \u001b[1;33m=\u001b[0m \u001b[0mmovies_df\u001b[0m\u001b[1;33m.\u001b[0m\u001b[0mproduction_countries\u001b[0m\u001b[1;33m[\u001b[0m\u001b[1;36m0\u001b[0m\u001b[1;33m]\u001b[0m\u001b[1;33m\u001b[0m\u001b[1;33m\u001b[0m\u001b[0m\n\u001b[1;32m----> 2\u001b[1;33m \u001b[0mjson\u001b[0m\u001b[1;33m.\u001b[0m\u001b[0mloads\u001b[0m\u001b[1;33m(\u001b[0m\u001b[0mdict1\u001b[0m\u001b[1;33m)\u001b[0m\u001b[1;33m\u001b[0m\u001b[1;33m\u001b[0m\u001b[0m\n\u001b[0m",
      "\u001b[1;32m~\\AppData\\Local\\Programs\\Python\\Python39\\lib\\json\\__init__.py\u001b[0m in \u001b[0;36mloads\u001b[1;34m(s, cls, object_hook, parse_float, parse_int, parse_constant, object_pairs_hook, **kw)\u001b[0m\n\u001b[0;32m    344\u001b[0m             \u001b[0mparse_int\u001b[0m \u001b[1;32mis\u001b[0m \u001b[1;32mNone\u001b[0m \u001b[1;32mand\u001b[0m \u001b[0mparse_float\u001b[0m \u001b[1;32mis\u001b[0m \u001b[1;32mNone\u001b[0m \u001b[1;32mand\u001b[0m\u001b[1;33m\u001b[0m\u001b[1;33m\u001b[0m\u001b[0m\n\u001b[0;32m    345\u001b[0m             parse_constant is None and object_pairs_hook is None and not kw):\n\u001b[1;32m--> 346\u001b[1;33m         \u001b[1;32mreturn\u001b[0m \u001b[0m_default_decoder\u001b[0m\u001b[1;33m.\u001b[0m\u001b[0mdecode\u001b[0m\u001b[1;33m(\u001b[0m\u001b[0ms\u001b[0m\u001b[1;33m)\u001b[0m\u001b[1;33m\u001b[0m\u001b[1;33m\u001b[0m\u001b[0m\n\u001b[0m\u001b[0;32m    347\u001b[0m     \u001b[1;32mif\u001b[0m \u001b[0mcls\u001b[0m \u001b[1;32mis\u001b[0m \u001b[1;32mNone\u001b[0m\u001b[1;33m:\u001b[0m\u001b[1;33m\u001b[0m\u001b[1;33m\u001b[0m\u001b[0m\n\u001b[0;32m    348\u001b[0m         \u001b[0mcls\u001b[0m \u001b[1;33m=\u001b[0m \u001b[0mJSONDecoder\u001b[0m\u001b[1;33m\u001b[0m\u001b[1;33m\u001b[0m\u001b[0m\n",
      "\u001b[1;32m~\\AppData\\Local\\Programs\\Python\\Python39\\lib\\json\\decoder.py\u001b[0m in \u001b[0;36mdecode\u001b[1;34m(self, s, _w)\u001b[0m\n\u001b[0;32m    335\u001b[0m \u001b[1;33m\u001b[0m\u001b[0m\n\u001b[0;32m    336\u001b[0m         \"\"\"\n\u001b[1;32m--> 337\u001b[1;33m         \u001b[0mobj\u001b[0m\u001b[1;33m,\u001b[0m \u001b[0mend\u001b[0m \u001b[1;33m=\u001b[0m \u001b[0mself\u001b[0m\u001b[1;33m.\u001b[0m\u001b[0mraw_decode\u001b[0m\u001b[1;33m(\u001b[0m\u001b[0ms\u001b[0m\u001b[1;33m,\u001b[0m \u001b[0midx\u001b[0m\u001b[1;33m=\u001b[0m\u001b[0m_w\u001b[0m\u001b[1;33m(\u001b[0m\u001b[0ms\u001b[0m\u001b[1;33m,\u001b[0m \u001b[1;36m0\u001b[0m\u001b[1;33m)\u001b[0m\u001b[1;33m.\u001b[0m\u001b[0mend\u001b[0m\u001b[1;33m(\u001b[0m\u001b[1;33m)\u001b[0m\u001b[1;33m)\u001b[0m\u001b[1;33m\u001b[0m\u001b[1;33m\u001b[0m\u001b[0m\n\u001b[0m\u001b[0;32m    338\u001b[0m         \u001b[0mend\u001b[0m \u001b[1;33m=\u001b[0m \u001b[0m_w\u001b[0m\u001b[1;33m(\u001b[0m\u001b[0ms\u001b[0m\u001b[1;33m,\u001b[0m \u001b[0mend\u001b[0m\u001b[1;33m)\u001b[0m\u001b[1;33m.\u001b[0m\u001b[0mend\u001b[0m\u001b[1;33m(\u001b[0m\u001b[1;33m)\u001b[0m\u001b[1;33m\u001b[0m\u001b[1;33m\u001b[0m\u001b[0m\n\u001b[0;32m    339\u001b[0m         \u001b[1;32mif\u001b[0m \u001b[0mend\u001b[0m \u001b[1;33m!=\u001b[0m \u001b[0mlen\u001b[0m\u001b[1;33m(\u001b[0m\u001b[0ms\u001b[0m\u001b[1;33m)\u001b[0m\u001b[1;33m:\u001b[0m\u001b[1;33m\u001b[0m\u001b[1;33m\u001b[0m\u001b[0m\n",
      "\u001b[1;32m~\\AppData\\Local\\Programs\\Python\\Python39\\lib\\json\\decoder.py\u001b[0m in \u001b[0;36mraw_decode\u001b[1;34m(self, s, idx)\u001b[0m\n\u001b[0;32m    351\u001b[0m         \"\"\"\n\u001b[0;32m    352\u001b[0m         \u001b[1;32mtry\u001b[0m\u001b[1;33m:\u001b[0m\u001b[1;33m\u001b[0m\u001b[1;33m\u001b[0m\u001b[0m\n\u001b[1;32m--> 353\u001b[1;33m             \u001b[0mobj\u001b[0m\u001b[1;33m,\u001b[0m \u001b[0mend\u001b[0m \u001b[1;33m=\u001b[0m \u001b[0mself\u001b[0m\u001b[1;33m.\u001b[0m\u001b[0mscan_once\u001b[0m\u001b[1;33m(\u001b[0m\u001b[0ms\u001b[0m\u001b[1;33m,\u001b[0m \u001b[0midx\u001b[0m\u001b[1;33m)\u001b[0m\u001b[1;33m\u001b[0m\u001b[1;33m\u001b[0m\u001b[0m\n\u001b[0m\u001b[0;32m    354\u001b[0m         \u001b[1;32mexcept\u001b[0m \u001b[0mStopIteration\u001b[0m \u001b[1;32mas\u001b[0m \u001b[0merr\u001b[0m\u001b[1;33m:\u001b[0m\u001b[1;33m\u001b[0m\u001b[1;33m\u001b[0m\u001b[0m\n\u001b[0;32m    355\u001b[0m             \u001b[1;32mraise\u001b[0m \u001b[0mJSONDecodeError\u001b[0m\u001b[1;33m(\u001b[0m\u001b[1;34m\"Expecting value\"\u001b[0m\u001b[1;33m,\u001b[0m \u001b[0ms\u001b[0m\u001b[1;33m,\u001b[0m \u001b[0merr\u001b[0m\u001b[1;33m.\u001b[0m\u001b[0mvalue\u001b[0m\u001b[1;33m)\u001b[0m \u001b[1;32mfrom\u001b[0m \u001b[1;32mNone\u001b[0m\u001b[1;33m\u001b[0m\u001b[1;33m\u001b[0m\u001b[0m\n",
      "\u001b[1;31mJSONDecodeError\u001b[0m: Expecting property name enclosed in double quotes: line 1 column 3 (char 2)"
     ]
    }
   ],
   "source": [
    "dict1 = movies_df.production_countries[0]\n",
    "json.loads(dict1)"
   ]
  },
  {
   "cell_type": "code",
   "execution_count": 359,
   "metadata": {},
   "outputs": [
    {
     "output_type": "execute_result",
     "data": {
      "text/plain": [
       "45463"
      ]
     },
     "metadata": {},
     "execution_count": 359
    }
   ],
   "source": [
    "len(movies_df)"
   ]
  },
  {
   "cell_type": "code",
   "execution_count": 353,
   "metadata": {},
   "outputs": [],
   "source": [
    "def series_dict_to_series_list(serie, use_key, inplace=False):\n",
    "    '''\n",
    "    Args:\n",
    "        serie (pd.Series)\n",
    "        use_key (str): key name to select from series' dicts\n",
    "        inplace (bool): bool to indicate if serie is to be replaced by the new series\n",
    "\n",
    "\n",
    "    From serie (pd.Series of dicts) return the useful information from the dict (use_key) as in list form \n",
    "    '''\n",
    "    serie = json_prep(serie)\n",
    "\n",
    "    uniq_vals = set({})\n",
    "\n",
    "    for i, element in enumerate(serie):\n",
    "        val_list = []\n",
    "        for dictio in element:\n",
    "            val_list.append(dictio[use_key])\n",
    "            uniq_vals.add(dictio[use_key])\n",
    "        if i == 0:\n",
    "            serie_dictio = {i: [val_list]}\n",
    "        else:\n",
    "            serie_dictio[i] = [val_list]\n",
    "\n",
    "    print(f'Número de elemenos únicos ---> {len(uniq_vals)}\\n', 'Todos los elementos únicos de la columna:\\n',         uniq_vals)\n",
    "    serie_df = pd.DataFrame.from_dict(serie_dictio, orient='index', columns=[serie.name])\n",
    "    if inplace == True:\n",
    "        serie = serie_df\n",
    "    else:\n",
    "        return genre_df"
   ]
  },
  {
   "cell_type": "code",
   "execution_count": 338,
   "metadata": {},
   "outputs": [
    {
     "output_type": "error",
     "ename": "JSONDecodeError",
     "evalue": "Expecting ',' delimiter: line 1 column 39 (char 38)",
     "traceback": [
      "\u001b[1;31m---------------------------------------------------------------------------\u001b[0m",
      "\u001b[1;31mJSONDecodeError\u001b[0m                           Traceback (most recent call last)",
      "\u001b[1;32m<ipython-input-338-c1564783cc4c>\u001b[0m in \u001b[0;36m<module>\u001b[1;34m\u001b[0m\n\u001b[1;32m----> 1\u001b[1;33m \u001b[0mseries_dict_to_series_list\u001b[0m\u001b[1;33m(\u001b[0m\u001b[0mserie\u001b[0m\u001b[1;33m=\u001b[0m\u001b[0mmovies_df\u001b[0m\u001b[1;33m.\u001b[0m\u001b[0mproduction_countries\u001b[0m\u001b[1;33m,\u001b[0m \u001b[0muse_key\u001b[0m\u001b[1;33m=\u001b[0m\u001b[1;34m'name'\u001b[0m\u001b[1;33m)\u001b[0m\u001b[1;33m\u001b[0m\u001b[1;33m\u001b[0m\u001b[0m\n\u001b[0m",
      "\u001b[1;32m<ipython-input-337-56ab801266d2>\u001b[0m in \u001b[0;36mseries_dict_to_series_list\u001b[1;34m(serie, use_key, inplace)\u001b[0m\n\u001b[0;32m      9\u001b[0m     \u001b[0mFrom\u001b[0m \u001b[0mserie\u001b[0m \u001b[1;33m(\u001b[0m\u001b[0mpd\u001b[0m\u001b[1;33m.\u001b[0m\u001b[0mSeries\u001b[0m \u001b[0mof\u001b[0m \u001b[0mdicts\u001b[0m\u001b[1;33m)\u001b[0m \u001b[1;32mreturn\u001b[0m \u001b[0mthe\u001b[0m \u001b[0museful\u001b[0m \u001b[0minformation\u001b[0m \u001b[1;32mfrom\u001b[0m \u001b[0mthe\u001b[0m \u001b[0mdict\u001b[0m \u001b[1;33m(\u001b[0m\u001b[0muse_key\u001b[0m\u001b[1;33m)\u001b[0m \u001b[1;32mas\u001b[0m \u001b[1;32min\u001b[0m \u001b[0mlist\u001b[0m \u001b[0mform\u001b[0m\u001b[1;33m\u001b[0m\u001b[1;33m\u001b[0m\u001b[0m\n\u001b[0;32m     10\u001b[0m     '''\n\u001b[1;32m---> 11\u001b[1;33m     \u001b[0mserie\u001b[0m \u001b[1;33m=\u001b[0m \u001b[0mjson_prep\u001b[0m\u001b[1;33m(\u001b[0m\u001b[0mserie\u001b[0m\u001b[1;33m)\u001b[0m\u001b[1;33m\u001b[0m\u001b[1;33m\u001b[0m\u001b[0m\n\u001b[0m\u001b[0;32m     12\u001b[0m \u001b[1;33m\u001b[0m\u001b[0m\n\u001b[0;32m     13\u001b[0m     \u001b[0muniq_vals\u001b[0m \u001b[1;33m=\u001b[0m \u001b[0mset\u001b[0m\u001b[1;33m(\u001b[0m\u001b[1;33m{\u001b[0m\u001b[1;33m}\u001b[0m\u001b[1;33m)\u001b[0m\u001b[1;33m\u001b[0m\u001b[1;33m\u001b[0m\u001b[0m\n",
      "\u001b[1;32m<ipython-input-333-dcf4676e0d1a>\u001b[0m in \u001b[0;36mjson_prep\u001b[1;34m(serie)\u001b[0m\n\u001b[0;32m      7\u001b[0m \u001b[1;33m\u001b[0m\u001b[0m\n\u001b[0;32m      8\u001b[0m     \u001b[1;31m#now every element of the series is legible by python\u001b[0m\u001b[1;33m\u001b[0m\u001b[1;33m\u001b[0m\u001b[1;33m\u001b[0m\u001b[0m\n\u001b[1;32m----> 9\u001b[1;33m     \u001b[0mserie\u001b[0m \u001b[1;33m=\u001b[0m \u001b[0mserie\u001b[0m\u001b[1;33m.\u001b[0m\u001b[0mapply\u001b[0m\u001b[1;33m(\u001b[0m\u001b[0mjson\u001b[0m\u001b[1;33m.\u001b[0m\u001b[0mloads\u001b[0m\u001b[1;33m)\u001b[0m\u001b[1;33m\u001b[0m\u001b[1;33m\u001b[0m\u001b[0m\n\u001b[0m\u001b[0;32m     10\u001b[0m     \u001b[1;32mreturn\u001b[0m \u001b[0mserie\u001b[0m\u001b[1;33m\u001b[0m\u001b[1;33m\u001b[0m\u001b[0m\n",
      "\u001b[1;32m~\\AppData\\Local\\Programs\\Python\\Python39\\lib\\site-packages\\pandas\\core\\series.py\u001b[0m in \u001b[0;36mapply\u001b[1;34m(self, func, convert_dtype, args, **kwds)\u001b[0m\n\u001b[0;32m   4211\u001b[0m             \u001b[1;32melse\u001b[0m\u001b[1;33m:\u001b[0m\u001b[1;33m\u001b[0m\u001b[1;33m\u001b[0m\u001b[0m\n\u001b[0;32m   4212\u001b[0m                 \u001b[0mvalues\u001b[0m \u001b[1;33m=\u001b[0m \u001b[0mself\u001b[0m\u001b[1;33m.\u001b[0m\u001b[0mastype\u001b[0m\u001b[1;33m(\u001b[0m\u001b[0mobject\u001b[0m\u001b[1;33m)\u001b[0m\u001b[1;33m.\u001b[0m\u001b[0m_values\u001b[0m\u001b[1;33m\u001b[0m\u001b[1;33m\u001b[0m\u001b[0m\n\u001b[1;32m-> 4213\u001b[1;33m                 \u001b[0mmapped\u001b[0m \u001b[1;33m=\u001b[0m \u001b[0mlib\u001b[0m\u001b[1;33m.\u001b[0m\u001b[0mmap_infer\u001b[0m\u001b[1;33m(\u001b[0m\u001b[0mvalues\u001b[0m\u001b[1;33m,\u001b[0m \u001b[0mf\u001b[0m\u001b[1;33m,\u001b[0m \u001b[0mconvert\u001b[0m\u001b[1;33m=\u001b[0m\u001b[0mconvert_dtype\u001b[0m\u001b[1;33m)\u001b[0m\u001b[1;33m\u001b[0m\u001b[1;33m\u001b[0m\u001b[0m\n\u001b[0m\u001b[0;32m   4214\u001b[0m \u001b[1;33m\u001b[0m\u001b[0m\n\u001b[0;32m   4215\u001b[0m         \u001b[1;32mif\u001b[0m \u001b[0mlen\u001b[0m\u001b[1;33m(\u001b[0m\u001b[0mmapped\u001b[0m\u001b[1;33m)\u001b[0m \u001b[1;32mand\u001b[0m \u001b[0misinstance\u001b[0m\u001b[1;33m(\u001b[0m\u001b[0mmapped\u001b[0m\u001b[1;33m[\u001b[0m\u001b[1;36m0\u001b[0m\u001b[1;33m]\u001b[0m\u001b[1;33m,\u001b[0m \u001b[0mSeries\u001b[0m\u001b[1;33m)\u001b[0m\u001b[1;33m:\u001b[0m\u001b[1;33m\u001b[0m\u001b[1;33m\u001b[0m\u001b[0m\n",
      "\u001b[1;32mpandas\\_libs\\lib.pyx\u001b[0m in \u001b[0;36mpandas._libs.lib.map_infer\u001b[1;34m()\u001b[0m\n",
      "\u001b[1;32m~\\AppData\\Local\\Programs\\Python\\Python39\\lib\\json\\__init__.py\u001b[0m in \u001b[0;36mloads\u001b[1;34m(s, cls, object_hook, parse_float, parse_int, parse_constant, object_pairs_hook, **kw)\u001b[0m\n\u001b[0;32m    344\u001b[0m             \u001b[0mparse_int\u001b[0m \u001b[1;32mis\u001b[0m \u001b[1;32mNone\u001b[0m \u001b[1;32mand\u001b[0m \u001b[0mparse_float\u001b[0m \u001b[1;32mis\u001b[0m \u001b[1;32mNone\u001b[0m \u001b[1;32mand\u001b[0m\u001b[1;33m\u001b[0m\u001b[1;33m\u001b[0m\u001b[0m\n\u001b[0;32m    345\u001b[0m             parse_constant is None and object_pairs_hook is None and not kw):\n\u001b[1;32m--> 346\u001b[1;33m         \u001b[1;32mreturn\u001b[0m \u001b[0m_default_decoder\u001b[0m\u001b[1;33m.\u001b[0m\u001b[0mdecode\u001b[0m\u001b[1;33m(\u001b[0m\u001b[0ms\u001b[0m\u001b[1;33m)\u001b[0m\u001b[1;33m\u001b[0m\u001b[1;33m\u001b[0m\u001b[0m\n\u001b[0m\u001b[0;32m    347\u001b[0m     \u001b[1;32mif\u001b[0m \u001b[0mcls\u001b[0m \u001b[1;32mis\u001b[0m \u001b[1;32mNone\u001b[0m\u001b[1;33m:\u001b[0m\u001b[1;33m\u001b[0m\u001b[1;33m\u001b[0m\u001b[0m\n\u001b[0;32m    348\u001b[0m         \u001b[0mcls\u001b[0m \u001b[1;33m=\u001b[0m \u001b[0mJSONDecoder\u001b[0m\u001b[1;33m\u001b[0m\u001b[1;33m\u001b[0m\u001b[0m\n",
      "\u001b[1;32m~\\AppData\\Local\\Programs\\Python\\Python39\\lib\\json\\decoder.py\u001b[0m in \u001b[0;36mdecode\u001b[1;34m(self, s, _w)\u001b[0m\n\u001b[0;32m    335\u001b[0m \u001b[1;33m\u001b[0m\u001b[0m\n\u001b[0;32m    336\u001b[0m         \"\"\"\n\u001b[1;32m--> 337\u001b[1;33m         \u001b[0mobj\u001b[0m\u001b[1;33m,\u001b[0m \u001b[0mend\u001b[0m \u001b[1;33m=\u001b[0m \u001b[0mself\u001b[0m\u001b[1;33m.\u001b[0m\u001b[0mraw_decode\u001b[0m\u001b[1;33m(\u001b[0m\u001b[0ms\u001b[0m\u001b[1;33m,\u001b[0m \u001b[0midx\u001b[0m\u001b[1;33m=\u001b[0m\u001b[0m_w\u001b[0m\u001b[1;33m(\u001b[0m\u001b[0ms\u001b[0m\u001b[1;33m,\u001b[0m \u001b[1;36m0\u001b[0m\u001b[1;33m)\u001b[0m\u001b[1;33m.\u001b[0m\u001b[0mend\u001b[0m\u001b[1;33m(\u001b[0m\u001b[1;33m)\u001b[0m\u001b[1;33m)\u001b[0m\u001b[1;33m\u001b[0m\u001b[1;33m\u001b[0m\u001b[0m\n\u001b[0m\u001b[0;32m    338\u001b[0m         \u001b[0mend\u001b[0m \u001b[1;33m=\u001b[0m \u001b[0m_w\u001b[0m\u001b[1;33m(\u001b[0m\u001b[0ms\u001b[0m\u001b[1;33m,\u001b[0m \u001b[0mend\u001b[0m\u001b[1;33m)\u001b[0m\u001b[1;33m.\u001b[0m\u001b[0mend\u001b[0m\u001b[1;33m(\u001b[0m\u001b[1;33m)\u001b[0m\u001b[1;33m\u001b[0m\u001b[1;33m\u001b[0m\u001b[0m\n\u001b[0;32m    339\u001b[0m         \u001b[1;32mif\u001b[0m \u001b[0mend\u001b[0m \u001b[1;33m!=\u001b[0m \u001b[0mlen\u001b[0m\u001b[1;33m(\u001b[0m\u001b[0ms\u001b[0m\u001b[1;33m)\u001b[0m\u001b[1;33m:\u001b[0m\u001b[1;33m\u001b[0m\u001b[1;33m\u001b[0m\u001b[0m\n",
      "\u001b[1;32m~\\AppData\\Local\\Programs\\Python\\Python39\\lib\\json\\decoder.py\u001b[0m in \u001b[0;36mraw_decode\u001b[1;34m(self, s, idx)\u001b[0m\n\u001b[0;32m    351\u001b[0m         \"\"\"\n\u001b[0;32m    352\u001b[0m         \u001b[1;32mtry\u001b[0m\u001b[1;33m:\u001b[0m\u001b[1;33m\u001b[0m\u001b[1;33m\u001b[0m\u001b[0m\n\u001b[1;32m--> 353\u001b[1;33m             \u001b[0mobj\u001b[0m\u001b[1;33m,\u001b[0m \u001b[0mend\u001b[0m \u001b[1;33m=\u001b[0m \u001b[0mself\u001b[0m\u001b[1;33m.\u001b[0m\u001b[0mscan_once\u001b[0m\u001b[1;33m(\u001b[0m\u001b[0ms\u001b[0m\u001b[1;33m,\u001b[0m \u001b[0midx\u001b[0m\u001b[1;33m)\u001b[0m\u001b[1;33m\u001b[0m\u001b[1;33m\u001b[0m\u001b[0m\n\u001b[0m\u001b[0;32m    354\u001b[0m         \u001b[1;32mexcept\u001b[0m \u001b[0mStopIteration\u001b[0m \u001b[1;32mas\u001b[0m \u001b[0merr\u001b[0m\u001b[1;33m:\u001b[0m\u001b[1;33m\u001b[0m\u001b[1;33m\u001b[0m\u001b[0m\n\u001b[0;32m    355\u001b[0m             \u001b[1;32mraise\u001b[0m \u001b[0mJSONDecodeError\u001b[0m\u001b[1;33m(\u001b[0m\u001b[1;34m\"Expecting value\"\u001b[0m\u001b[1;33m,\u001b[0m \u001b[0ms\u001b[0m\u001b[1;33m,\u001b[0m \u001b[0merr\u001b[0m\u001b[1;33m.\u001b[0m\u001b[0mvalue\u001b[0m\u001b[1;33m)\u001b[0m \u001b[1;32mfrom\u001b[0m \u001b[1;32mNone\u001b[0m\u001b[1;33m\u001b[0m\u001b[1;33m\u001b[0m\u001b[0m\n",
      "\u001b[1;31mJSONDecodeError\u001b[0m: Expecting ',' delimiter: line 1 column 39 (char 38)"
     ]
    }
   ],
   "source": [
    "series_dict_to_series_list(serie=movies_df.production_countries, use_key='name')"
   ]
  },
  {
   "cell_type": "code",
   "execution_count": null,
   "metadata": {},
   "outputs": [],
   "source": [
    "\n",
    "generos = set({})\n",
    "\n",
    "for i, element in enumerate(movies_df.genres):\n",
    "    genre_list = []\n",
    "    for dictio in element:\n",
    "        genre_list.append(dictio['name'])\n",
    "        generos.add(dictio['name'])\n",
    "    if i == 0:\n",
    "        genres_dictio = {i: [genre_list]}\n",
    "    else:\n",
    "        genres_dictio[i] = [genre_list]\n",
    "  \n",
    "print(f'Número de elemenos únicos ---> {len(generos)}\\n', 'Todos los elementos únicos de la columna:\\n', generos)\n",
    "genre_df = pd.DataFrame.from_dict(genres_dictio, orient='index', columns=['Genres'])\n",
    "genre_df"
   ]
  },
  {
   "cell_type": "code",
   "execution_count": null,
   "metadata": {},
   "outputs": [],
   "source": [
    "genres_df_dict = pd.DataFrame.from_dict(genre_df.Genres.apply(lambda x: {gen : gen for gen in x}))\n",
    "genres_df_dict.head(3)\n",
    "\n",
    "genre_df_expanded = pd.DataFrame(dict([ (k,pd.Series(v)) for k,v in genres_df_dict.Genres.items() ])).transpose()"
   ]
  },
  {
   "cell_type": "code",
   "execution_count": null,
   "metadata": {},
   "outputs": [],
   "source": [
    "## Data Exploration"
   ]
  }
 ]
}