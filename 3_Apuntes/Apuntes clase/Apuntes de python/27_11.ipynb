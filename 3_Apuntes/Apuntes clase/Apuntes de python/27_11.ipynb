{
 "metadata": {
  "language_info": {
   "codemirror_mode": {
    "name": "ipython",
    "version": 3
   },
   "file_extension": ".py",
   "mimetype": "text/x-python",
   "name": "python",
   "nbconvert_exporter": "python",
   "pygments_lexer": "ipython3",
   "version": "3.9.0-final"
  },
  "orig_nbformat": 2,
  "kernelspec": {
   "name": "python3",
   "display_name": "Python 3.9.0 64-bit",
   "metadata": {
    "interpreter": {
     "hash": "cf85b414d3663472de89104473c842eaab37d7b845999caf56a47ccda76ea2f8"
    }
   }
  }
 },
 "nbformat": 4,
 "nbformat_minor": 2,
 "cells": [
  {
   "source": [
    "### Zip"
   ],
   "cell_type": "markdown",
   "metadata": {}
  },
  {
   "cell_type": "code",
   "execution_count": 1,
   "metadata": {},
   "outputs": [
    {
     "output_type": "stream",
     "name": "stdout",
     "text": [
      "<zip object at 0x0000020D067D4700>\n[(4, 3), (9, 2), (4, 1)]\n"
     ]
    }
   ],
   "source": [
    "# La función 'zip()' recoge los elementos de dos listas de misma longitud y los agrupa en tuplas según su posición en su lista.\n",
    "\n",
    "#Ejemplo\n",
    "\n",
    "l1 = [4, 9, 4]\n",
    "l2 = [3, 2, 1]\n",
    "\n",
    "listas_zip = zip(l1, l2)\n",
    "print(listas_zip)\n",
    "\n",
    "listas_zip = list(zip(l1, l2)) #Si convertimos lo que devuelve el zip a una lista, podemos acceder a sus                                         elementos\n",
    "print(listas_zip)"
   ]
  },
  {
   "cell_type": "code",
   "execution_count": 9,
   "metadata": {},
   "outputs": [
    {
     "output_type": "stream",
     "name": "stdout",
     "text": [
      "(4, 3)\n(9, 2)\n(4, 1)\n4 ---> 3\n9 ---> 2\n4 ---> 1\n"
     ]
    }
   ],
   "source": [
    "# Acceso a elementos:\n",
    "\n",
    "for elem in listas_zip: #Accedemos a cada elemento de la nueva lista, i.e. las tuplas generadas\n",
    "    print(elem)\n",
    "\n",
    "for e1, e2 in listas_zip: #Accedemos a cada elemento de cada tupla de la nueva lista\n",
    "    print(e1, '--->', e2)\n"
   ]
  },
  {
   "cell_type": "code",
   "execution_count": 14,
   "metadata": {},
   "outputs": [
    {
     "output_type": "execute_result",
     "data": {
      "text/plain": [
       "{4: 1, 9: 2}"
      ]
     },
     "metadata": {},
     "execution_count": 14
    }
   ],
   "source": [
    "# Se crean tambien diccionarios utilizando el comando 'dict'. De esta forma las 'keys' corresponden a los elementos de la primera lista y los 'values' a los de la segunda:\n",
    "\n",
    "l1 = [4, 9, 4]\n",
    "l2 = [3, 2, 1]\n",
    "\n",
    "dict_through_zip = dict(zip(l1, l2))\n",
    "dict_through_zip # En este caso, como no puede haber más de una 'key' con mismo nombre, se elimina uno de los                       elementos \"repetidos\""
   ]
  },
  {
   "cell_type": "code",
   "execution_count": 15,
   "metadata": {},
   "outputs": [
    {
     "output_type": "stream",
     "name": "stdout",
     "text": [
      "[(5, 'p', 'a'), (3, 4, 'b'), (2, 'g', 'c')]\n"
     ]
    }
   ],
   "source": [
    "# Con 'zip()' se pueden unir más de dos listas (o/y otro tipo de colecciones)\n",
    "\n",
    "l1 = [5, 3, 2]\n",
    "t1 = ('p', 4, 'g', 'se queda fuera')\n",
    "s1 = 'abc'\n",
    "\n",
    "nueva_lista = list(zip(l1, t1, s1)) #Se generan tantas tuplas como la longitud de la colección menor y elementos                                      en tuplas como colecciones haya. En este caso, 3 tuplas de 3 elementos cada                                      una\n",
    "print(nueva_lista) #si alguna colección supera la lóngitud de la colección de menos longitud, los elementos                          superiores no se consideran"
   ]
  },
  {
   "source": [
    "### List/Dict comprehension"
   ],
   "cell_type": "markdown",
   "metadata": {}
  },
  {
   "cell_type": "code",
   "execution_count": 16,
   "metadata": {},
   "outputs": [
    {
     "output_type": "execute_result",
     "data": {
      "text/plain": [
       "[2, 'x', 'h']"
      ]
     },
     "metadata": {},
     "execution_count": 16
    }
   ],
   "source": [
    "l = [elem for elem in [2, \"x\", \"h\"]]\n",
    "print(l)\n",
    "\n",
    "# Se genera una lista añadiendo 'elem' a ella cogiendo los valores que recorre el bucle for"
   ]
  },
  {
   "cell_type": "code",
   "execution_count": null,
   "metadata": {},
   "outputs": [],
   "source": [
    "p = 0\n",
    "l = [p for elem in [2, \"x\", \"h\"]]\n",
    "\n",
    "# En este caso se añade el valor de 'p' por cada iteración del bucle 'for'"
   ]
  },
  {
   "cell_type": "code",
   "execution_count": 18,
   "metadata": {},
   "outputs": [
    {
     "output_type": "execute_result",
     "data": {
      "text/plain": [
       "[2, 9]"
      ]
     },
     "metadata": {},
     "execution_count": 18
    }
   ],
   "source": [
    "# A esta forma de generación de listas se le puede incluir un condicional que obedezca a algún interés. Se hace    añadiendo un 'if statement' a la línea\n",
    "\n",
    "p = 0\n",
    "l = [elem for elem in [2, 5.0, 9] if isinstance(elem, int)] #se añade un elemento a la lista siempre que se                                                                   cumpla la condición. En este caso, si el elemento a                                                              añadir es un 'int'\n",
    "print(l)"
   ]
  },
  {
   "cell_type": "code",
   "execution_count": 20,
   "metadata": {},
   "outputs": [
    {
     "output_type": "stream",
     "name": "stdout",
     "text": [
      "[1.0, 4.5]\n"
     ]
    }
   ],
   "source": [
    "l = [elem/2 for elem in [2, 5.0, 9] if isinstance(elem, int)] \n",
    "print(l)\n",
    "\n",
    "# 'elem/2' sí se añade a la lista. Esto es porque el 'if' se ejecuta despues del 'for', pero antes de la última     acción, que es añadir 'elem/2' a la lista. Escrito de otra forma:\n",
    "#       l = []\n",
    "#       for elem in [2, 5.0, 9]:\n",
    "#           if isinstance(elem, int):  #igual a: if type(elem) == int:\n",
    "#               add_to_list = elem/2\n",
    "#              l.append(add_to_list)\n",
    "#       print(l)\n"
   ]
  },
  {
   "cell_type": "code",
   "execution_count": 22,
   "metadata": {},
   "outputs": [
    {
     "output_type": "stream",
     "name": "stdout",
     "text": [
      "{'aa': 2, 'bb': 4, 'cc': 6, 'dd': 8, 'ee': 10}\n"
     ]
    }
   ],
   "source": [
    "#Dict comprehension\n",
    "dict1 = {'a': 1, 'b': 2, 'c': 3, 'd': 4, 'e': 5}\n",
    "\n",
    "double_dict1 = {(k*2):(v*2) for (k,v) in dict1.items()}\n",
    "print(double_dict1)"
   ]
  },
  {
   "cell_type": "code",
   "execution_count": 23,
   "metadata": {},
   "outputs": [
    {
     "output_type": "stream",
     "name": "stdout",
     "text": [
      "{'cc': 6, 'dd': 8, 'ee': 10}\n"
     ]
    }
   ],
   "source": [
    "# 'Dict comprehension' con condicional 'if'\n",
    "dict1 = {'a': 1, 'b': 2, 'c': 3, 'd': 4, 'e': 5}\n",
    "\n",
    "double_dict1 = {(k*2):(v*2) for (k,v) in dict1.items() if v >2}\n",
    "print(double_dict1)"
   ]
  },
  {
   "cell_type": "code",
   "execution_count": 1,
   "metadata": {},
   "outputs": [
    {
     "output_type": "execute_result",
     "data": {
      "text/plain": [
       "[2, 2, 2, 2, 4]"
      ]
     },
     "metadata": {},
     "execution_count": 1
    }
   ],
   "source": [
    "# 'Else' list comprehension\n",
    "\n",
    "l = [x if x > 3 else 2 for x in range(5)]\n",
    "l\n",
    "\n",
    "# Cuando hay un 'else' en la expresión, se debe poner toda la expresión 'if-else' a la izquierda del bucle 'for'"
   ]
  },
  {
   "source": [
    "### Recursividad"
   ],
   "cell_type": "markdown",
   "metadata": {}
  },
  {
   "cell_type": "code",
   "execution_count": 25,
   "metadata": {},
   "outputs": [
    {
     "output_type": "stream",
     "name": "stdout",
     "text": [
      "Valor de cont: 2\nValor de cont: 1\nCASO BASE\nValor de cont: 0\n0\n"
     ]
    }
   ],
   "source": [
    "# Se dice que una función es recursiva cuando se llama a sí misma dentro de su definición\n",
    "\n",
    "# def p():\n",
    "#    print('hola')\n",
    "#    p()\n",
    "\n",
    "# Esta función se llama a sí misma (p()). En este caso cae en un bucle infinito"
   ]
  },
  {
   "cell_type": "code",
   "execution_count": 26,
   "metadata": {},
   "outputs": [
    {
     "output_type": "stream",
     "name": "stdout",
     "text": [
      "Valor de cont: 2\nValor de cont: 1\nCASO BASE\nValor de cont: 0\nNone\n"
     ]
    }
   ],
   "source": [
    "# Para evitar caer en bucles infinitos:\n",
    "\n",
    "def f1(cont):\n",
    "    if cont == 0:\n",
    "        print(\"CASO BASE\")\n",
    "        print(\"Valor de cont:\", cont)\n",
    "        return cont\n",
    "    else:\n",
    "        print(\"Valor de cont:\", cont)\n",
    "        f1(cont=cont-1)\n",
    "\n",
    "r = f1(cont = 2)\n",
    "print(r)\n",
    "\n",
    "# Podemos ver como lo que retorna la función es 'None'. Esto es porque devuelve lo que devuelve la primera       ejecución de la función y, en este caso, no llegó a cumplir la condición de 'if' y acceder al comando return. Esto no ocurrió hasta la 3 iteración."
   ]
  },
  {
   "cell_type": "code",
   "execution_count": null,
   "metadata": {},
   "outputs": [],
   "source": [
    "# ¿Cómo conseguir que devuelva un valor?\n",
    "\n",
    "def f1(cont):\n",
    "    if cont == 0:\n",
    "        print(\"CASO BASE\")\n",
    "        print(\"Valor de cont:\", cont)\n",
    "        return cont\n",
    "    else:\n",
    "        print(\"Valor de cont:\", cont)\n",
    "        return f1(cont=cont-1)    #VEMOS COMO INCLUIMOS UN RETURN EN ESTA LÍNEA\n",
    "\n",
    "r = f1(cont = 2)\n",
    "print(r)\n",
    "\n",
    "# Ahora sí se consigue asignar un valor a la variable 'r'. Esto es porque en la tercera iteración, la cual llamó a la función 'f1' por tercera vez, recibió lo que hay debajo de la condición 'if', y a su vez retornó este valor a la anterior llamada a la función (iteración 2) y esta a la primera."
   ]
  }
 ]
}