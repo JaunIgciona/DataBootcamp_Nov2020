{
 "metadata": {
  "language_info": {
   "codemirror_mode": {
    "name": "ipython",
    "version": 3
   },
   "file_extension": ".py",
   "mimetype": "text/x-python",
   "name": "python",
   "nbconvert_exporter": "python",
   "pygments_lexer": "ipython3",
   "version": "3.9.0-final"
  },
  "orig_nbformat": 2,
  "kernelspec": {
   "name": "python3",
   "display_name": "Python 3.9.0 64-bit",
   "metadata": {
    "interpreter": {
     "hash": "cf85b414d3663472de89104473c842eaab37d7b845999caf56a47ccda76ea2f8"
    }
   }
  }
 },
 "nbformat": 4,
 "nbformat_minor": 2,
 "cells": [
  {
   "cell_type": "code",
   "execution_count": 1,
   "metadata": {},
   "outputs": [],
   "source": [
    "import pandas as pd\n",
    "import sqlite3"
   ]
  },
  {
   "cell_type": "code",
   "execution_count": 14,
   "metadata": {},
   "outputs": [],
   "source": [
    "dir_db = 'sql-murder-mystery.db'\n",
    "conn = sqlite3.connect(dir_db)\n",
    "cursor =  conn.cursor()"
   ]
  },
  {
   "cell_type": "code",
   "execution_count": 20,
   "metadata": {},
   "outputs": [
    {
     "output_type": "execute_result",
     "data": {
      "text/plain": [
       "array([['Security footage shows that there were 2 witnesses. The first witness lives at the last house on \"Northwestern Dr\". The second witness, named Annabel, lives somewhere on \"Franklin Ave\".']],\n",
       "      dtype=object)"
      ]
     },
     "metadata": {},
     "execution_count": 20
    }
   ],
   "source": [
    "query = '''\n",
    "SELECT description\n",
    "FROM crime_scene_report\n",
    "WHERE date = '20180115' and type = 'murder' and city = 'SQL City'\n",
    "'''\n",
    "\n",
    "pd.read_sql_query(query, conn).values"
   ]
  },
  {
   "cell_type": "code",
   "execution_count": 26,
   "metadata": {},
   "outputs": [
    {
     "output_type": "execute_result",
     "data": {
      "text/plain": [
       "      id            name  license_id  address_number address_street_name  \\\n",
       "0  14887  Morty Schapiro      118009            4919     Northwestern Dr   \n",
       "\n",
       "         ssn  \n",
       "0  111564949  "
      ],
      "text/html": "<div>\n<style scoped>\n    .dataframe tbody tr th:only-of-type {\n        vertical-align: middle;\n    }\n\n    .dataframe tbody tr th {\n        vertical-align: top;\n    }\n\n    .dataframe thead th {\n        text-align: right;\n    }\n</style>\n<table border=\"1\" class=\"dataframe\">\n  <thead>\n    <tr style=\"text-align: right;\">\n      <th></th>\n      <th>id</th>\n      <th>name</th>\n      <th>license_id</th>\n      <th>address_number</th>\n      <th>address_street_name</th>\n      <th>ssn</th>\n    </tr>\n  </thead>\n  <tbody>\n    <tr>\n      <th>0</th>\n      <td>14887</td>\n      <td>Morty Schapiro</td>\n      <td>118009</td>\n      <td>4919</td>\n      <td>Northwestern Dr</td>\n      <td>111564949</td>\n    </tr>\n  </tbody>\n</table>\n</div>"
     },
     "metadata": {},
     "execution_count": 26
    }
   ],
   "source": [
    "query = '''\n",
    "SELECT *\n",
    "FROM person\n",
    "WHERE address_street_name = \"Northwestern Dr\"\n",
    "ORDER BY address_number DESC\n",
    "'''\n",
    "\n",
    "pd.read_sql_query(query, conn).head(1)"
   ]
  },
  {
   "cell_type": "code",
   "execution_count": 33,
   "metadata": {},
   "outputs": [
    {
     "output_type": "execute_result",
     "data": {
      "text/plain": [
       "id                              16371\n",
       "name                   Annabel Miller\n",
       "license_id                     490173\n",
       "address_number                    103\n",
       "address_street_name      Franklin Ave\n",
       "ssn                         318771143\n",
       "Name: 1, dtype: object"
      ]
     },
     "metadata": {},
     "execution_count": 33
    }
   ],
   "source": [
    "query = '''\n",
    "SELECT *\n",
    "FROM person\n",
    "WHERE address_street_name = \"Franklin Ave\"\n",
    "'''\n",
    "\n",
    "pd.read_sql_query(query, conn).iloc[1]"
   ]
  },
  {
   "cell_type": "code",
   "execution_count": 45,
   "metadata": {},
   "outputs": [
    {
     "output_type": "execute_result",
     "data": {
      "text/plain": [
       "array(['I heard a gunshot and then saw a man run out. He had a \"Get Fit Now Gym\" bag. The membership number on the bag started with \"48Z\". Only gold members have those bags. The man got into a car with a plate that included \"H42W\".',\n",
       "       'I saw the murder happen, and I recognized the killer from my gym when I was working out last week on January the 9th.'],\n",
       "      dtype=object)"
      ]
     },
     "metadata": {},
     "execution_count": 45
    }
   ],
   "source": [
    "query = '''\n",
    "SELECT p.name, int.*\n",
    "FROM person as p\n",
    "JOIN interview int ON p.Id = int.person_Id\n",
    "WHERE p.name = \"Annabel Miller\" or p.name = 'Morty Schapiro'\n",
    "\n",
    "'''\n",
    "\n",
    "pd.read_sql_query(query, conn).transcript.values"
   ]
  },
  {
   "cell_type": "code",
   "execution_count": 66,
   "metadata": {},
   "outputs": [
    {
     "output_type": "execute_result",
     "data": {
      "text/plain": [
       "      id  person_id           name  membership_start_date membership_status\n",
       "0  48Z7A      28819   Joe Germuska               20160305              gold\n",
       "1  48Z55      67318  Jeremy Bowers               20160101              gold"
      ],
      "text/html": "<div>\n<style scoped>\n    .dataframe tbody tr th:only-of-type {\n        vertical-align: middle;\n    }\n\n    .dataframe tbody tr th {\n        vertical-align: top;\n    }\n\n    .dataframe thead th {\n        text-align: right;\n    }\n</style>\n<table border=\"1\" class=\"dataframe\">\n  <thead>\n    <tr style=\"text-align: right;\">\n      <th></th>\n      <th>id</th>\n      <th>person_id</th>\n      <th>name</th>\n      <th>membership_start_date</th>\n      <th>membership_status</th>\n    </tr>\n  </thead>\n  <tbody>\n    <tr>\n      <th>0</th>\n      <td>48Z7A</td>\n      <td>28819</td>\n      <td>Joe Germuska</td>\n      <td>20160305</td>\n      <td>gold</td>\n    </tr>\n    <tr>\n      <th>1</th>\n      <td>48Z55</td>\n      <td>67318</td>\n      <td>Jeremy Bowers</td>\n      <td>20160101</td>\n      <td>gold</td>\n    </tr>\n  </tbody>\n</table>\n</div>"
     },
     "metadata": {},
     "execution_count": 66
    }
   ],
   "source": [
    "clues = '''\n",
    "gym = \"Get Fit Now Gym\" / gold member\n",
    "gym membership = \"48Z%\"\n",
    "car plate = \"%H42W%\"\n",
    "day = \"January 9th\"\n",
    "'''\n",
    "\n",
    "query = '''\n",
    "SELECT *\n",
    "FROM get_fit_now_member\n",
    "WHERE membership_status = 'gold' and id LIKE '48Z%'\n",
    "'''\n",
    "\n",
    "pd.read_sql_query(query, conn)"
   ]
  },
  {
   "cell_type": "code",
   "execution_count": 70,
   "metadata": {},
   "outputs": [
    {
     "output_type": "execute_result",
     "data": {
      "text/plain": [
       "      id  person_id           name  membership_start_date membership_status  \\\n",
       "0  48Z7A      28819   Joe Germuska               20160305              gold   \n",
       "1  48Z55      67318  Jeremy Bowers               20160101              gold   \n",
       "\n",
       "   check_in_date  \n",
       "0       20180109  \n",
       "1       20180109  "
      ],
      "text/html": "<div>\n<style scoped>\n    .dataframe tbody tr th:only-of-type {\n        vertical-align: middle;\n    }\n\n    .dataframe tbody tr th {\n        vertical-align: top;\n    }\n\n    .dataframe thead th {\n        text-align: right;\n    }\n</style>\n<table border=\"1\" class=\"dataframe\">\n  <thead>\n    <tr style=\"text-align: right;\">\n      <th></th>\n      <th>id</th>\n      <th>person_id</th>\n      <th>name</th>\n      <th>membership_start_date</th>\n      <th>membership_status</th>\n      <th>check_in_date</th>\n    </tr>\n  </thead>\n  <tbody>\n    <tr>\n      <th>0</th>\n      <td>48Z7A</td>\n      <td>28819</td>\n      <td>Joe Germuska</td>\n      <td>20160305</td>\n      <td>gold</td>\n      <td>20180109</td>\n    </tr>\n    <tr>\n      <th>1</th>\n      <td>48Z55</td>\n      <td>67318</td>\n      <td>Jeremy Bowers</td>\n      <td>20160101</td>\n      <td>gold</td>\n      <td>20180109</td>\n    </tr>\n  </tbody>\n</table>\n</div>"
     },
     "metadata": {},
     "execution_count": 70
    }
   ],
   "source": [
    "query = '''\n",
    "SELECT g.*, ci.check_in_date\n",
    "FROM get_fit_now_member g\n",
    "JOIN get_fit_now_check_in ci ON g.Id = ci.membership_Id\n",
    "WHERE g.membership_status = 'gold' and g.id LIKE '48Z%' \n",
    "'''\n",
    "\n",
    "pd.read_sql_query(query, conn)"
   ]
  },
  {
   "cell_type": "code",
   "execution_count": 76,
   "metadata": {},
   "outputs": [
    {
     "output_type": "execute_result",
     "data": {
      "text/plain": [
       "      id           name membership_status  check_in_date plate_number\n",
       "0  48Z55  Jeremy Bowers              gold       20180109       0H42W2"
      ],
      "text/html": "<div>\n<style scoped>\n    .dataframe tbody tr th:only-of-type {\n        vertical-align: middle;\n    }\n\n    .dataframe tbody tr th {\n        vertical-align: top;\n    }\n\n    .dataframe thead th {\n        text-align: right;\n    }\n</style>\n<table border=\"1\" class=\"dataframe\">\n  <thead>\n    <tr style=\"text-align: right;\">\n      <th></th>\n      <th>id</th>\n      <th>name</th>\n      <th>membership_status</th>\n      <th>check_in_date</th>\n      <th>plate_number</th>\n    </tr>\n  </thead>\n  <tbody>\n    <tr>\n      <th>0</th>\n      <td>48Z55</td>\n      <td>Jeremy Bowers</td>\n      <td>gold</td>\n      <td>20180109</td>\n      <td>0H42W2</td>\n    </tr>\n  </tbody>\n</table>\n</div>"
     },
     "metadata": {},
     "execution_count": 76
    }
   ],
   "source": [
    "query = '''\n",
    "SELECT g.id, g.name, g.membership_status, ci.check_in_date, dl.plate_number\n",
    "FROM get_fit_now_member g\n",
    "JOIN get_fit_now_check_in ci ON g.Id = ci.membership_Id\n",
    "JOIN person p ON g.person_Id = p.Id\n",
    "JOIN drivers_license dl ON p.license_Id = dl.Id\n",
    "WHERE g.membership_status = 'gold' and g.id LIKE '48Z%' and dl.plate_number LIKE \"%H42W%\"\n",
    "'''\n",
    "\n",
    "pd.read_sql_query(query, conn)"
   ]
  },
  {
   "cell_type": "code",
   "execution_count": null,
   "metadata": {},
   "outputs": [],
   "source": []
  }
 ]
}