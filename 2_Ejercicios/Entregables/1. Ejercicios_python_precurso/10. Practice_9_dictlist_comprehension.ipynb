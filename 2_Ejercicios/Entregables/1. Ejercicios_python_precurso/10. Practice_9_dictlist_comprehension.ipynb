{
 "cells": [
  {
   "cell_type": "markdown",
   "metadata": {},
   "source": [
    "# Python | day 9 | list/dict comprehension"
   ]
  },
  {
   "cell_type": "markdown",
   "metadata": {},
   "source": [
    "List comprehension in Python is a compact way of creating a list from a sequence. It is a short way to create a new list. List comprehension is considerably faster than processing a list using the for loop."
   ]
  },
  {
   "cell_type": "markdown",
   "metadata": {},
   "source": [
    "```python\n",
    "# syntax\n",
    "[i for i in iterable if expression]\n",
    "```"
   ]
  },
  {
   "cell_type": "markdown",
   "metadata": {},
   "source": [
    "Dictionary comprehension is the same as list comprehension but with dictionaries. I know, you didn't see that coming. "
   ]
  },
  {
   "cell_type": "markdown",
   "metadata": {},
   "source": [
    "```python\n",
    "# syntax\n",
    "\n",
    "{key: value for i in iterable}\n",
    "```\n"
   ]
  },
  {
   "cell_type": "markdown",
   "metadata": {},
   "source": [
    "- https://www.programiz.com/python-programming/list-comprehension\n",
    "- https://www.programiz.com/python-programming/dictionary-comprehension"
   ]
  },
  {
   "cell_type": "markdown",
   "metadata": {},
   "source": [
    "### Exercise 1.\n",
    "\n",
    "Use list comprehension and print the result to solve these problems: "
   ]
  },
  {
   "cell_type": "markdown",
   "metadata": {},
   "source": [
    "1. Make a list with the square number of numbers from 0 to 20. "
   ]
  },
  {
   "cell_type": "code",
   "execution_count": 4,
   "metadata": {},
   "outputs": [
    {
     "output_type": "stream",
     "name": "stdout",
     "text": [
      "[0, 1, 4, 9, 16, 25, 36, 49, 64, 81, 100, 121, 144, 169, 196, 225, 256, 289, 324, 361, 400]\n"
     ]
    }
   ],
   "source": [
    "square_list = [elem**2 for elem in range(21)]\n",
    "print(square_list)"
   ]
  },
  {
   "cell_type": "markdown",
   "metadata": {},
   "source": [
    "2. Make a list with the first 50 power of two. "
   ]
  },
  {
   "cell_type": "code",
   "execution_count": 6,
   "metadata": {},
   "outputs": [
    {
     "output_type": "stream",
     "name": "stdout",
     "text": [
      "[1, 2, 4, 8, 16, 32, 64, 128, 256, 512, 1024, 2048, 4096, 8192, 16384, 32768, 65536, 131072, 262144, 524288, 1048576, 2097152, 4194304, 8388608, 16777216, 33554432, 67108864, 134217728, 268435456, 536870912, 1073741824, 2147483648, 4294967296, 8589934592, 17179869184, 34359738368, 68719476736, 137438953472, 274877906944, 549755813888, 1099511627776, 2199023255552, 4398046511104, 8796093022208, 17592186044416, 35184372088832, 70368744177664, 140737488355328, 281474976710656, 562949953421312, 1125899906842624]\n"
     ]
    }
   ],
   "source": [
    "powers2_list = [2**power for power in range(51)]\n",
    "print(powers2_list)"
   ]
  },
  {
   "cell_type": "markdown",
   "metadata": {},
   "source": [
    "3. Calculate the square root of the first 100 numbers. \n",
    "\n",
    "**You will probably need to install math library with pip and import it in this file.** \n",
    "\n",
    "\n",
    "\n"
   ]
  },
  {
   "cell_type": "code",
   "execution_count": 9,
   "metadata": {},
   "outputs": [
    {
     "output_type": "stream",
     "name": "stdout",
     "text": [
      "[1.0, 1.414, 1.732, 2.0, 2.236, 2.449, 2.646, 2.828, 3.0, 3.162, 3.317, 3.464, 3.606, 3.742, 3.873, 4.0, 4.123, 4.243, 4.359, 4.472, 4.583, 4.69, 4.796, 4.899, 5.0, 5.099, 5.196, 5.292, 5.385, 5.477, 5.568, 5.657, 5.745, 5.831, 5.916, 6.0, 6.083, 6.164, 6.245, 6.325, 6.403, 6.481, 6.557, 6.633, 6.708, 6.782, 6.856, 6.928, 7.0, 7.071, 7.141, 7.211, 7.28, 7.348, 7.416, 7.483, 7.55, 7.616, 7.681, 7.746, 7.81, 7.874, 7.937, 8.0, 8.062, 8.124, 8.185, 8.246, 8.307, 8.367, 8.426, 8.485, 8.544, 8.602, 8.66, 8.718, 8.775, 8.832, 8.888, 8.944, 9.0, 9.055, 9.11, 9.165, 9.22, 9.274, 9.327, 9.381, 9.434, 9.487, 9.539, 9.592, 9.644, 9.695, 9.747, 9.798, 9.849, 9.899, 9.95, 10.0]\n"
     ]
    }
   ],
   "source": [
    "import math\n",
    "sqrts_100 = [round(math.sqrt(elem), 3) for elem in range(1, 101)]\n",
    "print(sqrts_100)"
   ]
  },
  {
   "cell_type": "markdown",
   "metadata": {},
   "source": [
    "4. Create this list `[-10,-9,-8,-7,-6,-5,-4,-3,-2,-1,0]`. "
   ]
  },
  {
   "cell_type": "code",
   "execution_count": 15,
   "metadata": {},
   "outputs": [
    {
     "output_type": "execute_result",
     "data": {
      "text/plain": [
       "[-10, -9, -8, -7, -6, -5, -4, -3, -2, -1, 0]"
      ]
     },
     "metadata": {},
     "execution_count": 15
    }
   ],
   "source": [
    "neg_nums = [-elem for elem in range(11)]\n",
    "neg_nums.reverse()\n",
    "neg_nums"
   ]
  },
  {
   "cell_type": "markdown",
   "metadata": {},
   "source": [
    "5. Filter only negative and zero in the list `numbers`."
   ]
  },
  {
   "cell_type": "code",
   "execution_count": 16,
   "metadata": {},
   "outputs": [],
   "source": [
    "\n",
    "numbers = [-4, -3, -2, -1, 0, 2, 4, 6]"
   ]
  },
  {
   "cell_type": "code",
   "execution_count": 18,
   "metadata": {},
   "outputs": [
    {
     "output_type": "execute_result",
     "data": {
      "text/plain": [
       "[-4, -3, -2, -1, 0]"
      ]
     },
     "metadata": {},
     "execution_count": 18
    }
   ],
   "source": [
    "negs_0s = [elem for elem in numbers if elem <= 0]\n",
    "negs_0s"
   ]
  },
  {
   "cell_type": "markdown",
   "metadata": {},
   "source": [
    "6. Find the odd numbers from 1-100 and put them on a list. \n",
    "\n",
    "\n"
   ]
  },
  {
   "cell_type": "code",
   "execution_count": 20,
   "metadata": {},
   "outputs": [
    {
     "output_type": "stream",
     "name": "stdout",
     "text": [
      "[1, 3, 5, 7, 9, 11, 13, 15, 17, 19, 21, 23, 25, 27, 29, 31, 33, 35, 37, 39, 41, 43, 45, 47, 49, 51, 53, 55, 57, 59, 61, 63, 65, 67, 69, 71, 73, 75, 77, 79, 81, 83, 85, 87, 89, 91, 93, 95, 97, 99]\n"
     ]
    }
   ],
   "source": [
    "odds = [elem for elem in range(1, 100) if elem%2 != 0]\n",
    "print(odds)"
   ]
  },
  {
   "cell_type": "markdown",
   "metadata": {},
   "source": [
    "7. Find all of the numbers from 1-1000 that are divisible by 7.\n",
    "\n"
   ]
  },
  {
   "cell_type": "code",
   "execution_count": 23,
   "metadata": {},
   "outputs": [
    {
     "output_type": "stream",
     "name": "stdout",
     "text": [
      "[7, 14, 21, 28, 35, 42, 49, 56, 63, 70, 77, 84, 91, 98, 105, 112, 119, 126, 133, 140, 147, 154, 161, 168, 175, 182, 189, 196, 203, 210, 217, 224, 231, 238, 245, 252, 259, 266, 273, 280, 287, 294, 301, 308, 315, 322, 329, 336, 343, 350, 357, 364, 371, 378, 385, 392, 399, 406, 413, 420, 427, 434, 441, 448, 455, 462, 469, 476, 483, 490, 497, 504, 511, 518, 525, 532, 539, 546, 553, 560, 567, 574, 581, 588, 595, 602, 609, 616, 623, 630, 637, 644, 651, 658, 665, 672, 679, 686, 693, 700, 707, 714, 721, 728, 735, 742, 749, 756, 763, 770, 777, 784, 791, 798, 805, 812, 819, 826, 833, 840, 847, 854, 861, 868, 875, 882, 889, 896, 903, 910, 917, 924, 931, 938, 945, 952, 959, 966, 973, 980, 987, 994]\n"
     ]
    }
   ],
   "source": [
    "div_by_7 = [elem for elem in range (1, 1000) if elem%7 == 0]\n",
    "print(div_by_7)"
   ]
  },
  {
   "cell_type": "markdown",
   "metadata": {},
   "source": [
    "8. Remove all of the vowels in a string. \n",
    "\n",
    "   Hint: make a list of the non-vowels. \n",
    "\n",
    "\n",
    "\n",
    "\n"
   ]
  },
  {
   "cell_type": "code",
   "execution_count": 24,
   "metadata": {},
   "outputs": [],
   "source": [
    "teststring = \"When you reach the end of your rope, tie a knot in it and hang on.\""
   ]
  },
  {
   "cell_type": "code",
   "execution_count": 29,
   "metadata": {},
   "outputs": [
    {
     "output_type": "stream",
     "name": "stdout",
     "text": [
      "['W', 'h', 'n', ' ', 'y', ' ', 'r', 'c', 'h', ' ', 't', 'h', ' ', 'n', 'd', ' ', 'f', ' ', 'y', 'r', ' ', 'r', 'p', ',', ' ', 't', ' ', ' ', 'k', 'n', 't', ' ', 'n', ' ', 't', ' ', 'n', 'd', ' ', 'h', 'n', 'g', ' ', 'n', '.']\n['W', 'h', 'n', 'y', 'r', 'c', 'h', 't', 'h', 'n', 'd', 'f', 'y', 'r', 'r', 'p', ',', 't', 'k', 'n', 't', 'n', 't', 'n', 'd', 'h', 'n', 'g', 'n', '.']\n"
     ]
    }
   ],
   "source": [
    "#con espacios\n",
    "non_vowels = [elem for elem in teststring if not(elem in 'aeiou')]\n",
    "print(non_vowels)\n",
    "\n",
    "#sin espacios\n",
    "non_vowels = [elem for elem in teststring if not(elem in 'aeiou ')]\n",
    "print(non_vowels)"
   ]
  },
  {
   "cell_type": "markdown",
   "metadata": {},
   "source": [
    "9. Find the capital letters (and not white space) in the sentence `\"The Way To Get Started Is To Quit Talking And Begin Doing.\"`. \n"
   ]
  },
  {
   "cell_type": "code",
   "execution_count": 33,
   "metadata": {},
   "outputs": [
    {
     "output_type": "stream",
     "name": "stdout",
     "text": [
      "['T', 'W', 'T', 'G', 'S', 'I', 'T', 'Q', 'T', 'A', 'B', 'D', '.']\n"
     ]
    }
   ],
   "source": [
    "upper_letters = [caps for caps in \"The Way To Get Started Is To Quit Talking And Begin Doing.\" if caps == caps.upper() and caps != ' ']\n",
    "print(upper_letters)"
   ]
  },
  {
   "cell_type": "markdown",
   "metadata": {},
   "source": [
    "10. Find all the consonants in the sentence `\"Tell me and I forget. Teach me and I remember. Involve me and I learn.\"`.\n"
   ]
  },
  {
   "cell_type": "code",
   "execution_count": 38,
   "metadata": {},
   "outputs": [
    {
     "output_type": "stream",
     "name": "stdout",
     "text": [
      "['l', 'l', 'm', 'n', 'd', 'f', 'r', 'g', 't', 'c', 'h', 'm', 'n', 'd', 'r', 'm', 'm', 'b', 'r', 'n', 'v', 'l', 'v', 'm', 'n', 'd', 'l', 'r', 'n']\n"
     ]
    }
   ],
   "source": [
    "consonants = [cons for cons in \"Tell me and I forget. Teach me and I remember. Involve me and I learn.\" if cons in 'bcdfghjklmnpqrstvwxyz']\n",
    "print(consonants)"
   ]
  },
  {
   "cell_type": "markdown",
   "metadata": {},
   "source": [
    "11. Create 4 lists of 10 random numbers between 0 and 100 each. \n",
    "\n",
    "**You will probably need to import random module.**\n",
    "\n"
   ]
  },
  {
   "cell_type": "code",
   "execution_count": 47,
   "metadata": {},
   "outputs": [
    {
     "output_type": "stream",
     "name": "stdout",
     "text": [
      "[55, 29, 17, 31, 85, 17, 96, 31, 36, 9]\n[72, 37, 17, 56, 24, 19, 80, 37, 44, 72]\n[40, 63, 91, 24, 43, 74, 23, 76, 74, 89]\n[96, 23, 6, 10, 71, 82, 28, 39, 41, 22]\n"
     ]
    }
   ],
   "source": [
    "import random\n",
    "\n",
    "l1 = [random.randint(0, 100) for rand_num in range(10)]\n",
    "l2 = [random.randint(0, 100) for rand_num in range(10)]\n",
    "l3 = [random.randint(0, 100) for rand_num in range(10)]\n",
    "l4 = [random.randint(0, 100) for rand_num in range(10)]\n",
    "\n",
    "print(l1, l2, l3, l4, sep = '\\n')"
   ]
  },
  {
   "cell_type": "markdown",
   "metadata": {},
   "source": [
    "### Exercise 2. "
   ]
  },
  {
   "cell_type": "markdown",
   "metadata": {},
   "source": [
    "1. Flatten the following list of lists of lists to a one dimensional list :\n",
    "```python\n",
    "expected output:\n",
    "[1, 2, 3, 4, 5, 6, 7, 8, 9]\n",
    "```"
   ]
  },
  {
   "cell_type": "code",
   "execution_count": 1,
   "metadata": {},
   "outputs": [],
   "source": [
    "list_of_lists =[[1, 2, 3], [4, 5, 6], [7, 8, 9]]"
   ]
  },
  {
   "cell_type": "code",
   "execution_count": 4,
   "metadata": {},
   "outputs": [
    {
     "output_type": "execute_result",
     "data": {
      "text/plain": [
       "[1, 2, 3, 4, 5, 6, 7, 8, 9]"
      ]
     },
     "metadata": {},
     "execution_count": 4
    }
   ],
   "source": [
    "flat_list = [elem for l in list_of_lists for elem in l]\n",
    "flat_list"
   ]
  },
  {
   "cell_type": "markdown",
   "metadata": {},
   "source": [
    "2. Flatten the following list to a new list, and capitalize the elements of the new list:\n",
    "```python\n",
    "expected output:\n",
    "['SPAIN', 'MADRID', 'FRANCE', 'PARIS', 'PORTUGAL', 'LISBON']\n",
    "```"
   ]
  },
  {
   "cell_type": "code",
   "execution_count": 6,
   "metadata": {},
   "outputs": [],
   "source": [
    "countries = [[('Spain', 'Madrid')], [('France', 'Paris')], [('Portugal', 'Lisbon')]]"
   ]
  },
  {
   "cell_type": "code",
   "execution_count": 9,
   "metadata": {},
   "outputs": [
    {
     "output_type": "execute_result",
     "data": {
      "text/plain": [
       "['SPAIN', 'MADRID', 'FRANCE', 'PARIS', 'PORTUGAL', 'LISBON']"
      ]
     },
     "metadata": {},
     "execution_count": 9
    }
   ],
   "source": [
    "flat_countries = [country.upper() for l in countries for tup in l for country in tup]\n",
    "flat_countries"
   ]
  },
  {
   "cell_type": "markdown",
   "metadata": {},
   "source": [
    "3. Change the `countries` list to a list of dictionaries:\n",
    "```python\n",
    "expected output:\n",
    "[{'country': 'SPAIN', 'city': 'MADRID'},\n",
    "{'country': 'FRANCE', 'city': 'PARIS'},\n",
    "{'country': 'PORTUGAL', 'city': 'LISBON'}]\n",
    "```"
   ]
  },
  {
   "cell_type": "code",
   "execution_count": 19,
   "metadata": {},
   "outputs": [
    {
     "output_type": "stream",
     "name": "stdout",
     "text": [
      "[{'country': 'SPAIN', 'city': 'MADRID'}, {'country': 'FRANCE', 'city': 'PARIS'}, {'country': 'PORTUGAL', 'city': 'LISBON'}]\nSpain ---> Madrid\nFrance ---> Paris\nPortugal ---> Lisbon\n"
     ]
    }
   ],
   "source": [
    "country = 'country'\n",
    "city = 'city'\n",
    "\n",
    "dict_list = [{country: x.upper(), city: y.upper()} for elem in countries for x, y in elem]\n",
    "print(dict_list)"
   ]
  },
  {
   "cell_type": "markdown",
   "metadata": {},
   "source": [
    "4. Change the following list of lists to a list of concatenated strings:\n",
    "```python\n",
    "expected output:\n",
    "['Gabriel Vazquez', 'Clara Piniella', 'Diomedes Barbero']\n",
    "```"
   ]
  },
  {
   "cell_type": "code",
   "execution_count": 20,
   "metadata": {},
   "outputs": [],
   "source": [
    "names = [[('Gabriel', 'Vazquez')], [('Clara', 'Piniella')], [('Diomedes', 'Barbero')]]"
   ]
  },
  {
   "cell_type": "code",
   "execution_count": 22,
   "metadata": {},
   "outputs": [
    {
     "output_type": "execute_result",
     "data": {
      "text/plain": [
       "['Gabriel Vazquez', 'Clara Piniella', 'Diomedes Barbero']"
      ]
     },
     "metadata": {},
     "execution_count": 22
    }
   ],
   "source": [
    "full_names = [first_name + ' ' + last_name for elem in names for first_name, last_name in elem]\n",
    "full_names"
   ]
  },
  {
   "cell_type": "markdown",
   "metadata": {},
   "source": [
    "5. Convert the numbers of the following nested list to floats. Use **floats_list** as the name of the list. "
   ]
  },
  {
   "cell_type": "code",
   "execution_count": 24,
   "metadata": {},
   "outputs": [],
   "source": [
    "big_list_of_lists = [['40', '20', '10', '30'], ['20', '20', '20', '20', '20', '30', '20'], \\\n",
    "['30', '20', '30', '50', '10', '30', '20', '20', '20'], ['100', '100'], ['100', '100', '100', '100', '100'], \\\n",
    "['100', '100', '100', '100']]"
   ]
  },
  {
   "cell_type": "code",
   "execution_count": 27,
   "metadata": {},
   "outputs": [
    {
     "output_type": "stream",
     "name": "stdout",
     "text": [
      "[[40.0, 20.0, 10.0, 30.0], [20.0, 20.0, 20.0, 20.0, 20.0, 30.0, 20.0], [30.0, 20.0, 30.0, 50.0, 10.0, 30.0, 20.0, 20.0, 20.0], [100.0, 100.0], [100.0, 100.0, 100.0, 100.0, 100.0], [100.0, 100.0, 100.0, 100.0]]\n"
     ]
    }
   ],
   "source": [
    "float_list = [[float(elem) for elem in l] for l in big_list_of_lists]\n",
    "print(float_list)"
   ]
  },
  {
   "cell_type": "markdown",
   "metadata": {},
   "source": [
    "6. Using list comprehension create the following list of tuples:\n",
    "```python\n",
    "expected output: \n",
    "[(0, 1, 0, 0, 0, 0, 0),\n",
    "(1, 1, 1, 1, 1, 1, 1),\n",
    "(2, 1, 2, 4, 8, 16, 32),\n",
    "(3, 1, 3, 9, 27, 81, 243),\n",
    "(4, 1, 4, 16, 64, 256, 1024),\n",
    "(5, 1, 5, 25, 125, 625, 3125),\n",
    "(6, 1, 6, 36, 216, 1296, 7776),\n",
    "(7, 1, 7, 49, 343, 2401, 16807),\n",
    "(8, 1, 8, 64, 512, 4096, 32768),\n",
    "(9, 1, 9, 81, 729, 6561, 59049),\n",
    "(10, 1, 10, 100, 1000, 10000, 100000)]\n",
    "```\n",
    "\n",
    "\n"
   ]
  },
  {
   "cell_type": "code",
   "execution_count": 51,
   "metadata": {},
   "outputs": [
    {
     "output_type": "execute_result",
     "data": {
      "text/plain": [
       "[(0, 1, 0, 0, 0, 0, 0),\n",
       " (1, 1, 1, 1, 1, 1, 1),\n",
       " (2, 1, 2, 4, 8, 16, 32),\n",
       " (3, 1, 3, 9, 27, 81, 243),\n",
       " (4, 1, 4, 16, 64, 256, 1024),\n",
       " (5, 1, 5, 25, 125, 625, 3125),\n",
       " (6, 1, 6, 36, 216, 1296, 7776),\n",
       " (7, 1, 7, 49, 343, 2401, 16807),\n",
       " (8, 1, 8, 64, 512, 4096, 32768),\n",
       " (9, 1, 9, 81, 729, 6561, 59049),\n",
       " (10, 1, 10, 100, 1000, 10000, 100000)]"
      ]
     },
     "metadata": {},
     "execution_count": 51
    }
   ],
   "source": [
    "tuple_list = [(num,) + tuple([num ** i for i in range(6)]) for num in range(11)]\n",
    "tuple_list"
   ]
  },
  {
   "cell_type": "markdown",
   "metadata": {},
   "source": [
    "### Exercise 3. "
   ]
  },
  {
   "cell_type": "markdown",
   "metadata": {},
   "source": [
    "1. First, create a range from 100 to 160 with steps of 10.\n",
    "   Second, using **dict comprehension**, create a dictionary where each number in the range is the key and each item divided by 100 is the value."
   ]
  },
  {
   "cell_type": "code",
   "execution_count": 1,
   "metadata": {},
   "outputs": [
    {
     "output_type": "execute_result",
     "data": {
      "text/plain": [
       "{100: 1.0, 110: 1.1, 120: 1.2, 130: 1.3, 140: 1.4, 150: 1.5, 160: 1.6}"
      ]
     },
     "metadata": {},
     "execution_count": 1
    }
   ],
   "source": [
    "dict1 = {k: k/100 for k in range(100, 161, 10)}\n",
    "dict1"
   ]
  },
  {
   "cell_type": "markdown",
   "metadata": {},
   "source": [
    "2. Using **dict comprehension** and a conditional argument create a dictionary from `curr_dict` where only the key:value pairs with value above 2000 are taken to the new dictionary.\n",
    "    "
   ]
  },
  {
   "cell_type": "code",
   "execution_count": 2,
   "metadata": {},
   "outputs": [],
   "source": [
    "curr_dict = {\"Netflix\":4950,\"HBO\":2400,\"Amazon\":1800, \"Movistar\":1700}"
   ]
  },
  {
   "cell_type": "code",
   "execution_count": 7,
   "metadata": {},
   "outputs": [
    {
     "output_type": "execute_result",
     "data": {
      "text/plain": [
       "{'Netflix': 4950, 'HBO': 2400}"
      ]
     },
     "metadata": {},
     "execution_count": 7
    }
   ],
   "source": [
    "new_curr_dict = {it: val for (it, val) in curr_dict.items() if val > 2000}\n",
    "new_curr_dict"
   ]
  },
  {
   "cell_type": "markdown",
   "metadata": {},
   "source": [
    "3. Create a function that receives two lists `list1` and `list2` by parameter and returns a dictionary with each element of `list1` as keys and the elements of `list2` as values. This time use **dict comprehension** to do so.  "
   ]
  },
  {
   "cell_type": "code",
   "execution_count": 9,
   "metadata": {},
   "outputs": [
    {
     "output_type": "execute_result",
     "data": {
      "text/plain": [
       "{'a': 1, 'b': 2, 'c': 3}"
      ]
     },
     "metadata": {},
     "execution_count": 9
    }
   ],
   "source": [
    "def lists_to_dict(list1, list2):\n",
    "    return {el1: el2 for (el1,el2) in zip(list1, list2)}\n",
    "\n",
    "l1 = ['a', 'b', 'c']\n",
    "l2 = [1, 2, 3]\n",
    "\n",
    "lists_to_dict(l1, l2)"
   ]
  },
  {
   "cell_type": "markdown",
   "metadata": {},
   "source": [
    "### Bonus Track. "
   ]
  },
  {
   "cell_type": "markdown",
   "metadata": {},
   "source": [
    "To solve this exercise you can either use `for/while` or try to solve it using both. From now on you should be able to find out whether to use for or while. "
   ]
  },
  {
   "cell_type": "markdown",
   "metadata": {},
   "source": [
    "1. Define a function `string_greater_5` that receives as a parameter `whichever_list`. You must go through `whichever_list` transforming each element into a string and, if the size of the string is longer than 5, the loop must stop. The function must return the first element which is a string longer than 5. Pass as an argument `info_list` when you call the function `string_greater_5`."
   ]
  },
  {
   "cell_type": "code",
   "execution_count": 17,
   "metadata": {},
   "outputs": [],
   "source": [
    "# you can use this list or take yours from Practice 3\n",
    "info_list = [15, 'Recoletos', True, ['Recoletos', 15],  None, '8'] "
   ]
  },
  {
   "cell_type": "code",
   "execution_count": 10,
   "metadata": {},
   "outputs": [
    {
     "output_type": "execute_result",
     "data": {
      "text/plain": [
       "'Recoletos'"
      ]
     },
     "metadata": {},
     "execution_count": 10
    }
   ],
   "source": [
    "def string_greater_5(whichever_list):\n",
    "    l = []\n",
    "    try:\n",
    "        for elem in whichever_list:\n",
    "            if len(str(elem)) > 5:\n",
    "                return str(elem)\n",
    "            else:\n",
    "                l.append(str(elem))\n",
    "        return l\n",
    "    except:\n",
    "        print('List whithin list, can\\'t be turned into string')\n",
    "\n",
    "\n",
    "string_greater_5(info_list)    "
   ]
  },
  {
   "cell_type": "markdown",
   "metadata": {},
   "source": [
    "2. Define a function `list_consecutive` that receives as a parameter `limit`. It should return a list with numbers starting at 0 and ending at the `limit` number. When calling the function `limit` will be 18.\n"
   ]
  },
  {
   "cell_type": "code",
   "execution_count": 12,
   "metadata": {},
   "outputs": [
    {
     "output_type": "execute_result",
     "data": {
      "text/plain": [
       "[0, 1, 2, 3, 4, 5, 6, 7, 8, 9, 10, 11, 12, 13, 14, 15, 16, 17, 18]"
      ]
     },
     "metadata": {},
     "execution_count": 12
    }
   ],
   "source": [
    "def list_consecutive(limit):\n",
    "    return [elem for elem in range(limit +1)]\n",
    "\n",
    "list_consecutive(18)"
   ]
  },
  {
   "cell_type": "markdown",
   "metadata": {},
   "source": [
    "3. Define a function called `position_15`. This gets two parameters, `some_function` and `whichever_list`. `position_15` should return the element in 15th position of the list that `some_function` returns. Pass to `some_function` the `list_consecutive` function as the value of the argument. \n",
    "\n",
    "   You should call the function `some_function` inside `position_15` and give it the lenght of `whichever_list` multiply by 2 as an argument. \n",
    "\n",
    "```python\n",
    "# example:\n",
    "position_15(some_function = list_consecutive,\n",
    "                whichever_list = info_list)\n",
    "``` "
   ]
  },
  {
   "cell_type": "code",
   "execution_count": 21,
   "metadata": {},
   "outputs": [
    {
     "output_type": "execute_result",
     "data": {
      "text/plain": [
       "14"
      ]
     },
     "metadata": {},
     "execution_count": 21
    }
   ],
   "source": [
    "def position_15(some_function, whichever_list):\n",
    "    l = some_function(len(whichever_list) * 3)\n",
    "    for it in range(len(l)):\n",
    "        if it == 14:\n",
    "            return l[it]\n",
    "\n",
    "position_15(list_consecutive, info_list)"
   ]
  },
  {
   "cell_type": "markdown",
   "metadata": {},
   "source": [
    "### Bonus Track of the Bonus Track. \n",
    "\n",
    "1. Make a Python program that, from the strings `\" | \"` and `\" _ \"`, shows an 8x8 **chessboard** on the screen.\n",
    "\n",
    "   Develop the program in a `.py` file that will be run through the terminal. \n",
    " \n",
    "   From the folder that contains the corresponding `.py`, it will be executed with the following command:` python3 program_name.py`"
   ]
  },
  {
   "cell_type": "code",
   "execution_count": 1,
   "metadata": {},
   "outputs": [
    {
     "output_type": "stream",
     "name": "stdout",
     "text": [
      " _ _ _ _ _ _ _ _  \n|_|_|_|_|_|_|_|_| \n|_|_|_|_|_|_|_|_| \n|_|_|_|_|_|_|_|_| \n|_|_|_|_|_|_|_|_| \n|_|_|_|_|_|_|_|_| \n|_|_|_|_|_|_|_|_| \n|_|_|_|_|_|_|_|_| \n|_|_|_|_|_|_|_|_| \n                  \n                  \n                  \n                  \n                  \n                  \n                  \n"
     ]
    }
   ],
   "source": [
    "import chessboard"
   ]
  },
  {
   "cell_type": "markdown",
   "metadata": {},
   "source": [
    "!['togood'](https://i.pinimg.com/originals/de/f5/2f/def52fe41d695d8feebd2cdc194da929.png)"
   ]
  },
  {
   "cell_type": "code",
   "execution_count": null,
   "metadata": {},
   "outputs": [],
   "source": []
  }
 ],
 "metadata": {
  "kernelspec": {
   "name": "python3",
   "display_name": "Python 3.9.0 64-bit",
   "metadata": {
    "interpreter": {
     "hash": "cf85b414d3663472de89104473c842eaab37d7b845999caf56a47ccda76ea2f8"
    }
   }
  },
  "language_info": {
   "codemirror_mode": {
    "name": "ipython",
    "version": 3
   },
   "file_extension": ".py",
   "mimetype": "text/x-python",
   "name": "python",
   "nbconvert_exporter": "python",
   "pygments_lexer": "ipython3",
   "version": "3.9.0-final"
  }
 },
 "nbformat": 4,
 "nbformat_minor": 4
}