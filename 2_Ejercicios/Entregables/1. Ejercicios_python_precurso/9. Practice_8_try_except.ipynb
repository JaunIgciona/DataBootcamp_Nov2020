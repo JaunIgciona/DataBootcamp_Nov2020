{
 "cells": [
  {
   "cell_type": "markdown",
   "metadata": {},
   "source": [
    "# Python | day 8 | try&except"
   ]
  },
  {
   "cell_type": "markdown",
   "metadata": {},
   "source": [
    "Python uses try and except to handle errors gracefully. A graceful exit (or graceful handling) of errors is a simple programming idiom - a program detects a serious error condition and \"exits gracefully\", in a controlled manner as a result. Often the program prints a descriptive error message to a terminal or log as part of the graceful exit, this makes our application more robust. The cause of an exception is often external to the program itself. An example of exceptions could be an incorrect input, wrong file name, unable to find a file, a malfunctioning IO device. Graceful handling of errors prevents our applications from crashing."
   ]
  },
  {
   "cell_type": "markdown",
   "metadata": {},
   "source": [
    "```python\n",
    "try:\n",
    "    code in this block if things go well\n",
    "except:\n",
    "    code in this block run if things go wrong\n",
    "```"
   ]
  },
  {
   "cell_type": "markdown",
   "metadata": {},
   "source": [
    "### Exercise 1. \n"
   ]
  },
  {
   "cell_type": "markdown",
   "metadata": {},
   "source": [
    "1. In the 4 cells below, modify the code to catch the error and print a meaningful message that will alert the user what went wrong. You may catch the error using a general except or a specific except for the error caused by the code."
   ]
  },
  {
   "cell_type": "code",
   "execution_count": 1,
   "metadata": {},
   "outputs": [
    {
     "output_type": "stream",
     "name": "stdout",
     "text": [
      "There was the following error: name 'some_string' is not defined\n"
     ]
    }
   ],
   "source": [
    "# Modify the code below:\n",
    "\n",
    "try:\n",
    "    print(some_string)\n",
    "except Exception as error:\n",
    "    print('There was the following error:', error)"
   ]
  },
  {
   "cell_type": "code",
   "execution_count": 3,
   "metadata": {},
   "outputs": [
    {
     "output_type": "stream",
     "name": "stdout",
     "text": [
      "There was an 'unsupported operand type(s) for ** or pow(): 'str' and 'int'' type error\n"
     ]
    }
   ],
   "source": [
    "# Modify the code below:\n",
    "\n",
    "try:\n",
    "    for i in ['a','b','c']:\n",
    "        print (i**2)\n",
    "except Exception as error:\n",
    "    print(f'There was an \\'{error}\\' type error')"
   ]
  },
  {
   "cell_type": "code",
   "execution_count": 4,
   "metadata": {},
   "outputs": [
    {
     "output_type": "stream",
     "name": "stdout",
     "text": [
      "A number can't be divided by zero\n"
     ]
    }
   ],
   "source": [
    "# Modify the code below:\n",
    "\n",
    "x = 5\n",
    "y = 0\n",
    "\n",
    "try:\n",
    "    z = x/y\n",
    "except ZeroDivisionError:\n",
    "    print('A number can\\'t be divided by zero')"
   ]
  },
  {
   "cell_type": "code",
   "execution_count": 6,
   "metadata": {},
   "outputs": [
    {
     "output_type": "stream",
     "name": "stdout",
     "text": [
      "list index out of range\n"
     ]
    }
   ],
   "source": [
    "# Modify the code below:\n",
    "\n",
    "abc=[10,20,20]\n",
    "\n",
    "try:\n",
    "    print(abc[3])\n",
    "except IndexError as error:\n",
    "    print(error)"
   ]
  },
  {
   "cell_type": "markdown",
   "metadata": {},
   "source": [
    "### Exercise 2. "
   ]
  },
  {
   "cell_type": "markdown",
   "metadata": {},
   "source": [
    "In the 3 cells below, add an if statment that will handle both types of input allowed in the functions."
   ]
  },
  {
   "cell_type": "code",
   "execution_count": 10,
   "metadata": {},
   "outputs": [
    {
     "output_type": "execute_result",
     "data": {
      "text/plain": [
       "1.0"
      ]
     },
     "metadata": {},
     "execution_count": 10
    }
   ],
   "source": [
    "import math # import a library called math with functions, like sqrt() \n",
    "# Modify the code below to handle positive and negative numbers by adding an if statement and performing a transformation:\n",
    "\n",
    "def sqrt_for_all(x):\n",
    "    # This function will take any real number and return the square root of its magnitude\n",
    "    # Input: real number\n",
    "    # Output: real number\n",
    "    \n",
    "    # Sample Input: -4\n",
    "    # Sample Output: 2.0\n",
    "    if x < 0:\n",
    "        return math.sqrt(x * -1)\n",
    "    else:\n",
    "        return math.sqrt(x)\n",
    "\n",
    "sqrt_for_all(-1)"
   ]
  },
  {
   "cell_type": "code",
   "execution_count": 11,
   "metadata": {},
   "outputs": [
    {
     "output_type": "execute_result",
     "data": {
      "text/plain": [
       "0"
      ]
     },
     "metadata": {},
     "execution_count": 11
    }
   ],
   "source": [
    "# Modify the code below to handle zero as well. In the case of zero, return zero\n",
    "\n",
    "def divide(x, y):\n",
    "    # This function will take any two real numbers and return their quotient. If the denominator is zero, we return zero\n",
    "    # Input: real number\n",
    "    # Output: real number\n",
    "    \n",
    "    # Sample Input: 5, 1\n",
    "    # Sample Output: 5.0\n",
    "    if y == 0:\n",
    "        return 0\n",
    "    else:\n",
    "        return x / y\n",
    "\n",
    "divide(5, 0)"
   ]
  },
  {
   "cell_type": "code",
   "execution_count": 12,
   "metadata": {},
   "outputs": [
    {
     "output_type": "execute_result",
     "data": {
      "text/plain": [
       "11"
      ]
     },
     "metadata": {},
     "execution_count": 12
    }
   ],
   "source": [
    "    # Modify the function below that it will take either an number and a list or two numbers. \n",
    "    # If we take two numbers, add them together and return a list of length 1. \n",
    "    # Otherwise, add the number to every element of the list and return the resulting list\n",
    "\n",
    "    def add_elements(a, l):\n",
    "        # This function takes either two numbers or a list and a number and adds the number to all elements of the list\n",
    "        # If the function only takes two numbers, it returns a list of length one that is the sum of the numbers\n",
    "        \n",
    "        # Input: number and list or two numbers\n",
    "        # Output: list\n",
    "        \n",
    "        # Sample Input: 5, 6\n",
    "        # Sample Output: [11]\n",
    "        if (type(a) == int or type(a) == float) and (type(l) == int or type(l) == float):\n",
    "            return a + l\n",
    "        else:\n",
    "            return [a + element for element in l]\n",
    "            \n",
    "    add_elements(5, 6)"
   ]
  },
  {
   "cell_type": "markdown",
   "metadata": {},
   "source": [
    "### Exercise 3. \n",
    "\n",
    "Write a function that asks for an integer and prints the square of it. Keep checking while the function gets an integer.\n",
    "\n",
    "Use a `while` loop with a `try/except` block to account for incorrect inputs."
   ]
  },
  {
   "cell_type": "code",
   "execution_count": 6,
   "metadata": {},
   "outputs": [
    {
     "output_type": "execute_result",
     "data": {
      "text/plain": [
       "256"
      ]
     },
     "metadata": {},
     "execution_count": 6
    }
   ],
   "source": [
    "def sqr_int(integer = input('Introduce an integer: ')):\n",
    "    while True:\n",
    "        try:\n",
    "            integer = int(integer)\n",
    "            ans = integer ** integer\n",
    "            return ans\n",
    "        except:\n",
    "            print('The number introduced was not an integer')\n",
    "            integer = input('Introduce an integer: ')\n",
    "\n",
    "\n",
    "sqr_int()"
   ]
  },
  {
   "cell_type": "markdown",
   "metadata": {},
   "source": [
    "### Bonus Track of Practice_7_while. You have another oportunity to solve it! \n",
    "If you did it yesterday, don't worry about it, if you did'nt, you should worry about it now!"
   ]
  },
  {
   "cell_type": "code",
   "execution_count": 9,
   "metadata": {},
   "outputs": [
    {
     "output_type": "execute_result",
     "data": {
      "text/plain": [
       "32"
      ]
     },
     "metadata": {},
     "execution_count": 9
    }
   ],
   "source": []
  },
  {
   "cell_type": "markdown",
   "metadata": {},
   "source": [
    "### Bonus track.\n",
    "\n",
    "1. Make a program using `while` that generates a **deck of cards** of 4 different suits. The deck must have 40 cards.\n",
    "\n",
    "   Develop the program in a `.py` file that will be run through the terminal. \n",
    " \n",
    "   From the folder that contains the corresponding `.py`, it will be executed with the following command:` python3 program_name.py`\n",
    "   Sometimes should work with `python program_name.py`"
   ]
  },
  {
   "cell_type": "markdown",
   "metadata": {},
   "source": [
    "![\"lol\"](https://i.pinimg.com/originals/34/b2/ad/34b2ad1c370539fba5ed9422711cad7b.png)"
   ]
  },
  {
   "cell_type": "code",
   "execution_count": 2,
   "metadata": {},
   "outputs": [
    {
     "output_type": "stream",
     "name": "stdout",
     "text": [
      "New deck variable name : new_deck \nNumber of cards in Deck: 40\nOrther of cards are:\n['hearts', 'clubs', 'hearts', 'diamonds', 'diamonds', 'clubs', 'diamonds', 'hearts', 'clubs', 'spades', 'clubs', 'diamonds', 'diamonds', 'hearts', 'clubs', 'hearts', 'spades', 'clubs', 'diamonds', 'hearts', 'spades', 'spades', 'diamonds', 'spades', 'clubs', 'hearts', 'clubs', 'clubs', 'clubs', 'spades', 'diamonds', 'diamonds', 'spades', 'spades', 'diamonds', 'hearts', 'spades', 'hearts', 'hearts', 'spades']\n"
     ]
    }
   ],
   "source": [
    "import deck"
   ]
  },
  {
   "cell_type": "code",
   "execution_count": 19,
   "metadata": {},
   "outputs": [
    {
     "output_type": "stream",
     "name": "stdout",
     "text": [
      "New deck variable name : new_deck \nNumber of cards in Deck: 40\nOrther of cards are:\n['diamonds', 'diamonds', 'diamonds', 'clubs', 'diamonds', 'diamonds', 'clubs', 'hearts', 'clubs', 'diamonds', 'clubs', 'clubs', 'spades', 'diamonds', 'hearts', 'diamonds', 'hearts', 'hearts', 'hearts', 'diamonds', 'diamonds', 'hearts', 'spades', 'hearts', 'spades', 'spades', 'spades', 'clubs', 'hearts', 'clubs', 'spades', 'hearts', 'spades', 'spades', 'spades', 'spades', 'clubs', 'hearts', 'clubs', 'clubs']\n"
     ]
    }
   ],
   "source": [
    "#Copia del código de python del ejercicio\n",
    "\n",
    "import random\n",
    "\n",
    "suits = [\"clubs\", \"diamonds\", \"hearts\", \"spades\"]\n",
    "new_deck = []\n",
    "\n",
    "while len(new_deck) < 40:\n",
    "    random_pick = random.choice(suits)\n",
    "    repeats = 0\n",
    "    for elem in new_deck:\n",
    "        if random_pick == elem:\n",
    "            repeats += 1\n",
    "    if repeats < 10:\n",
    "        new_deck.append(random_pick)\n",
    "    else:\n",
    "        continue\n",
    "\n",
    "print(f'New deck variable name : new_deck \\nNumber of cards in Deck: {len(new_deck)}\\nOrther of cards are:\\n{new_deck}')"
   ]
  }
 ],
 "metadata": {
  "kernelspec": {
   "name": "python3",
   "display_name": "Python 3.9.0 64-bit",
   "metadata": {
    "interpreter": {
     "hash": "cf85b414d3663472de89104473c842eaab37d7b845999caf56a47ccda76ea2f8"
    }
   }
  },
  "language_info": {
   "codemirror_mode": {
    "name": "ipython",
    "version": 3
   },
   "file_extension": ".py",
   "mimetype": "text/x-python",
   "name": "python",
   "nbconvert_exporter": "python",
   "pygments_lexer": "ipython3",
   "version": "3.9.0-final"
  }
 },
 "nbformat": 4,
 "nbformat_minor": 4
}