{
 "cells": [
  {
   "cell_type": "markdown",
   "metadata": {},
   "source": [
    "# Python | day 4 | for loop, functions (feat. basics & if/else) "
   ]
  },
  {
   "cell_type": "markdown",
   "metadata": {},
   "source": [
    "### Exercise 0.1 - Python Basics\n",
    "\n",
    "1. What do we use to make a line break in a print? And for a tab stop?\n",
    "\n",
    "have a look ---> http://elclubdelautodidacta.es/wp/2012/04/python-capitulo-31-exprimiendo-la-funcion-print/"
   ]
  },
  {
   "cell_type": "code",
   "execution_count": 2,
   "metadata": {},
   "outputs": [
    {
     "output_type": "stream",
     "name": "stdout",
     "text": [
      "hola\nadiós\nhola adiós\t"
     ]
    }
   ],
   "source": [
    "print('hola', 'adiós', sep = '\\n')\n",
    "print('hola', 'adiós', end = \"\\t\")\n"
   ]
  },
  {
   "cell_type": "markdown",
   "metadata": {},
   "source": [
    "2. Make a converter from dollars to euros. You'll have to use input."
   ]
  },
  {
   "cell_type": "code",
   "execution_count": 7,
   "metadata": {},
   "outputs": [
    {
     "output_type": "stream",
     "name": "stdout",
     "text": [
      "200\nYour money in euros: 168.0\n"
     ]
    }
   ],
   "source": [
    "in_dollars = input('Insert amount of dollars you wish to convert: ')\n",
    "out_euros = int(in_dollars) * 0.84\n",
    "print('Your money in euros:', out_euros)"
   ]
  },
  {
   "cell_type": "markdown",
   "metadata": {},
   "source": [
    "3. Declare two strings, one will be your first name and the other your last name. Declare your age in another variable. Print a sentence which include those variables, using ```f{}```. Wtf is that? check this out **-->** https://realpython.com/python-string-formatting/"
   ]
  },
  {
   "cell_type": "code",
   "execution_count": 12,
   "metadata": {},
   "outputs": [
    {
     "output_type": "execute_result",
     "data": {
      "text/plain": [
       "'hola Juan Guerrero, tienes 26 años'"
      ]
     },
     "metadata": {},
     "execution_count": 12
    }
   ],
   "source": [
    "first_name = 'Juan'\n",
    "last_name = 'Guerrero'\n",
    "age = 26\n",
    "\n",
    "f'hola {first_name} {last_name}, tienes {age} años'"
   ]
  },
  {
   "cell_type": "markdown",
   "metadata": {},
   "source": [
    "4. Given the list `[4,7, -3]`, calculate its maximum, minimum and sum."
   ]
  },
  {
   "cell_type": "code",
   "execution_count": 14,
   "metadata": {},
   "outputs": [
    {
     "output_type": "stream",
     "name": "stdout",
     "text": [
      "Máximo: 7\nMínimo -3\nSuma: 8\n"
     ]
    }
   ],
   "source": [
    "print('Máximo:', max([4, 7, -3]))\n",
    "print('Mínimo', min([4, 7, -3]))\n",
    "print('Suma:', sum([4, 7, -3]))"
   ]
  },
  {
   "cell_type": "markdown",
   "metadata": {},
   "source": [
    "5. Round `38.38276252728` to 5 decimal places.\n"
   ]
  },
  {
   "cell_type": "code",
   "execution_count": 21,
   "metadata": {},
   "outputs": [
    {
     "output_type": "execute_result",
     "data": {
      "text/plain": [
       "38.38276"
      ]
     },
     "metadata": {},
     "execution_count": 21
    }
   ],
   "source": [
    "round(38.38276252728, 5)"
   ]
  },
  {
   "cell_type": "markdown",
   "metadata": {},
   "source": [
    "6. Make the phrase `\"Born to be wild\"` uppercase, then lowercase, divide it by spaces, and finally, replace `\"wild\"` with `\"Geek.\"`"
   ]
  },
  {
   "cell_type": "code",
   "execution_count": 33,
   "metadata": {},
   "outputs": [
    {
     "output_type": "stream",
     "name": "stdout",
     "text": [
      "BORN TO BE WILD\nborn to be wild\n['Born', 'to', 'be', 'wild']\nBorn to be Geek\n"
     ]
    }
   ],
   "source": [
    "frase = \"Born to be wild\"\n",
    "print(frase.upper())\n",
    "print(frase.lower())\n",
    "print(frase.split())\n",
    "print(frase.replace('wild', 'Geek'))"
   ]
  },
  {
   "cell_type": "markdown",
   "metadata": {},
   "source": [
    "7. Create a program where two inputs are collected, and the output of the program is a boolean which tell the user whether those inputs are the same or not.\n"
   ]
  },
  {
   "cell_type": "code",
   "execution_count": 37,
   "metadata": {},
   "outputs": [
    {
     "output_type": "stream",
     "name": "stdout",
     "text": [
      "True\nTrue\n"
     ]
    }
   ],
   "source": [
    "first_in, second_in = input('Insert first input: '), input('Insert second input: ')\n",
    "boolean_out = first_in == second_in\n",
    "boolean_out\n",
    "\n",
    "#Como función\n",
    "\n",
    "def input_check(first_in = input('Insert first input: '), second_in = input('Insert second input: ')):\n",
    "    print(first_in == second_in)\n",
    "    return(first_in == second_in)\n",
    "\n",
    "boolean_out = input_check()"
   ]
  },
  {
   "cell_type": "markdown",
   "metadata": {},
   "source": []
  },
  {
   "cell_type": "markdown",
   "metadata": {},
   "source": [
    "### Exercise 0.2 - If/else\n",
    "\n",
    "1. Create a decission tree using if/else sentences, to determine the price of the movies ticket. If the client's age is between 5 and 15 years, both included, the price will be 5, if she/he is retired and the movie is one of the `peliculas_discount`, the price is 4. In any other case, it will be 7 euros.\n",
    "\n",
    "You should create the list of `peliculas_discount` with your favourites movies. "
   ]
  },
  {
   "cell_type": "code",
   "execution_count": 51,
   "metadata": {},
   "outputs": [
    {
     "output_type": "stream",
     "name": "stdout",
     "text": [
      "The ticket price is 7 euros\n"
     ]
    }
   ],
   "source": [
    "#clients_age = input('Indicate clients age or retired if appropiate: ')\n",
    "peliculas_discount = ['The Lord of the Rings', \"The Truman Show\", \"The Big Lebowski\", \"Gravity\"]\n",
    "pelicula = input('Choose film: ')\n",
    "\n",
    "#Primer intento:\n",
    "#if int(clients_age) >= 5 and int(clients_age) <= 15:\n",
    "    #ticket_price = 5\n",
    "#elif clients_age == retired and pelicula in peliculas_discount:\n",
    "    #ticket_price = 4\n",
    "#else:\n",
    "    #ticket_price = 7\n",
    "\n",
    "#print('The ticket price is', ticket_price, 'euros')\n",
    "\n",
    "#Segundo intento:\n",
    "#if clients_age == 'retired' and pelicula in peliculas_discount:\n",
    "    #ticket_price = 4\n",
    "#elif int(clients_age) >= 5 and int(clients_age) <= 15:\n",
    "    #ticket_price = 5\n",
    "#else:\n",
    "    #ticket_price = 7\n",
    "\n",
    "#print('The ticket price is', ticket_price, 'euros')\n",
    "\n",
    "#Tercer intento:\n",
    "clients_age = input('Indicate clients age: ')\n",
    "\n",
    "if int(clients_age) > 65 and pelicula in peliculas_discount:\n",
    "    ticket_price = 4\n",
    "elif int(clients_age) >= 5 and int(clients_age) <= 15:\n",
    "    ticket_price = 5\n",
    "else:\n",
    "    ticket_price = 7\n",
    "\n",
    "print('The ticket price is', ticket_price, 'euros')\n"
   ]
  },
  {
   "cell_type": "markdown",
   "metadata": {},
   "source": [
    "### Exercise 1 - For\n",
    "\n",
    "If you find a way of solving any of these questions below without using for loop, don't hesitate to do it. "
   ]
  },
  {
   "cell_type": "markdown",
   "metadata": {},
   "source": [
    "1. Prints the numbers between 0 and 70 that are multiples of 3 and 5."
   ]
  },
  {
   "cell_type": "code",
   "execution_count": 2,
   "metadata": {},
   "outputs": [
    {
     "output_type": "stream",
     "name": "stdout",
     "text": [
      "0\n15\n30\n45\n60\n"
     ]
    }
   ],
   "source": [
    "for num in range(0, 71):\n",
    "    if num % 5 == 0 and num % 3 == 0:\n",
    "        print(num)"
   ]
  },
  {
   "cell_type": "markdown",
   "metadata": {},
   "source": [
    "2. Print the following pattern:\n",
    "\n",
    "```python\n",
    "1\n",
    "22\n",
    "333\n",
    "4444\n",
    "55555\n",
    "666666\n",
    "7777777\n",
    "88888888\n",
    "999999999\n",
    "```\n"
   ]
  },
  {
   "cell_type": "code",
   "execution_count": 53,
   "metadata": {},
   "outputs": [
    {
     "output_type": "stream",
     "name": "stdout",
     "text": [
      "1\n22\n333\n4444\n55555\n666666\n7777777\n88888888\n999999999\n"
     ]
    }
   ],
   "source": [
    "for i in range(1, 10):\n",
    "    print(str(i) * i)"
   ]
  },
  {
   "cell_type": "markdown",
   "metadata": {
    "collapsed": true
   },
   "source": [
    "3. Given two list of same lenght, create a third list which contains the sum of both of the list, element by element. "
   ]
  },
  {
   "cell_type": "markdown",
   "metadata": {},
   "source": [
    "```python\n",
    "Example: \n",
    "a = [1,2]\n",
    "b = [4,5]\n",
    "new_list = [5,7]\n",
    "```\n"
   ]
  },
  {
   "cell_type": "code",
   "execution_count": 58,
   "metadata": {},
   "outputs": [
    {
     "output_type": "execute_result",
     "data": {
      "text/plain": [
       "[5, 4, 3]"
      ]
     },
     "metadata": {},
     "execution_count": 58
    }
   ],
   "source": [
    "a = [3, 1, 1]\n",
    "b = [2, 3, 2]\n",
    "new_list = []\n",
    "\n",
    "for i in range(len(a)):\n",
    "    new_list.append(a[i] + b[i])\n",
    "\n",
    "new_list"
   ]
  },
  {
   "cell_type": "markdown",
   "metadata": {},
   "source": [
    "4. Get first, second best scores from the list.\n",
    "List contains duplicates."
   ]
  },
  {
   "cell_type": "code",
   "execution_count": 64,
   "metadata": {},
   "outputs": [],
   "source": [
    "scores = [86,86,85,85,85,83,23,45,84,1,2,0]"
   ]
  },
  {
   "cell_type": "code",
   "execution_count": 70,
   "metadata": {},
   "outputs": [
    {
     "output_type": "stream",
     "name": "stdout",
     "text": [
      "86\n85\n"
     ]
    }
   ],
   "source": [
    "scores_group = set(scores)\n",
    "print(max(scores_group))\n",
    "scores_group.remove(max(scores_group))\n",
    "print(max(scores_group))"
   ]
  },
  {
   "cell_type": "markdown",
   "metadata": {},
   "source": [
    "5. From the given list:\n",
    "    \n",
    "    a) Create separate lists of strings and numbers.\n",
    "\n",
    "    b) Sort the strings' list in ascending order\n",
    "\n",
    "    c) Sort the strings' list in descending order\n",
    "\n",
    "    d) Sort the number's list from lowest to highest\n",
    "\n",
    "    e) Sort the number's list from highest to lowest"
   ]
  },
  {
   "cell_type": "code",
   "execution_count": 72,
   "metadata": {},
   "outputs": [],
   "source": [
    "gadgets = [\"Mobile\", \"Laptop\", 100, \"Camera\", 310.28, \"Speakers\", 27.00, \n",
    "           \"Television\", 1000, \"Laptop Case\", \"Camera Lens\"]"
   ]
  },
  {
   "cell_type": "code",
   "execution_count": 80,
   "metadata": {},
   "outputs": [
    {
     "output_type": "stream",
     "name": "stdout",
     "text": [
      "['Mobile', 'Laptop', 'Camera', 'Speakers', 'Television', 'Laptop Case', 'Camera Lens']\n[100, 310.28, 27.0, 1000]\n['Camera', 'Camera Lens', 'Laptop', 'Laptop Case', 'Mobile', 'Speakers', 'Television']\n['Television', 'Speakers', 'Mobile', 'Laptop Case', 'Laptop', 'Camera Lens', 'Camera']\n[27.0, 100, 310.28, 1000]\n[1000, 310.28, 100, 27.0]\n"
     ]
    }
   ],
   "source": [
    "lista_num = []\n",
    "lista_conc = []\n",
    "\n",
    "for elem in gadgets:\n",
    "    if type(elem) == int or type(elem) == float:\n",
    "        lista_num.append(elem)\n",
    "    else:\n",
    "        lista_conc.append(elem)\n",
    "\n",
    "print(lista_conc)\n",
    "print(lista_num)\n",
    "\n",
    "lista_conc.sort()\n",
    "print(lista_conc)\n",
    "lista_conc.sort(reverse = True)\n",
    "print(lista_conc)\n",
    "\n",
    "lista_num.sort()\n",
    "print(lista_num)\n",
    "lista_num.sort(reverse = True)\n",
    "print(lista_num)"
   ]
  },
  {
   "cell_type": "markdown",
   "metadata": {},
   "source": [
    "6. Make a list of ten aliens, each of which is one color: 'red', 'green', or 'blue'.\n",
    "    - You can shorten this to 'r', 'g', and 'b' if you want, but if you choose this option you have to include a comment explaining what r, g, and b stand for.\n",
    "    - Red aliens are worth 5 points, green aliens are worth 10 points, and blue aliens are worth 20 points.\n",
    "    - Use a for loop to determine the number of points a player would earn for destroying all of the aliens in your list."
   ]
  },
  {
   "cell_type": "code",
   "execution_count": 82,
   "metadata": {},
   "outputs": [
    {
     "output_type": "stream",
     "name": "stdout",
     "text": [
      "110\n"
     ]
    }
   ],
   "source": [
    "# r means red, g means green and b means blue\n",
    "alien_list = ['r', 'r', 'g', 'r', 'b', 'b','b', 'g', 'r', 'g']\n",
    "cont = 0\n",
    "\n",
    "for alien in alien_list:\n",
    "    if alien == 'r':\n",
    "        cont += 5\n",
    "    elif alien == 'g':\n",
    "        cont += 10\n",
    "    else:\n",
    "        cont += 20\n",
    "    \n",
    "print(cont)"
   ]
  },
  {
   "cell_type": "markdown",
   "metadata": {},
   "source": [
    "### Exercise 2 - Functions"
   ]
  },
  {
   "cell_type": "markdown",
   "metadata": {},
   "source": [
    "1. Write a function program to sum up two given different numbers. "
   ]
  },
  {
   "cell_type": "code",
   "execution_count": 83,
   "metadata": {},
   "outputs": [
    {
     "output_type": "execute_result",
     "data": {
      "text/plain": [
       "8"
      ]
     },
     "metadata": {},
     "execution_count": 83
    }
   ],
   "source": [
    "def suma_dos_num(val1, val2):\n",
    "    return(val1 + val2)\n",
    "\n",
    "suma_dos_num(3, 5)"
   ]
  },
  {
   "cell_type": "markdown",
   "metadata": {},
   "source": [
    "2. Write a Python program to convert a tuple of characters into a string.\n",
    "\n",
    "    - Sample tuple: `(\"T\", \"H\", \"E\", \" \", \"B\", \"R\", \"I\", \"D\", \"G\", \"E\")`\n",
    "    - Expected output : `\"THE BRIDGE\"`\n",
    "    \n",
    "Hint: Turn it into a list. "
   ]
  },
  {
   "cell_type": "code",
   "execution_count": 84,
   "metadata": {},
   "outputs": [
    {
     "output_type": "stream",
     "name": "stdout",
     "text": [
      "THE BRIDGE\n"
     ]
    },
    {
     "output_type": "execute_result",
     "data": {
      "text/plain": [
       "'THE BRIDGE'"
      ]
     },
     "metadata": {},
     "execution_count": 84
    }
   ],
   "source": [
    "sample_tuple = (\"T\", \"H\", \"E\", \" \", \"B\", \"R\", \"I\", \"D\", \"G\", \"E\")\n",
    "\n",
    "def tuple_to_string(tupla):\n",
    "    out_string = \"\"\n",
    "    lista = list(tupla)\n",
    "    for elem in lista:\n",
    "        out_string += elem\n",
    "    print(out_string)\n",
    "    return(out_string)\n",
    "\n",
    "tuple_to_string(sample_tuple)"
   ]
  },
  {
   "cell_type": "markdown",
   "metadata": {},
   "source": [
    "3. Write a Python program to generate a list where the values are square of numbers between 1 and 30 (both included), and return a list of first and last 5 elements of the list."
   ]
  },
  {
   "cell_type": "code",
   "execution_count": 99,
   "metadata": {},
   "outputs": [
    {
     "output_type": "stream",
     "name": "stdout",
     "text": [
      "[1, 4, 9, 16, 25, 36, 49, 64, 81, 100, 121, 144, 169, 196, 225, 256, 289, 324, 361, 400, 441, 484, 529, 576, 625, 676, 729, 784, 841, 900]\n[1, 4, 9, 16, 25, 676, 729, 784, 841, 900]\n<function fun_ej3 at 0x000001EB54512CA0>\n"
     ]
    }
   ],
   "source": [
    "def fun_ej3():\n",
    "    lista1 = []\n",
    "    for num in range(1,31):\n",
    "        lista1.append(num * num)\n",
    "    print(lista1)\n",
    "    lista2 = lista1[0:5] + lista1[-5:]\n",
    "    print(lista2)\n",
    "    return(lista2)\n",
    "\n",
    "fun_ej3()\n",
    "print(fun_ej3)"
   ]
  },
  {
   "cell_type": "markdown",
   "metadata": {},
   "source": [
    "4. Create a Python program that calculates the factorial of a number.\n",
    "\n",
    "The program will ask the user to enter a number (input) and will return the factorial of that number."
   ]
  },
  {
   "cell_type": "code",
   "execution_count": 108,
   "metadata": {},
   "outputs": [
    {
     "output_type": "execute_result",
     "data": {
      "text/plain": [
       "1"
      ]
     },
     "metadata": {},
     "execution_count": 108
    }
   ],
   "source": [
    "def factorial_num(in1 = input('Enter number: ')):\n",
    "    in1 = int(in1)\n",
    "    fact_out = in1\n",
    "    if in1 == 0:\n",
    "        return(1)\n",
    "    else:\n",
    "        for i in range(1, in1):\n",
    "            in1 += -1\n",
    "            fact_out = fact_out * in1\n",
    "        return(fact_out)\n",
    "\n",
    "factorial_num()"
   ]
  },
  {
   "cell_type": "markdown",
   "metadata": {},
   "source": [
    "5. Create a program that calculates the average.\n",
    "\n",
    "The program will ask the user to specify how many numbers you want to enter, and will show a prompt to include number by number to a list, and then calculate the average of each number in that list."
   ]
  },
  {
   "cell_type": "code",
   "execution_count": 112,
   "metadata": {},
   "outputs": [
    {
     "output_type": "execute_result",
     "data": {
      "text/plain": [
       "3.0"
      ]
     },
     "metadata": {},
     "execution_count": 112
    }
   ],
   "source": [
    "def average_calc(entr = input('Amount of numbers to enter: ')):\n",
    "    lista = []\n",
    "    for i in range(int(entr)):\n",
    "        num = int(input('Enter number: '))\n",
    "        lista.append(num)\n",
    "    media = sum(lista)/len(lista)\n",
    "    return(media)\n",
    "\n",
    "average_calc()"
   ]
  },
  {
   "cell_type": "markdown",
   "metadata": {},
   "source": [
    "# If you made it till here you did a fantastic work!"
   ]
  },
  {
   "cell_type": "markdown",
   "metadata": {},
   "source": [
    "![\"holo\"](https://img-9gag-fun.9cache.com/photo/aNg9wMK_460s.jpg)"
   ]
  },
  {
   "cell_type": "code",
   "execution_count": null,
   "metadata": {},
   "outputs": [],
   "source": []
  }
 ],
 "metadata": {
  "kernelspec": {
   "name": "python3",
   "display_name": "Python 3.9.0 64-bit",
   "metadata": {
    "interpreter": {
     "hash": "cf85b414d3663472de89104473c842eaab37d7b845999caf56a47ccda76ea2f8"
    }
   }
  },
  "language_info": {
   "codemirror_mode": {
    "name": "ipython",
    "version": 3
   },
   "file_extension": ".py",
   "mimetype": "text/x-python",
   "name": "python",
   "nbconvert_exporter": "python",
   "pygments_lexer": "ipython3",
   "version": "3.9.0-final"
  }
 },
 "nbformat": 4,
 "nbformat_minor": 4
}