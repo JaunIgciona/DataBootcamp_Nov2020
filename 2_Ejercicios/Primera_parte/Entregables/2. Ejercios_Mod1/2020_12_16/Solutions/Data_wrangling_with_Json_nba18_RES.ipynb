{
 "cells": [
  {
   "cell_type": "markdown",
   "metadata": {},
   "source": [
    "## Working on Jsons"
   ]
  },
  {
   "cell_type": "code",
   "execution_count": 2,
   "metadata": {},
   "outputs": [],
   "source": [
    "import requests\n",
    "import json\n",
    "import pandas as pd"
   ]
  },
  {
   "cell_type": "code",
   "execution_count": 3,
   "metadata": {
    "tags": []
   },
   "outputs": [],
   "source": [
    "r = requests.get(url='http://data.nba.net/prod/v2/2018/teams.json')\n",
    "json_readed = json.loads(r.text)\n",
    "#json_readed"
   ]
  },
  {
   "cell_type": "code",
   "execution_count": 4,
   "metadata": {
    "tags": []
   },
   "outputs": [],
   "source": [
    "#print(json_readed)"
   ]
  },
  {
   "cell_type": "markdown",
   "metadata": {},
   "source": [
    "Save json in a local file called \"data.json\""
   ]
  },
  {
   "cell_type": "code",
   "execution_count": 5,
   "metadata": {},
   "outputs": [],
   "source": [
    "with open('data.json', 'w+') as outfile:\n",
    "    json.dump(json_readed, outfile)"
   ]
  },
  {
   "cell_type": "code",
   "execution_count": 1,
   "metadata": {
    "tags": []
   },
   "outputs": [
    {
     "output_type": "error",
     "ename": "FileNotFoundError",
     "evalue": "[Errno 2] No such file or directory: 'data.json'",
     "traceback": [
      "\u001b[1;31m---------------------------------------------------------------------------\u001b[0m",
      "\u001b[1;31mFileNotFoundError\u001b[0m                         Traceback (most recent call last)",
      "\u001b[1;32m<ipython-input-1-d1e55a95ff9d>\u001b[0m in \u001b[0;36m<module>\u001b[1;34m\u001b[0m\n\u001b[1;32m----> 1\u001b[1;33m \u001b[1;32mwith\u001b[0m \u001b[0mopen\u001b[0m\u001b[1;33m(\u001b[0m\u001b[1;34m'data.json'\u001b[0m\u001b[1;33m)\u001b[0m \u001b[1;32mas\u001b[0m \u001b[0mf\u001b[0m\u001b[1;33m:\u001b[0m\u001b[1;33m\u001b[0m\u001b[1;33m\u001b[0m\u001b[0m\n\u001b[0m\u001b[0;32m      2\u001b[0m     \u001b[0mline\u001b[0m \u001b[1;33m=\u001b[0m \u001b[0mf\u001b[0m\u001b[1;33m.\u001b[0m\u001b[0mreadline\u001b[0m\u001b[1;33m(\u001b[0m\u001b[1;33m)\u001b[0m\u001b[1;33m\u001b[0m\u001b[1;33m\u001b[0m\u001b[0m\n\u001b[0;32m      3\u001b[0m     \u001b[1;32mif\u001b[0m \u001b[0mline\u001b[0m\u001b[1;33m:\u001b[0m\u001b[1;33m\u001b[0m\u001b[1;33m\u001b[0m\u001b[0m\n\u001b[0;32m      4\u001b[0m         \u001b[0mprint\u001b[0m\u001b[1;33m(\u001b[0m\u001b[0mline\u001b[0m\u001b[1;33m)\u001b[0m\u001b[1;33m\u001b[0m\u001b[1;33m\u001b[0m\u001b[0m\n\u001b[0;32m      5\u001b[0m         \u001b[0mline\u001b[0m \u001b[1;33m=\u001b[0m \u001b[0mf\u001b[0m\u001b[1;33m.\u001b[0m\u001b[0mreadline\u001b[0m\u001b[1;33m(\u001b[0m\u001b[1;33m)\u001b[0m\u001b[1;33m\u001b[0m\u001b[1;33m\u001b[0m\u001b[0m\n",
      "\u001b[1;31mFileNotFoundError\u001b[0m: [Errno 2] No such file or directory: 'data.json'"
     ]
    }
   ],
   "source": [
    "with open('data.json') as f:\n",
    "    line = f.readline()\n",
    "    if line:\n",
    "        print(line)\n",
    "        line = f.readline()"
   ]
  },
  {
   "cell_type": "markdown",
   "metadata": {},
   "source": [
    "Save with indent"
   ]
  },
  {
   "cell_type": "code",
   "execution_count": 7,
   "metadata": {},
   "outputs": [],
   "source": [
    "with open('data_indented.json', 'w+') as outfile:\n",
    "    json.dump(json_readed, outfile, indent=4)"
   ]
  },
  {
   "cell_type": "markdown",
   "metadata": {},
   "source": [
    "Read local json\n"
   ]
  },
  {
   "cell_type": "code",
   "execution_count": 8,
   "metadata": {},
   "outputs": [],
   "source": [
    "with open('data_indented.json', 'r+') as outfile:\n",
    "    json_readed = json.load(outfile)\n",
    "#json_readed"
   ]
  },
  {
   "cell_type": "code",
   "execution_count": 9,
   "metadata": {},
   "outputs": [
    {
     "output_type": "execute_result",
     "data": {
      "text/plain": [
       "                                          _internal  \\\n",
       "pubDateTime                 2018-08-30 20:00:04.422   \n",
       "xslt         xsl/league/roster/marty_teams_list.xsl   \n",
       "eventName                             league_roster   \n",
       "standard                                        NaN   \n",
       "africa                                          NaN   \n",
       "sacramento                                      NaN   \n",
       "vegas                                           NaN   \n",
       "utah                                            NaN   \n",
       "\n",
       "                                                        league  \n",
       "pubDateTime                                                NaN  \n",
       "xslt                                                       NaN  \n",
       "eventName                                                  NaN  \n",
       "standard     [{'isNBAFranchise': False, 'isAllStar': True, ...  \n",
       "africa       [{'isNBAFranchise': False, 'isAllStar': False,...  \n",
       "sacramento   [{'isNBAFranchise': True, 'isAllStar': False, ...  \n",
       "vegas        [{'isNBAFranchise': True, 'isAllStar': False, ...  \n",
       "utah         [{'isNBAFranchise': True, 'isAllStar': False, ...  "
      ],
      "text/html": "<div>\n<style scoped>\n    .dataframe tbody tr th:only-of-type {\n        vertical-align: middle;\n    }\n\n    .dataframe tbody tr th {\n        vertical-align: top;\n    }\n\n    .dataframe thead th {\n        text-align: right;\n    }\n</style>\n<table border=\"1\" class=\"dataframe\">\n  <thead>\n    <tr style=\"text-align: right;\">\n      <th></th>\n      <th>_internal</th>\n      <th>league</th>\n    </tr>\n  </thead>\n  <tbody>\n    <tr>\n      <th>pubDateTime</th>\n      <td>2018-08-30 20:00:04.422</td>\n      <td>NaN</td>\n    </tr>\n    <tr>\n      <th>xslt</th>\n      <td>xsl/league/roster/marty_teams_list.xsl</td>\n      <td>NaN</td>\n    </tr>\n    <tr>\n      <th>eventName</th>\n      <td>league_roster</td>\n      <td>NaN</td>\n    </tr>\n    <tr>\n      <th>standard</th>\n      <td>NaN</td>\n      <td>[{'isNBAFranchise': False, 'isAllStar': True, ...</td>\n    </tr>\n    <tr>\n      <th>africa</th>\n      <td>NaN</td>\n      <td>[{'isNBAFranchise': False, 'isAllStar': False,...</td>\n    </tr>\n    <tr>\n      <th>sacramento</th>\n      <td>NaN</td>\n      <td>[{'isNBAFranchise': True, 'isAllStar': False, ...</td>\n    </tr>\n    <tr>\n      <th>vegas</th>\n      <td>NaN</td>\n      <td>[{'isNBAFranchise': True, 'isAllStar': False, ...</td>\n    </tr>\n    <tr>\n      <th>utah</th>\n      <td>NaN</td>\n      <td>[{'isNBAFranchise': True, 'isAllStar': False, ...</td>\n    </tr>\n  </tbody>\n</table>\n</div>"
     },
     "metadata": {},
     "execution_count": 9
    }
   ],
   "source": [
    "df_json = pd.read_json(\"data_indented.json\")\n",
    "df_json"
   ]
  },
  {
   "cell_type": "markdown",
   "metadata": {},
   "source": [
    "### Data Mining & Data Wrangling\n",
    "As you can see, there are jsons inside the original json. For that, we have to mining the json (data mining) to be able to use it correctly (data wrangling). \n",
    "\n",
    "How do you solve this issue? Research about this and try a solution. "
   ]
  },
  {
   "cell_type": "markdown",
   "metadata": {},
   "source": [
    "OPCIONAL"
   ]
  },
  {
   "cell_type": "code",
   "execution_count": 10,
   "metadata": {},
   "outputs": [],
   "source": [
    "copy = df_json.copy()\n",
    "copy.reset_index(inplace=True)\n",
    "# Lo de arriba es sinónimo a:\n",
    "# copy = copy.reset_index()"
   ]
  },
  {
   "cell_type": "code",
   "execution_count": 11,
   "metadata": {},
   "outputs": [
    {
     "output_type": "execute_result",
     "data": {
      "text/plain": [
       "                                          _internal  \\\n",
       "pubDateTime                 2018-08-30 20:00:04.422   \n",
       "xslt         xsl/league/roster/marty_teams_list.xsl   \n",
       "eventName                             league_roster   \n",
       "standard                                        NaN   \n",
       "africa                                          NaN   \n",
       "sacramento                                      NaN   \n",
       "vegas                                           NaN   \n",
       "utah                                            NaN   \n",
       "\n",
       "                                                        league  \n",
       "pubDateTime                                                NaN  \n",
       "xslt                                                       NaN  \n",
       "eventName                                                  NaN  \n",
       "standard     [{'isNBAFranchise': False, 'isAllStar': True, ...  \n",
       "africa       [{'isNBAFranchise': False, 'isAllStar': False,...  \n",
       "sacramento   [{'isNBAFranchise': True, 'isAllStar': False, ...  \n",
       "vegas        [{'isNBAFranchise': True, 'isAllStar': False, ...  \n",
       "utah         [{'isNBAFranchise': True, 'isAllStar': False, ...  "
      ],
      "text/html": "<div>\n<style scoped>\n    .dataframe tbody tr th:only-of-type {\n        vertical-align: middle;\n    }\n\n    .dataframe tbody tr th {\n        vertical-align: top;\n    }\n\n    .dataframe thead th {\n        text-align: right;\n    }\n</style>\n<table border=\"1\" class=\"dataframe\">\n  <thead>\n    <tr style=\"text-align: right;\">\n      <th></th>\n      <th>_internal</th>\n      <th>league</th>\n    </tr>\n  </thead>\n  <tbody>\n    <tr>\n      <th>pubDateTime</th>\n      <td>2018-08-30 20:00:04.422</td>\n      <td>NaN</td>\n    </tr>\n    <tr>\n      <th>xslt</th>\n      <td>xsl/league/roster/marty_teams_list.xsl</td>\n      <td>NaN</td>\n    </tr>\n    <tr>\n      <th>eventName</th>\n      <td>league_roster</td>\n      <td>NaN</td>\n    </tr>\n    <tr>\n      <th>standard</th>\n      <td>NaN</td>\n      <td>[{'isNBAFranchise': False, 'isAllStar': True, ...</td>\n    </tr>\n    <tr>\n      <th>africa</th>\n      <td>NaN</td>\n      <td>[{'isNBAFranchise': False, 'isAllStar': False,...</td>\n    </tr>\n    <tr>\n      <th>sacramento</th>\n      <td>NaN</td>\n      <td>[{'isNBAFranchise': True, 'isAllStar': False, ...</td>\n    </tr>\n    <tr>\n      <th>vegas</th>\n      <td>NaN</td>\n      <td>[{'isNBAFranchise': True, 'isAllStar': False, ...</td>\n    </tr>\n    <tr>\n      <th>utah</th>\n      <td>NaN</td>\n      <td>[{'isNBAFranchise': True, 'isAllStar': False, ...</td>\n    </tr>\n  </tbody>\n</table>\n</div>"
     },
     "metadata": {},
     "execution_count": 11
    }
   ],
   "source": [
    "df_json"
   ]
  },
  {
   "cell_type": "code",
   "execution_count": 78,
   "metadata": {},
   "outputs": [
    {
     "output_type": "execute_result",
     "data": {
      "text/plain": "           _internal                                             league\nstandard         NaN  [{'isNBAFranchise': False, 'isAllStar': True, ...\nafrica           NaN  [{'isNBAFranchise': False, 'isAllStar': False,...\nsacramento       NaN  [{'isNBAFranchise': True, 'isAllStar': False, ...\nvegas            NaN  [{'isNBAFranchise': True, 'isAllStar': False, ...\nutah             NaN  [{'isNBAFranchise': True, 'isAllStar': False, ...",
      "text/html": "<div>\n<style scoped>\n    .dataframe tbody tr th:only-of-type {\n        vertical-align: middle;\n    }\n\n    .dataframe tbody tr th {\n        vertical-align: top;\n    }\n\n    .dataframe thead th {\n        text-align: right;\n    }\n</style>\n<table border=\"1\" class=\"dataframe\">\n  <thead>\n    <tr style=\"text-align: right;\">\n      <th></th>\n      <th>_internal</th>\n      <th>league</th>\n    </tr>\n  </thead>\n  <tbody>\n    <tr>\n      <th>standard</th>\n      <td>NaN</td>\n      <td>[{'isNBAFranchise': False, 'isAllStar': True, ...</td>\n    </tr>\n    <tr>\n      <th>africa</th>\n      <td>NaN</td>\n      <td>[{'isNBAFranchise': False, 'isAllStar': False,...</td>\n    </tr>\n    <tr>\n      <th>sacramento</th>\n      <td>NaN</td>\n      <td>[{'isNBAFranchise': True, 'isAllStar': False, ...</td>\n    </tr>\n    <tr>\n      <th>vegas</th>\n      <td>NaN</td>\n      <td>[{'isNBAFranchise': True, 'isAllStar': False, ...</td>\n    </tr>\n    <tr>\n      <th>utah</th>\n      <td>NaN</td>\n      <td>[{'isNBAFranchise': True, 'isAllStar': False, ...</td>\n    </tr>\n  </tbody>\n</table>\n</div>"
     },
     "metadata": {},
     "execution_count": 78
    }
   ],
   "source": []
  },
  {
   "cell_type": "code",
   "execution_count": 12,
   "metadata": {},
   "outputs": [
    {
     "output_type": "execute_result",
     "data": {
      "text/plain": [
       "                                                       league\n",
       "standard    [{'isNBAFranchise': False, 'isAllStar': True, ...\n",
       "africa      [{'isNBAFranchise': False, 'isAllStar': False,...\n",
       "sacramento  [{'isNBAFranchise': True, 'isAllStar': False, ...\n",
       "vegas       [{'isNBAFranchise': True, 'isAllStar': False, ...\n",
       "utah        [{'isNBAFranchise': True, 'isAllStar': False, ..."
      ],
      "text/html": "<div>\n<style scoped>\n    .dataframe tbody tr th:only-of-type {\n        vertical-align: middle;\n    }\n\n    .dataframe tbody tr th {\n        vertical-align: top;\n    }\n\n    .dataframe thead th {\n        text-align: right;\n    }\n</style>\n<table border=\"1\" class=\"dataframe\">\n  <thead>\n    <tr style=\"text-align: right;\">\n      <th></th>\n      <th>league</th>\n    </tr>\n  </thead>\n  <tbody>\n    <tr>\n      <th>standard</th>\n      <td>[{'isNBAFranchise': False, 'isAllStar': True, ...</td>\n    </tr>\n    <tr>\n      <th>africa</th>\n      <td>[{'isNBAFranchise': False, 'isAllStar': False,...</td>\n    </tr>\n    <tr>\n      <th>sacramento</th>\n      <td>[{'isNBAFranchise': True, 'isAllStar': False, ...</td>\n    </tr>\n    <tr>\n      <th>vegas</th>\n      <td>[{'isNBAFranchise': True, 'isAllStar': False, ...</td>\n    </tr>\n    <tr>\n      <th>utah</th>\n      <td>[{'isNBAFranchise': True, 'isAllStar': False, ...</td>\n    </tr>\n  </tbody>\n</table>\n</div>"
     },
     "metadata": {},
     "execution_count": 12
    }
   ],
   "source": [
    "df_json_league = df_json.loc[\"standard\":]\n",
    "df_json_league = df_json_league.drop([\"_internal\"], axis=1)\n",
    "df_json_league"
   ]
  },
  {
   "cell_type": "markdown",
   "metadata": {},
   "source": [
    "--------------------\n",
    "## Solución 1:"
   ]
  },
  {
   "cell_type": "code",
   "execution_count": 13,
   "metadata": {},
   "outputs": [
    {
     "output_type": "execute_result",
     "data": {
      "text/plain": [
       "    isNBAFranchise  isAllStar          city   altCityName            fullName  \\\n",
       "0            False       True           USA           USA                 USA   \n",
       "1            False       True         World         World               World   \n",
       "2            False       True          Team          Team           All-Stars   \n",
       "3            False       True          Team          Team           All-Stars   \n",
       "4            False       True  Team Giannis  Team Giannis        Team Giannis   \n",
       "..             ...        ...           ...           ...                 ...   \n",
       "83            True      False    Washington    Washington  Washington Wizards   \n",
       "84            True      False       Atlanta       Atlanta       Atlanta Hawks   \n",
       "85            True      False       Memphis       Memphis   Memphis Grizzlies   \n",
       "86            True      False   San Antonio   San Antonio   San Antonio Spurs   \n",
       "87            True      False          Utah          Utah           Utah Jazz   \n",
       "\n",
       "   tricode      teamId      nickname       urlName confName divName  \n",
       "0      USA  1610616843           USA           usa     East    East  \n",
       "1      WLD  1610616844         World         world     East    East  \n",
       "2      EST  1699999999     All-Stars     assn_away     East    East  \n",
       "3      WST  1699999998     All-Stars     assn_home     West    West  \n",
       "4      GNS  1610616833  Team Giannis  team_giannis     East    East  \n",
       "..     ...         ...           ...           ...      ...     ...  \n",
       "83     WAS  1610612764       Wizards       wizards   summer          \n",
       "84     ATL  1610612737         Hawks         hawks     Utah          \n",
       "85     MEM  1610612763     Grizzlies     grizzlies     Utah          \n",
       "86     SAS  1610612759         Spurs         spurs     Utah          \n",
       "87     UTA  1610612762          Jazz          jazz     Utah          \n",
       "\n",
       "[88 rows x 11 columns]"
      ],
      "text/html": "<div>\n<style scoped>\n    .dataframe tbody tr th:only-of-type {\n        vertical-align: middle;\n    }\n\n    .dataframe tbody tr th {\n        vertical-align: top;\n    }\n\n    .dataframe thead th {\n        text-align: right;\n    }\n</style>\n<table border=\"1\" class=\"dataframe\">\n  <thead>\n    <tr style=\"text-align: right;\">\n      <th></th>\n      <th>isNBAFranchise</th>\n      <th>isAllStar</th>\n      <th>city</th>\n      <th>altCityName</th>\n      <th>fullName</th>\n      <th>tricode</th>\n      <th>teamId</th>\n      <th>nickname</th>\n      <th>urlName</th>\n      <th>confName</th>\n      <th>divName</th>\n    </tr>\n  </thead>\n  <tbody>\n    <tr>\n      <th>0</th>\n      <td>False</td>\n      <td>True</td>\n      <td>USA</td>\n      <td>USA</td>\n      <td>USA</td>\n      <td>USA</td>\n      <td>1610616843</td>\n      <td>USA</td>\n      <td>usa</td>\n      <td>East</td>\n      <td>East</td>\n    </tr>\n    <tr>\n      <th>1</th>\n      <td>False</td>\n      <td>True</td>\n      <td>World</td>\n      <td>World</td>\n      <td>World</td>\n      <td>WLD</td>\n      <td>1610616844</td>\n      <td>World</td>\n      <td>world</td>\n      <td>East</td>\n      <td>East</td>\n    </tr>\n    <tr>\n      <th>2</th>\n      <td>False</td>\n      <td>True</td>\n      <td>Team</td>\n      <td>Team</td>\n      <td>All-Stars</td>\n      <td>EST</td>\n      <td>1699999999</td>\n      <td>All-Stars</td>\n      <td>assn_away</td>\n      <td>East</td>\n      <td>East</td>\n    </tr>\n    <tr>\n      <th>3</th>\n      <td>False</td>\n      <td>True</td>\n      <td>Team</td>\n      <td>Team</td>\n      <td>All-Stars</td>\n      <td>WST</td>\n      <td>1699999998</td>\n      <td>All-Stars</td>\n      <td>assn_home</td>\n      <td>West</td>\n      <td>West</td>\n    </tr>\n    <tr>\n      <th>4</th>\n      <td>False</td>\n      <td>True</td>\n      <td>Team Giannis</td>\n      <td>Team Giannis</td>\n      <td>Team Giannis</td>\n      <td>GNS</td>\n      <td>1610616833</td>\n      <td>Team Giannis</td>\n      <td>team_giannis</td>\n      <td>East</td>\n      <td>East</td>\n    </tr>\n    <tr>\n      <th>...</th>\n      <td>...</td>\n      <td>...</td>\n      <td>...</td>\n      <td>...</td>\n      <td>...</td>\n      <td>...</td>\n      <td>...</td>\n      <td>...</td>\n      <td>...</td>\n      <td>...</td>\n      <td>...</td>\n    </tr>\n    <tr>\n      <th>83</th>\n      <td>True</td>\n      <td>False</td>\n      <td>Washington</td>\n      <td>Washington</td>\n      <td>Washington Wizards</td>\n      <td>WAS</td>\n      <td>1610612764</td>\n      <td>Wizards</td>\n      <td>wizards</td>\n      <td>summer</td>\n      <td></td>\n    </tr>\n    <tr>\n      <th>84</th>\n      <td>True</td>\n      <td>False</td>\n      <td>Atlanta</td>\n      <td>Atlanta</td>\n      <td>Atlanta Hawks</td>\n      <td>ATL</td>\n      <td>1610612737</td>\n      <td>Hawks</td>\n      <td>hawks</td>\n      <td>Utah</td>\n      <td></td>\n    </tr>\n    <tr>\n      <th>85</th>\n      <td>True</td>\n      <td>False</td>\n      <td>Memphis</td>\n      <td>Memphis</td>\n      <td>Memphis Grizzlies</td>\n      <td>MEM</td>\n      <td>1610612763</td>\n      <td>Grizzlies</td>\n      <td>grizzlies</td>\n      <td>Utah</td>\n      <td></td>\n    </tr>\n    <tr>\n      <th>86</th>\n      <td>True</td>\n      <td>False</td>\n      <td>San Antonio</td>\n      <td>San Antonio</td>\n      <td>San Antonio Spurs</td>\n      <td>SAS</td>\n      <td>1610612759</td>\n      <td>Spurs</td>\n      <td>spurs</td>\n      <td>Utah</td>\n      <td></td>\n    </tr>\n    <tr>\n      <th>87</th>\n      <td>True</td>\n      <td>False</td>\n      <td>Utah</td>\n      <td>Utah</td>\n      <td>Utah Jazz</td>\n      <td>UTA</td>\n      <td>1610612762</td>\n      <td>Jazz</td>\n      <td>jazz</td>\n      <td>Utah</td>\n      <td></td>\n    </tr>\n  </tbody>\n</table>\n<p>88 rows × 11 columns</p>\n</div>"
     },
     "metadata": {},
     "execution_count": 13
    }
   ],
   "source": [
    "diccionario_json = {}\n",
    "lista_json = [json for lista_json in df_json_league.league for json in lista_json]\n",
    "\n",
    "for cada_json in lista_json:\n",
    "    for key, value in cada_json.items(): \n",
    "        if key not in diccionario_json.keys():\n",
    "            diccionario_json[key] = [value]\n",
    "        else: \n",
    "            diccionario_json[key].append(value)\n",
    "\n",
    "data = pd.DataFrame(diccionario_json)\n",
    "data"
   ]
  },
  {
   "cell_type": "markdown",
   "metadata": {},
   "source": [
    "--------------------"
   ]
  },
  {
   "cell_type": "markdown",
   "metadata": {},
   "source": [
    "## Solución 2:"
   ]
  },
  {
   "cell_type": "code",
   "execution_count": 14,
   "metadata": {},
   "outputs": [
    {
     "output_type": "execute_result",
     "data": {
      "text/plain": [
       "                                                     league\n",
       "standard  {'isNBAFranchise': False, 'isAllStar': True, '...\n",
       "standard  {'isNBAFranchise': False, 'isAllStar': True, '...\n",
       "standard  {'isNBAFranchise': False, 'isAllStar': True, '...\n",
       "standard  {'isNBAFranchise': False, 'isAllStar': True, '...\n",
       "standard  {'isNBAFranchise': False, 'isAllStar': True, '...\n",
       "...                                                     ...\n",
       "vegas     {'isNBAFranchise': True, 'isAllStar': False, '...\n",
       "utah      {'isNBAFranchise': True, 'isAllStar': False, '...\n",
       "utah      {'isNBAFranchise': True, 'isAllStar': False, '...\n",
       "utah      {'isNBAFranchise': True, 'isAllStar': False, '...\n",
       "utah      {'isNBAFranchise': True, 'isAllStar': False, '...\n",
       "\n",
       "[88 rows x 1 columns]"
      ],
      "text/html": "<div>\n<style scoped>\n    .dataframe tbody tr th:only-of-type {\n        vertical-align: middle;\n    }\n\n    .dataframe tbody tr th {\n        vertical-align: top;\n    }\n\n    .dataframe thead th {\n        text-align: right;\n    }\n</style>\n<table border=\"1\" class=\"dataframe\">\n  <thead>\n    <tr style=\"text-align: right;\">\n      <th></th>\n      <th>league</th>\n    </tr>\n  </thead>\n  <tbody>\n    <tr>\n      <th>standard</th>\n      <td>{'isNBAFranchise': False, 'isAllStar': True, '...</td>\n    </tr>\n    <tr>\n      <th>standard</th>\n      <td>{'isNBAFranchise': False, 'isAllStar': True, '...</td>\n    </tr>\n    <tr>\n      <th>standard</th>\n      <td>{'isNBAFranchise': False, 'isAllStar': True, '...</td>\n    </tr>\n    <tr>\n      <th>standard</th>\n      <td>{'isNBAFranchise': False, 'isAllStar': True, '...</td>\n    </tr>\n    <tr>\n      <th>standard</th>\n      <td>{'isNBAFranchise': False, 'isAllStar': True, '...</td>\n    </tr>\n    <tr>\n      <th>...</th>\n      <td>...</td>\n    </tr>\n    <tr>\n      <th>vegas</th>\n      <td>{'isNBAFranchise': True, 'isAllStar': False, '...</td>\n    </tr>\n    <tr>\n      <th>utah</th>\n      <td>{'isNBAFranchise': True, 'isAllStar': False, '...</td>\n    </tr>\n    <tr>\n      <th>utah</th>\n      <td>{'isNBAFranchise': True, 'isAllStar': False, '...</td>\n    </tr>\n    <tr>\n      <th>utah</th>\n      <td>{'isNBAFranchise': True, 'isAllStar': False, '...</td>\n    </tr>\n    <tr>\n      <th>utah</th>\n      <td>{'isNBAFranchise': True, 'isAllStar': False, '...</td>\n    </tr>\n  </tbody>\n</table>\n<p>88 rows × 1 columns</p>\n</div>"
     },
     "metadata": {},
     "execution_count": 14
    }
   ],
   "source": [
    "df = df_json_league.explode('league')\n",
    "df"
   ]
  },
  {
   "cell_type": "code",
   "execution_count": 15,
   "metadata": {},
   "outputs": [
    {
     "output_type": "execute_result",
     "data": {
      "text/plain": [
       "          isNBAFranchise  isAllStar          city   altCityName  \\\n",
       "standard           False       True           USA           USA   \n",
       "standard           False       True         World         World   \n",
       "standard           False       True          Team          Team   \n",
       "standard           False       True          Team          Team   \n",
       "standard           False       True  Team Giannis  Team Giannis   \n",
       "...                  ...        ...           ...           ...   \n",
       "vegas               True      False    Washington    Washington   \n",
       "utah                True      False       Atlanta       Atlanta   \n",
       "utah                True      False       Memphis       Memphis   \n",
       "utah                True      False   San Antonio   San Antonio   \n",
       "utah                True      False          Utah          Utah   \n",
       "\n",
       "                    fullName tricode      teamId      nickname       urlName  \\\n",
       "standard                 USA     USA  1610616843           USA           usa   \n",
       "standard               World     WLD  1610616844         World         world   \n",
       "standard           All-Stars     EST  1699999999     All-Stars     assn_away   \n",
       "standard           All-Stars     WST  1699999998     All-Stars     assn_home   \n",
       "standard        Team Giannis     GNS  1610616833  Team Giannis  team_giannis   \n",
       "...                      ...     ...         ...           ...           ...   \n",
       "vegas     Washington Wizards     WAS  1610612764       Wizards       wizards   \n",
       "utah           Atlanta Hawks     ATL  1610612737         Hawks         hawks   \n",
       "utah       Memphis Grizzlies     MEM  1610612763     Grizzlies     grizzlies   \n",
       "utah       San Antonio Spurs     SAS  1610612759         Spurs         spurs   \n",
       "utah               Utah Jazz     UTA  1610612762          Jazz          jazz   \n",
       "\n",
       "         confName divName  \n",
       "standard     East    East  \n",
       "standard     East    East  \n",
       "standard     East    East  \n",
       "standard     West    West  \n",
       "standard     East    East  \n",
       "...           ...     ...  \n",
       "vegas      summer          \n",
       "utah         Utah          \n",
       "utah         Utah          \n",
       "utah         Utah          \n",
       "utah         Utah          \n",
       "\n",
       "[88 rows x 11 columns]"
      ],
      "text/html": "<div>\n<style scoped>\n    .dataframe tbody tr th:only-of-type {\n        vertical-align: middle;\n    }\n\n    .dataframe tbody tr th {\n        vertical-align: top;\n    }\n\n    .dataframe thead th {\n        text-align: right;\n    }\n</style>\n<table border=\"1\" class=\"dataframe\">\n  <thead>\n    <tr style=\"text-align: right;\">\n      <th></th>\n      <th>isNBAFranchise</th>\n      <th>isAllStar</th>\n      <th>city</th>\n      <th>altCityName</th>\n      <th>fullName</th>\n      <th>tricode</th>\n      <th>teamId</th>\n      <th>nickname</th>\n      <th>urlName</th>\n      <th>confName</th>\n      <th>divName</th>\n    </tr>\n  </thead>\n  <tbody>\n    <tr>\n      <th>standard</th>\n      <td>False</td>\n      <td>True</td>\n      <td>USA</td>\n      <td>USA</td>\n      <td>USA</td>\n      <td>USA</td>\n      <td>1610616843</td>\n      <td>USA</td>\n      <td>usa</td>\n      <td>East</td>\n      <td>East</td>\n    </tr>\n    <tr>\n      <th>standard</th>\n      <td>False</td>\n      <td>True</td>\n      <td>World</td>\n      <td>World</td>\n      <td>World</td>\n      <td>WLD</td>\n      <td>1610616844</td>\n      <td>World</td>\n      <td>world</td>\n      <td>East</td>\n      <td>East</td>\n    </tr>\n    <tr>\n      <th>standard</th>\n      <td>False</td>\n      <td>True</td>\n      <td>Team</td>\n      <td>Team</td>\n      <td>All-Stars</td>\n      <td>EST</td>\n      <td>1699999999</td>\n      <td>All-Stars</td>\n      <td>assn_away</td>\n      <td>East</td>\n      <td>East</td>\n    </tr>\n    <tr>\n      <th>standard</th>\n      <td>False</td>\n      <td>True</td>\n      <td>Team</td>\n      <td>Team</td>\n      <td>All-Stars</td>\n      <td>WST</td>\n      <td>1699999998</td>\n      <td>All-Stars</td>\n      <td>assn_home</td>\n      <td>West</td>\n      <td>West</td>\n    </tr>\n    <tr>\n      <th>standard</th>\n      <td>False</td>\n      <td>True</td>\n      <td>Team Giannis</td>\n      <td>Team Giannis</td>\n      <td>Team Giannis</td>\n      <td>GNS</td>\n      <td>1610616833</td>\n      <td>Team Giannis</td>\n      <td>team_giannis</td>\n      <td>East</td>\n      <td>East</td>\n    </tr>\n    <tr>\n      <th>...</th>\n      <td>...</td>\n      <td>...</td>\n      <td>...</td>\n      <td>...</td>\n      <td>...</td>\n      <td>...</td>\n      <td>...</td>\n      <td>...</td>\n      <td>...</td>\n      <td>...</td>\n      <td>...</td>\n    </tr>\n    <tr>\n      <th>vegas</th>\n      <td>True</td>\n      <td>False</td>\n      <td>Washington</td>\n      <td>Washington</td>\n      <td>Washington Wizards</td>\n      <td>WAS</td>\n      <td>1610612764</td>\n      <td>Wizards</td>\n      <td>wizards</td>\n      <td>summer</td>\n      <td></td>\n    </tr>\n    <tr>\n      <th>utah</th>\n      <td>True</td>\n      <td>False</td>\n      <td>Atlanta</td>\n      <td>Atlanta</td>\n      <td>Atlanta Hawks</td>\n      <td>ATL</td>\n      <td>1610612737</td>\n      <td>Hawks</td>\n      <td>hawks</td>\n      <td>Utah</td>\n      <td></td>\n    </tr>\n    <tr>\n      <th>utah</th>\n      <td>True</td>\n      <td>False</td>\n      <td>Memphis</td>\n      <td>Memphis</td>\n      <td>Memphis Grizzlies</td>\n      <td>MEM</td>\n      <td>1610612763</td>\n      <td>Grizzlies</td>\n      <td>grizzlies</td>\n      <td>Utah</td>\n      <td></td>\n    </tr>\n    <tr>\n      <th>utah</th>\n      <td>True</td>\n      <td>False</td>\n      <td>San Antonio</td>\n      <td>San Antonio</td>\n      <td>San Antonio Spurs</td>\n      <td>SAS</td>\n      <td>1610612759</td>\n      <td>Spurs</td>\n      <td>spurs</td>\n      <td>Utah</td>\n      <td></td>\n    </tr>\n    <tr>\n      <th>utah</th>\n      <td>True</td>\n      <td>False</td>\n      <td>Utah</td>\n      <td>Utah</td>\n      <td>Utah Jazz</td>\n      <td>UTA</td>\n      <td>1610612762</td>\n      <td>Jazz</td>\n      <td>jazz</td>\n      <td>Utah</td>\n      <td></td>\n    </tr>\n  </tbody>\n</table>\n<p>88 rows × 11 columns</p>\n</div>"
     },
     "metadata": {},
     "execution_count": 15
    }
   ],
   "source": [
    "df = df_json_league.explode('league').apply(lambda e: e.league, axis = 1, result_type = 'expand')\n",
    "df"
   ]
  },
  {
   "cell_type": "markdown",
   "metadata": {},
   "source": [
    "--------------------"
   ]
  },
  {
   "cell_type": "code",
   "execution_count": null,
   "metadata": {},
   "outputs": [],
   "source": []
  }
 ],
 "metadata": {
  "language_info": {
   "name": "python",
   "codemirror_mode": {
    "name": "ipython",
    "version": 3
   },
   "version": "3.9.0-final"
  },
  "orig_nbformat": 2,
  "file_extension": ".py",
  "mimetype": "text/x-python",
  "name": "python",
  "npconvert_exporter": "python",
  "pygments_lexer": "ipython3",
  "version": 3,
  "kernelspec": {
   "name": "python3",
   "display_name": "Python 3.9.0 64-bit",
   "metadata": {
    "interpreter": {
     "hash": "cf85b414d3663472de89104473c842eaab37d7b845999caf56a47ccda76ea2f8"
    }
   }
  }
 },
 "nbformat": 4,
 "nbformat_minor": 2
}