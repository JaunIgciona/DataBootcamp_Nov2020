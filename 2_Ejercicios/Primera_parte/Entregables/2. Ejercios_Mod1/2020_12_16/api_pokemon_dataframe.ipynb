{
 "metadata": {
  "language_info": {
   "codemirror_mode": {
    "name": "ipython",
    "version": 3
   },
   "file_extension": ".py",
   "mimetype": "text/x-python",
   "name": "python",
   "nbconvert_exporter": "python",
   "pygments_lexer": "ipython3",
   "version": "3.9.0-final"
  },
  "orig_nbformat": 2,
  "kernelspec": {
   "name": "python3",
   "display_name": "Python 3.9.0 64-bit",
   "metadata": {
    "interpreter": {
     "hash": "cf85b414d3663472de89104473c842eaab37d7b845999caf56a47ccda76ea2f8"
    }
   }
  }
 },
 "nbformat": 4,
 "nbformat_minor": 2,
 "cells": [
  {
   "source": [
    "### Ejercicio 1\n",
    "\n",
    "A partir de la API de Pokemon, se pide generar un DataFrame como el de la imagen con las columnas: \n",
    "\n",
    "- **\"height\",\"id\",\"order\",\"weight\",\"types\"**\n",
    "\n",
    "### Ejercicio 2\n",
    "\n",
    "¿Has visto que dentro del DataFrame la columna \"types\" hay diccionarios? Se pide agregar, por cada pokemon, las columnas necesarias al DataFrame para albergar toda la información de \"types\".\n",
    "\n",
    "![](df_pk.PNG)"
   ],
   "cell_type": "markdown",
   "metadata": {}
  },
  {
   "cell_type": "code",
   "execution_count": 2,
   "metadata": {},
   "outputs": [],
   "source": [
    "import json\n",
    "import requests\n",
    "\n",
    "import pandas as pd\n",
    "from pandas.io.json import json_normalize"
   ]
  },
  {
   "cell_type": "code",
   "execution_count": 3,
   "metadata": {},
   "outputs": [
    {
     "output_type": "execute_result",
     "data": {
      "text/plain": [
       "{'count': 1118,\n",
       " 'next': 'https://pokeapi.co/api/v2/pokemon?offset=20&limit=20',\n",
       " 'previous': None,\n",
       " 'results': [{'name': 'bulbasaur',\n",
       "   'url': 'https://pokeapi.co/api/v2/pokemon/1/'},\n",
       "  {'name': 'ivysaur', 'url': 'https://pokeapi.co/api/v2/pokemon/2/'},\n",
       "  {'name': 'venusaur', 'url': 'https://pokeapi.co/api/v2/pokemon/3/'},\n",
       "  {'name': 'charmander', 'url': 'https://pokeapi.co/api/v2/pokemon/4/'},\n",
       "  {'name': 'charmeleon', 'url': 'https://pokeapi.co/api/v2/pokemon/5/'},\n",
       "  {'name': 'charizard', 'url': 'https://pokeapi.co/api/v2/pokemon/6/'},\n",
       "  {'name': 'squirtle', 'url': 'https://pokeapi.co/api/v2/pokemon/7/'},\n",
       "  {'name': 'wartortle', 'url': 'https://pokeapi.co/api/v2/pokemon/8/'},\n",
       "  {'name': 'blastoise', 'url': 'https://pokeapi.co/api/v2/pokemon/9/'},\n",
       "  {'name': 'caterpie', 'url': 'https://pokeapi.co/api/v2/pokemon/10/'},\n",
       "  {'name': 'metapod', 'url': 'https://pokeapi.co/api/v2/pokemon/11/'},\n",
       "  {'name': 'butterfree', 'url': 'https://pokeapi.co/api/v2/pokemon/12/'},\n",
       "  {'name': 'weedle', 'url': 'https://pokeapi.co/api/v2/pokemon/13/'},\n",
       "  {'name': 'kakuna', 'url': 'https://pokeapi.co/api/v2/pokemon/14/'},\n",
       "  {'name': 'beedrill', 'url': 'https://pokeapi.co/api/v2/pokemon/15/'},\n",
       "  {'name': 'pidgey', 'url': 'https://pokeapi.co/api/v2/pokemon/16/'},\n",
       "  {'name': 'pidgeotto', 'url': 'https://pokeapi.co/api/v2/pokemon/17/'},\n",
       "  {'name': 'pidgeot', 'url': 'https://pokeapi.co/api/v2/pokemon/18/'},\n",
       "  {'name': 'rattata', 'url': 'https://pokeapi.co/api/v2/pokemon/19/'},\n",
       "  {'name': 'raticate', 'url': 'https://pokeapi.co/api/v2/pokemon/20/'}]}"
      ]
     },
     "metadata": {},
     "execution_count": 3
    }
   ],
   "source": [
    "url = \"https://pokeapi.co/api/v2/pokemon\"\n",
    "poke_json = requests.get(url).json()\n",
    "poke_json  "
   ]
  },
  {
   "cell_type": "code",
   "execution_count": 4,
   "metadata": {},
   "outputs": [
    {
     "output_type": "execute_result",
     "data": {
      "text/plain": [
       "[{'name': 'bulbasaur', 'url': 'https://pokeapi.co/api/v2/pokemon/1/'},\n",
       " {'name': 'ivysaur', 'url': 'https://pokeapi.co/api/v2/pokemon/2/'},\n",
       " {'name': 'venusaur', 'url': 'https://pokeapi.co/api/v2/pokemon/3/'},\n",
       " {'name': 'charmander', 'url': 'https://pokeapi.co/api/v2/pokemon/4/'},\n",
       " {'name': 'charmeleon', 'url': 'https://pokeapi.co/api/v2/pokemon/5/'}]"
      ]
     },
     "metadata": {},
     "execution_count": 4
    }
   ],
   "source": [
    "pokemon_url_list = []\n",
    "url = 'https://pokeapi.co/api/v2/pokemon?offset=0&limit=5'\n",
    "\n",
    "poke_json_5 = requests.get(url).json()\n",
    "pokemon_url_list.extend(poke_json_5['results'])\n",
    "pokemon_url_list\n"
   ]
  },
  {
   "cell_type": "code",
   "execution_count": 5,
   "metadata": {},
   "outputs": [
    {
     "output_type": "execute_result",
     "data": {
      "text/plain": [
       "         name                                   url\n",
       "0   bulbasaur  https://pokeapi.co/api/v2/pokemon/1/\n",
       "1     ivysaur  https://pokeapi.co/api/v2/pokemon/2/\n",
       "2    venusaur  https://pokeapi.co/api/v2/pokemon/3/\n",
       "3  charmander  https://pokeapi.co/api/v2/pokemon/4/\n",
       "4  charmeleon  https://pokeapi.co/api/v2/pokemon/5/"
      ],
      "text/html": "<div>\n<style scoped>\n    .dataframe tbody tr th:only-of-type {\n        vertical-align: middle;\n    }\n\n    .dataframe tbody tr th {\n        vertical-align: top;\n    }\n\n    .dataframe thead th {\n        text-align: right;\n    }\n</style>\n<table border=\"1\" class=\"dataframe\">\n  <thead>\n    <tr style=\"text-align: right;\">\n      <th></th>\n      <th>name</th>\n      <th>url</th>\n    </tr>\n  </thead>\n  <tbody>\n    <tr>\n      <th>0</th>\n      <td>bulbasaur</td>\n      <td>https://pokeapi.co/api/v2/pokemon/1/</td>\n    </tr>\n    <tr>\n      <th>1</th>\n      <td>ivysaur</td>\n      <td>https://pokeapi.co/api/v2/pokemon/2/</td>\n    </tr>\n    <tr>\n      <th>2</th>\n      <td>venusaur</td>\n      <td>https://pokeapi.co/api/v2/pokemon/3/</td>\n    </tr>\n    <tr>\n      <th>3</th>\n      <td>charmander</td>\n      <td>https://pokeapi.co/api/v2/pokemon/4/</td>\n    </tr>\n    <tr>\n      <th>4</th>\n      <td>charmeleon</td>\n      <td>https://pokeapi.co/api/v2/pokemon/5/</td>\n    </tr>\n  </tbody>\n</table>\n</div>"
     },
     "metadata": {},
     "execution_count": 5
    }
   ],
   "source": [
    "pokemon_url_df = pd.DataFrame(pokemon_url_list)\n",
    "pokemon_url_df"
   ]
  },
  {
   "cell_type": "code",
   "execution_count": 6,
   "metadata": {},
   "outputs": [
    {
     "output_type": "execute_result",
     "data": {
      "text/plain": [
       "[{'slot': 1,\n",
       "  'type': {'name': 'grass', 'url': 'https://pokeapi.co/api/v2/type/12/'}},\n",
       " {'slot': 2,\n",
       "  'type': {'name': 'poison', 'url': 'https://pokeapi.co/api/v2/type/4/'}}]"
      ]
     },
     "metadata": {},
     "execution_count": 6
    }
   ],
   "source": [
    "#height, id, order, weight, types\n",
    "url = 'https://pokeapi.co/api/v2/pokemon/1/'\n",
    "pokemon_chars = requests.get(url).json()\n",
    "pokemon_chars['types']"
   ]
  },
  {
   "cell_type": "code",
   "execution_count": 7,
   "metadata": {},
   "outputs": [
    {
     "output_type": "execute_result",
     "data": {
      "text/plain": [
       "'https://pokeapi.co/api/v2/pokemon/2/'"
      ]
     },
     "metadata": {},
     "execution_count": 7
    }
   ],
   "source": [
    "pokemon_url_df['url'][1]"
   ]
  },
  {
   "cell_type": "code",
   "execution_count": 8,
   "metadata": {},
   "outputs": [
    {
     "output_type": "execute_result",
     "data": {
      "text/plain": [
       "         name                                   url   0  0  0     0  \\\n",
       "0   bulbasaur  https://pokeapi.co/api/v2/pokemon/1/   7  1  1    69   \n",
       "1     ivysaur  https://pokeapi.co/api/v2/pokemon/2/  10  2  2   130   \n",
       "2    venusaur  https://pokeapi.co/api/v2/pokemon/3/  20  3  3  1000   \n",
       "3  charmander  https://pokeapi.co/api/v2/pokemon/4/   6  4  5    85   \n",
       "4  charmeleon  https://pokeapi.co/api/v2/pokemon/5/  11  5  6   190   \n",
       "\n",
       "                                                   0  \\\n",
       "0  {'slot': 1, 'type': {'name': 'grass', 'url': '...   \n",
       "1  {'slot': 1, 'type': {'name': 'grass', 'url': '...   \n",
       "2  {'slot': 1, 'type': {'name': 'grass', 'url': '...   \n",
       "3  {'slot': 1, 'type': {'name': 'fire', 'url': 'h...   \n",
       "4  {'slot': 1, 'type': {'name': 'fire', 'url': 'h...   \n",
       "\n",
       "                                                   1  \n",
       "0  {'slot': 2, 'type': {'name': 'poison', 'url': ...  \n",
       "1  {'slot': 2, 'type': {'name': 'poison', 'url': ...  \n",
       "2  {'slot': 2, 'type': {'name': 'poison', 'url': ...  \n",
       "3                                               None  \n",
       "4                                               None  "
      ],
      "text/html": "<div>\n<style scoped>\n    .dataframe tbody tr th:only-of-type {\n        vertical-align: middle;\n    }\n\n    .dataframe tbody tr th {\n        vertical-align: top;\n    }\n\n    .dataframe thead th {\n        text-align: right;\n    }\n</style>\n<table border=\"1\" class=\"dataframe\">\n  <thead>\n    <tr style=\"text-align: right;\">\n      <th></th>\n      <th>name</th>\n      <th>url</th>\n      <th>0</th>\n      <th>0</th>\n      <th>0</th>\n      <th>0</th>\n      <th>0</th>\n      <th>1</th>\n    </tr>\n  </thead>\n  <tbody>\n    <tr>\n      <th>0</th>\n      <td>bulbasaur</td>\n      <td>https://pokeapi.co/api/v2/pokemon/1/</td>\n      <td>7</td>\n      <td>1</td>\n      <td>1</td>\n      <td>69</td>\n      <td>{'slot': 1, 'type': {'name': 'grass', 'url': '...</td>\n      <td>{'slot': 2, 'type': {'name': 'poison', 'url': ...</td>\n    </tr>\n    <tr>\n      <th>1</th>\n      <td>ivysaur</td>\n      <td>https://pokeapi.co/api/v2/pokemon/2/</td>\n      <td>10</td>\n      <td>2</td>\n      <td>2</td>\n      <td>130</td>\n      <td>{'slot': 1, 'type': {'name': 'grass', 'url': '...</td>\n      <td>{'slot': 2, 'type': {'name': 'poison', 'url': ...</td>\n    </tr>\n    <tr>\n      <th>2</th>\n      <td>venusaur</td>\n      <td>https://pokeapi.co/api/v2/pokemon/3/</td>\n      <td>20</td>\n      <td>3</td>\n      <td>3</td>\n      <td>1000</td>\n      <td>{'slot': 1, 'type': {'name': 'grass', 'url': '...</td>\n      <td>{'slot': 2, 'type': {'name': 'poison', 'url': ...</td>\n    </tr>\n    <tr>\n      <th>3</th>\n      <td>charmander</td>\n      <td>https://pokeapi.co/api/v2/pokemon/4/</td>\n      <td>6</td>\n      <td>4</td>\n      <td>5</td>\n      <td>85</td>\n      <td>{'slot': 1, 'type': {'name': 'fire', 'url': 'h...</td>\n      <td>None</td>\n    </tr>\n    <tr>\n      <th>4</th>\n      <td>charmeleon</td>\n      <td>https://pokeapi.co/api/v2/pokemon/5/</td>\n      <td>11</td>\n      <td>5</td>\n      <td>6</td>\n      <td>190</td>\n      <td>{'slot': 1, 'type': {'name': 'fire', 'url': 'h...</td>\n      <td>None</td>\n    </tr>\n  </tbody>\n</table>\n</div>"
     },
     "metadata": {},
     "execution_count": 8
    }
   ],
   "source": [
    "height = []\n",
    "id = []\n",
    "order = []\n",
    "weight = []\n",
    "types = []\n",
    "\n",
    "for url in pokemon_url_df['url']:\n",
    "    pokemon_chars = requests.get(url).json()\n",
    "    height.append(pokemon_chars['height'])\n",
    "    id.append(pokemon_chars['id'])\n",
    "    order.append(pokemon_chars['order'])\n",
    "    weight.append(pokemon_chars['weight'])\n",
    "    types.append(pokemon_chars['types'])\n",
    "\n",
    "height = pd.DataFrame(height)\n",
    "id = pd.DataFrame(id)\n",
    "order = pd.DataFrame(order)\n",
    "weight = pd.DataFrame(weight)\n",
    "types = pd.DataFrame(types)\n",
    "\n",
    "poke_chars_df = pd.concat([pokemon_url_df, height, id, order, weight, types], axis=1)\n",
    "poke_chars_df"
   ]
  },
  {
   "cell_type": "code",
   "execution_count": 11,
   "metadata": {},
   "outputs": [
    {
     "output_type": "execute_result",
     "data": {
      "text/plain": [
       "         name                                   url  height  id  order  \\\n",
       "0   bulbasaur  https://pokeapi.co/api/v2/pokemon/1/       7   1      1   \n",
       "1     ivysaur  https://pokeapi.co/api/v2/pokemon/2/      10   2      2   \n",
       "2    venusaur  https://pokeapi.co/api/v2/pokemon/3/      20   3      3   \n",
       "3  charmander  https://pokeapi.co/api/v2/pokemon/4/       6   4      5   \n",
       "4  charmeleon  https://pokeapi.co/api/v2/pokemon/5/      11   5      6   \n",
       "\n",
       "   weight                                              types  \n",
       "0      69  [{'slot': 1, 'type': {'name': 'grass', 'url': ...  \n",
       "1     130  [{'slot': 1, 'type': {'name': 'grass', 'url': ...  \n",
       "2    1000  [{'slot': 1, 'type': {'name': 'grass', 'url': ...  \n",
       "3      85  [{'slot': 1, 'type': {'name': 'fire', 'url': '...  \n",
       "4     190  [{'slot': 1, 'type': {'name': 'fire', 'url': '...  "
      ],
      "text/html": "<div>\n<style scoped>\n    .dataframe tbody tr th:only-of-type {\n        vertical-align: middle;\n    }\n\n    .dataframe tbody tr th {\n        vertical-align: top;\n    }\n\n    .dataframe thead th {\n        text-align: right;\n    }\n</style>\n<table border=\"1\" class=\"dataframe\">\n  <thead>\n    <tr style=\"text-align: right;\">\n      <th></th>\n      <th>name</th>\n      <th>url</th>\n      <th>height</th>\n      <th>id</th>\n      <th>order</th>\n      <th>weight</th>\n      <th>types</th>\n    </tr>\n  </thead>\n  <tbody>\n    <tr>\n      <th>0</th>\n      <td>bulbasaur</td>\n      <td>https://pokeapi.co/api/v2/pokemon/1/</td>\n      <td>7</td>\n      <td>1</td>\n      <td>1</td>\n      <td>69</td>\n      <td>[{'slot': 1, 'type': {'name': 'grass', 'url': ...</td>\n    </tr>\n    <tr>\n      <th>1</th>\n      <td>ivysaur</td>\n      <td>https://pokeapi.co/api/v2/pokemon/2/</td>\n      <td>10</td>\n      <td>2</td>\n      <td>2</td>\n      <td>130</td>\n      <td>[{'slot': 1, 'type': {'name': 'grass', 'url': ...</td>\n    </tr>\n    <tr>\n      <th>2</th>\n      <td>venusaur</td>\n      <td>https://pokeapi.co/api/v2/pokemon/3/</td>\n      <td>20</td>\n      <td>3</td>\n      <td>3</td>\n      <td>1000</td>\n      <td>[{'slot': 1, 'type': {'name': 'grass', 'url': ...</td>\n    </tr>\n    <tr>\n      <th>3</th>\n      <td>charmander</td>\n      <td>https://pokeapi.co/api/v2/pokemon/4/</td>\n      <td>6</td>\n      <td>4</td>\n      <td>5</td>\n      <td>85</td>\n      <td>[{'slot': 1, 'type': {'name': 'fire', 'url': '...</td>\n    </tr>\n    <tr>\n      <th>4</th>\n      <td>charmeleon</td>\n      <td>https://pokeapi.co/api/v2/pokemon/5/</td>\n      <td>11</td>\n      <td>5</td>\n      <td>6</td>\n      <td>190</td>\n      <td>[{'slot': 1, 'type': {'name': 'fire', 'url': '...</td>\n    </tr>\n  </tbody>\n</table>\n</div>"
     },
     "metadata": {},
     "execution_count": 11
    }
   ],
   "source": [
    "height = []\n",
    "id = []\n",
    "order = []\n",
    "weight = []\n",
    "types = []\n",
    "\n",
    "for url in pokemon_url_df['url']:\n",
    "    pokemon_chars = requests.get(url).json()\n",
    "    height.append(pokemon_chars['height'])\n",
    "    id.append(pokemon_chars['id'])\n",
    "    order.append(pokemon_chars['order'])\n",
    "    weight.append(pokemon_chars['weight'])\n",
    "    types.append(pokemon_chars['types'])\n",
    "\n",
    "chars_dict ={'height':height, 'id':id, 'order':order, 'weight': weight, 'types':types}\n",
    "chars_df = pd.DataFrame(chars_dict)\n",
    "\n",
    "poke_chars_df = pd.concat([pokemon_url_df, chars_df], axis=1)\n",
    "poke_chars_df"
   ]
  },
  {
   "cell_type": "code",
   "execution_count": 12,
   "metadata": {},
   "outputs": [
    {
     "output_type": "execute_result",
     "data": {
      "text/plain": [
       "0    [{'slot': 1, 'type': {'name': 'grass', 'url': ...\n",
       "1    [{'slot': 1, 'type': {'name': 'grass', 'url': ...\n",
       "2    [{'slot': 1, 'type': {'name': 'grass', 'url': ...\n",
       "3    [{'slot': 1, 'type': {'name': 'fire', 'url': '...\n",
       "4    [{'slot': 1, 'type': {'name': 'fire', 'url': '...\n",
       "Name: types, dtype: object"
      ]
     },
     "metadata": {},
     "execution_count": 12
    }
   ],
   "source": [
    "poke_chars_df['types']"
   ]
  },
  {
   "cell_type": "code",
   "execution_count": 13,
   "metadata": {},
   "outputs": [
    {
     "output_type": "execute_result",
     "data": {
      "text/plain": [
       "'{\"0\":[{\"slot\":1,\"type\":{\"name\":\"grass\",\"url\":\"https:\\\\/\\\\/pokeapi.co\\\\/api\\\\/v2\\\\/type\\\\/12\\\\/\"}},{\"slot\":2,\"type\":{\"name\":\"poison\",\"url\":\"https:\\\\/\\\\/pokeapi.co\\\\/api\\\\/v2\\\\/type\\\\/4\\\\/\"}}],\"1\":[{\"slot\":1,\"type\":{\"name\":\"grass\",\"url\":\"https:\\\\/\\\\/pokeapi.co\\\\/api\\\\/v2\\\\/type\\\\/12\\\\/\"}},{\"slot\":2,\"type\":{\"name\":\"poison\",\"url\":\"https:\\\\/\\\\/pokeapi.co\\\\/api\\\\/v2\\\\/type\\\\/4\\\\/\"}}],\"2\":[{\"slot\":1,\"type\":{\"name\":\"grass\",\"url\":\"https:\\\\/\\\\/pokeapi.co\\\\/api\\\\/v2\\\\/type\\\\/12\\\\/\"}},{\"slot\":2,\"type\":{\"name\":\"poison\",\"url\":\"https:\\\\/\\\\/pokeapi.co\\\\/api\\\\/v2\\\\/type\\\\/4\\\\/\"}}],\"3\":[{\"slot\":1,\"type\":{\"name\":\"fire\",\"url\":\"https:\\\\/\\\\/pokeapi.co\\\\/api\\\\/v2\\\\/type\\\\/10\\\\/\"}}],\"4\":[{\"slot\":1,\"type\":{\"name\":\"fire\",\"url\":\"https:\\\\/\\\\/pokeapi.co\\\\/api\\\\/v2\\\\/type\\\\/10\\\\/\"}}]}'"
      ]
     },
     "metadata": {},
     "execution_count": 13
    }
   ],
   "source": [
    "#types_string = json.dumps(poke_chars_df['types'].to_json())\n",
    "types_string = poke_chars_df['types'].to_json()\n",
    "#types_df = pd.DataFrame(types_string)\n",
    "#types_df\n",
    "#type(types_string)\n",
    "types_string"
   ]
  },
  {
   "cell_type": "code",
   "execution_count": 14,
   "metadata": {},
   "outputs": [
    {
     "output_type": "execute_result",
     "data": {
      "text/plain": [
       "                                                   0  \\\n",
       "0  {'slot': 1, 'type': {'name': 'grass', 'url': '...   \n",
       "1  {'slot': 1, 'type': {'name': 'grass', 'url': '...   \n",
       "2  {'slot': 1, 'type': {'name': 'grass', 'url': '...   \n",
       "3  {'slot': 1, 'type': {'name': 'fire', 'url': 'h...   \n",
       "4  {'slot': 1, 'type': {'name': 'fire', 'url': 'h...   \n",
       "\n",
       "                                                   1  \n",
       "0  {'slot': 2, 'type': {'name': 'poison', 'url': ...  \n",
       "1  {'slot': 2, 'type': {'name': 'poison', 'url': ...  \n",
       "2  {'slot': 2, 'type': {'name': 'poison', 'url': ...  \n",
       "3                                               None  \n",
       "4                                               None  "
      ],
      "text/html": "<div>\n<style scoped>\n    .dataframe tbody tr th:only-of-type {\n        vertical-align: middle;\n    }\n\n    .dataframe tbody tr th {\n        vertical-align: top;\n    }\n\n    .dataframe thead th {\n        text-align: right;\n    }\n</style>\n<table border=\"1\" class=\"dataframe\">\n  <thead>\n    <tr style=\"text-align: right;\">\n      <th></th>\n      <th>0</th>\n      <th>1</th>\n    </tr>\n  </thead>\n  <tbody>\n    <tr>\n      <th>0</th>\n      <td>{'slot': 1, 'type': {'name': 'grass', 'url': '...</td>\n      <td>{'slot': 2, 'type': {'name': 'poison', 'url': ...</td>\n    </tr>\n    <tr>\n      <th>1</th>\n      <td>{'slot': 1, 'type': {'name': 'grass', 'url': '...</td>\n      <td>{'slot': 2, 'type': {'name': 'poison', 'url': ...</td>\n    </tr>\n    <tr>\n      <th>2</th>\n      <td>{'slot': 1, 'type': {'name': 'grass', 'url': '...</td>\n      <td>{'slot': 2, 'type': {'name': 'poison', 'url': ...</td>\n    </tr>\n    <tr>\n      <th>3</th>\n      <td>{'slot': 1, 'type': {'name': 'fire', 'url': 'h...</td>\n      <td>None</td>\n    </tr>\n    <tr>\n      <th>4</th>\n      <td>{'slot': 1, 'type': {'name': 'fire', 'url': 'h...</td>\n      <td>None</td>\n    </tr>\n  </tbody>\n</table>\n</div>"
     },
     "metadata": {},
     "execution_count": 14
    }
   ],
   "source": [
    "types_string = poke_chars_df['types'].to_list()\n",
    "types_df = pd.DataFrame(types_string)\n",
    "types_df"
   ]
  },
  {
   "cell_type": "code",
   "execution_count": 21,
   "metadata": {},
   "outputs": [
    {
     "output_type": "execute_result",
     "data": {
      "text/plain": [
       "                                               types\n",
       "0  [{'slot': 1, 'type': {'name': 'grass', 'url': ...\n",
       "1  [{'slot': 1, 'type': {'name': 'grass', 'url': ...\n",
       "2  [{'slot': 1, 'type': {'name': 'grass', 'url': ...\n",
       "3  [{'slot': 1, 'type': {'name': 'fire', 'url': '...\n",
       "4  [{'slot': 1, 'type': {'name': 'fire', 'url': '..."
      ],
      "text/html": "<div>\n<style scoped>\n    .dataframe tbody tr th:only-of-type {\n        vertical-align: middle;\n    }\n\n    .dataframe tbody tr th {\n        vertical-align: top;\n    }\n\n    .dataframe thead th {\n        text-align: right;\n    }\n</style>\n<table border=\"1\" class=\"dataframe\">\n  <thead>\n    <tr style=\"text-align: right;\">\n      <th></th>\n      <th>types</th>\n    </tr>\n  </thead>\n  <tbody>\n    <tr>\n      <th>0</th>\n      <td>[{'slot': 1, 'type': {'name': 'grass', 'url': ...</td>\n    </tr>\n    <tr>\n      <th>1</th>\n      <td>[{'slot': 1, 'type': {'name': 'grass', 'url': ...</td>\n    </tr>\n    <tr>\n      <th>2</th>\n      <td>[{'slot': 1, 'type': {'name': 'grass', 'url': ...</td>\n    </tr>\n    <tr>\n      <th>3</th>\n      <td>[{'slot': 1, 'type': {'name': 'fire', 'url': '...</td>\n    </tr>\n    <tr>\n      <th>4</th>\n      <td>[{'slot': 1, 'type': {'name': 'fire', 'url': '...</td>\n    </tr>\n  </tbody>\n</table>\n</div>"
     },
     "metadata": {},
     "execution_count": 21
    }
   ],
   "source": [
    "poke_chars_df.loc[:,'types':]\n"
   ]
  },
  {
   "cell_type": "code",
   "execution_count": 33,
   "metadata": {},
   "outputs": [
    {
     "output_type": "execute_result",
     "data": {
      "text/plain": [
       "pandas.core.frame.DataFrame"
      ]
     },
     "metadata": {},
     "execution_count": 33
    }
   ],
   "source": [
    "type(poke_chars_df.loc[:,'types':])"
   ]
  },
  {
   "cell_type": "code",
   "execution_count": 31,
   "metadata": {},
   "outputs": [
    {
     "output_type": "stream",
     "name": "stdout",
     "text": [
      "types    [{'slot': 1, 'type': {'name': 'grass', 'url': ...\nName: 0, dtype: object\n<class 'pandas.core.series.Series'>\n"
     ]
    },
    {
     "output_type": "execute_result",
     "data": {
      "text/plain": [
       "                                                       0  \\\n",
       "types  [{'slot': 1, 'type': {'name': 'grass', 'url': ...   \n",
       "types                                                NaN   \n",
       "types                                                NaN   \n",
       "types                                                NaN   \n",
       "types                                                NaN   \n",
       "\n",
       "                                                       1  \\\n",
       "types                                                NaN   \n",
       "types  [{'slot': 1, 'type': {'name': 'grass', 'url': ...   \n",
       "types                                                NaN   \n",
       "types                                                NaN   \n",
       "types                                                NaN   \n",
       "\n",
       "                                                       2  \\\n",
       "types                                                NaN   \n",
       "types                                                NaN   \n",
       "types  [{'slot': 1, 'type': {'name': 'grass', 'url': ...   \n",
       "types                                                NaN   \n",
       "types                                                NaN   \n",
       "\n",
       "                                                       3  \\\n",
       "types                                                NaN   \n",
       "types                                                NaN   \n",
       "types                                                NaN   \n",
       "types  [{'slot': 1, 'type': {'name': 'fire', 'url': '...   \n",
       "types                                                NaN   \n",
       "\n",
       "                                                       4  \n",
       "types                                                NaN  \n",
       "types                                                NaN  \n",
       "types                                                NaN  \n",
       "types                                                NaN  \n",
       "types  [{'slot': 1, 'type': {'name': 'fire', 'url': '...  "
      ],
      "text/html": "<div>\n<style scoped>\n    .dataframe tbody tr th:only-of-type {\n        vertical-align: middle;\n    }\n\n    .dataframe tbody tr th {\n        vertical-align: top;\n    }\n\n    .dataframe thead th {\n        text-align: right;\n    }\n</style>\n<table border=\"1\" class=\"dataframe\">\n  <thead>\n    <tr style=\"text-align: right;\">\n      <th></th>\n      <th>0</th>\n      <th>1</th>\n      <th>2</th>\n      <th>3</th>\n      <th>4</th>\n    </tr>\n  </thead>\n  <tbody>\n    <tr>\n      <th>types</th>\n      <td>[{'slot': 1, 'type': {'name': 'grass', 'url': ...</td>\n      <td>NaN</td>\n      <td>NaN</td>\n      <td>NaN</td>\n      <td>NaN</td>\n    </tr>\n    <tr>\n      <th>types</th>\n      <td>NaN</td>\n      <td>[{'slot': 1, 'type': {'name': 'grass', 'url': ...</td>\n      <td>NaN</td>\n      <td>NaN</td>\n      <td>NaN</td>\n    </tr>\n    <tr>\n      <th>types</th>\n      <td>NaN</td>\n      <td>NaN</td>\n      <td>[{'slot': 1, 'type': {'name': 'grass', 'url': ...</td>\n      <td>NaN</td>\n      <td>NaN</td>\n    </tr>\n    <tr>\n      <th>types</th>\n      <td>NaN</td>\n      <td>NaN</td>\n      <td>NaN</td>\n      <td>[{'slot': 1, 'type': {'name': 'fire', 'url': '...</td>\n      <td>NaN</td>\n    </tr>\n    <tr>\n      <th>types</th>\n      <td>NaN</td>\n      <td>NaN</td>\n      <td>NaN</td>\n      <td>NaN</td>\n      <td>[{'slot': 1, 'type': {'name': 'fire', 'url': '...</td>\n    </tr>\n  </tbody>\n</table>\n</div>"
     },
     "metadata": {},
     "execution_count": 31
    }
   ],
   "source": [
    "for i, r in poke_chars_df.loc[:,'types':].iterrows():\n",
    "    if i == 0:\n",
    "        types_df = pd.DataFrame(r)\n",
    "        print(r)\n",
    "        print(type(r))  \n",
    "    else:\n",
    "        types_df = pd.concat([types_df, pd.DataFrame(r)], axis=0)\n",
    "        \n",
    "\n",
    "types_df"
   ]
  },
  {
   "cell_type": "code",
   "execution_count": 38,
   "metadata": {},
   "outputs": [
    {
     "output_type": "execute_result",
     "data": {
      "text/plain": [
       "   slot                                               type\n",
       "0     1  {'name': 'grass', 'url': 'https://pokeapi.co/a...\n",
       "1     2  {'name': 'poison', 'url': 'https://pokeapi.co/...\n",
       "0     1  {'name': 'grass', 'url': 'https://pokeapi.co/a...\n",
       "1     2  {'name': 'poison', 'url': 'https://pokeapi.co/...\n",
       "0     1  {'name': 'grass', 'url': 'https://pokeapi.co/a...\n",
       "1     2  {'name': 'poison', 'url': 'https://pokeapi.co/...\n",
       "0     1  {'name': 'fire', 'url': 'https://pokeapi.co/ap...\n",
       "0     1  {'name': 'fire', 'url': 'https://pokeapi.co/ap..."
      ],
      "text/html": "<div>\n<style scoped>\n    .dataframe tbody tr th:only-of-type {\n        vertical-align: middle;\n    }\n\n    .dataframe tbody tr th {\n        vertical-align: top;\n    }\n\n    .dataframe thead th {\n        text-align: right;\n    }\n</style>\n<table border=\"1\" class=\"dataframe\">\n  <thead>\n    <tr style=\"text-align: right;\">\n      <th></th>\n      <th>slot</th>\n      <th>type</th>\n    </tr>\n  </thead>\n  <tbody>\n    <tr>\n      <th>0</th>\n      <td>1</td>\n      <td>{'name': 'grass', 'url': 'https://pokeapi.co/a...</td>\n    </tr>\n    <tr>\n      <th>1</th>\n      <td>2</td>\n      <td>{'name': 'poison', 'url': 'https://pokeapi.co/...</td>\n    </tr>\n    <tr>\n      <th>0</th>\n      <td>1</td>\n      <td>{'name': 'grass', 'url': 'https://pokeapi.co/a...</td>\n    </tr>\n    <tr>\n      <th>1</th>\n      <td>2</td>\n      <td>{'name': 'poison', 'url': 'https://pokeapi.co/...</td>\n    </tr>\n    <tr>\n      <th>0</th>\n      <td>1</td>\n      <td>{'name': 'grass', 'url': 'https://pokeapi.co/a...</td>\n    </tr>\n    <tr>\n      <th>1</th>\n      <td>2</td>\n      <td>{'name': 'poison', 'url': 'https://pokeapi.co/...</td>\n    </tr>\n    <tr>\n      <th>0</th>\n      <td>1</td>\n      <td>{'name': 'fire', 'url': 'https://pokeapi.co/ap...</td>\n    </tr>\n    <tr>\n      <th>0</th>\n      <td>1</td>\n      <td>{'name': 'fire', 'url': 'https://pokeapi.co/ap...</td>\n    </tr>\n  </tbody>\n</table>\n</div>"
     },
     "metadata": {},
     "execution_count": 38
    }
   ],
   "source": [
    "df_final = None\n",
    "for i, x in enumerate(poke_chars_df['types']):\n",
    "    if i == 0:\n",
    "        df_final = pd.DataFrame(x)\n",
    "    else:\n",
    "        df_final = pd.concat([df_final, pd.DataFrame(x)], axis=0)\n",
    "df_final"
   ]
  },
  {
   "cell_type": "code",
   "execution_count": null,
   "metadata": {},
   "outputs": [],
   "source": []
  },
  {
   "cell_type": "code",
   "execution_count": 35,
   "metadata": {},
   "outputs": [
    {
     "output_type": "execute_result",
     "data": {
      "text/plain": [
       "0    [{'slot': 1, 'type': {'name': 'grass', 'url': ...\n",
       "1    [{'slot': 1, 'type': {'name': 'grass', 'url': ...\n",
       "2    [{'slot': 1, 'type': {'name': 'grass', 'url': ...\n",
       "3    [{'slot': 1, 'type': {'name': 'fire', 'url': '...\n",
       "4    [{'slot': 1, 'type': {'name': 'fire', 'url': '...\n",
       "Name: types, dtype: object"
      ]
     },
     "metadata": {},
     "execution_count": 35
    }
   ],
   "source": [
    "poke_chars_df.loc[:,'types':].types"
   ]
  },
  {
   "cell_type": "code",
   "execution_count": null,
   "metadata": {},
   "outputs": [],
   "source": []
  }
 ]
}