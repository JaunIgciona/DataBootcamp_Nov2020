{
 "metadata": {
  "language_info": {
   "codemirror_mode": {
    "name": "ipython",
    "version": 3
   },
   "file_extension": ".py",
   "mimetype": "text/x-python",
   "name": "python",
   "nbconvert_exporter": "python",
   "pygments_lexer": "ipython3",
   "version": "3.9.0-final"
  },
  "orig_nbformat": 2,
  "kernelspec": {
   "name": "python3",
   "display_name": "Python 3.9.0 64-bit",
   "metadata": {
    "interpreter": {
     "hash": "cf85b414d3663472de89104473c842eaab37d7b845999caf56a47ccda76ea2f8"
    }
   }
  }
 },
 "nbformat": 4,
 "nbformat_minor": 2,
 "cells": [
  {
   "source": [
    "Crea una función llamada \"generador\" con dos argumentos de entrada 'longitud' (entero) y 'dificultad' (entero). La función retornará una contraseña (string) de tamaño 'longitud' y con las siguientes características dependiendo del valor de 'dificultad':\n",
    "\n",
    "1. Si 'dificultad' tiene valor 1, entonces la contraseña solo contendrá números. \n",
    "2. Si 'dificultad' tiene valor 2, entonces la contraseña contendrá números y letras\n",
    "3. Si 'dificultad' tiene valor 3, entonces la contraseña contendrá números, letras y signos de puntuación (!,?¡:-.\"')\n",
    "4. Si 'dificultad' tiene valor 4, entonces la contraseña será como la del punto 3. pero con el doble de longitud y solo números pares. \n",
    "5. Para cualquier otro caso, la contraseña será \"numpy_y_pandas_son_lo_mejor\""
   ],
   "cell_type": "markdown",
   "metadata": {}
  },
  {
   "cell_type": "code",
   "execution_count": 7,
   "metadata": {},
   "outputs": [],
   "source": [
    "import random\n",
    "import string\n",
    "\n",
    "def generador(long, dif):\n",
    "    password = ''\n",
    "    if dif == 1:\n",
    "        for i in range(long):\n",
    "            password += random.randint(0,10)\n",
    "        return password\n",
    "    if dif == 2:\n",
    "        for i in range(long):\n",
    "            password += random.choice(string.ascii_letters + string.digits)\n",
    "        return password\n",
    "    if dif == 3:\n",
    "        for i in range(long):\n",
    "            password += random.choice(string.ascii_letters + string.digits + '!,?¡:-.\"\\'')\n",
    "        return password\n",
    "    if dif == 4:\n",
    "        for i in range(long*2):\n",
    "            password += random.choice(string.ascii_letters + '02468' + '!,?¡:-.\"\\'')\n",
    "        return password\n",
    "    else:\n",
    "        return 'numpy_y_pandas_son_lo_mejor'"
   ]
  },
  {
   "cell_type": "code",
   "execution_count": 11,
   "metadata": {},
   "outputs": [
    {
     "output_type": "execute_result",
     "data": {
      "text/plain": [
       "'kH:HIRw6'"
      ]
     },
     "metadata": {},
     "execution_count": 11
    }
   ],
   "source": [
    "generador(4,4)"
   ]
  }
 ]
}