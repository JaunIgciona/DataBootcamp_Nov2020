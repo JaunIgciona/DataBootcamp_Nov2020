{
 "metadata": {
  "language_info": {
   "codemirror_mode": {
    "name": "ipython",
    "version": 3
   },
   "file_extension": ".py",
   "mimetype": "text/x-python",
   "name": "python",
   "nbconvert_exporter": "python",
   "pygments_lexer": "ipython3",
   "version": "3.9.0-final"
  },
  "orig_nbformat": 2,
  "kernelspec": {
   "name": "python3",
   "display_name": "Python 3.9.0 64-bit",
   "metadata": {
    "interpreter": {
     "hash": "cf85b414d3663472de89104473c842eaab37d7b845999caf56a47ccda76ea2f8"
    }
   }
  }
 },
 "nbformat": 4,
 "nbformat_minor": 2,
 "cells": [
  {
   "cell_type": "markdown",
   "metadata": {},
   "source": [
    "A partir del archivo food_100, se pide:\n",
    "\n",
    "1. Limpiar el archivo borrando las columnas Unnamed.\n",
    "2. ¿Qué porcentaje de valores NaN hay en cada columna?\n",
    "3. ¿Tendría algún sentido clasificar el nombre de los alimentos a partir del top5 de columnas numéricas con menos valores NaN?"
   ]
  },
  {
   "cell_type": "code",
   "execution_count": 5,
   "metadata": {},
   "outputs": [
    {
     "output_type": "execute_result",
     "data": {
      "text/plain": [
       "    Unnamed: 0   code                                                url  \\\n",
       "0            0   3087  http://world-en.openfoodfacts.org/product/0000...   \n",
       "1            1   4530  http://world-en.openfoodfacts.org/product/0000...   \n",
       "2            2   4559  http://world-en.openfoodfacts.org/product/0000...   \n",
       "3            3  16087  http://world-en.openfoodfacts.org/product/0000...   \n",
       "4            4  16094  http://world-en.openfoodfacts.org/product/0000...   \n",
       "..         ...    ...                                                ...   \n",
       "95          95  34715  http://world-en.openfoodfacts.org/product/0000...   \n",
       "96          96  34784  http://world-en.openfoodfacts.org/product/0000...   \n",
       "97          97  34791  http://world-en.openfoodfacts.org/product/0000...   \n",
       "98          98  35071  http://world-en.openfoodfacts.org/product/0000...   \n",
       "99          99  35170  http://world-en.openfoodfacts.org/product/0000...   \n",
       "\n",
       "                       creator   created_t      created_datetime  \\\n",
       "0   openfoodfacts-contributors  1474103866  2016-09-17T09:17:46Z   \n",
       "1              usda-ndb-import  1489069957  2017-03-09T14:32:37Z   \n",
       "2              usda-ndb-import  1489069957  2017-03-09T14:32:37Z   \n",
       "3              usda-ndb-import  1489055731  2017-03-09T10:35:31Z   \n",
       "4              usda-ndb-import  1489055653  2017-03-09T10:34:13Z   \n",
       "..                         ...         ...                   ...   \n",
       "95             usda-ndb-import  1489055715  2017-03-09T10:35:15Z   \n",
       "96             usda-ndb-import  1489138485  2017-03-10T09:34:45Z   \n",
       "97             usda-ndb-import  1489055720  2017-03-09T10:35:20Z   \n",
       "98             usda-ndb-import  1489138484  2017-03-10T09:34:44Z   \n",
       "99             usda-ndb-import  1489138488  2017-03-10T09:34:48Z   \n",
       "\n",
       "    last_modified_t last_modified_datetime                    product_name  \\\n",
       "0        1474103893   2016-09-17T09:18:13Z              Farine de blé noir   \n",
       "1        1489069957   2017-03-09T14:32:37Z  Banana Chips Sweetened (Whole)   \n",
       "2        1489069957   2017-03-09T14:32:37Z                         Peanuts   \n",
       "3        1489055731   2017-03-09T10:35:31Z          Organic Salted Nut Mix   \n",
       "4        1489055653   2017-03-09T10:34:13Z                 Organic Polenta   \n",
       "..              ...                    ...                             ...   \n",
       "95       1489055715   2017-03-09T10:35:15Z            Organic Pecan Halves   \n",
       "96       1489138485   2017-03-10T09:34:45Z    Unsalted Dry Roasted Almonds   \n",
       "97       1489055720   2017-03-09T10:35:20Z       Organic Raw Pumpkin Seeds   \n",
       "98       1489138484   2017-03-10T09:34:44Z  Organic Extra Virgin Olive Oil   \n",
       "99       1489138488   2017-03-10T09:34:48Z                   Liquid Aminos   \n",
       "\n",
       "    generic_name  ... fruits-vegetables-nuts_100g  \\\n",
       "0            NaN  ...                         NaN   \n",
       "1            NaN  ...                         NaN   \n",
       "2            NaN  ...                         NaN   \n",
       "3            NaN  ...                         NaN   \n",
       "4            NaN  ...                         NaN   \n",
       "..           ...  ...                         ...   \n",
       "95           NaN  ...                         NaN   \n",
       "96           NaN  ...                         NaN   \n",
       "97           NaN  ...                         NaN   \n",
       "98           NaN  ...                         NaN   \n",
       "99           NaN  ...                         NaN   \n",
       "\n",
       "   fruits-vegetables-nuts-estimate_100g collagen-meat-protein-ratio_100g  \\\n",
       "0                                   NaN                              NaN   \n",
       "1                                   NaN                              NaN   \n",
       "2                                   NaN                              NaN   \n",
       "3                                   NaN                              NaN   \n",
       "4                                   NaN                              NaN   \n",
       "..                                  ...                              ...   \n",
       "95                                  NaN                              NaN   \n",
       "96                                  NaN                              NaN   \n",
       "97                                  NaN                              NaN   \n",
       "98                                  NaN                              NaN   \n",
       "99                                  NaN                              NaN   \n",
       "\n",
       "   cocoa_100g chlorophyl_100g carbon-footprint_100g nutrition-score-fr_100g  \\\n",
       "0         NaN             NaN                   NaN                     NaN   \n",
       "1         NaN             NaN                   NaN                    14.0   \n",
       "2         NaN             NaN                   NaN                     0.0   \n",
       "3         NaN             NaN                   NaN                    12.0   \n",
       "4         NaN             NaN                   NaN                     NaN   \n",
       "..        ...             ...                   ...                     ...   \n",
       "95        NaN             NaN                   NaN                     NaN   \n",
       "96        NaN             NaN                   NaN                     NaN   \n",
       "97        NaN             NaN                   NaN                    12.0   \n",
       "98        NaN             NaN                   NaN                     NaN   \n",
       "99        NaN             NaN                   NaN                     NaN   \n",
       "\n",
       "   nutrition-score-uk_100g  glycemic-index_100g  water-hardness_100g  \n",
       "0                      NaN                  NaN                  NaN  \n",
       "1                     14.0                  NaN                  NaN  \n",
       "2                      0.0                  NaN                  NaN  \n",
       "3                     12.0                  NaN                  NaN  \n",
       "4                      NaN                  NaN                  NaN  \n",
       "..                     ...                  ...                  ...  \n",
       "95                     NaN                  NaN                  NaN  \n",
       "96                     NaN                  NaN                  NaN  \n",
       "97                    12.0                  NaN                  NaN  \n",
       "98                     NaN                  NaN                  NaN  \n",
       "99                     NaN                  NaN                  NaN  \n",
       "\n",
       "[100 rows x 164 columns]"
      ],
      "text/html": "<div>\n<style scoped>\n    .dataframe tbody tr th:only-of-type {\n        vertical-align: middle;\n    }\n\n    .dataframe tbody tr th {\n        vertical-align: top;\n    }\n\n    .dataframe thead th {\n        text-align: right;\n    }\n</style>\n<table border=\"1\" class=\"dataframe\">\n  <thead>\n    <tr style=\"text-align: right;\">\n      <th></th>\n      <th>Unnamed: 0</th>\n      <th>code</th>\n      <th>url</th>\n      <th>creator</th>\n      <th>created_t</th>\n      <th>created_datetime</th>\n      <th>last_modified_t</th>\n      <th>last_modified_datetime</th>\n      <th>product_name</th>\n      <th>generic_name</th>\n      <th>...</th>\n      <th>fruits-vegetables-nuts_100g</th>\n      <th>fruits-vegetables-nuts-estimate_100g</th>\n      <th>collagen-meat-protein-ratio_100g</th>\n      <th>cocoa_100g</th>\n      <th>chlorophyl_100g</th>\n      <th>carbon-footprint_100g</th>\n      <th>nutrition-score-fr_100g</th>\n      <th>nutrition-score-uk_100g</th>\n      <th>glycemic-index_100g</th>\n      <th>water-hardness_100g</th>\n    </tr>\n  </thead>\n  <tbody>\n    <tr>\n      <th>0</th>\n      <td>0</td>\n      <td>3087</td>\n      <td>http://world-en.openfoodfacts.org/product/0000...</td>\n      <td>openfoodfacts-contributors</td>\n      <td>1474103866</td>\n      <td>2016-09-17T09:17:46Z</td>\n      <td>1474103893</td>\n      <td>2016-09-17T09:18:13Z</td>\n      <td>Farine de blé noir</td>\n      <td>NaN</td>\n      <td>...</td>\n      <td>NaN</td>\n      <td>NaN</td>\n      <td>NaN</td>\n      <td>NaN</td>\n      <td>NaN</td>\n      <td>NaN</td>\n      <td>NaN</td>\n      <td>NaN</td>\n      <td>NaN</td>\n      <td>NaN</td>\n    </tr>\n    <tr>\n      <th>1</th>\n      <td>1</td>\n      <td>4530</td>\n      <td>http://world-en.openfoodfacts.org/product/0000...</td>\n      <td>usda-ndb-import</td>\n      <td>1489069957</td>\n      <td>2017-03-09T14:32:37Z</td>\n      <td>1489069957</td>\n      <td>2017-03-09T14:32:37Z</td>\n      <td>Banana Chips Sweetened (Whole)</td>\n      <td>NaN</td>\n      <td>...</td>\n      <td>NaN</td>\n      <td>NaN</td>\n      <td>NaN</td>\n      <td>NaN</td>\n      <td>NaN</td>\n      <td>NaN</td>\n      <td>14.0</td>\n      <td>14.0</td>\n      <td>NaN</td>\n      <td>NaN</td>\n    </tr>\n    <tr>\n      <th>2</th>\n      <td>2</td>\n      <td>4559</td>\n      <td>http://world-en.openfoodfacts.org/product/0000...</td>\n      <td>usda-ndb-import</td>\n      <td>1489069957</td>\n      <td>2017-03-09T14:32:37Z</td>\n      <td>1489069957</td>\n      <td>2017-03-09T14:32:37Z</td>\n      <td>Peanuts</td>\n      <td>NaN</td>\n      <td>...</td>\n      <td>NaN</td>\n      <td>NaN</td>\n      <td>NaN</td>\n      <td>NaN</td>\n      <td>NaN</td>\n      <td>NaN</td>\n      <td>0.0</td>\n      <td>0.0</td>\n      <td>NaN</td>\n      <td>NaN</td>\n    </tr>\n    <tr>\n      <th>3</th>\n      <td>3</td>\n      <td>16087</td>\n      <td>http://world-en.openfoodfacts.org/product/0000...</td>\n      <td>usda-ndb-import</td>\n      <td>1489055731</td>\n      <td>2017-03-09T10:35:31Z</td>\n      <td>1489055731</td>\n      <td>2017-03-09T10:35:31Z</td>\n      <td>Organic Salted Nut Mix</td>\n      <td>NaN</td>\n      <td>...</td>\n      <td>NaN</td>\n      <td>NaN</td>\n      <td>NaN</td>\n      <td>NaN</td>\n      <td>NaN</td>\n      <td>NaN</td>\n      <td>12.0</td>\n      <td>12.0</td>\n      <td>NaN</td>\n      <td>NaN</td>\n    </tr>\n    <tr>\n      <th>4</th>\n      <td>4</td>\n      <td>16094</td>\n      <td>http://world-en.openfoodfacts.org/product/0000...</td>\n      <td>usda-ndb-import</td>\n      <td>1489055653</td>\n      <td>2017-03-09T10:34:13Z</td>\n      <td>1489055653</td>\n      <td>2017-03-09T10:34:13Z</td>\n      <td>Organic Polenta</td>\n      <td>NaN</td>\n      <td>...</td>\n      <td>NaN</td>\n      <td>NaN</td>\n      <td>NaN</td>\n      <td>NaN</td>\n      <td>NaN</td>\n      <td>NaN</td>\n      <td>NaN</td>\n      <td>NaN</td>\n      <td>NaN</td>\n      <td>NaN</td>\n    </tr>\n    <tr>\n      <th>...</th>\n      <td>...</td>\n      <td>...</td>\n      <td>...</td>\n      <td>...</td>\n      <td>...</td>\n      <td>...</td>\n      <td>...</td>\n      <td>...</td>\n      <td>...</td>\n      <td>...</td>\n      <td>...</td>\n      <td>...</td>\n      <td>...</td>\n      <td>...</td>\n      <td>...</td>\n      <td>...</td>\n      <td>...</td>\n      <td>...</td>\n      <td>...</td>\n      <td>...</td>\n      <td>...</td>\n    </tr>\n    <tr>\n      <th>95</th>\n      <td>95</td>\n      <td>34715</td>\n      <td>http://world-en.openfoodfacts.org/product/0000...</td>\n      <td>usda-ndb-import</td>\n      <td>1489055715</td>\n      <td>2017-03-09T10:35:15Z</td>\n      <td>1489055715</td>\n      <td>2017-03-09T10:35:15Z</td>\n      <td>Organic Pecan Halves</td>\n      <td>NaN</td>\n      <td>...</td>\n      <td>NaN</td>\n      <td>NaN</td>\n      <td>NaN</td>\n      <td>NaN</td>\n      <td>NaN</td>\n      <td>NaN</td>\n      <td>NaN</td>\n      <td>NaN</td>\n      <td>NaN</td>\n      <td>NaN</td>\n    </tr>\n    <tr>\n      <th>96</th>\n      <td>96</td>\n      <td>34784</td>\n      <td>http://world-en.openfoodfacts.org/product/0000...</td>\n      <td>usda-ndb-import</td>\n      <td>1489138485</td>\n      <td>2017-03-10T09:34:45Z</td>\n      <td>1489138485</td>\n      <td>2017-03-10T09:34:45Z</td>\n      <td>Unsalted Dry Roasted Almonds</td>\n      <td>NaN</td>\n      <td>...</td>\n      <td>NaN</td>\n      <td>NaN</td>\n      <td>NaN</td>\n      <td>NaN</td>\n      <td>NaN</td>\n      <td>NaN</td>\n      <td>NaN</td>\n      <td>NaN</td>\n      <td>NaN</td>\n      <td>NaN</td>\n    </tr>\n    <tr>\n      <th>97</th>\n      <td>97</td>\n      <td>34791</td>\n      <td>http://world-en.openfoodfacts.org/product/0000...</td>\n      <td>usda-ndb-import</td>\n      <td>1489055720</td>\n      <td>2017-03-09T10:35:20Z</td>\n      <td>1489055720</td>\n      <td>2017-03-09T10:35:20Z</td>\n      <td>Organic Raw Pumpkin Seeds</td>\n      <td>NaN</td>\n      <td>...</td>\n      <td>NaN</td>\n      <td>NaN</td>\n      <td>NaN</td>\n      <td>NaN</td>\n      <td>NaN</td>\n      <td>NaN</td>\n      <td>12.0</td>\n      <td>12.0</td>\n      <td>NaN</td>\n      <td>NaN</td>\n    </tr>\n    <tr>\n      <th>98</th>\n      <td>98</td>\n      <td>35071</td>\n      <td>http://world-en.openfoodfacts.org/product/0000...</td>\n      <td>usda-ndb-import</td>\n      <td>1489138484</td>\n      <td>2017-03-10T09:34:44Z</td>\n      <td>1489138484</td>\n      <td>2017-03-10T09:34:44Z</td>\n      <td>Organic Extra Virgin Olive Oil</td>\n      <td>NaN</td>\n      <td>...</td>\n      <td>NaN</td>\n      <td>NaN</td>\n      <td>NaN</td>\n      <td>NaN</td>\n      <td>NaN</td>\n      <td>NaN</td>\n      <td>NaN</td>\n      <td>NaN</td>\n      <td>NaN</td>\n      <td>NaN</td>\n    </tr>\n    <tr>\n      <th>99</th>\n      <td>99</td>\n      <td>35170</td>\n      <td>http://world-en.openfoodfacts.org/product/0000...</td>\n      <td>usda-ndb-import</td>\n      <td>1489138488</td>\n      <td>2017-03-10T09:34:48Z</td>\n      <td>1489138488</td>\n      <td>2017-03-10T09:34:48Z</td>\n      <td>Liquid Aminos</td>\n      <td>NaN</td>\n      <td>...</td>\n      <td>NaN</td>\n      <td>NaN</td>\n      <td>NaN</td>\n      <td>NaN</td>\n      <td>NaN</td>\n      <td>NaN</td>\n      <td>NaN</td>\n      <td>NaN</td>\n      <td>NaN</td>\n      <td>NaN</td>\n    </tr>\n  </tbody>\n</table>\n<p>100 rows × 164 columns</p>\n</div>"
     },
     "metadata": {},
     "execution_count": 5
    }
   ],
   "source": [
    "import pandas as pd\n",
    "df = pd.read_csv(\"data/food_100.csv\")\n",
    "\n",
    "df"
   ]
  },
  {
   "source": [
    "### 1. Borrar columnas Unnamed"
   ],
   "cell_type": "markdown",
   "metadata": {}
  },
  {
   "cell_type": "code",
   "execution_count": 6,
   "metadata": {},
   "outputs": [
    {
     "output_type": "execute_result",
     "data": {
      "text/plain": [
       "(100, 164)"
      ]
     },
     "metadata": {},
     "execution_count": 6
    }
   ],
   "source": [
    "df.shape"
   ]
  },
  {
   "cell_type": "code",
   "execution_count": 7,
   "metadata": {},
   "outputs": [
    {
     "output_type": "stream",
     "name": "stdout",
     "text": [
      "Dropped:  Unnamed: 0\n"
     ]
    },
    {
     "output_type": "execute_result",
     "data": {
      "text/plain": [
       "(100, 163)"
      ]
     },
     "metadata": {},
     "execution_count": 7
    }
   ],
   "source": [
    "columns_l = list(df.columns)\n",
    "for i in columns_l:\n",
    "    if 'Unnamed' in i:\n",
    "        print('Dropped: ',i)\n",
    "        df = df.drop(columns='Unnamed: 0')\n",
    "\n",
    "df.shape"
   ]
  },
  {
   "cell_type": "code",
   "execution_count": 21,
   "metadata": {},
   "outputs": [
    {
     "output_type": "stream",
     "name": "stdout",
     "text": [
      "<class 'pandas.core.frame.DataFrame'>\nRangeIndex: 100 entries, 0 to 99\nColumns: 163 entries, code to water-hardness_100g\ndtypes: float64(125), int64(3), object(35)\nmemory usage: 127.5+ KB\n"
     ]
    }
   ],
   "source": [
    "df.info()"
   ]
  },
  {
   "source": [
    "### 2. Porcentage de Nans en columnas"
   ],
   "cell_type": "markdown",
   "metadata": {}
  },
  {
   "cell_type": "code",
   "execution_count": 8,
   "metadata": {},
   "outputs": [
    {
     "output_type": "execute_result",
     "data": {
      "text/plain": [
       "code                             0.0\n",
       "countries_tags                   0.0\n",
       "countries_en                     0.0\n",
       "states_tags                      0.0\n",
       "states                           0.0\n",
       "                               ...  \n",
       "-arachidic-acid_100g           100.0\n",
       "-stearic-acid_100g             100.0\n",
       "-palmitic-acid_100g            100.0\n",
       "-eicosapentaenoic-acid_100g    100.0\n",
       "water-hardness_100g            100.0\n",
       "Length: 163, dtype: float64"
      ]
     },
     "metadata": {},
     "execution_count": 8
    }
   ],
   "source": [
    "missing_prcnt = df.isnull().sum() * 100 / len(df)\n",
    "missing_prcnt = missing_prcnt.sort_values()\n",
    "missing_prcnt"
   ]
  },
  {
   "cell_type": "code",
   "execution_count": 36,
   "metadata": {},
   "outputs": [
    {
     "output_type": "execute_result",
     "data": {
      "text/plain": [
       "<AxesSubplot:>"
      ]
     },
     "metadata": {},
     "execution_count": 36
    },
    {
     "output_type": "display_data",
     "data": {
      "text/plain": "<Figure size 432x288 with 1 Axes>",
      "image/svg+xml": "<?xml version=\"1.0\" encoding=\"utf-8\" standalone=\"no\"?>\r\n<!DOCTYPE svg PUBLIC \"-//W3C//DTD SVG 1.1//EN\"\r\n  \"http://www.w3.org/Graphics/SVG/1.1/DTD/svg11.dtd\">\r\n<!-- Created with matplotlib (https://matplotlib.org/) -->\r\n<svg height=\"248.518125pt\" version=\"1.1\" viewBox=\"0 0 375.2875 248.518125\" width=\"375.2875pt\" xmlns=\"http://www.w3.org/2000/svg\" xmlns:xlink=\"http://www.w3.org/1999/xlink\">\r\n <metadata>\r\n  <rdf:RDF xmlns:cc=\"http://creativecommons.org/ns#\" xmlns:dc=\"http://purl.org/dc/elements/1.1/\" xmlns:rdf=\"http://www.w3.org/1999/02/22-rdf-syntax-ns#\">\r\n   <cc:Work>\r\n    <dc:type rdf:resource=\"http://purl.org/dc/dcmitype/StillImage\"/>\r\n    <dc:date>2021-02-14T19:06:00.623453</dc:date>\r\n    <dc:format>image/svg+xml</dc:format>\r\n    <dc:creator>\r\n     <cc:Agent>\r\n      <dc:title>Matplotlib v3.3.3, https://matplotlib.org/</dc:title>\r\n     </cc:Agent>\r\n    </dc:creator>\r\n   </cc:Work>\r\n  </rdf:RDF>\r\n </metadata>\r\n <defs>\r\n  <style type=\"text/css\">*{stroke-linecap:butt;stroke-linejoin:round;}</style>\r\n </defs>\r\n <g id=\"figure_1\">\r\n  <g id=\"patch_1\">\r\n   <path d=\"M 0 248.518125 \r\nL 375.2875 248.518125 \r\nL 375.2875 0 \r\nL 0 0 \r\nz\r\n\" style=\"fill:none;\"/>\r\n  </g>\r\n  <g id=\"axes_1\">\r\n   <g id=\"patch_2\">\r\n    <path d=\"M 33.2875 224.64 \r\nL 368.0875 224.64 \r\nL 368.0875 7.2 \r\nL 33.2875 7.2 \r\nz\r\n\" style=\"fill:#ffffff;\"/>\r\n   </g>\r\n   <g id=\"patch_3\">\r\n    <path clip-path=\"url(#p4098f2a6f9)\" d=\"M 48.505682 224.64 \r\nL 78.942045 224.64 \r\nL 78.942045 185.916655 \r\nL 48.505682 185.916655 \r\nz\r\n\" style=\"fill:#1f77b4;\"/>\r\n   </g>\r\n   <g id=\"patch_4\">\r\n    <path clip-path=\"url(#p4098f2a6f9)\" d=\"M 78.942045 224.64 \r\nL 109.378409 224.64 \r\nL 109.378409 217.905505 \r\nL 78.942045 217.905505 \r\nz\r\n\" style=\"fill:#1f77b4;\"/>\r\n   </g>\r\n   <g id=\"patch_5\">\r\n    <path clip-path=\"url(#p4098f2a6f9)\" d=\"M 109.378409 224.64 \r\nL 139.814773 224.64 \r\nL 139.814773 222.956376 \r\nL 109.378409 222.956376 \r\nz\r\n\" style=\"fill:#1f77b4;\"/>\r\n   </g>\r\n   <g id=\"patch_6\">\r\n    <path clip-path=\"url(#p4098f2a6f9)\" d=\"M 139.814773 224.64 \r\nL 170.251136 224.64 \r\nL 170.251136 221.272753 \r\nL 139.814773 221.272753 \r\nz\r\n\" style=\"fill:#1f77b4;\"/>\r\n   </g>\r\n   <g id=\"patch_7\">\r\n    <path clip-path=\"url(#p4098f2a6f9)\" d=\"M 170.251136 224.64 \r\nL 200.6875 224.64 \r\nL 200.6875 219.589129 \r\nL 170.251136 219.589129 \r\nz\r\n\" style=\"fill:#1f77b4;\"/>\r\n   </g>\r\n   <g id=\"patch_8\">\r\n    <path clip-path=\"url(#p4098f2a6f9)\" d=\"M 200.6875 224.64 \r\nL 231.123864 224.64 \r\nL 231.123864 224.64 \r\nL 200.6875 224.64 \r\nz\r\n\" style=\"fill:#1f77b4;\"/>\r\n   </g>\r\n   <g id=\"patch_9\">\r\n    <path clip-path=\"url(#p4098f2a6f9)\" d=\"M 231.123864 224.64 \r\nL 261.560227 224.64 \r\nL 261.560227 219.589129 \r\nL 231.123864 219.589129 \r\nz\r\n\" style=\"fill:#1f77b4;\"/>\r\n   </g>\r\n   <g id=\"patch_10\">\r\n    <path clip-path=\"url(#p4098f2a6f9)\" d=\"M 261.560227 224.64 \r\nL 291.996591 224.64 \r\nL 291.996591 224.64 \r\nL 261.560227 224.64 \r\nz\r\n\" style=\"fill:#1f77b4;\"/>\r\n   </g>\r\n   <g id=\"patch_11\">\r\n    <path clip-path=\"url(#p4098f2a6f9)\" d=\"M 291.996591 224.64 \r\nL 322.432955 224.64 \r\nL 322.432955 217.905505 \r\nL 291.996591 217.905505 \r\nz\r\n\" style=\"fill:#1f77b4;\"/>\r\n   </g>\r\n   <g id=\"patch_12\">\r\n    <path clip-path=\"url(#p4098f2a6f9)\" d=\"M 322.432955 224.64 \r\nL 352.869318 224.64 \r\nL 352.869318 17.554286 \r\nL 322.432955 17.554286 \r\nz\r\n\" style=\"fill:#1f77b4;\"/>\r\n   </g>\r\n   <g id=\"matplotlib.axis_1\">\r\n    <g id=\"xtick_1\">\r\n     <g id=\"line2d_1\">\r\n      <path clip-path=\"url(#p4098f2a6f9)\" d=\"M 48.505682 224.64 \r\nL 48.505682 7.2 \r\n\" style=\"fill:none;stroke:#b0b0b0;stroke-linecap:square;stroke-width:0.8;\"/>\r\n     </g>\r\n     <g id=\"line2d_2\">\r\n      <defs>\r\n       <path d=\"M 0 0 \r\nL 0 3.5 \r\n\" id=\"ma54dc55bcf\" style=\"stroke:#000000;stroke-width:0.8;\"/>\r\n      </defs>\r\n      <g>\r\n       <use style=\"stroke:#000000;stroke-width:0.8;\" x=\"48.505682\" xlink:href=\"#ma54dc55bcf\" y=\"224.64\"/>\r\n      </g>\r\n     </g>\r\n     <g id=\"text_1\">\r\n      <!-- 0 -->\r\n      <g transform=\"translate(45.324432 239.238438)scale(0.1 -0.1)\">\r\n       <defs>\r\n        <path d=\"M 31.78125 66.40625 \r\nQ 24.171875 66.40625 20.328125 58.90625 \r\nQ 16.5 51.421875 16.5 36.375 \r\nQ 16.5 21.390625 20.328125 13.890625 \r\nQ 24.171875 6.390625 31.78125 6.390625 \r\nQ 39.453125 6.390625 43.28125 13.890625 \r\nQ 47.125 21.390625 47.125 36.375 \r\nQ 47.125 51.421875 43.28125 58.90625 \r\nQ 39.453125 66.40625 31.78125 66.40625 \r\nz\r\nM 31.78125 74.21875 \r\nQ 44.046875 74.21875 50.515625 64.515625 \r\nQ 56.984375 54.828125 56.984375 36.375 \r\nQ 56.984375 17.96875 50.515625 8.265625 \r\nQ 44.046875 -1.421875 31.78125 -1.421875 \r\nQ 19.53125 -1.421875 13.0625 8.265625 \r\nQ 6.59375 17.96875 6.59375 36.375 \r\nQ 6.59375 54.828125 13.0625 64.515625 \r\nQ 19.53125 74.21875 31.78125 74.21875 \r\nz\r\n\" id=\"DejaVuSans-48\"/>\r\n       </defs>\r\n       <use xlink:href=\"#DejaVuSans-48\"/>\r\n      </g>\r\n     </g>\r\n    </g>\r\n    <g id=\"xtick_2\">\r\n     <g id=\"line2d_3\">\r\n      <path clip-path=\"url(#p4098f2a6f9)\" d=\"M 109.378409 224.64 \r\nL 109.378409 7.2 \r\n\" style=\"fill:none;stroke:#b0b0b0;stroke-linecap:square;stroke-width:0.8;\"/>\r\n     </g>\r\n     <g id=\"line2d_4\">\r\n      <g>\r\n       <use style=\"stroke:#000000;stroke-width:0.8;\" x=\"109.378409\" xlink:href=\"#ma54dc55bcf\" y=\"224.64\"/>\r\n      </g>\r\n     </g>\r\n     <g id=\"text_2\">\r\n      <!-- 20 -->\r\n      <g transform=\"translate(103.015909 239.238438)scale(0.1 -0.1)\">\r\n       <defs>\r\n        <path d=\"M 19.1875 8.296875 \r\nL 53.609375 8.296875 \r\nL 53.609375 0 \r\nL 7.328125 0 \r\nL 7.328125 8.296875 \r\nQ 12.9375 14.109375 22.625 23.890625 \r\nQ 32.328125 33.6875 34.8125 36.53125 \r\nQ 39.546875 41.84375 41.421875 45.53125 \r\nQ 43.3125 49.21875 43.3125 52.78125 \r\nQ 43.3125 58.59375 39.234375 62.25 \r\nQ 35.15625 65.921875 28.609375 65.921875 \r\nQ 23.96875 65.921875 18.8125 64.3125 \r\nQ 13.671875 62.703125 7.8125 59.421875 \r\nL 7.8125 69.390625 \r\nQ 13.765625 71.78125 18.9375 73 \r\nQ 24.125 74.21875 28.421875 74.21875 \r\nQ 39.75 74.21875 46.484375 68.546875 \r\nQ 53.21875 62.890625 53.21875 53.421875 \r\nQ 53.21875 48.921875 51.53125 44.890625 \r\nQ 49.859375 40.875 45.40625 35.40625 \r\nQ 44.1875 33.984375 37.640625 27.21875 \r\nQ 31.109375 20.453125 19.1875 8.296875 \r\nz\r\n\" id=\"DejaVuSans-50\"/>\r\n       </defs>\r\n       <use xlink:href=\"#DejaVuSans-50\"/>\r\n       <use x=\"63.623047\" xlink:href=\"#DejaVuSans-48\"/>\r\n      </g>\r\n     </g>\r\n    </g>\r\n    <g id=\"xtick_3\">\r\n     <g id=\"line2d_5\">\r\n      <path clip-path=\"url(#p4098f2a6f9)\" d=\"M 170.251136 224.64 \r\nL 170.251136 7.2 \r\n\" style=\"fill:none;stroke:#b0b0b0;stroke-linecap:square;stroke-width:0.8;\"/>\r\n     </g>\r\n     <g id=\"line2d_6\">\r\n      <g>\r\n       <use style=\"stroke:#000000;stroke-width:0.8;\" x=\"170.251136\" xlink:href=\"#ma54dc55bcf\" y=\"224.64\"/>\r\n      </g>\r\n     </g>\r\n     <g id=\"text_3\">\r\n      <!-- 40 -->\r\n      <g transform=\"translate(163.888636 239.238438)scale(0.1 -0.1)\">\r\n       <defs>\r\n        <path d=\"M 37.796875 64.3125 \r\nL 12.890625 25.390625 \r\nL 37.796875 25.390625 \r\nz\r\nM 35.203125 72.90625 \r\nL 47.609375 72.90625 \r\nL 47.609375 25.390625 \r\nL 58.015625 25.390625 \r\nL 58.015625 17.1875 \r\nL 47.609375 17.1875 \r\nL 47.609375 0 \r\nL 37.796875 0 \r\nL 37.796875 17.1875 \r\nL 4.890625 17.1875 \r\nL 4.890625 26.703125 \r\nz\r\n\" id=\"DejaVuSans-52\"/>\r\n       </defs>\r\n       <use xlink:href=\"#DejaVuSans-52\"/>\r\n       <use x=\"63.623047\" xlink:href=\"#DejaVuSans-48\"/>\r\n      </g>\r\n     </g>\r\n    </g>\r\n    <g id=\"xtick_4\">\r\n     <g id=\"line2d_7\">\r\n      <path clip-path=\"url(#p4098f2a6f9)\" d=\"M 231.123864 224.64 \r\nL 231.123864 7.2 \r\n\" style=\"fill:none;stroke:#b0b0b0;stroke-linecap:square;stroke-width:0.8;\"/>\r\n     </g>\r\n     <g id=\"line2d_8\">\r\n      <g>\r\n       <use style=\"stroke:#000000;stroke-width:0.8;\" x=\"231.123864\" xlink:href=\"#ma54dc55bcf\" y=\"224.64\"/>\r\n      </g>\r\n     </g>\r\n     <g id=\"text_4\">\r\n      <!-- 60 -->\r\n      <g transform=\"translate(224.761364 239.238438)scale(0.1 -0.1)\">\r\n       <defs>\r\n        <path d=\"M 33.015625 40.375 \r\nQ 26.375 40.375 22.484375 35.828125 \r\nQ 18.609375 31.296875 18.609375 23.390625 \r\nQ 18.609375 15.53125 22.484375 10.953125 \r\nQ 26.375 6.390625 33.015625 6.390625 \r\nQ 39.65625 6.390625 43.53125 10.953125 \r\nQ 47.40625 15.53125 47.40625 23.390625 \r\nQ 47.40625 31.296875 43.53125 35.828125 \r\nQ 39.65625 40.375 33.015625 40.375 \r\nz\r\nM 52.59375 71.296875 \r\nL 52.59375 62.3125 \r\nQ 48.875 64.0625 45.09375 64.984375 \r\nQ 41.3125 65.921875 37.59375 65.921875 \r\nQ 27.828125 65.921875 22.671875 59.328125 \r\nQ 17.53125 52.734375 16.796875 39.40625 \r\nQ 19.671875 43.65625 24.015625 45.921875 \r\nQ 28.375 48.1875 33.59375 48.1875 \r\nQ 44.578125 48.1875 50.953125 41.515625 \r\nQ 57.328125 34.859375 57.328125 23.390625 \r\nQ 57.328125 12.15625 50.6875 5.359375 \r\nQ 44.046875 -1.421875 33.015625 -1.421875 \r\nQ 20.359375 -1.421875 13.671875 8.265625 \r\nQ 6.984375 17.96875 6.984375 36.375 \r\nQ 6.984375 53.65625 15.1875 63.9375 \r\nQ 23.390625 74.21875 37.203125 74.21875 \r\nQ 40.921875 74.21875 44.703125 73.484375 \r\nQ 48.484375 72.75 52.59375 71.296875 \r\nz\r\n\" id=\"DejaVuSans-54\"/>\r\n       </defs>\r\n       <use xlink:href=\"#DejaVuSans-54\"/>\r\n       <use x=\"63.623047\" xlink:href=\"#DejaVuSans-48\"/>\r\n      </g>\r\n     </g>\r\n    </g>\r\n    <g id=\"xtick_5\">\r\n     <g id=\"line2d_9\">\r\n      <path clip-path=\"url(#p4098f2a6f9)\" d=\"M 291.996591 224.64 \r\nL 291.996591 7.2 \r\n\" style=\"fill:none;stroke:#b0b0b0;stroke-linecap:square;stroke-width:0.8;\"/>\r\n     </g>\r\n     <g id=\"line2d_10\">\r\n      <g>\r\n       <use style=\"stroke:#000000;stroke-width:0.8;\" x=\"291.996591\" xlink:href=\"#ma54dc55bcf\" y=\"224.64\"/>\r\n      </g>\r\n     </g>\r\n     <g id=\"text_5\">\r\n      <!-- 80 -->\r\n      <g transform=\"translate(285.634091 239.238438)scale(0.1 -0.1)\">\r\n       <defs>\r\n        <path d=\"M 31.78125 34.625 \r\nQ 24.75 34.625 20.71875 30.859375 \r\nQ 16.703125 27.09375 16.703125 20.515625 \r\nQ 16.703125 13.921875 20.71875 10.15625 \r\nQ 24.75 6.390625 31.78125 6.390625 \r\nQ 38.8125 6.390625 42.859375 10.171875 \r\nQ 46.921875 13.96875 46.921875 20.515625 \r\nQ 46.921875 27.09375 42.890625 30.859375 \r\nQ 38.875 34.625 31.78125 34.625 \r\nz\r\nM 21.921875 38.8125 \r\nQ 15.578125 40.375 12.03125 44.71875 \r\nQ 8.5 49.078125 8.5 55.328125 \r\nQ 8.5 64.0625 14.71875 69.140625 \r\nQ 20.953125 74.21875 31.78125 74.21875 \r\nQ 42.671875 74.21875 48.875 69.140625 \r\nQ 55.078125 64.0625 55.078125 55.328125 \r\nQ 55.078125 49.078125 51.53125 44.71875 \r\nQ 48 40.375 41.703125 38.8125 \r\nQ 48.828125 37.15625 52.796875 32.3125 \r\nQ 56.78125 27.484375 56.78125 20.515625 \r\nQ 56.78125 9.90625 50.3125 4.234375 \r\nQ 43.84375 -1.421875 31.78125 -1.421875 \r\nQ 19.734375 -1.421875 13.25 4.234375 \r\nQ 6.78125 9.90625 6.78125 20.515625 \r\nQ 6.78125 27.484375 10.78125 32.3125 \r\nQ 14.796875 37.15625 21.921875 38.8125 \r\nz\r\nM 18.3125 54.390625 \r\nQ 18.3125 48.734375 21.84375 45.5625 \r\nQ 25.390625 42.390625 31.78125 42.390625 \r\nQ 38.140625 42.390625 41.71875 45.5625 \r\nQ 45.3125 48.734375 45.3125 54.390625 \r\nQ 45.3125 60.0625 41.71875 63.234375 \r\nQ 38.140625 66.40625 31.78125 66.40625 \r\nQ 25.390625 66.40625 21.84375 63.234375 \r\nQ 18.3125 60.0625 18.3125 54.390625 \r\nz\r\n\" id=\"DejaVuSans-56\"/>\r\n       </defs>\r\n       <use xlink:href=\"#DejaVuSans-56\"/>\r\n       <use x=\"63.623047\" xlink:href=\"#DejaVuSans-48\"/>\r\n      </g>\r\n     </g>\r\n    </g>\r\n    <g id=\"xtick_6\">\r\n     <g id=\"line2d_11\">\r\n      <path clip-path=\"url(#p4098f2a6f9)\" d=\"M 352.869318 224.64 \r\nL 352.869318 7.2 \r\n\" style=\"fill:none;stroke:#b0b0b0;stroke-linecap:square;stroke-width:0.8;\"/>\r\n     </g>\r\n     <g id=\"line2d_12\">\r\n      <g>\r\n       <use style=\"stroke:#000000;stroke-width:0.8;\" x=\"352.869318\" xlink:href=\"#ma54dc55bcf\" y=\"224.64\"/>\r\n      </g>\r\n     </g>\r\n     <g id=\"text_6\">\r\n      <!-- 100 -->\r\n      <g transform=\"translate(343.325568 239.238438)scale(0.1 -0.1)\">\r\n       <defs>\r\n        <path d=\"M 12.40625 8.296875 \r\nL 28.515625 8.296875 \r\nL 28.515625 63.921875 \r\nL 10.984375 60.40625 \r\nL 10.984375 69.390625 \r\nL 28.421875 72.90625 \r\nL 38.28125 72.90625 \r\nL 38.28125 8.296875 \r\nL 54.390625 8.296875 \r\nL 54.390625 0 \r\nL 12.40625 0 \r\nz\r\n\" id=\"DejaVuSans-49\"/>\r\n       </defs>\r\n       <use xlink:href=\"#DejaVuSans-49\"/>\r\n       <use x=\"63.623047\" xlink:href=\"#DejaVuSans-48\"/>\r\n       <use x=\"127.246094\" xlink:href=\"#DejaVuSans-48\"/>\r\n      </g>\r\n     </g>\r\n    </g>\r\n   </g>\r\n   <g id=\"matplotlib.axis_2\">\r\n    <g id=\"ytick_1\">\r\n     <g id=\"line2d_13\">\r\n      <path clip-path=\"url(#p4098f2a6f9)\" d=\"M 33.2875 224.64 \r\nL 368.0875 224.64 \r\n\" style=\"fill:none;stroke:#b0b0b0;stroke-linecap:square;stroke-width:0.8;\"/>\r\n     </g>\r\n     <g id=\"line2d_14\">\r\n      <defs>\r\n       <path d=\"M 0 0 \r\nL -3.5 0 \r\n\" id=\"m64752743d5\" style=\"stroke:#000000;stroke-width:0.8;\"/>\r\n      </defs>\r\n      <g>\r\n       <use style=\"stroke:#000000;stroke-width:0.8;\" x=\"33.2875\" xlink:href=\"#m64752743d5\" y=\"224.64\"/>\r\n      </g>\r\n     </g>\r\n     <g id=\"text_7\">\r\n      <!-- 0 -->\r\n      <g transform=\"translate(19.925 228.439219)scale(0.1 -0.1)\">\r\n       <use xlink:href=\"#DejaVuSans-48\"/>\r\n      </g>\r\n     </g>\r\n    </g>\r\n    <g id=\"ytick_2\">\r\n     <g id=\"line2d_15\">\r\n      <path clip-path=\"url(#p4098f2a6f9)\" d=\"M 33.2875 190.967526 \r\nL 368.0875 190.967526 \r\n\" style=\"fill:none;stroke:#b0b0b0;stroke-linecap:square;stroke-width:0.8;\"/>\r\n     </g>\r\n     <g id=\"line2d_16\">\r\n      <g>\r\n       <use style=\"stroke:#000000;stroke-width:0.8;\" x=\"33.2875\" xlink:href=\"#m64752743d5\" y=\"190.967526\"/>\r\n      </g>\r\n     </g>\r\n     <g id=\"text_8\">\r\n      <!-- 20 -->\r\n      <g transform=\"translate(13.5625 194.766745)scale(0.1 -0.1)\">\r\n       <use xlink:href=\"#DejaVuSans-50\"/>\r\n       <use x=\"63.623047\" xlink:href=\"#DejaVuSans-48\"/>\r\n      </g>\r\n     </g>\r\n    </g>\r\n    <g id=\"ytick_3\">\r\n     <g id=\"line2d_17\">\r\n      <path clip-path=\"url(#p4098f2a6f9)\" d=\"M 33.2875 157.295052 \r\nL 368.0875 157.295052 \r\n\" style=\"fill:none;stroke:#b0b0b0;stroke-linecap:square;stroke-width:0.8;\"/>\r\n     </g>\r\n     <g id=\"line2d_18\">\r\n      <g>\r\n       <use style=\"stroke:#000000;stroke-width:0.8;\" x=\"33.2875\" xlink:href=\"#m64752743d5\" y=\"157.295052\"/>\r\n      </g>\r\n     </g>\r\n     <g id=\"text_9\">\r\n      <!-- 40 -->\r\n      <g transform=\"translate(13.5625 161.094271)scale(0.1 -0.1)\">\r\n       <use xlink:href=\"#DejaVuSans-52\"/>\r\n       <use x=\"63.623047\" xlink:href=\"#DejaVuSans-48\"/>\r\n      </g>\r\n     </g>\r\n    </g>\r\n    <g id=\"ytick_4\">\r\n     <g id=\"line2d_19\">\r\n      <path clip-path=\"url(#p4098f2a6f9)\" d=\"M 33.2875 123.622578 \r\nL 368.0875 123.622578 \r\n\" style=\"fill:none;stroke:#b0b0b0;stroke-linecap:square;stroke-width:0.8;\"/>\r\n     </g>\r\n     <g id=\"line2d_20\">\r\n      <g>\r\n       <use style=\"stroke:#000000;stroke-width:0.8;\" x=\"33.2875\" xlink:href=\"#m64752743d5\" y=\"123.622578\"/>\r\n      </g>\r\n     </g>\r\n     <g id=\"text_10\">\r\n      <!-- 60 -->\r\n      <g transform=\"translate(13.5625 127.421797)scale(0.1 -0.1)\">\r\n       <use xlink:href=\"#DejaVuSans-54\"/>\r\n       <use x=\"63.623047\" xlink:href=\"#DejaVuSans-48\"/>\r\n      </g>\r\n     </g>\r\n    </g>\r\n    <g id=\"ytick_5\">\r\n     <g id=\"line2d_21\">\r\n      <path clip-path=\"url(#p4098f2a6f9)\" d=\"M 33.2875 89.950105 \r\nL 368.0875 89.950105 \r\n\" style=\"fill:none;stroke:#b0b0b0;stroke-linecap:square;stroke-width:0.8;\"/>\r\n     </g>\r\n     <g id=\"line2d_22\">\r\n      <g>\r\n       <use style=\"stroke:#000000;stroke-width:0.8;\" x=\"33.2875\" xlink:href=\"#m64752743d5\" y=\"89.950105\"/>\r\n      </g>\r\n     </g>\r\n     <g id=\"text_11\">\r\n      <!-- 80 -->\r\n      <g transform=\"translate(13.5625 93.749323)scale(0.1 -0.1)\">\r\n       <use xlink:href=\"#DejaVuSans-56\"/>\r\n       <use x=\"63.623047\" xlink:href=\"#DejaVuSans-48\"/>\r\n      </g>\r\n     </g>\r\n    </g>\r\n    <g id=\"ytick_6\">\r\n     <g id=\"line2d_23\">\r\n      <path clip-path=\"url(#p4098f2a6f9)\" d=\"M 33.2875 56.277631 \r\nL 368.0875 56.277631 \r\n\" style=\"fill:none;stroke:#b0b0b0;stroke-linecap:square;stroke-width:0.8;\"/>\r\n     </g>\r\n     <g id=\"line2d_24\">\r\n      <g>\r\n       <use style=\"stroke:#000000;stroke-width:0.8;\" x=\"33.2875\" xlink:href=\"#m64752743d5\" y=\"56.277631\"/>\r\n      </g>\r\n     </g>\r\n     <g id=\"text_12\">\r\n      <!-- 100 -->\r\n      <g transform=\"translate(7.2 60.076849)scale(0.1 -0.1)\">\r\n       <use xlink:href=\"#DejaVuSans-49\"/>\r\n       <use x=\"63.623047\" xlink:href=\"#DejaVuSans-48\"/>\r\n       <use x=\"127.246094\" xlink:href=\"#DejaVuSans-48\"/>\r\n      </g>\r\n     </g>\r\n    </g>\r\n    <g id=\"ytick_7\">\r\n     <g id=\"line2d_25\">\r\n      <path clip-path=\"url(#p4098f2a6f9)\" d=\"M 33.2875 22.605157 \r\nL 368.0875 22.605157 \r\n\" style=\"fill:none;stroke:#b0b0b0;stroke-linecap:square;stroke-width:0.8;\"/>\r\n     </g>\r\n     <g id=\"line2d_26\">\r\n      <g>\r\n       <use style=\"stroke:#000000;stroke-width:0.8;\" x=\"33.2875\" xlink:href=\"#m64752743d5\" y=\"22.605157\"/>\r\n      </g>\r\n     </g>\r\n     <g id=\"text_13\">\r\n      <!-- 120 -->\r\n      <g transform=\"translate(7.2 26.404376)scale(0.1 -0.1)\">\r\n       <use xlink:href=\"#DejaVuSans-49\"/>\r\n       <use x=\"63.623047\" xlink:href=\"#DejaVuSans-50\"/>\r\n       <use x=\"127.246094\" xlink:href=\"#DejaVuSans-48\"/>\r\n      </g>\r\n     </g>\r\n    </g>\r\n   </g>\r\n   <g id=\"patch_13\">\r\n    <path d=\"M 33.2875 224.64 \r\nL 33.2875 7.2 \r\n\" style=\"fill:none;stroke:#000000;stroke-linecap:square;stroke-linejoin:miter;stroke-width:0.8;\"/>\r\n   </g>\r\n   <g id=\"patch_14\">\r\n    <path d=\"M 368.0875 224.64 \r\nL 368.0875 7.2 \r\n\" style=\"fill:none;stroke:#000000;stroke-linecap:square;stroke-linejoin:miter;stroke-width:0.8;\"/>\r\n   </g>\r\n   <g id=\"patch_15\">\r\n    <path d=\"M 33.2875 224.64 \r\nL 368.0875 224.64 \r\n\" style=\"fill:none;stroke:#000000;stroke-linecap:square;stroke-linejoin:miter;stroke-width:0.8;\"/>\r\n   </g>\r\n   <g id=\"patch_16\">\r\n    <path d=\"M 33.2875 7.2 \r\nL 368.0875 7.2 \r\n\" style=\"fill:none;stroke:#000000;stroke-linecap:square;stroke-linejoin:miter;stroke-width:0.8;\"/>\r\n   </g>\r\n  </g>\r\n </g>\r\n <defs>\r\n  <clipPath id=\"p4098f2a6f9\">\r\n   <rect height=\"217.44\" width=\"334.8\" x=\"33.2875\" y=\"7.2\"/>\r\n  </clipPath>\r\n </defs>\r\n</svg>\r\n",
      "image/png": "[encoded data removed]"
     },
     "metadata": {
      "needs_background": "light"
     }
    }
   ],
   "source": [
    "missing_prcnt.hist()"
   ]
  },
  {
   "source": [
    "### 3. ¿Tendría algún sentido clasificar el nombre de los alimentos a partir del top5 de columnas numéricas con menos valores NaN?"
   ],
   "cell_type": "markdown",
   "metadata": {}
  },
  {
   "cell_type": "code",
   "execution_count": 9,
   "metadata": {},
   "outputs": [
    {
     "output_type": "stream",
     "name": "stdout",
     "text": [
      "Unnamed: 0\nproduct_name\ngeneric_name\n"
     ]
    }
   ],
   "source": [
    "# Buscar columna con nombre de alimentos\n",
    "for i in columns_l:\n",
    "    if 'name' in i:\n",
    "        print(i)"
   ]
  },
  {
   "cell_type": "code",
   "execution_count": 10,
   "metadata": {},
   "outputs": [
    {
     "output_type": "execute_result",
     "data": {
      "text/plain": [
       "     code  last_modified_t   created_t  ingredients_from_palm_oil_n  \\\n",
       "0    3087       1474103893  1474103866                          NaN   \n",
       "1    4530       1489069957  1489069957                          0.0   \n",
       "2    4559       1489069957  1489069957                          0.0   \n",
       "3   16087       1489055731  1489055731                          0.0   \n",
       "4   16094       1489055653  1489055653                          0.0   \n",
       "..    ...              ...         ...                          ...   \n",
       "95  34715       1489055715  1489055715                          0.0   \n",
       "96  34784       1489138485  1489138485                          0.0   \n",
       "97  34791       1489055720  1489055720                          0.0   \n",
       "98  35071       1489138484  1489138484                          0.0   \n",
       "99  35170       1489138488  1489138488                          0.0   \n",
       "\n",
       "    additives_n                    product_name  \n",
       "0           NaN              Farine de blé noir  \n",
       "1           0.0  Banana Chips Sweetened (Whole)  \n",
       "2           0.0                         Peanuts  \n",
       "3           0.0          Organic Salted Nut Mix  \n",
       "4           0.0                 Organic Polenta  \n",
       "..          ...                             ...  \n",
       "95          0.0            Organic Pecan Halves  \n",
       "96          0.0    Unsalted Dry Roasted Almonds  \n",
       "97          0.0       Organic Raw Pumpkin Seeds  \n",
       "98          0.0  Organic Extra Virgin Olive Oil  \n",
       "99          0.0                   Liquid Aminos  \n",
       "\n",
       "[100 rows x 6 columns]"
      ],
      "text/html": "<div>\n<style scoped>\n    .dataframe tbody tr th:only-of-type {\n        vertical-align: middle;\n    }\n\n    .dataframe tbody tr th {\n        vertical-align: top;\n    }\n\n    .dataframe thead th {\n        text-align: right;\n    }\n</style>\n<table border=\"1\" class=\"dataframe\">\n  <thead>\n    <tr style=\"text-align: right;\">\n      <th></th>\n      <th>code</th>\n      <th>last_modified_t</th>\n      <th>created_t</th>\n      <th>ingredients_from_palm_oil_n</th>\n      <th>additives_n</th>\n      <th>product_name</th>\n    </tr>\n  </thead>\n  <tbody>\n    <tr>\n      <th>0</th>\n      <td>3087</td>\n      <td>1474103893</td>\n      <td>1474103866</td>\n      <td>NaN</td>\n      <td>NaN</td>\n      <td>Farine de blé noir</td>\n    </tr>\n    <tr>\n      <th>1</th>\n      <td>4530</td>\n      <td>1489069957</td>\n      <td>1489069957</td>\n      <td>0.0</td>\n      <td>0.0</td>\n      <td>Banana Chips Sweetened (Whole)</td>\n    </tr>\n    <tr>\n      <th>2</th>\n      <td>4559</td>\n      <td>1489069957</td>\n      <td>1489069957</td>\n      <td>0.0</td>\n      <td>0.0</td>\n      <td>Peanuts</td>\n    </tr>\n    <tr>\n      <th>3</th>\n      <td>16087</td>\n      <td>1489055731</td>\n      <td>1489055731</td>\n      <td>0.0</td>\n      <td>0.0</td>\n      <td>Organic Salted Nut Mix</td>\n    </tr>\n    <tr>\n      <th>4</th>\n      <td>16094</td>\n      <td>1489055653</td>\n      <td>1489055653</td>\n      <td>0.0</td>\n      <td>0.0</td>\n      <td>Organic Polenta</td>\n    </tr>\n    <tr>\n      <th>...</th>\n      <td>...</td>\n      <td>...</td>\n      <td>...</td>\n      <td>...</td>\n      <td>...</td>\n      <td>...</td>\n    </tr>\n    <tr>\n      <th>95</th>\n      <td>34715</td>\n      <td>1489055715</td>\n      <td>1489055715</td>\n      <td>0.0</td>\n      <td>0.0</td>\n      <td>Organic Pecan Halves</td>\n    </tr>\n    <tr>\n      <th>96</th>\n      <td>34784</td>\n      <td>1489138485</td>\n      <td>1489138485</td>\n      <td>0.0</td>\n      <td>0.0</td>\n      <td>Unsalted Dry Roasted Almonds</td>\n    </tr>\n    <tr>\n      <th>97</th>\n      <td>34791</td>\n      <td>1489055720</td>\n      <td>1489055720</td>\n      <td>0.0</td>\n      <td>0.0</td>\n      <td>Organic Raw Pumpkin Seeds</td>\n    </tr>\n    <tr>\n      <th>98</th>\n      <td>35071</td>\n      <td>1489138484</td>\n      <td>1489138484</td>\n      <td>0.0</td>\n      <td>0.0</td>\n      <td>Organic Extra Virgin Olive Oil</td>\n    </tr>\n    <tr>\n      <th>99</th>\n      <td>35170</td>\n      <td>1489138488</td>\n      <td>1489138488</td>\n      <td>0.0</td>\n      <td>0.0</td>\n      <td>Liquid Aminos</td>\n    </tr>\n  </tbody>\n</table>\n<p>100 rows × 6 columns</p>\n</div>"
     },
     "metadata": {},
     "execution_count": 10
    }
   ],
   "source": [
    "# Dataframe con top 5 columnas numéricas con menos nans y nombre de alimento\n",
    "\n",
    "study_df = df[missing_prcnt.index.values].select_dtypes(include=['float64', 'int64']).iloc[:,:5].join(df['product_name'])\n",
    "study_df"
   ]
  },
  {
   "cell_type": "code",
   "execution_count": 20,
   "metadata": {},
   "outputs": [],
   "source": [
    "import numpy as np\n",
    "from sklearn import datasets\n",
    "from sklearn.linear_model import LogisticRegression\n",
    "from sklearn.ensemble import RandomForestClassifier\n",
    "from sklearn.neighbors import KNeighborsClassifier\n",
    "from sklearn import svm\n",
    "from sklearn.model_selection import train_test_split"
   ]
  },
  {
   "cell_type": "code",
   "execution_count": 12,
   "metadata": {},
   "outputs": [],
   "source": [
    "# Hacer modelo de clasificación para ver si las columnas seleccionadas servivrían para clasificar los alimentos\n",
    "df_n = study_df.dropna()\n",
    "X = df_n.iloc[:,: 5].values\n",
    "y = df_n['product_name'].values.reshape(-1,1)"
   ]
  },
  {
   "cell_type": "code",
   "execution_count": 13,
   "metadata": {},
   "outputs": [],
   "source": [
    "X_train, X_test, y_train, y_test = train_test_split(X, y, test_size=0.2, random_state=2)"
   ]
  },
  {
   "cell_type": "code",
   "execution_count": 14,
   "metadata": {},
   "outputs": [],
   "source": [
    "from sklearn.svm import SVC "
   ]
  },
  {
   "cell_type": "code",
   "execution_count": 15,
   "metadata": {},
   "outputs": [
    {
     "output_type": "stream",
     "name": "stdout",
     "text": [
      "Train score = 1.0\nTest score = 0.0\n"
     ]
    }
   ],
   "source": [
    "# SVM\n",
    "\n",
    "svr_poly = SVC(C=1000, kernel='rbf', gamma=10)\n",
    "svr_poly.fit(X_train, y_train)\n",
    "print('Train score =', svr_poly.score(X_train, y_train))\n",
    "print('Test score =', svr_poly.score(X_test, y_test))"
   ]
  },
  {
   "cell_type": "code",
   "execution_count": 18,
   "metadata": {},
   "outputs": [
    {
     "output_type": "stream",
     "name": "stdout",
     "text": [
      "Training data accuracy --> 0.013157894736842105\nTest data accuracy --> 0.0\n"
     ]
    }
   ],
   "source": [
    "# Logarithmic regression\n",
    "\n",
    "log_reg = LogisticRegression()\n",
    "log_reg.fit(X_train, y_train)\n",
    "print('Training data accuracy -->', log_reg.score(X_train, y_train))\n",
    "print('Test data accuracy -->', log_reg.score(X_test, y_test))"
   ]
  },
  {
   "cell_type": "code",
   "execution_count": 22,
   "metadata": {},
   "outputs": [
    {
     "output_type": "stream",
     "name": "stdout",
     "text": [
      "Training data accuracy --> 0.14473684210526316\nTest data accuracy --> 0.0\n"
     ]
    }
   ],
   "source": [
    "# Knn \n",
    "\n",
    "knn_mod = KNeighborsClassifier(n_neighbors=7)\n",
    "knn_mod.fit(X_train, y_train)\n",
    "print('Training data accuracy -->', knn_mod.score(X_train, y_train))\n",
    "print('Test data accuracy -->', knn_mod.score(X_test, y_test))"
   ]
  },
  {
   "source": [
    "Según los diferentes modelos de clasificación utilizados, parece que las columnas seleccionadas para clasificar los alimentos no es buena."
   ],
   "cell_type": "markdown",
   "metadata": {}
  },
  {
   "cell_type": "code",
   "execution_count": null,
   "metadata": {},
   "outputs": [],
   "source": []
  }
 ]
}