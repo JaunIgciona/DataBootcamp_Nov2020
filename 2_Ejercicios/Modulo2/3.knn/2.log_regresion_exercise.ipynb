{
 "metadata": {
  "language_info": {
   "codemirror_mode": {
    "name": "ipython",
    "version": 3
   },
   "file_extension": ".py",
   "mimetype": "text/x-python",
   "name": "python",
   "nbconvert_exporter": "python",
   "pygments_lexer": "ipython3",
   "version": "3.9.0-final"
  },
  "orig_nbformat": 2,
  "kernelspec": {
   "name": "python3",
   "display_name": "Python 3.9.0 64-bit",
   "metadata": {
    "interpreter": {
     "hash": "cf85b414d3663472de89104473c842eaab37d7b845999caf56a47ccda76ea2f8"
    }
   }
  }
 },
 "nbformat": 4,
 "nbformat_minor": 2,
 "cells": [
  {
   "cell_type": "markdown",
   "metadata": {},
   "source": [
    "1. \n",
    "\n",
    "(X_train=80%)\n",
    "(X_test=20%)\n",
    "\n",
    "A partir del archivo \"iris.csv\" que se corresponde con datos relacionados con tres tipos de plantas (el target es el tipo de planta):\n",
    "\n",
    "- Mediante regresión logística, predice qué planta se corresponde con los ejemplos: [[15.7,2.8,9.5,0.1]] y [[1.7,3.8,4.5,11.3]]\n",
    "- ¿Qué acierto tiene tu modelo? (score)\n",
    "- Utiliza un conjunto de test con el 40% de los datos: ¿cambian los resultados anteriores? ¿por qué?\n",
    "- Elimina la clase \"Virginica\" de tus datos. Repite el proceso anterior, ¿cambian los resultados?\n",
    "- ¿Consideras la regresión logística un buen algoritmo para estos datos? ¿por qué?"
   ]
  },
  {
   "cell_type": "code",
   "execution_count": 4,
   "metadata": {},
   "outputs": [],
   "source": [
    "import pandas as pd\n",
    "import numpy as np\n",
    "from sklearn.model_selection import train_test_split\n",
    "from sklearn.linear_model import LogisticRegression\n",
    "import matplotlib.pyplot as plt\n",
    "from sklearn import metrics"
   ]
  },
  {
   "cell_type": "code",
   "execution_count": 5,
   "metadata": {},
   "outputs": [
    {
     "output_type": "execute_result",
     "data": {
      "text/plain": [
       "   sepal.length  sepal.width  petal.length  petal.width variety\n",
       "0           5.1          3.5           1.4          0.2  Setosa\n",
       "1           4.9          3.0           1.4          0.2  Setosa\n",
       "2           4.7          3.2           1.3          0.2  Setosa\n",
       "3           4.6          3.1           1.5          0.2  Setosa\n",
       "4           5.0          3.6           1.4          0.2  Setosa"
      ],
      "text/html": "<div>\n<style scoped>\n    .dataframe tbody tr th:only-of-type {\n        vertical-align: middle;\n    }\n\n    .dataframe tbody tr th {\n        vertical-align: top;\n    }\n\n    .dataframe thead th {\n        text-align: right;\n    }\n</style>\n<table border=\"1\" class=\"dataframe\">\n  <thead>\n    <tr style=\"text-align: right;\">\n      <th></th>\n      <th>sepal.length</th>\n      <th>sepal.width</th>\n      <th>petal.length</th>\n      <th>petal.width</th>\n      <th>variety</th>\n    </tr>\n  </thead>\n  <tbody>\n    <tr>\n      <th>0</th>\n      <td>5.1</td>\n      <td>3.5</td>\n      <td>1.4</td>\n      <td>0.2</td>\n      <td>Setosa</td>\n    </tr>\n    <tr>\n      <th>1</th>\n      <td>4.9</td>\n      <td>3.0</td>\n      <td>1.4</td>\n      <td>0.2</td>\n      <td>Setosa</td>\n    </tr>\n    <tr>\n      <th>2</th>\n      <td>4.7</td>\n      <td>3.2</td>\n      <td>1.3</td>\n      <td>0.2</td>\n      <td>Setosa</td>\n    </tr>\n    <tr>\n      <th>3</th>\n      <td>4.6</td>\n      <td>3.1</td>\n      <td>1.5</td>\n      <td>0.2</td>\n      <td>Setosa</td>\n    </tr>\n    <tr>\n      <th>4</th>\n      <td>5.0</td>\n      <td>3.6</td>\n      <td>1.4</td>\n      <td>0.2</td>\n      <td>Setosa</td>\n    </tr>\n  </tbody>\n</table>\n</div>"
     },
     "metadata": {},
     "execution_count": 5
    }
   ],
   "source": [
    "# Import data\n",
    "\n",
    "iris_df = pd.read_csv('data/iris.csv')\n",
    "iris_df.head()"
   ]
  },
  {
   "cell_type": "code",
   "execution_count": 6,
   "metadata": {},
   "outputs": [],
   "source": [
    "# Separate features and target\n",
    "\n",
    "X = iris_df.iloc[:,:4].values\n",
    "y = iris_df.iloc[:,-1].values.reshape(-1,1)"
   ]
  },
  {
   "cell_type": "code",
   "execution_count": 7,
   "metadata": {},
   "outputs": [],
   "source": [
    "# Split training and test data\n",
    "\n",
    "X_train, X_test, y_train, y_test = train_test_split(X, y, test_size=0.2, random_state=1)"
   ]
  },
  {
   "cell_type": "code",
   "execution_count": 8,
   "metadata": {},
   "outputs": [
    {
     "output_type": "execute_result",
     "data": {
      "text/plain": [
       "LogisticRegression()"
      ]
     },
     "metadata": {},
     "execution_count": 8
    }
   ],
   "source": [
    "# Build and fit models\n",
    "\n",
    "log_reg = LogisticRegression()\n",
    "log_reg.fit(X_train, y_train)"
   ]
  },
  {
   "cell_type": "code",
   "execution_count": 9,
   "metadata": {},
   "outputs": [
    {
     "output_type": "stream",
     "name": "stdout",
     "text": [
      "--  Plant 1  --\nLog_reg prediction = ['Virginica']\n-----------\n--  Plant 2  --\nLog_reg prediction = ['Virginica']\n"
     ]
    }
   ],
   "source": [
    "# Predict plant type\n",
    "\n",
    "plant1 = np.array([15.7,2.8,9.5,0.1]).reshape(1, 4)\n",
    "plant2 = np.array([1.7,3.8,4.5,11.3]).reshape(1,4)\n",
    "\n",
    "print('--  Plant 1  --')\n",
    "print('Log_reg prediction =', log_reg.predict(plant1))\n",
    "print('-----------')\n",
    "print('--  Plant 2  --')\n",
    "print('Log_reg prediction =', log_reg.predict(plant2))"
   ]
  },
  {
   "cell_type": "code",
   "execution_count": 10,
   "metadata": {},
   "outputs": [
    {
     "output_type": "stream",
     "name": "stdout",
     "text": [
      "--  Logistic Regression  --\nTraining data accuracy --> 0.9833333333333333\nTest data accuracy --> 0.9666666666666667\n"
     ]
    }
   ],
   "source": [
    "# Check scores for both models\n",
    "\n",
    "print('--  Logistic Regression  --')\n",
    "print('Training data accuracy -->', log_reg.score(X_train, y_train))\n",
    "print('Test data accuracy -->', log_reg.score(X_test, y_test))"
   ]
  },
  {
   "cell_type": "code",
   "execution_count": 11,
   "metadata": {},
   "outputs": [
    {
     "output_type": "stream",
     "name": "stdout",
     "text": [
      "--  Logistic Regression  --\nTraining data accuracy --> 0.9777777777777777\nTest data accuracy --> 0.9666666666666667\n"
     ]
    }
   ],
   "source": [
    "# Checking results for test sample as 40% of all data\n",
    "\n",
    "X_train, X_test, y_train, y_test = train_test_split(X, y, test_size=0.4, random_state=1)\n",
    "\n",
    "log_reg_40 = LogisticRegression()\n",
    "log_reg_40.fit(X_train, y_train)\n",
    "\n",
    "print('--  Logistic Regression  --')\n",
    "print('Training data accuracy -->', log_reg_40.score(X_train, y_train))\n",
    "print('Test data accuracy -->', log_reg_40.score(X_test, y_test))"
   ]
  },
  {
   "source": [
    "The accuracy for the training set has decreased getting closer to the test sample accuracy, which has kept the same. This could mean that the model has reduced overfitting, which can be a good thig in terms of generalising the model."
   ],
   "cell_type": "markdown",
   "metadata": {}
  },
  {
   "cell_type": "code",
   "execution_count": 12,
   "metadata": {},
   "outputs": [
    {
     "output_type": "stream",
     "name": "stdout",
     "text": [
      "--  Logistic Regression  --\nTraining data accuracy --> 0.9833333333333333\nTest data accuracy --> 0.875\n"
     ]
    }
   ],
   "source": [
    "# Results without Virginica\n",
    "\n",
    "iris_df_set = iris_df[iris_df['variety'] != 'Setosa']\n",
    "\n",
    "X = iris_df_set.iloc[:,:4].values\n",
    "y = iris_df_set.iloc[:,-1].values.reshape(-1,1)\n",
    "\n",
    "X_train, X_test, y_train, y_test = train_test_split(X, y, test_size=0.4, random_state=1)\n",
    "\n",
    "log_reg_40 = LogisticRegression()\n",
    "log_reg_40.fit(X_train, y_train)\n",
    "\n",
    "print('--  Logistic Regression  --')\n",
    "print('Training data accuracy -->', log_reg_40.score(X_train, y_train))\n",
    "print('Test data accuracy -->', log_reg_40.score(X_test, y_test))"
   ]
  },
  {
   "source": [
    "The training accuracy rose whilst the test accuracy fell- suggests overfitting of the model."
   ],
   "cell_type": "markdown",
   "metadata": {}
  },
  {
   "source": [
    "#### Is Logistic regression a good model for this data?"
   ],
   "cell_type": "markdown",
   "metadata": {}
  },
  {
   "source": [
    "Logistic regression has thrown really high scores for accuracy when predicting flower type for this data. This seems to be enough proof to think that Logistic regression makes for a good model for this data."
   ],
   "cell_type": "markdown",
   "metadata": {}
  },
  {
   "cell_type": "code",
   "execution_count": null,
   "metadata": {},
   "outputs": [],
   "source": []
  }
 ]
}