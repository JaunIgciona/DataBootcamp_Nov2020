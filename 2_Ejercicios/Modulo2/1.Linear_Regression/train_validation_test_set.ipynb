{
 "metadata": {
  "language_info": {
   "codemirror_mode": {
    "name": "ipython",
    "version": 3
   },
   "file_extension": ".py",
   "mimetype": "text/x-python",
   "name": "python",
   "nbconvert_exporter": "python",
   "pygments_lexer": "ipython3",
   "version": "3.9.0-final"
  },
  "orig_nbformat": 2,
  "kernelspec": {
   "name": "python3",
   "display_name": "Python 3.9.0 64-bit",
   "metadata": {
    "interpreter": {
     "hash": "cf85b414d3663472de89104473c842eaab37d7b845999caf56a47ccda76ea2f8"
    }
   }
  }
 },
 "nbformat": 4,
 "nbformat_minor": 2,
 "cells": [
  {
   "cell_type": "markdown",
   "metadata": {},
   "source": [
    "### 1. \n",
    "\n",
    "Crear una función que reciba cuatro parámetros: una lista 'L', un número 'T', un número 'V' y un booleano 'S'. La función debe devolver otras dos listas: \"lista_train_val\" y \"lista_test\".\n",
    "\n",
    "- \"lista_train_val\" es una lista con dos elementos. Cada elemento es una lista: \"list_train\", que representa el conjunto de entrenamiento y \"list_val\", que representa el conjunto de validación. \n",
    "- \"list_test\" es el conjunto de test. Como mínimo ha de tener 1 elemento (si 'L' > 1).\n",
    "- \"L\" es cualquier lista de elementos. Al principio, entra con un tamaño completo (100%). Esta es la lista que se partirá y se generarán los conjuntos entrenamiento, de validación y de test.\n",
    "- \"T\" es un número entre 1 y 100 que va a representar el tamaño, en porcentaje, del conjunto de test \"list_test\". \n",
    "- \"V\" es un número entre 0 y 100 que va a representar el tamaño, en porcentaje, del conjunto de validación \"list_val\". Su valor por defecto es 0.\n",
    "- \"S\", que por defecto es False, determinará si los conjuntos \"list_train\", \"list_test\" y \"list_val\" están aleatoriamente ordenados. ¿Encuentras alguna posible incoherencia si se reordenan aleatoriamente?\n",
    "\n",
    "Prueba la función con una lista de 100 elementos números aleatorios del 0 al 100. \n",
    "\n",
    "### 2. \n",
    "\n",
    "Rehacer el ejercicio anterior en otra función para que no devuelva dos listas, sino los tres conjuntos: \n",
    "\n",
    "--> return list_train, list_val, list_test "
   ]
  },
  {
   "cell_type": "code",
   "execution_count": 15,
   "metadata": {},
   "outputs": [],
   "source": [
    "import random"
   ]
  },
  {
   "cell_type": "code",
   "execution_count": 63,
   "metadata": {},
   "outputs": [],
   "source": [
    "def train_test_lists(L:list, T:int, V:int = 0, S:bool = False):\n",
    "    lista_train_val = []\n",
    "    list_test = []\n",
    "    long_train = int(len(L) - ((len(L) * T) /100))\n",
    "    if long_train < 1:\n",
    "        long_train = 1\n",
    "    if S:\n",
    "        rand_samp = random.sample(range(0, len(L)), long_train)\n",
    "        train_sample = [L[x] for x in rand_samp]\n",
    "        test_index = set(range(len(L))) - set(rand_samp)\n",
    "        list_test = [L[x] for x in test_index]\n",
    "        long_val = int(len(train_sample) - (len(train_sample) * V /100))\n",
    "        list_train = train_sample[:long_val]\n",
    "        list_val = train_sample[long_val:]\n",
    "    else:\n",
    "        train_sample = L[:long_train]\n",
    "        list_test = L[long_train:]\n",
    "        long_val = int(len(train_sample) - (len(train_sample) * V /100))\n",
    "        list_train = train_sample[:long_val]\n",
    "        list_val = train_sample[long_val:]\n",
    "    lista_train_val.append(list_train)\n",
    "    lista_train_val.append(list_val)\n",
    "\n",
    "    return lista_train_val, list_test"
   ]
  },
  {
   "source": [
    "Si se reordenan las listas independientemente de la variable independiente los elementos de la independiente no coincidirán con los correspondientes del target"
   ],
   "cell_type": "markdown",
   "metadata": {}
  },
  {
   "cell_type": "code",
   "execution_count": 70,
   "metadata": {},
   "outputs": [
    {
     "output_type": "execute_result",
     "data": {
      "text/plain": [
       "[49, 37, 7, 71, 65, 44, 48, 93, 75, 46, 43, 25, 31, 6, 72, 61, 95, 22, 68, 52]"
      ]
     },
     "metadata": {},
     "execution_count": 70
    }
   ],
   "source": [
    "x = random.sample(range(0, 100), 20)\n",
    "x"
   ]
  },
  {
   "cell_type": "code",
   "execution_count": 71,
   "metadata": {},
   "outputs": [
    {
     "output_type": "stream",
     "name": "stdout",
     "text": [
      "[[68, 46, 48, 31, 7, 75, 37, 72, 71, 93, 95, 61, 43, 6], [52, 25]] train len --> 14 \n, val len --> 2\n[49, 22, 65, 44] test len --> 4\n"
     ]
    }
   ],
   "source": [
    "train_val, test = train_test_lists(L=x, T=20, V=10, S=True)\n",
    "print(train_val, 'train len -->', len(train_val[0]), '\\n,', 'val len -->', len(train_val[1]))\n",
    "print(test, 'test len -->', len(test))"
   ]
  },
  {
   "cell_type": "code",
   "execution_count": 72,
   "metadata": {},
   "outputs": [
    {
     "output_type": "stream",
     "name": "stdout",
     "text": [
      "[[49, 37, 7, 71, 65, 44, 48, 93, 75, 46, 43, 25, 31, 6], [72, 61]] train len --> 14 \n, val len --> 2\n[95, 22, 68, 52] test len --> 4\n"
     ]
    }
   ],
   "source": [
    "train_val, test = train_test_lists(L=x, T=20, V=10)\n",
    "print(train_val, 'train len -->', len(train_val[0]), '\\n,', 'val len -->', len(train_val[1]))\n",
    "print(test, 'test len -->', len(test))"
   ]
  },
  {
   "cell_type": "code",
   "execution_count": 76,
   "metadata": {},
   "outputs": [],
   "source": [
    "def train_test_val_lists(L:list, T:int, V:int = 0, S:bool = False)\n",
    "    list_test = []\n",
    "    long_train = int(len(L) - ((len(L) * T) /100))\n",
    "    if long_train < 1:\n",
    "        long_train = 1\n",
    "    if S:\n",
    "        rand_samp = random.sample(range(0, len(L)), long_train)\n",
    "        train_sample = [L[x] for x in rand_samp]\n",
    "        test_index = set(range(len(L))) - set(rand_samp)\n",
    "        list_test = [L[x] for x in test_index]\n",
    "        long_val = int(len(train_sample) - (len(train_sample) * V /100))\n",
    "        list_train = train_sample[:long_val]\n",
    "        list_val = train_sample[long_val:]\n",
    "    else:\n",
    "        train_sample = L[:long_train]\n",
    "        list_test = L[long_train:]\n",
    "        long_val = int(len(train_sample) - (len(train_sample) * V /100))\n",
    "        list_train = train_sample[:long_val]\n",
    "        list_val = train_sample[long_val:]\n",
    "    \n",
    "    return list_train, list_test, list_val"
   ]
  },
  {
   "cell_type": "code",
   "execution_count": 79,
   "metadata": {},
   "outputs": [
    {
     "output_type": "stream",
     "name": "stdout",
     "text": [
      "[71, 31, 44, 75, 48, 37, 7, 52, 72, 43, 6, 68, 93, 95] train len --> 14\n[61, 25] val len --> 2\n[49, 46, 65, 22] test len --> 4\n"
     ]
    }
   ],
   "source": [
    "train, test, val = train_test_val_lists(L=x, T=20, V=10, S=True)\n",
    "print(train, 'train len -->', len(train))\n",
    "print(val, 'val len -->', len(val))\n",
    "print(test, 'test len -->', len(test))"
   ]
  },
  {
   "cell_type": "code",
   "execution_count": 80,
   "metadata": {},
   "outputs": [
    {
     "output_type": "stream",
     "name": "stdout",
     "text": [
      "[49, 37, 7, 71, 65, 44, 48, 93, 75, 46, 43, 25, 31, 6] train len --> 14\n[72, 61] val len --> 2\n[95, 22, 68, 52] test len --> 4\n"
     ]
    }
   ],
   "source": [
    "train, test, val = train_test_val_lists(L=x, T=20, V=10)\n",
    "print(train, 'train len -->', len(train))\n",
    "print(val, 'val len -->', len(val))\n",
    "print(test, 'test len -->', len(test))"
   ]
  },
  {
   "cell_type": "code",
   "execution_count": null,
   "metadata": {},
   "outputs": [],
   "source": []
  }
 ]
}