{
 "metadata": {
  "language_info": {
   "codemirror_mode": {
    "name": "ipython",
    "version": 3
   },
   "file_extension": ".py",
   "mimetype": "text/x-python",
   "name": "python",
   "nbconvert_exporter": "python",
   "pygments_lexer": "ipython3",
   "version": "3.9.0-final"
  },
  "orig_nbformat": 2,
  "kernelspec": {
   "name": "python3",
   "display_name": "Python 3.9.0 64-bit",
   "metadata": {
    "interpreter": {
     "hash": "cf85b414d3663472de89104473c842eaab37d7b845999caf56a47ccda76ea2f8"
    }
   }
  }
 },
 "nbformat": 4,
 "nbformat_minor": 2,
 "cells": [
  {
   "cell_type": "markdown",
   "metadata": {},
   "source": [
    "### 1. \n",
    "\n",
    "En el archivo \"logistic_regression_digits\" hemos visto un ejemplo multiclase. Elimina todas las imágenes y etiqueta (label) cuyo valor del label no sea 1 o 9. Es decir, elimina todos los dígitos y quédate solo con los dígitos 1 y 9.\n",
    "\n",
    "Ahora, realiza un entrenamiento con logistic regression con los nuevos datos:\n",
    "\n",
    "- ¿Se mejora la precisión del algoritmo con dos clases? ¿por qué?\n",
    "\n",
    "LogisticRegression() es una clase que tiene varios parámetros de entrada. Investiga (modifica, prueba) los argumentos y comenta si modificando algunas de ellas se mejora el porcentaje de acierto del problema.\n",
    "\n",
    "https://scikit-learn.org/stable/modules/generated/sklearn.linear_model.LogisticRegression.html"
   ]
  },
  {
   "cell_type": "code",
   "execution_count": 1,
   "metadata": {},
   "outputs": [],
   "source": [
    "import pandas as pd\n",
    "import numpy as np\n",
    "from sklearn.datasets import load_digits\n",
    "from sklearn.linear_model import LogisticRegression\n",
    "from sklearn import model_selection\n",
    "from sklearn import metrics\n",
    "import matplotlib.pyplot as plt\n",
    "import seaborn as sns"
   ]
  },
  {
   "cell_type": "code",
   "execution_count": 2,
   "metadata": {},
   "outputs": [],
   "source": [
    "# Loading data\n",
    "digits = load_digits() "
   ]
  },
  {
   "cell_type": "code",
   "execution_count": 3,
   "metadata": {},
   "outputs": [
    {
     "output_type": "execute_result",
     "data": {
      "text/plain": [
       "    0    1    2     3     4     5    6    7    8    9   ...   55   56   57  \\\n",
       "0  0.0  0.0  5.0  13.0   9.0   1.0  0.0  0.0  0.0  0.0  ...  0.0  0.0  0.0   \n",
       "1  0.0  0.0  0.0  12.0  13.0   5.0  0.0  0.0  0.0  0.0  ...  0.0  0.0  0.0   \n",
       "2  0.0  0.0  0.0   4.0  15.0  12.0  0.0  0.0  0.0  0.0  ...  0.0  0.0  0.0   \n",
       "3  0.0  0.0  7.0  15.0  13.0   1.0  0.0  0.0  0.0  8.0  ...  0.0  0.0  0.0   \n",
       "4  0.0  0.0  0.0   1.0  11.0   0.0  0.0  0.0  0.0  0.0  ...  0.0  0.0  0.0   \n",
       "\n",
       "    58    59    60    61   62   63   64  \n",
       "0  6.0  13.0  10.0   0.0  0.0  0.0  0.0  \n",
       "1  0.0  11.0  16.0  10.0  0.0  0.0  1.0  \n",
       "2  0.0   3.0  11.0  16.0  9.0  0.0  2.0  \n",
       "3  7.0  13.0  13.0   9.0  0.0  0.0  3.0  \n",
       "4  0.0   2.0  16.0   4.0  0.0  0.0  4.0  \n",
       "\n",
       "[5 rows x 65 columns]"
      ],
      "text/html": "<div>\n<style scoped>\n    .dataframe tbody tr th:only-of-type {\n        vertical-align: middle;\n    }\n\n    .dataframe tbody tr th {\n        vertical-align: top;\n    }\n\n    .dataframe thead th {\n        text-align: right;\n    }\n</style>\n<table border=\"1\" class=\"dataframe\">\n  <thead>\n    <tr style=\"text-align: right;\">\n      <th></th>\n      <th>0</th>\n      <th>1</th>\n      <th>2</th>\n      <th>3</th>\n      <th>4</th>\n      <th>5</th>\n      <th>6</th>\n      <th>7</th>\n      <th>8</th>\n      <th>9</th>\n      <th>...</th>\n      <th>55</th>\n      <th>56</th>\n      <th>57</th>\n      <th>58</th>\n      <th>59</th>\n      <th>60</th>\n      <th>61</th>\n      <th>62</th>\n      <th>63</th>\n      <th>64</th>\n    </tr>\n  </thead>\n  <tbody>\n    <tr>\n      <th>0</th>\n      <td>0.0</td>\n      <td>0.0</td>\n      <td>5.0</td>\n      <td>13.0</td>\n      <td>9.0</td>\n      <td>1.0</td>\n      <td>0.0</td>\n      <td>0.0</td>\n      <td>0.0</td>\n      <td>0.0</td>\n      <td>...</td>\n      <td>0.0</td>\n      <td>0.0</td>\n      <td>0.0</td>\n      <td>6.0</td>\n      <td>13.0</td>\n      <td>10.0</td>\n      <td>0.0</td>\n      <td>0.0</td>\n      <td>0.0</td>\n      <td>0.0</td>\n    </tr>\n    <tr>\n      <th>1</th>\n      <td>0.0</td>\n      <td>0.0</td>\n      <td>0.0</td>\n      <td>12.0</td>\n      <td>13.0</td>\n      <td>5.0</td>\n      <td>0.0</td>\n      <td>0.0</td>\n      <td>0.0</td>\n      <td>0.0</td>\n      <td>...</td>\n      <td>0.0</td>\n      <td>0.0</td>\n      <td>0.0</td>\n      <td>0.0</td>\n      <td>11.0</td>\n      <td>16.0</td>\n      <td>10.0</td>\n      <td>0.0</td>\n      <td>0.0</td>\n      <td>1.0</td>\n    </tr>\n    <tr>\n      <th>2</th>\n      <td>0.0</td>\n      <td>0.0</td>\n      <td>0.0</td>\n      <td>4.0</td>\n      <td>15.0</td>\n      <td>12.0</td>\n      <td>0.0</td>\n      <td>0.0</td>\n      <td>0.0</td>\n      <td>0.0</td>\n      <td>...</td>\n      <td>0.0</td>\n      <td>0.0</td>\n      <td>0.0</td>\n      <td>0.0</td>\n      <td>3.0</td>\n      <td>11.0</td>\n      <td>16.0</td>\n      <td>9.0</td>\n      <td>0.0</td>\n      <td>2.0</td>\n    </tr>\n    <tr>\n      <th>3</th>\n      <td>0.0</td>\n      <td>0.0</td>\n      <td>7.0</td>\n      <td>15.0</td>\n      <td>13.0</td>\n      <td>1.0</td>\n      <td>0.0</td>\n      <td>0.0</td>\n      <td>0.0</td>\n      <td>8.0</td>\n      <td>...</td>\n      <td>0.0</td>\n      <td>0.0</td>\n      <td>0.0</td>\n      <td>7.0</td>\n      <td>13.0</td>\n      <td>13.0</td>\n      <td>9.0</td>\n      <td>0.0</td>\n      <td>0.0</td>\n      <td>3.0</td>\n    </tr>\n    <tr>\n      <th>4</th>\n      <td>0.0</td>\n      <td>0.0</td>\n      <td>0.0</td>\n      <td>1.0</td>\n      <td>11.0</td>\n      <td>0.0</td>\n      <td>0.0</td>\n      <td>0.0</td>\n      <td>0.0</td>\n      <td>0.0</td>\n      <td>...</td>\n      <td>0.0</td>\n      <td>0.0</td>\n      <td>0.0</td>\n      <td>0.0</td>\n      <td>2.0</td>\n      <td>16.0</td>\n      <td>4.0</td>\n      <td>0.0</td>\n      <td>0.0</td>\n      <td>4.0</td>\n    </tr>\n  </tbody>\n</table>\n<p>5 rows × 65 columns</p>\n</div>"
     },
     "metadata": {},
     "execution_count": 3
    }
   ],
   "source": [
    "# Extracting to use data\n",
    "df = pd.DataFrame(data= np.c_[digits['data'], digits['target']])\n",
    "df.head()"
   ]
  },
  {
   "cell_type": "code",
   "execution_count": 17,
   "metadata": {},
   "outputs": [
    {
     "output_type": "execute_result",
     "data": {
      "text/plain": [
       "     0    1     2     3     4     5    6    7    8    9   ...   55   56   57  \\\n",
       "1   0.0  0.0   0.0  12.0  13.0   5.0  0.0  0.0  0.0  0.0  ...  0.0  0.0  0.0   \n",
       "9   0.0  0.0  11.0  12.0   0.0   0.0  0.0  0.0  0.0  2.0  ...  0.0  0.0  0.0   \n",
       "11  0.0  0.0   0.0   0.0  14.0  13.0  1.0  0.0  0.0  0.0  ...  0.0  0.0  0.0   \n",
       "19  0.0  0.0   6.0  14.0   4.0   0.0  0.0  0.0  0.0  0.0  ...  2.0  0.0  0.0   \n",
       "21  0.0  0.0   0.0   2.0  16.0  16.0  2.0  0.0  0.0  0.0  ...  0.0  0.0  0.0   \n",
       "\n",
       "     58    59    60    61    62   63   64  \n",
       "1   0.0  11.0  16.0  10.0   0.0  0.0  1.0  \n",
       "9   9.0  12.0  13.0   3.0   0.0  0.0  9.0  \n",
       "11  0.0   1.0  13.0  16.0   1.0  0.0  1.0  \n",
       "19  7.0  16.0  16.0  13.0  11.0  1.0  9.0  \n",
       "21  0.0   2.0  12.0  15.0   4.0  0.0  1.0  \n",
       "\n",
       "[5 rows x 65 columns]"
      ],
      "text/html": "<div>\n<style scoped>\n    .dataframe tbody tr th:only-of-type {\n        vertical-align: middle;\n    }\n\n    .dataframe tbody tr th {\n        vertical-align: top;\n    }\n\n    .dataframe thead th {\n        text-align: right;\n    }\n</style>\n<table border=\"1\" class=\"dataframe\">\n  <thead>\n    <tr style=\"text-align: right;\">\n      <th></th>\n      <th>0</th>\n      <th>1</th>\n      <th>2</th>\n      <th>3</th>\n      <th>4</th>\n      <th>5</th>\n      <th>6</th>\n      <th>7</th>\n      <th>8</th>\n      <th>9</th>\n      <th>...</th>\n      <th>55</th>\n      <th>56</th>\n      <th>57</th>\n      <th>58</th>\n      <th>59</th>\n      <th>60</th>\n      <th>61</th>\n      <th>62</th>\n      <th>63</th>\n      <th>64</th>\n    </tr>\n  </thead>\n  <tbody>\n    <tr>\n      <th>1</th>\n      <td>0.0</td>\n      <td>0.0</td>\n      <td>0.0</td>\n      <td>12.0</td>\n      <td>13.0</td>\n      <td>5.0</td>\n      <td>0.0</td>\n      <td>0.0</td>\n      <td>0.0</td>\n      <td>0.0</td>\n      <td>...</td>\n      <td>0.0</td>\n      <td>0.0</td>\n      <td>0.0</td>\n      <td>0.0</td>\n      <td>11.0</td>\n      <td>16.0</td>\n      <td>10.0</td>\n      <td>0.0</td>\n      <td>0.0</td>\n      <td>1.0</td>\n    </tr>\n    <tr>\n      <th>9</th>\n      <td>0.0</td>\n      <td>0.0</td>\n      <td>11.0</td>\n      <td>12.0</td>\n      <td>0.0</td>\n      <td>0.0</td>\n      <td>0.0</td>\n      <td>0.0</td>\n      <td>0.0</td>\n      <td>2.0</td>\n      <td>...</td>\n      <td>0.0</td>\n      <td>0.0</td>\n      <td>0.0</td>\n      <td>9.0</td>\n      <td>12.0</td>\n      <td>13.0</td>\n      <td>3.0</td>\n      <td>0.0</td>\n      <td>0.0</td>\n      <td>9.0</td>\n    </tr>\n    <tr>\n      <th>11</th>\n      <td>0.0</td>\n      <td>0.0</td>\n      <td>0.0</td>\n      <td>0.0</td>\n      <td>14.0</td>\n      <td>13.0</td>\n      <td>1.0</td>\n      <td>0.0</td>\n      <td>0.0</td>\n      <td>0.0</td>\n      <td>...</td>\n      <td>0.0</td>\n      <td>0.0</td>\n      <td>0.0</td>\n      <td>0.0</td>\n      <td>1.0</td>\n      <td>13.0</td>\n      <td>16.0</td>\n      <td>1.0</td>\n      <td>0.0</td>\n      <td>1.0</td>\n    </tr>\n    <tr>\n      <th>19</th>\n      <td>0.0</td>\n      <td>0.0</td>\n      <td>6.0</td>\n      <td>14.0</td>\n      <td>4.0</td>\n      <td>0.0</td>\n      <td>0.0</td>\n      <td>0.0</td>\n      <td>0.0</td>\n      <td>0.0</td>\n      <td>...</td>\n      <td>2.0</td>\n      <td>0.0</td>\n      <td>0.0</td>\n      <td>7.0</td>\n      <td>16.0</td>\n      <td>16.0</td>\n      <td>13.0</td>\n      <td>11.0</td>\n      <td>1.0</td>\n      <td>9.0</td>\n    </tr>\n    <tr>\n      <th>21</th>\n      <td>0.0</td>\n      <td>0.0</td>\n      <td>0.0</td>\n      <td>2.0</td>\n      <td>16.0</td>\n      <td>16.0</td>\n      <td>2.0</td>\n      <td>0.0</td>\n      <td>0.0</td>\n      <td>0.0</td>\n      <td>...</td>\n      <td>0.0</td>\n      <td>0.0</td>\n      <td>0.0</td>\n      <td>0.0</td>\n      <td>2.0</td>\n      <td>12.0</td>\n      <td>15.0</td>\n      <td>4.0</td>\n      <td>0.0</td>\n      <td>1.0</td>\n    </tr>\n  </tbody>\n</table>\n<p>5 rows × 65 columns</p>\n</div>"
     },
     "metadata": {},
     "execution_count": 17
    }
   ],
   "source": [
    "# Filtering dataset\n",
    "\n",
    "n_df = df[(df[64] == 1) | (df[64] == 9)]\n",
    "n_df.head()"
   ]
  },
  {
   "cell_type": "code",
   "execution_count": 22,
   "metadata": {},
   "outputs": [],
   "source": [
    "# Separating input data from target\n",
    "\n",
    "X = n_df.iloc[:, :64].values\n",
    "y = n_df[64].values.reshape(-1,1)"
   ]
  },
  {
   "cell_type": "code",
   "execution_count": 25,
   "metadata": {},
   "outputs": [],
   "source": [
    "# Separating training data from test data\n",
    "\n",
    "X_train, X_test, y_train, y_test = model_selection.train_test_split(X, y, test_size=0.15, random_state=0)"
   ]
  },
  {
   "cell_type": "code",
   "execution_count": 30,
   "metadata": {},
   "outputs": [
    {
     "output_type": "execute_result",
     "data": {
      "text/plain": [
       "LogisticRegression(random_state=1)"
      ]
     },
     "metadata": {},
     "execution_count": 30
    }
   ],
   "source": [
    "# Creating model instance and trainning it\n",
    "\n",
    "log_reg = LogisticRegression(random_state=1)\n",
    "log_reg.fit(X_train, y_train)"
   ]
  },
  {
   "cell_type": "code",
   "execution_count": 31,
   "metadata": {},
   "outputs": [
    {
     "output_type": "stream",
     "name": "stdout",
     "text": [
      "Training accuracy --> 1.0\nTest accuracy --> 1.0\n"
     ]
    }
   ],
   "source": [
    "# Checking models accuracy\n",
    "\n",
    "print('Training accuracy -->', log_reg.score(X_train, y_train))\n",
    "print('Test accuracy -->', log_reg.score(X_test, y_test))"
   ]
  },
  {
   "cell_type": "code",
   "execution_count": 32,
   "metadata": {},
   "outputs": [
    {
     "output_type": "stream",
     "name": "stdout",
     "text": [
      "Training accuracy --> 1.0\nTest accuracy --> 0.9703703703703703\n"
     ]
    }
   ],
   "source": [
    "# Checking accuracy for all data\n",
    "\n",
    "X_2 = df.iloc[:, :64].values\n",
    "y_2 = df[64].values.reshape(-1,1)\n",
    "\n",
    "X_train2, X_test2, y_train2, y_test2 = model_selection.train_test_split(X_2, y_2, test_size=0.15, random_state=0)\n",
    "\n",
    "log_reg2 = LogisticRegression()\n",
    "log_reg2.fit(X_train2, y_train2)\n",
    "\n",
    "print('Training accuracy -->', log_reg2.score(X_train2, y_train2))\n",
    "print('Test accuracy -->', log_reg2.score(X_test2, y_test2))"
   ]
  },
  {
   "source": [
    "We can see how the models accuracy improved when removing values different from 1 and 9 from the target, although the accuracy values were already very high."
   ],
   "cell_type": "markdown",
   "metadata": {}
  },
  {
   "source": [
    "## Model Improvement"
   ],
   "cell_type": "markdown",
   "metadata": {}
  },
  {
   "source": [
    "### C value"
   ],
   "cell_type": "markdown",
   "metadata": {}
  },
  {
   "cell_type": "code",
   "execution_count": 34,
   "metadata": {},
   "outputs": [
    {
     "output_type": "stream",
     "name": "stdout",
     "text": [
      "The CA of C parameter 1e-05 is 0.9703703703703703:\n",
      "The CA of C parameter 3.359818286283781e-05 is 0.9703703703703703:\n",
      "The CA of C parameter 0.00011288378916846884 is 0.9703703703703703:\n",
      "The CA of C parameter 0.000379269019073225 is 0.9703703703703703:\n",
      "The CA of C parameter 0.0012742749857031334 is 0.9703703703703703:\n",
      "The CA of C parameter 0.004281332398719391 is 0.9703703703703703:\n",
      "The CA of C parameter 0.01438449888287663 is 0.9703703703703703:\n",
      "The CA of C parameter 0.04832930238571752 is 0.9703703703703703:\n",
      "The CA of C parameter 0.1623776739188721 is 0.9703703703703703:\n",
      "The CA of C parameter 0.5455594781168515 is 0.9703703703703703:\n",
      "The CA of C parameter 1.8329807108324339 is 0.9703703703703703:\n",
      "The CA of C parameter 6.1584821106602545 is 0.9703703703703703:\n",
      "The CA of C parameter 20.6913808111479 is 0.9703703703703703:\n",
      "The CA of C parameter 69.51927961775606 is 0.9703703703703703:\n",
      "The CA of C parameter 233.57214690901213 is 0.9703703703703703:\n",
      "The CA of C parameter 784.7599703514607 is 0.9703703703703703:\n",
      "The CA of C parameter 2636.6508987303555 is 0.9703703703703703:\n",
      "The CA of C parameter 8858.667904100832 is 0.9703703703703703:\n",
      "The CA of C parameter 29763.51441631313 is 0.9703703703703703:\n",
      "The CA of C parameter 100000.0 is 0.9703703703703703:\n"
     ]
    }
   ],
   "source": [
    "# Tunning para meter C of model\n",
    "\n",
    "# The values of C to search should be n-equally-spaced values in log space ranging from 1e-5 to 1e5\n",
    "C_List = np.geomspace(1e-5, 1e5, num=20)\n",
    "CA = []\n",
    "\n",
    "for c in C_List:\n",
    "    log_reg3 = LogisticRegression(random_state=1, C=c)\n",
    "    log_reg3.fit(X_train2, y_train2)\n",
    "    score = log_reg2.score(X_test2, y_test2)\n",
    "    CA.append(score)\n",
    "    print(\"The CA of C parameter {} is {}:\".format(c, score))"
   ]
  },
  {
   "cell_type": "code",
   "execution_count": 36,
   "metadata": {},
   "outputs": [
    {
     "output_type": "execute_result",
     "data": {
      "text/plain": [
       "         C_values      CA2\n",
       "0        0.000010  0.97037\n",
       "1        0.000034  0.97037\n",
       "2    29763.514416  0.97037\n",
       "3     8858.667904  0.97037\n",
       "4     2636.650899  0.97037\n",
       "5      784.759970  0.97037\n",
       "6      233.572147  0.97037\n",
       "7       69.519280  0.97037\n",
       "8       20.691381  0.97037\n",
       "9        6.158482  0.97037\n",
       "10       1.832981  0.97037\n",
       "11       0.545559  0.97037\n",
       "12       0.162378  0.97037\n",
       "13       0.048329  0.97037\n",
       "14       0.014384  0.97037\n",
       "15       0.004281  0.97037\n",
       "16       0.001274  0.97037\n",
       "17       0.000379  0.97037\n",
       "18       0.000113  0.97037\n",
       "19  100000.000000  0.97037"
      ],
      "text/html": "<div>\n<style scoped>\n    .dataframe tbody tr th:only-of-type {\n        vertical-align: middle;\n    }\n\n    .dataframe tbody tr th {\n        vertical-align: top;\n    }\n\n    .dataframe thead th {\n        text-align: right;\n    }\n</style>\n<table border=\"1\" class=\"dataframe\">\n  <thead>\n    <tr style=\"text-align: right;\">\n      <th></th>\n      <th>C_values</th>\n      <th>CA2</th>\n    </tr>\n  </thead>\n  <tbody>\n    <tr>\n      <th>0</th>\n      <td>0.000010</td>\n      <td>0.97037</td>\n    </tr>\n    <tr>\n      <th>1</th>\n      <td>0.000034</td>\n      <td>0.97037</td>\n    </tr>\n    <tr>\n      <th>2</th>\n      <td>29763.514416</td>\n      <td>0.97037</td>\n    </tr>\n    <tr>\n      <th>3</th>\n      <td>8858.667904</td>\n      <td>0.97037</td>\n    </tr>\n    <tr>\n      <th>4</th>\n      <td>2636.650899</td>\n      <td>0.97037</td>\n    </tr>\n    <tr>\n      <th>5</th>\n      <td>784.759970</td>\n      <td>0.97037</td>\n    </tr>\n    <tr>\n      <th>6</th>\n      <td>233.572147</td>\n      <td>0.97037</td>\n    </tr>\n    <tr>\n      <th>7</th>\n      <td>69.519280</td>\n      <td>0.97037</td>\n    </tr>\n    <tr>\n      <th>8</th>\n      <td>20.691381</td>\n      <td>0.97037</td>\n    </tr>\n    <tr>\n      <th>9</th>\n      <td>6.158482</td>\n      <td>0.97037</td>\n    </tr>\n    <tr>\n      <th>10</th>\n      <td>1.832981</td>\n      <td>0.97037</td>\n    </tr>\n    <tr>\n      <th>11</th>\n      <td>0.545559</td>\n      <td>0.97037</td>\n    </tr>\n    <tr>\n      <th>12</th>\n      <td>0.162378</td>\n      <td>0.97037</td>\n    </tr>\n    <tr>\n      <th>13</th>\n      <td>0.048329</td>\n      <td>0.97037</td>\n    </tr>\n    <tr>\n      <th>14</th>\n      <td>0.014384</td>\n      <td>0.97037</td>\n    </tr>\n    <tr>\n      <th>15</th>\n      <td>0.004281</td>\n      <td>0.97037</td>\n    </tr>\n    <tr>\n      <th>16</th>\n      <td>0.001274</td>\n      <td>0.97037</td>\n    </tr>\n    <tr>\n      <th>17</th>\n      <td>0.000379</td>\n      <td>0.97037</td>\n    </tr>\n    <tr>\n      <th>18</th>\n      <td>0.000113</td>\n      <td>0.97037</td>\n    </tr>\n    <tr>\n      <th>19</th>\n      <td>100000.000000</td>\n      <td>0.97037</td>\n    </tr>\n  </tbody>\n</table>\n</div>"
     },
     "metadata": {},
     "execution_count": 36
    }
   ],
   "source": [
    "# putting the outcomes in a Table\n",
    "\n",
    "# reshaping\n",
    "C_list2 = np.array(C_List).reshape(-1)\n",
    "CA2 = np.array(CA).reshape(-1)\n",
    "outcomes = zip(C_list2, CA2)\n",
    "\n",
    "#df\n",
    "df_outcomes = pd.DataFrame(outcomes, columns = [\"C_values\", 'CA2'])\n",
    "\n",
    "#print\n",
    "df_outcomes\n",
    "\n",
    "# Ordering the data (sort_values)\n",
    "df_outcomes.sort_values(\"CA2\", ascending = False).reset_index(drop=True)"
   ]
  },
  {
   "source": [
    "The accuracy is exactly the same for all C values"
   ],
   "cell_type": "markdown",
   "metadata": {}
  },
  {
   "source": [
    "### Solver"
   ],
   "cell_type": "markdown",
   "metadata": {}
  },
  {
   "cell_type": "code",
   "execution_count": 39,
   "metadata": {},
   "outputs": [
    {
     "output_type": "stream",
     "name": "stdout",
     "text": [
      "The CA of C parameter 100000.0 is 0.9703703703703703:\n",
      "The CA of C parameter 100000.0 is 0.9703703703703703:\n",
      "The CA of C parameter 100000.0 is 0.9703703703703703:\n",
      "The CA of C parameter 100000.0 is 0.9703703703703703:\n",
      "The CA of C parameter 100000.0 is 0.9703703703703703:\n"
     ]
    }
   ],
   "source": [
    "# Lets loop through all optimisation algorithms to search for the best outcome\n",
    "\n",
    "opt_alg_list = ['newton-cg', 'lbfgs', 'liblinear', 'sag', 'saga']\n",
    "CA = []\n",
    "\n",
    "for alg in opt_alg_list:\n",
    "    log_reg3 = LogisticRegression(random_state=1, solver=alg)\n",
    "    log_reg3.fit(X_train2, y_train2)\n",
    "    score = log_reg2.score(X_test2, y_test2)\n",
    "    CA.append(score)\n",
    "    print(\"The CA of C parameter {} is {}:\".format(c, score))"
   ]
  },
  {
   "source": [
    "All accuracy values are the same again"
   ],
   "cell_type": "markdown",
   "metadata": {}
  },
  {
   "cell_type": "code",
   "execution_count": null,
   "metadata": {},
   "outputs": [],
   "source": []
  }
 ]
}