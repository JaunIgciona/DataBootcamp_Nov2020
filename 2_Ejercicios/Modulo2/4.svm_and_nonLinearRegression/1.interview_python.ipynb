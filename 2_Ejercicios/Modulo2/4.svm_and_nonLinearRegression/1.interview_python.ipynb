{
 "metadata": {
  "language_info": {
   "codemirror_mode": {
    "name": "ipython",
    "version": 3
   },
   "file_extension": ".py",
   "mimetype": "text/x-python",
   "name": "python",
   "nbconvert_exporter": "python",
   "pygments_lexer": "ipython3",
   "version": "3.9.0-final"
  },
  "orig_nbformat": 2,
  "kernelspec": {
   "name": "python3",
   "display_name": "Python 3.9.0 64-bit",
   "metadata": {
    "interpreter": {
     "hash": "cf85b414d3663472de89104473c842eaab37d7b845999caf56a47ccda76ea2f8"
    }
   }
  }
 },
 "nbformat": 4,
 "nbformat_minor": 2,
 "cells": [
  {
   "cell_type": "markdown",
   "metadata": {},
   "source": [
    "Here's your coding interview problem for today.\n",
    "\n",
    "This problem was asked by Facebook.\n",
    "\n",
    "Given a string of round, curly, and square open and closing brackets, return whether the brackets are balanced (well-formed).\n",
    "\n",
    "For example, given the string \"([])[]({})\", you should return true.\n",
    "\n",
    "{}\n",
    "\n",
    "Given the string \"([)]\" or \"((()\", you should return false.\n",
    "\n",
    "\"()[]{}\", True"
   ]
  },
  {
   "cell_type": "code",
   "execution_count": null,
   "metadata": {},
   "outputs": [],
   "source": [
    "# ([{)}] False"
   ]
  },
  {
   "cell_type": "code",
   "execution_count": 45,
   "metadata": {},
   "outputs": [],
   "source": [
    "def brackets_vali(string: str):\n",
    "    opening = '([{'\n",
    "    closing = ')]}'\n",
    "    pairs_dict={')':'(', ']':'[', '}':'{'}\n",
    "    if string.count('(') != string.count(')'):\n",
    "        return False\n",
    "    if string.count('[') != string.count(']'):\n",
    "        return False\n",
    "    if string.count('{') != string.count('}'):\n",
    "        return False\n",
    "    else:\n",
    "        for i,char in enumerate(string):\n",
    "            if (char in closing) and (string[i-1] in opening):\n",
    "                if string[i-1] == pairs_dict[char]:\n",
    "                    continue\n",
    "                else:\n",
    "                    return False\n",
    "        return True"
   ]
  },
  {
   "cell_type": "code",
   "execution_count": 33,
   "metadata": {},
   "outputs": [],
   "source": [
    "def brackets_vali(string: str):\n",
    "    opening = '([{'\n",
    "    closing = ')]}'\n",
    "    pairs_dict={')':'(', ']':'[', '}':'{'}\n",
    "    if string.count('(') != string.count(')'):\n",
    "        return False\n",
    "    if string.count('[') != string.count(']'):\n",
    "        return False\n",
    "    if string.count('{') != string.count('}'):\n",
    "        return False\n",
    "    else:\n",
    "        for i,char in enumerate(string):\n",
    "            if (char in closing) and (string[i-1] in opening):\n",
    "                if string[i-1] == pairs_dict[char]:\n",
    "                    continue\n",
    "                else:\n",
    "                    return False\n",
    "            elif char in closing:\n",
    "                return (string[:i+1].count(pairs_dict[char]) >= 1) and (string[:i+1].count(char) <=                                         string[:i+1].count(pairs_dict[char]))\n",
    "        return True"
   ]
  },
  {
   "cell_type": "code",
   "execution_count": 21,
   "metadata": {},
   "outputs": [
    {
     "output_type": "execute_result",
     "data": {
      "text/plain": [
       "True"
      ]
     },
     "metadata": {},
     "execution_count": 21
    }
   ],
   "source": [
    "# Example 1\n",
    "brackets_vali(r'([])[]({})')"
   ]
  },
  {
   "cell_type": "code",
   "execution_count": 22,
   "metadata": {},
   "outputs": [
    {
     "output_type": "execute_result",
     "data": {
      "text/plain": [
       "False"
      ]
     },
     "metadata": {},
     "execution_count": 22
    }
   ],
   "source": [
    "# Example 2\n",
    "brackets_vali(r'([)]')"
   ]
  },
  {
   "cell_type": "code",
   "execution_count": 23,
   "metadata": {},
   "outputs": [
    {
     "output_type": "execute_result",
     "data": {
      "text/plain": [
       "False"
      ]
     },
     "metadata": {},
     "execution_count": 23
    }
   ],
   "source": [
    "# Example 3\n",
    "brackets_vali(r'((()')"
   ]
  },
  {
   "cell_type": "code",
   "execution_count": 24,
   "metadata": {},
   "outputs": [
    {
     "output_type": "execute_result",
     "data": {
      "text/plain": [
       "True"
      ]
     },
     "metadata": {},
     "execution_count": 24
    }
   ],
   "source": [
    "# Example 4\n",
    "brackets_vali(r'()[]{}')"
   ]
  },
  {
   "cell_type": "code",
   "execution_count": 25,
   "metadata": {},
   "outputs": [
    {
     "output_type": "execute_result",
     "data": {
      "text/plain": [
       "False"
      ]
     },
     "metadata": {},
     "execution_count": 25
    }
   ],
   "source": [
    "# Example 5\n",
    "brackets_vali(r'([{)}]')"
   ]
  },
  {
   "cell_type": "code",
   "execution_count": 26,
   "metadata": {},
   "outputs": [
    {
     "output_type": "execute_result",
     "data": {
      "text/plain": [
       "True"
      ]
     },
     "metadata": {},
     "execution_count": 26
    }
   ],
   "source": [
    "# Example 5\n",
    "brackets_vali(r'(([]))')"
   ]
  },
  {
   "cell_type": "code",
   "execution_count": 35,
   "metadata": {},
   "outputs": [
    {
     "output_type": "execute_result",
     "data": {
      "text/plain": [
       "True"
      ]
     },
     "metadata": {},
     "execution_count": 35
    }
   ],
   "source": [
    "# Example 6\n",
    "brackets_vali(')(')"
   ]
  },
  {
   "cell_type": "code",
   "execution_count": 32,
   "metadata": {},
   "outputs": [
    {
     "output_type": "execute_result",
     "data": {
      "text/plain": [
       "True"
      ]
     },
     "metadata": {},
     "execution_count": 32
    }
   ],
   "source": [
    "string = ')('\n",
    "(string[:1].count('(') >= 1) and (string[:1].count(')') <= string[:1].count('('))"
   ]
  },
  {
   "cell_type": "code",
   "execution_count": null,
   "metadata": {},
   "outputs": [],
   "source": []
  }
 ]
}