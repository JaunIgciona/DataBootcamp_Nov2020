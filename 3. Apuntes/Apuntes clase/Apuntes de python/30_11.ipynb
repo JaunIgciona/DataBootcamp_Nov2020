{
 "metadata": {
  "language_info": {
   "codemirror_mode": {
    "name": "ipython",
    "version": 3
   },
   "file_extension": ".py",
   "mimetype": "text/x-python",
   "name": "python",
   "nbconvert_exporter": "python",
   "pygments_lexer": "ipython3",
   "version": "3.9.0-final"
  },
  "orig_nbformat": 2,
  "kernelspec": {
   "name": "python3",
   "display_name": "Python 3.9.0 64-bit",
   "metadata": {
    "interpreter": {
     "hash": "cf85b414d3663472de89104473c842eaab37d7b845999caf56a47ccda76ea2f8"
    }
   }
  }
 },
 "nbformat": 4,
 "nbformat_minor": 2,
 "cells": [
  {
   "source": [
    "### Lambda"
   ],
   "cell_type": "markdown",
   "metadata": {}
  },
  {
   "cell_type": "code",
   "execution_count": 2,
   "metadata": {},
   "outputs": [
    {
     "output_type": "execute_result",
     "data": {
      "text/plain": [
       "1.0"
      ]
     },
     "metadata": {},
     "execution_count": 2
    }
   ],
   "source": [
    "# Nos permite escribir funciones en una sola línea y con una sintaxis diferente a la habitual\n",
    "\n",
    "#Ejemplo\n",
    "\n",
    "def nombre_f(d, a): #función simple de forma habitual\n",
    "    return (d + 2)/a\n",
    "\n",
    "print(nombre_f(2, 4))\n",
    "\n",
    "nombre_g = lambda d, a: (d + 2)/a #Utilizando lambda. Se escriben los argumentos a un lado del ':' y lo que                                         devuelve a la derecha\n",
    "\n",
    "nombre_g(2, 4)\n",
    " "
   ]
  },
  {
   "cell_type": "code",
   "execution_count": 5,
   "metadata": {},
   "outputs": [
    {
     "output_type": "stream",
     "name": "stdout",
     "text": [
      "6\n4\n"
     ]
    }
   ],
   "source": [
    "# Se pueden incluir condicionales dentro de una función lambda. Siempre que se use un 'if' necesitamos el 'else' obligatoriamente para este tipo de formulación\n",
    "\n",
    "lambda_f = lambda d: print(d+2)\n",
    "\n",
    "def f1(d):\n",
    "    lambda_f(d=d)\n",
    "    return d\n",
    "\n",
    "nombre_f = lambda k: f1(d=k) if k>0 else 2 #retorna 'f1(d=k)' si se cumple la condición. Si no, devuelve 2\n",
    "\n",
    "r = nombre_f(k=4)\n",
    "print(r)"
   ]
  },
  {
   "cell_type": "code",
   "execution_count": 12,
   "metadata": {},
   "outputs": [
    {
     "output_type": "stream",
     "name": "stdout",
     "text": [
      "4\n"
     ]
    }
   ],
   "source": [
    "#Lambda solo puede realizar una operación final, por ejemplo, no puede devolver un valor e imprimirlo a la vez, se debe especificar que es lo que se quiere que haga\n",
    "\n",
    "fun_ej1 = lambda k: print(k) if k >2 else 1\n",
    "x = fun_ej1(4)\n",
    "\n",
    "fun_ej2 = lambda k: k if k >2 else 1\n",
    "x = fun_ej2(6)\n",
    "\n",
    "#\"fun_ej3 = lambda k: k, print(k) if k >2 else 1\" esto daría error"
   ]
  },
  {
   "cell_type": "code",
   "execution_count": null,
   "metadata": {},
   "outputs": [],
   "source": []
  }
 ]
}