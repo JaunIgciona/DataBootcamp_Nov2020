{
 "metadata": {
  "language_info": {
   "codemirror_mode": {
    "name": "ipython",
    "version": 3
   },
   "file_extension": ".py",
   "mimetype": "text/x-python",
   "name": "python",
   "nbconvert_exporter": "python",
   "pygments_lexer": "ipython3",
   "version": "3.9.0-final"
  },
  "orig_nbformat": 2,
  "kernelspec": {
   "name": "python3",
   "display_name": "Python 3.9.0 64-bit",
   "metadata": {
    "interpreter": {
     "hash": "cf85b414d3663472de89104473c842eaab37d7b845999caf56a47ccda76ea2f8"
    }
   }
  }
 },
 "nbformat": 4,
 "nbformat_minor": 2,
 "cells": [
  {
   "source": [
    "### Try y Except"
   ],
   "cell_type": "markdown",
   "metadata": {}
  },
  {
   "cell_type": "code",
   "execution_count": 2,
   "metadata": {},
   "outputs": [
    {
     "output_type": "stream",
     "name": "stdout",
     "text": [
      "Ha ocurrido un error en la suma\nhola\n"
     ]
    }
   ],
   "source": [
    "# Try:\n",
    "#   prueba una operación dentro de una función y comprueba si existe un error antes de devolverlo\n",
    "\n",
    "# Select:\n",
    "#   en caso de error, la función coge la ruta de este comando y devuelve lo que haya debajo de él\n",
    "\n",
    "# Ejemplo:\n",
    "\n",
    "def try_except(a, b):\n",
    "    try:\n",
    "        resultado = a + b\n",
    "        return resultado    #Siempre que no ocurra un error la función 'retorna' este valor\n",
    "    except:\n",
    "        print('Ha ocurrido un error en la suma')\n",
    "\n",
    "try_except(4, 6)\n",
    "# Devuelve la suma de 4 y 6: (10)\n",
    "\n",
    "try_except('p', 6)\n",
    "# Imprime el mensaje de debajo de except al no poder llevarse acabo una syma entre tyoe str e int"
   ]
  },
  {
   "cell_type": "code",
   "execution_count": 3,
   "metadata": {},
   "outputs": [
    {
     "output_type": "stream",
     "name": "stdout",
     "text": [
      "Ha ocurrido un error: unsupported operand type(s) for +: 'int' and 'str'\nhola\n"
     ]
    }
   ],
   "source": [
    "# Exception:\n",
    "#   se usa dentro de except para guardar el error dentro de una variable (para poder imprimirlo) pero sin \n",
    "#   interrumpir la ejecución del kernel\n",
    "\n",
    "# Ejemplo:\n",
    "a = 2\n",
    "b = 'p'\n",
    "\n",
    "try:\n",
    "    resultado = a + b\n",
    "except Exception as error:  #Se genera la variable 'error' donde se guarda el error que ha ocurrido\n",
    "    print('Ha ocurrido un error:', error) #Se imprimirá el error sin llegarse a interrumpir las ejecuciones\n",
    "    resultado = -1\n",
    "\n",
    "print('hola') #Este hola se llegará a imprimir, al contrario que cuando ocurre un error, ya que no se interrumpe                la ejecución de python "
   ]
  },
  {
   "source": [
    "### Assert"
   ],
   "cell_type": "markdown",
   "metadata": {}
  },
  {
   "cell_type": "code",
   "execution_count": 3,
   "metadata": {},
   "outputs": [
    {
     "output_type": "error",
     "ename": "AssertionError",
     "evalue": "Error de contraseña",
     "traceback": [
      "\u001b[1;31m---------------------------------------------------------------------------\u001b[0m",
      "\u001b[1;31mAssertionError\u001b[0m                            Traceback (most recent call last)",
      "\u001b[1;32m<ipython-input-3-9067a16f1f9a>\u001b[0m in \u001b[0;36m<module>\u001b[1;34m\u001b[0m\n\u001b[0;32m      7\u001b[0m     \u001b[1;32mreturn\u001b[0m \u001b[1;36m119898291935418\u001b[0m\u001b[1;33m\u001b[0m\u001b[1;33m\u001b[0m\u001b[0m\n\u001b[0;32m      8\u001b[0m \u001b[1;33m\u001b[0m\u001b[0m\n\u001b[1;32m----> 9\u001b[1;33m \u001b[0mcontraseña_banco\u001b[0m\u001b[1;33m(\u001b[0m\u001b[1;36m4894952\u001b[0m\u001b[1;33m)\u001b[0m \u001b[1;31m#Se interrumpirá la ejecución\u001b[0m\u001b[1;33m\u001b[0m\u001b[1;33m\u001b[0m\u001b[0m\n\u001b[0m",
      "\u001b[1;32m<ipython-input-3-9067a16f1f9a>\u001b[0m in \u001b[0;36mcontraseña_banco\u001b[1;34m(password)\u001b[0m\n\u001b[0;32m      4\u001b[0m \u001b[1;31m# Ejemplo\u001b[0m\u001b[1;33m\u001b[0m\u001b[1;33m\u001b[0m\u001b[1;33m\u001b[0m\u001b[0m\n\u001b[0;32m      5\u001b[0m \u001b[1;32mdef\u001b[0m \u001b[0mcontraseña_banco\u001b[0m\u001b[1;33m(\u001b[0m\u001b[0mpassword\u001b[0m\u001b[1;33m)\u001b[0m\u001b[1;33m:\u001b[0m\u001b[1;33m\u001b[0m\u001b[1;33m\u001b[0m\u001b[0m\n\u001b[1;32m----> 6\u001b[1;33m     \u001b[1;32massert\u001b[0m \u001b[1;33m(\u001b[0m\u001b[0mpassword\u001b[0m \u001b[1;33m==\u001b[0m \u001b[1;36m756849\u001b[0m\u001b[1;33m)\u001b[0m\u001b[1;33m,\u001b[0m \u001b[1;34m'Error de contraseña'\u001b[0m\u001b[1;33m\u001b[0m\u001b[1;33m\u001b[0m\u001b[0m\n\u001b[0m\u001b[0;32m      7\u001b[0m     \u001b[1;32mreturn\u001b[0m \u001b[1;36m119898291935418\u001b[0m\u001b[1;33m\u001b[0m\u001b[1;33m\u001b[0m\u001b[0m\n\u001b[0;32m      8\u001b[0m \u001b[1;33m\u001b[0m\u001b[0m\n",
      "\u001b[1;31mAssertionError\u001b[0m: Error de contraseña"
     ]
    }
   ],
   "source": [
    "# Assert:\n",
    "#   asegura que se cumpla una condición, se interrumpe la ejecución inmediatamente en caso de que no se cumpla. #   Se utiliza en operaciones críticas para que no se siga con el resto de operaciones\n",
    "\n",
    "# Ejemplo\n",
    "def contraseña_banco(password):\n",
    "    assert (password == 756849), 'Error de contraseña'\n",
    "    return 119898291935418\n",
    "\n",
    "contraseña_banco(4894952) #Se interrumpirá la ejecución"
   ]
  },
  {
   "cell_type": "code",
   "execution_count": 6,
   "metadata": {},
   "outputs": [
    {
     "output_type": "stream",
     "name": "stdout",
     "text": [
      "Error de contraseña\n"
     ]
    }
   ],
   "source": [
    "# Se puede introducir assert dentro de try para manejar el error como en el apartado anterior\n",
    "\n",
    "#Ejemplo 2\n",
    "def contraseña_banco(password):\n",
    "    try:\n",
    "        assert (password == 756849), 'Error de contraseña'\n",
    "        return 119898291935418\n",
    "    except Exception as error: #el error es el definido en el comando assert\n",
    "        print(error)\n",
    "\n",
    "contraseña_banco(4894952)"
   ]
  },
  {
   "cell_type": "code",
   "execution_count": null,
   "metadata": {},
   "outputs": [],
   "source": []
  }
 ]
}