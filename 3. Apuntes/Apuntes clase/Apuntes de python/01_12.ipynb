{
 "metadata": {
  "language_info": {
   "codemirror_mode": {
    "name": "ipython",
    "version": 3
   },
   "file_extension": ".py",
   "mimetype": "text/x-python",
   "name": "python",
   "nbconvert_exporter": "python",
   "pygments_lexer": "ipython3",
   "version": "3.9.0-final"
  },
  "orig_nbformat": 2,
  "kernelspec": {
   "name": "python3",
   "display_name": "Python 3.9.0 64-bit",
   "metadata": {
    "interpreter": {
     "hash": "cf85b414d3663472de89104473c842eaab37d7b845999caf56a47ccda76ea2f8"
    }
   }
  }
 },
 "nbformat": 4,
 "nbformat_minor": 2,
 "cells": [
  {
   "source": [
    "### Clases - Programación orientada a objetos\n"
   ],
   "cell_type": "markdown",
   "metadata": {}
  },
  {
   "cell_type": "code",
   "execution_count": null,
   "metadata": {},
   "outputs": [],
   "source": [
    "# Una clase define una serie de características que compartirán todos los objeto/instancias pertenecientes a dicha clase"
   ]
  },
  {
   "cell_type": "code",
   "execution_count": 6,
   "metadata": {},
   "outputs": [
    {
     "output_type": "stream",
     "name": "stdout",
     "text": [
      "2\n"
     ]
    }
   ],
   "source": [
    "class Humano:\n",
    "\n",
    "    def __init__(self, o, n, b, p, e = 30): #Este es el constructor de la clase\n",
    "        self.ojos = o    #'self' convierte los argumentos de la función en ATRIBUTOS de la clase\n",
    "        self.nombre = n\n",
    "        self.brazos = b\n",
    "        self.piernas = p\n",
    "        self.edad = e\n",
    "\n",
    "juan = Humano(o = 2, n ='Juan', b = 2, p = 2)  #'juan' se convierte una instancia de la clase 'Humano'\n",
    "                                               # los argumentos de entrada para definir un objeto son iguales a                                                   los argumentos de la función '__init__' constructora de la                                                       clase, i.e. en ete caso: 'o, n, b, p, e'\n",
    "print(juan.ojos)"
   ]
  },
  {
   "cell_type": "code",
   "execution_count": 7,
   "metadata": {},
   "outputs": [
    {
     "output_type": "stream",
     "name": "stdout",
     "text": [
      "False\nFalse\n"
     ]
    }
   ],
   "source": [
    "juan2 = Humano(o = 2, n ='Juan', b = 2, p = 2) #mismas características que 'juan'\n",
    "\n",
    "print(juan == juan2)\n",
    "print(juan is juan2)\n",
    "\n",
    "#aunque los atributos tengan valores idénticos son dos instancias dieferentes, por tanto no son lo mismo/iguales"
   ]
  },
  {
   "cell_type": "code",
   "execution_count": 8,
   "metadata": {},
   "outputs": [
    {
     "output_type": "stream",
     "name": "stdout",
     "text": [
      "10\n11\n"
     ]
    }
   ],
   "source": [
    "class Perro:\n",
    "\n",
    "    def __init__(self, patas, cola, raza, peso, edad, nombre):\n",
    "\n",
    "        self.patas = patas\n",
    "        self.cola = cola\n",
    "        self.raza = raza\n",
    "        self.peso = peso\n",
    "        self.edad = edad\n",
    "        self.nombre = nombre\n",
    "\n",
    "\n",
    "rudolf = Perro(patas=4, cola=True, raza='Pastor Alemán', peso=25, edad=10, nombre='Rudolf')\n",
    "print(rudolf.edad)\n",
    "rudolf.edad = rudolf.edad + 1 #modifica el valor del atributo 'edad' para el objeto rudolf\n",
    "print(rudolf.edad)"
   ]
  },
  {
   "cell_type": "code",
   "execution_count": 10,
   "metadata": {},
   "outputs": [],
   "source": [
    "#Tambien podemos crear una función dentro de una clase que modifique algún atributo de alguna instancia\n",
    "\n",
    "class Perro:\n",
    "\n",
    "    def __init__(self, patas, cola, raza, peso, edad, nombre):\n",
    "\n",
    "        self.patas = patas\n",
    "        self.cola = cola\n",
    "        self.raza = raza\n",
    "        self.peso = peso\n",
    "        self.edad = edad\n",
    "        self.nombre = nombre\n",
    "\n",
    "    def cumple_edad(self):  #self apunta a la instancia sobre la que está actuando\n",
    "        self.edad = self.edad + 1\n",
    "        print('Feliz cumpleaños')\n"
   ]
  },
  {
   "cell_type": "code",
   "execution_count": 13,
   "metadata": {},
   "outputs": [
    {
     "output_type": "stream",
     "name": "stdout",
     "text": [
      "3\nFeliz cumpleaños\n4\n"
     ]
    }
   ],
   "source": [
    "baxter = Perro(patas=4, cola=True, raza='Labrador', peso=12, edad=3, nombre='Baxter')\n",
    "print(baxter.edad)\n",
    "baxter.cumple_edad()\n",
    "print(baxter.edad)"
   ]
  },
  {
   "cell_type": "code",
   "execution_count": 1,
   "metadata": {},
   "outputs": [],
   "source": [
    "class Pelota:\n",
    "\n",
    "    def __init__(self, velocidad=10, posicion=0, diametro=0):\n",
    "        self.v = velocidad #el nombre del atributo es el de la izquierda de la igualdad: 'v'. Al crear un objeto                             se insertan sus propiedades haciendo referencia a los atributos de '__init__',                                   peeeero, para llamar a un atributo de un objeto ya definido, se ha de llamar con el                              nombre del atributo, ej: 'pelota' is class Pelota --> pelota.v devuelve su velocidad\n",
    "        self.p = posicion\n",
    "        self.d = diametro\n",
    "\n",
    "    def golpear(self, fuerza):\n",
    "        self.v = self.p + fuerza\n",
    "        self.p = self.p * self.v\n",
    "\n",
    "    def parar(self):\n",
    "        self.v = 0\n",
    "\n",
    "    def  rajar(self):\n",
    "        self.d = self.d - 5\n"
   ]
  },
  {
   "cell_type": "code",
   "execution_count": 2,
   "metadata": {},
   "outputs": [
    {
     "output_type": "stream",
     "name": "stdout",
     "text": [
      "8 0\n"
     ]
    }
   ],
   "source": [
    "pelota_tenis = Pelota(diametro=10) #se introducen los atributos con los nombres de los argumentos de la función                                      constructora\n",
    "pelota_tenis.golpear(fuerza=8)\n",
    "print(pelota_tenis.v, pelota_tenis.p)"
   ]
  },
  {
   "cell_type": "code",
   "execution_count": 5,
   "metadata": {},
   "outputs": [
    {
     "output_type": "execute_result",
     "data": {
      "text/plain": [
       "'Pepe'"
      ]
     },
     "metadata": {},
     "execution_count": 5
    }
   ],
   "source": [
    "# Se puede añadir un atributo a un objeto que no haya sido previamente definido en la clase\n",
    "pelota_tenis.nombre = 'Pepe'\n",
    "pelota_tenis.nombre"
   ]
  },
  {
   "cell_type": "code",
   "execution_count": null,
   "metadata": {},
   "outputs": [],
   "source": []
  }
 ]
}